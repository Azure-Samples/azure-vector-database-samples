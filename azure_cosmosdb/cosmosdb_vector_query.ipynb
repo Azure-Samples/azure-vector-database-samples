{
 "cells": [
  {
   "cell_type": "markdown",
   "metadata": {},
   "source": [
    "## Vector Search "
   ]
  },
  {
   "cell_type": "markdown",
   "metadata": {},
   "source": [
    "### Set environment variables"
   ]
  },
  {
   "cell_type": "markdown",
   "metadata": {},
   "source": [
    "####  Libraries\n"
   ]
  },
  {
   "cell_type": "code",
   "execution_count": 3,
   "metadata": {},
   "outputs": [],
   "source": [
    "import json\n",
    "import datetime\n",
    "import time\n",
    "\n",
    "from azure.core.exceptions import AzureError\n",
    "from azure.core.credentials import AzureKeyCredential\n",
    "from azure.cosmos import exceptions, CosmosClient, PartitionKey\n",
    "from azure.search.documents import SearchClient\n",
    "from azure.search.documents.indexes import SearchIndexClient, SearchIndexerClient\n",
    "from azure.search.documents.models import Vector\n",
    "from azure.search.documents.indexes.models import (\n",
    "    IndexingSchedule,\n",
    "    SearchIndex,\n",
    "    SearchIndexer,\n",
    "    SearchIndexerDataContainer,\n",
    "    SearchField,\n",
    "    SearchFieldDataType,\n",
    "    SearchableField,\n",
    "    SemanticConfiguration,\n",
    "    SimpleField,\n",
    "    PrioritizedFields,\n",
    "    SemanticField,\n",
    "    SemanticSettings,\n",
    "    VectorSearch,\n",
    "    VectorSearchAlgorithmConfiguration,\n",
    "    SearchIndexerDataSourceConnection\n",
    ")\n",
    "\n",
    "import openai\n",
    "from tenacity import retry, wait_random_exponential, stop_after_attempt\n",
    "\n",
    "import os\n",
    "from dotenv import load_dotenv\n"
   ]
  },
  {
   "cell_type": "code",
   "execution_count": null,
   "metadata": {},
   "outputs": [],
   "source": [
    "\n",
    "load_dotenv()\n",
    "\n",
    "cosmos_db_api_endpoint  = os.getenv(\"cosmos_db_api_endpoint\")\n",
    "if cosmos_db_api_endpoint is None or cosmos_db_api_endpoint == \"\":\n",
    "    print(\"cosmos_db_api_endpoint environment variable not set.\")\n",
    "    exit()\n",
    "\n",
    "cosmos_db_api_key  = os.getenv(\"cosmos_db_api_key\")\n",
    "if cosmos_db_api_key is None or cosmos_db_api_key == \"\":\n",
    "    print(\"cosmos_db_api_key environment variable not set.\")\n",
    "    exit()\n",
    "\n",
    "cog_search_endpoint  = os.getenv(\"cog_search_endpoint\")\n",
    "if cog_search_endpoint is None or cog_search_endpoint == \"\":\n",
    "    print(\"cog_search_endpoint environment variable not set.\")\n",
    "    exit()\n",
    "\n",
    "cog_search_key  = os.getenv(\"cog_search_key\")\n",
    "if cog_search_key is None or cog_search_key == \"\":\n",
    "    print(\"cog_search_key environment variable not set.\")\n",
    "    exit()\n",
    "\n",
    "aoai_embedding_deployed_model  = os.getenv(\"aoai_embedding_deployed_model\")\n",
    "if aoai_embedding_deployed_model is None or aoai_embedding_deployed_model == \"\":\n",
    "    print(\"aoai_embedding_deployed_model environment variable not set.\")\n",
    "    exit()   \n",
    "\n",
    "\n",
    "aoai_key  = os.getenv(\"aoai_key\")\n",
    "if aoai_key is None or aoai_key == \"\":\n",
    "    print(\"aoai_key environment variable not set.\")\n",
    "    exit()   \n",
    "\n",
    "\n",
    "\n",
    "text_table_name = 'text_sample'\n",
    "doc_table_name = 'doc_sample'\n",
    "image_table_name = 'image_sample'\n",
    "\n",
    "\n",
    "\n"
   ]
  },
  {
   "cell_type": "code",
   "execution_count": 52,
   "metadata": {},
   "outputs": [],
   "source": []
  },
  {
   "cell_type": "markdown",
   "metadata": {},
   "source": [
    "#### Initialize the search"
   ]
  },
  {
   "cell_type": "code",
   "execution_count": 5,
   "metadata": {},
   "outputs": [],
   "source": [
    "from azure.cosmos import CosmosClient\n",
    "##from azure.search.documents.indexes import SimpleField, SearchableField, Index\n",
    "from azure.search.documents import SearchClient\n",
    "\n",
    "\n",
    "# Initialize Cosmos DB client\n",
    "cosmos_client = CosmosClient(cosmos_db_api_endpoint, cosmos_db_api_key)\n",
    "database = cosmos_client.get_database_client(database_name)\n",
    "container = database.get_container_client(container_name)\n",
    "\n",
    "credential = AzureKeyCredential(cog_search_key)\n",
    "\n",
    "# Connect to Azure Cognitive Search\n",
    "search_client = SearchClient(endpoint=cog_search_endpoint, index_name=index_name, credential=credential)\n",
    "\n"
   ]
  },
  {
   "cell_type": "markdown",
   "metadata": {},
   "source": [
    "#### Simple Vector Search\n",
    "##### You will use the index name that you created previously on the ingestion\n"
   ]
  },
  {
   "cell_type": "code",
   "execution_count": 76,
   "metadata": {},
   "outputs": [],
   "source": [
    "from openai.embeddings_utils import get_embedding, cosine_similarity\n",
    "#  Query Cosmos DB using Azure Cognitive Search\n",
    "\n",
    "container_name = 'text_sample'\n",
    "index_name = \"text_sample_index\"\n",
    "\n",
    "\n",
    "query = 'tools for software development'\n",
    "query_columns= search_client.search(search_text=query, select=[\"title\", \"content\", \"category\"])\n",
    "query_vector = get_embedding(query, k=3,  engine=aoai_embedding_deployed_model, fields=\"contentvector\" )\n",
    "\n",
    "\n",
    "##Finish search to return vector + columns\n",
    "for i, (search_result, row_vector) in enumerate(zip(query_columns, query_vector)):\n",
    "    print(search_result)\n",
    "    print(f\"Result {i + 1} from Azure Cognitive Search:\")\n",
    "    print(f\"Title: {search_result['title']}\")\n",
    "    print(f\"Content: {search_result['content']}\")\n",
    "    print(f\"Category: {search_result['category']}\\n\")\n",
    "\n",
    "    print(f\"Result {i + 1} from Embeddings:\")\n",
    "    print(f\"Title: {row_vector['title']}\")\n",
    "    print(f\"Content: {row_vector['content']}\")\n",
    "    print(f\"Category: {row_vector['category']}\\n\")"
   ]
  },
  {
   "cell_type": "markdown",
   "metadata": {},
   "source": [
    "#### Cross Search (Two columns)"
   ]
  },
  {
   "cell_type": "code",
   "execution_count": 58,
   "metadata": {},
   "outputs": [],
   "source": [
    "\n",
    "# Query parameters\n",
    "query = 'tools for software development'\n",
    "query_columns = search_client.search(search_text=query, select=[\"title\", \"content\", \"category\"])\n",
    "query_vector = get_embedding(query, k=3, engine=aoai_embedding_deployed_model, fields=[\"contentvector\", \"titlevector\"])\n",
    "\n",
    "for i, (search_result, row_vector) in enumerate(zip(query_columns, query_vector)):\n",
    "    # Assuming the vectors are lists or arrays, you can compare them\n",
    "    contentvector_match = search_result['contentvector'] == row_vector['contentvector']\n",
    "    titlevector_match = search_result['titlevector'] == row_vector['titlevector']\n",
    "\n",
    "    if contentvector_match and titlevector_match:\n",
    "        print(f\"Result {i + 1} from Azure Cognitive Search:\")\n",
    "        print(f\"Title: {search_result['title']}\")\n",
    "        print(f\"Content: {search_result['content']}\")\n",
    "        print(f\"Category: {search_result['category']}\\n\")\n",
    "\n",
    "        print(f\"Result {i + 1} from Embeddings:\")\n",
    "        print(f\"Title: {row_vector['title']}\")\n",
    "        print(f\"Content: {row_vector['content']}\")\n",
    "        print(f\"Category: {row_vector['category']}\\n\")\n"
   ]
  },
  {
   "cell_type": "markdown",
   "metadata": {},
   "source": [
    "#### Document search example"
   ]
  },
  {
   "cell_type": "code",
   "execution_count": 83,
   "metadata": {},
   "outputs": [],
   "source": [
    "from openai.embeddings_utils import get_embedding, cosine_similarity\n",
    "#  Query Cosmos DB using Azure Cognitive Search\n",
    "\n",
    "container_name = 'doc_sample'\n",
    "index_name = \"doc_sample_index\"\n",
    "\n",
    "\n",
    "query = 'tools for software development'\n",
    "query_columns= search_client.search(search_text=query, select=[\"chunk_content\"])\n",
    "query_vector = get_embedding(query, k=3,  engine=aoai_embedding_deployed_model, fields=\"chunk_content_vector\" )\n",
    "\n",
    "\n",
    "##Finish search to return vector + columns\n",
    "#for i, (search_result, row_vector) in enumerate(zip(query_columns, query_vector)):\n",
    "#    print(f\"Result {i + 1} from Azure Cognitive Search:\")\n",
    "#    print(f\"Chunk Content: {search_result}\")#\n",
    "\n",
    "#    print(f\"Result {i + 1} from Embeddings:\")9\n",
    "#    print(f\"Vector: {row_vector}\")"
   ]
  },
  {
   "cell_type": "markdown",
   "metadata": {},
   "source": [
    "#### Image search example"
   ]
  },
  {
   "cell_type": "code",
   "execution_count": null,
   "metadata": {},
   "outputs": [],
   "source": [
    "## TODO"
   ]
  }
 ],
 "metadata": {
  "kernelspec": {
   "display_name": "postgresql",
   "language": "python",
   "name": "python3"
  },
  "language_info": {
   "codemirror_mode": {
    "name": "ipython",
    "version": 3
   },
   "file_extension": ".py",
   "mimetype": "text/x-python",
   "name": "python",
   "nbconvert_exporter": "python",
   "pygments_lexer": "ipython3",
   "version": "3.11.6"
  },
  "orig_nbformat": 4
 },
 "nbformat": 4,
 "nbformat_minor": 2
}
