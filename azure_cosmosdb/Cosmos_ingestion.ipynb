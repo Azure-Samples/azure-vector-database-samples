{
 "cells": [
  {
   "cell_type": "markdown",
   "metadata": {},
   "source": [
    "\n",
    "### Ingestion to COSMOSDB \n"
   ]
  },
  {
   "cell_type": "markdown",
   "metadata": {},
   "source": [
    "#### Libraries"
   ]
  },
  {
   "cell_type": "code",
   "execution_count": null,
   "metadata": {},
   "outputs": [],
   "source": [
    "! pip install numpy\n",
    "! pip install openai\n",
    "! pip install python-dotenv\n",
    "! pip install azure-core\n",
    "! pip install azure-cosmos\n",
    "! pip install tenacity"
   ]
  },
  {
   "cell_type": "markdown",
   "metadata": {},
   "source": [
    "#### Enviroment Variables"
   ]
  },
  {
   "cell_type": "code",
   "execution_count": 1,
   "metadata": {},
   "outputs": [],
   "source": [
    "import json\n",
    "import datetime\n",
    "import time\n",
    "\n",
    "from azure.core.exceptions import AzureError\n",
    "from azure.core.credentials import AzureKeyCredential\n",
    "from azure.cosmos import exceptions, CosmosClient, PartitionKey\n",
    "from azure.search.documents import SearchClient\n",
    "from azure.search.documents.indexes import SearchIndexClient, SearchIndexerClient\n",
    "from azure.search.documents.models import Vector\n",
    "from azure.search.documents.indexes.models import (\n",
    "    IndexingSchedule,\n",
    "    SearchIndex,\n",
    "    SearchIndexer,\n",
    "    SearchIndexerDataContainer,\n",
    "    SearchField,\n",
    "    SearchFieldDataType,\n",
    "    SearchableField,\n",
    "    SemanticConfiguration,\n",
    "    SimpleField,\n",
    "    PrioritizedFields,\n",
    "    SemanticField,\n",
    "    SemanticSettings,\n",
    "    VectorSearch,\n",
    "    VectorSearchAlgorithmConfiguration,\n",
    "    SearchIndexerDataSourceConnection\n",
    ")\n",
    "\n",
    "import openai\n",
    "from tenacity import retry, wait_random_exponential, stop_after_attempt\n",
    "\n",
    "import os\n",
    "from dotenv import load_dotenv\n"
   ]
  },
  {
   "cell_type": "code",
   "execution_count": null,
   "metadata": {},
   "outputs": [],
   "source": [
    "\n",
    "load_dotenv()\n",
    "\n",
    "cosmos_db_api_endpoint  = os.getenv(\"cosmos_db_api_endpoint\")\n",
    "if cosmos_db_api_endpoint is None or cosmos_db_api_endpoint == \"\":\n",
    "    print(\"cosmos_db_api_endpoint environment variable not set.\")\n",
    "    exit()\n",
    "\n",
    "cosmos_db_api_key  = os.getenv(\"cosmos_db_api_key\")\n",
    "if cosmos_db_api_key is None or cosmos_db_api_key == \"\":\n",
    "    print(\"cosmos_db_api_key environment variable not set.\")\n",
    "    exit()\n",
    "\n",
    "cog_search_endpoint  = os.getenv(\"cog_search_endpoint\")\n",
    "if cog_search_endpoint is None or cog_search_endpoint == \"\":\n",
    "    print(\"cog_search_endpoint environment variable not set.\")\n",
    "    exit()\n",
    "\n",
    "cog_search_key  = os.getenv(\"cog_search_key\")\n",
    "if cog_search_key is None or cog_search_key == \"\":\n",
    "    print(\"cog_search_key environment variable not set.\")\n",
    "    exit()\n",
    "\n",
    "aoai_embedding_deployed_model  = os.getenv(\"aoai_embedding_deployed_model\")\n",
    "if aoai_embedding_deployed_model is None or aoai_embedding_deployed_model == \"\":\n",
    "    print(\"aoai_embedding_deployed_model environment variable not set.\")\n",
    "    exit()   \n",
    "\n",
    "\n",
    "aoai_key  = os.getenv(\"aoai_key\")\n",
    "if aoai_key is None or aoai_key == \"\":\n",
    "    print(\"aoai_key environment variable not set.\")\n",
    "    exit()   \n",
    "\n",
    "\n",
    "\n",
    "text_table_name = 'text_sample'\n",
    "doc_table_name = 'doc_sample'\n",
    "image_table_name = 'image_sample'\n",
    "\n",
    "\n",
    "\n"
   ]
  },
  {
   "cell_type": "code",
   "execution_count": 61,
   "metadata": {},
   "outputs": [],
   "source": []
  },
  {
   "cell_type": "markdown",
   "metadata": {},
   "source": [
    "### Cosmos ( Nosql)"
   ]
  },
  {
   "cell_type": "markdown",
   "metadata": {},
   "source": [
    "#### Opening the connections.\n"
   ]
  },
  {
   "cell_type": "code",
   "execution_count": 68,
   "metadata": {},
   "outputs": [
    {
     "name": "stdout",
     "output_type": "stream",
     "text": [
      "Database Vector_DB created or retrieved.\n"
     ]
    }
   ],
   "source": [
    "from azure.cosmos import CosmosClient\n",
    "\n",
    "# Your Cosmos DB connection parameters\n",
    "database_name = \"Vector_DB\" #####Replace here the name you want to use for your Database####\n",
    "\n",
    "# Initialize the Cosmos DB client\n",
    "client = CosmosClient(cosmos_db_api_endpoint, credential=cosmos_db_api_key)\n",
    "\n",
    "# Create or get a reference to the database\n",
    "database = client.create_database_if_not_exists(id=database_name)\n",
    "\n",
    "print(f\"Database {database_name} created or retrieved.\")\n",
    "\n"
   ]
  },
  {
   "cell_type": "markdown",
   "metadata": {},
   "source": [
    "####  Initialize the Cosmos DB client - Creating containers\n"
   ]
  },
  {
   "cell_type": "code",
   "execution_count": 69,
   "metadata": {},
   "outputs": [
    {
     "name": "stdout",
     "output_type": "stream",
     "text": [
      "Container text_sample created with partition key: id\n",
      "Index created or updated successfully: None\n",
      "Container doc_sample created with partition key: id\n",
      "Index created or updated successfully: None\n",
      "Container image_sample created with partition key: id\n",
      "Index created or updated successfully: None\n"
     ]
    }
   ],
   "source": [
    "\n",
    "def create_or_update_container(container_name, partition_key_path):\n",
    "    container_definition = {\n",
    "        \"id\": container_name,\n",
    "        \"partitionKey\": {\"paths\": [f\"/{partition_key_path}\"], \"kind\": \"Hash\"},\n",
    "    }\n",
    "    ###Update here the througput as needed\n",
    "    options = {\"offerThroughput\": 400}\n",
    "    \n",
    "    # Create or update container\n",
    "    container = database.create_container_if_not_exists(\n",
    "        container_definition, partition_key=PartitionKey(path=container_definition[\"partitionKey\"][\"paths\"][0]), offer_throughput=options[\"offerThroughput\"]\n",
    "    )\n",
    "\n",
    "    print(f\"Container {container_name} created with partition key: {partition_key_path}\")\n",
    "\n",
    "\n",
    "\n",
    "try:\n",
    "    result = create_or_update_container(\"text_sample\", \"id\")\n",
    "    print(f\"Index created or updated successfully: {result}\")\n",
    "    result = create_or_update_container(\"doc_sample\", \"id\")\n",
    "    print(f\"Index created or updated successfully: {result}\")\n",
    "    result = create_or_update_container(\"image_sample\", \"id\")\n",
    "    print(f\"Index created or updated successfully: {result}\")\n",
    "except Exception as e:\n",
    "    print(f\"Error creating or updating index: {e}\")\n",
    "\n",
    "\n"
   ]
  },
  {
   "cell_type": "markdown",
   "metadata": {},
   "source": [
    "#### Ingest text sample with embeddings"
   ]
  },
  {
   "cell_type": "markdown",
   "metadata": {},
   "source": [
    "##### Creating function for ingestion of data"
   ]
  },
  {
   "cell_type": "code",
   "execution_count": 71,
   "metadata": {},
   "outputs": [],
   "source": [
    "\n",
    "## this adaptation, the script uses the Cosmos DB Python SDK to create items in the Cosmos DB container. \n",
    "# The to_dict(orient='records') method is used to convert the Pandas DataFrame to a list of dictionaries, where each dictionary represents a record\n",
    "# Function to insert data into Cosmos DB\n",
    "def insert_data(container, records):\n",
    "    try:\n",
    "        for record in records:\n",
    "            # Convert the 'id' attribute to a string\n",
    "            record['id'] = str(record['id'])\n",
    "            container.create_item(body=record)\n",
    "        print(f\"Document {container} inserted successfully\")\n",
    "\n",
    "    except exceptions.CosmosResourceExistsError as e:\n",
    "            # Handle conflict error\n",
    "            print(f\"Document {container}  with ID {record['id']} already exists...\")\n",
    "            print(f\"Error: {e}\")\n",
    "\n",
    "            # Implement your logic to update the existing document or take appropriate action\n",
    "\n",
    "    except Exception as e:\n",
    "            # Handle other exceptions\n",
    "            print(f\"Error: {e}\")\n",
    "\n",
    "\n",
    "   "
   ]
  },
  {
   "cell_type": "markdown",
   "metadata": {},
   "source": [
    "#####  Text ingestion"
   ]
  },
  {
   "cell_type": "code",
   "execution_count": null,
   "metadata": {},
   "outputs": [],
   "source": [
    "import pandas as pd\n",
    "from azure.cosmos import CosmosClient\n",
    "\n",
    "\n",
    "cosmosdb_container_name = text_table_name\n",
    "container = database.get_container_client(cosmosdb_container_name)\n",
    "\n",
    "# Read data from the JSON file\n",
    "text_df = pd.read_json('../data/text/product_docs_embeddings.json')\n",
    "records = text_df.to_dict(orient='records')\n",
    "\n",
    "\n",
    "# Insert data into text_sample container\n",
    "insert_data(container, records)\n",
    "\n",
    "\n"
   ]
  },
  {
   "cell_type": "markdown",
   "metadata": {},
   "source": [
    "#####  Doc ingestion"
   ]
  },
  {
   "cell_type": "code",
   "execution_count": null,
   "metadata": {},
   "outputs": [],
   "source": [
    "cosmosdb_container_name = doc_table_name\n",
    "container = database.get_container_client(cosmosdb_container_name)\n",
    "\n",
    "# Read data from the JSON file\n",
    "doc_df = pd.read_json('../data/docs/employee_handbook_embeddings.json')\n",
    "records = doc_df.to_dict(orient='records')\n",
    "\n",
    "\n",
    "# Insert data into doc_sample container\n",
    "insert_data(container, records)\n",
    "\n",
    "\n"
   ]
  },
  {
   "cell_type": "markdown",
   "metadata": {},
   "source": [
    "#####  Image ingestion"
   ]
  },
  {
   "cell_type": "code",
   "execution_count": null,
   "metadata": {},
   "outputs": [],
   "source": [
    "cosmosdb_container_name = image_table_name\n",
    "container = database.get_container_client(cosmosdb_container_name)\n",
    "\n",
    "# Read data from the JSON file\n",
    "doc_df = pd.read_json('../data/docs/employee_handbook_embeddings.json')\n",
    "records = doc_df.to_dict(orient='records')\n",
    "\n",
    "\n",
    "# Insert data into doc_sample container\n",
    "insert_data(container, records)\n",
    "\n",
    "\n"
   ]
  },
  {
   "cell_type": "markdown",
   "metadata": {},
   "source": [
    "#### Checking the data inserted (optional)\n"
   ]
  },
  {
   "cell_type": "code",
   "execution_count": null,
   "metadata": {},
   "outputs": [],
   "source": [
    "\n",
    "# Specify the container name\n",
    "Table_name = \"text_sample\"\n",
    "container = database.get_container_client(Table_name)\n",
    "\n",
    "#Number of rows - Top 10 for example\n",
    "top_x_rows = 10\n",
    "\n",
    "print(f\"Quality test  top ( {top_x_rows} )\")\n",
    "\n",
    "query = f\"SELECT TOP {top_x_rows} * FROM c\"\n",
    "\n",
    "# Execute the query\n",
    "query_result = container.query_items(query, enable_cross_partition_query=True)\n",
    "\n",
    "# Process the query result\n",
    "for item in query_result:\n",
    "    print(item)\n"
   ]
  },
  {
   "cell_type": "markdown",
   "metadata": {},
   "source": [
    "#### Create HSNW Index\n",
    "\n"
   ]
  },
  {
   "cell_type": "code",
   "execution_count": null,
   "metadata": {},
   "outputs": [],
   "source": [
    "from azure.core.credentials import AzureKeyCredential  \n",
    "from azure.core.exceptions import HttpResponseError\n",
    "\n",
    "cog_search_cred = AzureKeyCredential(cog_search_key)  # https://learn.microsoft.com/en-gb/azure/search/search-create-service-portal\n",
    "\n",
    "try:\n",
    "    index_client = SearchIndexClient(endpoint=cog_search_endpoint, credential=cog_search_cred)\n",
    "\n",
    "\n",
    "    # Define index fields for text_sample\n",
    "    text_index_name = \"hsnw_sample_index_vector_search\"\n",
    "    text_fields = [\n",
    "        SimpleField(name=\"id\", type=SearchFieldDataType.String, key=True),\n",
    "        SearchableField(name=\"title\", type=SearchFieldDataType.String,\n",
    "                        searchable=True, retrievable=True),\n",
    "        SearchableField(name=\"content\", type=SearchFieldDataType.String,\n",
    "                        searchable=True, retrievable=True),\n",
    "        SearchableField(name=\"category\", type=SearchFieldDataType.String,\n",
    "                        filterable=True, searchable=True, retrievable=True),\n",
    "        SearchField(name=\"titleVector\", type=SearchFieldDataType.Collection(SearchFieldDataType.Single),\n",
    "                    searchable=True, dimensions=1536, vector_search_configuration=\"vector-cosmos-config\"),\n",
    "        SearchField(name=\"contentVector\", type=SearchFieldDataType.Collection(SearchFieldDataType.Single),\n",
    "                    searchable=True, dimensions=1536, vector_search_configuration=\"vector-cosmos-config\"),\n",
    "    ]\n",
    "\n",
    "    # Define index fields for doc_sample\n",
    "    doc_index_name = \"doc_sample_index\"\n",
    "    doc_fields = [\n",
    "        SimpleField(name=\"id\", type=SearchFieldDataType.String, key=True),\n",
    "        SearchableField(name=\"chunk_content\", type=SearchFieldDataType.String,\n",
    "                        searchable=True, retrievable=True),\n",
    "        SearchField(name=\"chunk_content_vector\", type=SearchFieldDataType.Collection(SearchFieldDataType.Single),\n",
    "                    searchable=True, dimensions=1536, vector_search_configuration=\"vector-cosmos-config\"),        \n",
    "    ]\n",
    "\n",
    "    # Define index fields for image_sample\n",
    "    image_index_name = \"image_sample_index\"\n",
    "    image_fields = [\n",
    "        SimpleField(name=\"id\", type=SearchFieldDataType.String, key=True),\n",
    "        SearchableField(name=\"image\", type=SearchFieldDataType.String,\n",
    "                        searchable=True, retrievable=True),\n",
    "        SearchField(name=\"image_vector\", type=SearchFieldDataType.Collection(SearchFieldDataType.Single),\n",
    "                    searchable=True, dimensions=1536, vector_search_configuration=\"vector-cosmos-config\"),        \n",
    "    ]\n",
    "    \n",
    "\n",
    "    # Your existing vector search configuration\n",
    "    vector_search_config = VectorSearchAlgorithmConfiguration(\n",
    "        name=\"vector-cosmos-config\",\n",
    "        kind=\"hnsw\",\n",
    "        hnsw_parameters={\n",
    "            \"m\": 4,\n",
    "            \"efConstruction\": 400,\n",
    "            \"efSearch\": 1000,\n",
    "            \"metric\": \"cosine\"\n",
    "        }\n",
    "    )\n",
    "    # Create indexes\n",
    "    text_index = SearchIndex(name=text_index_name, fields=text_fields, vector_search=VectorSearch(algorithm_configurations=[vector_search_config]))\n",
    "    doc_index = SearchIndex(name=doc_index_name, fields=doc_fields, vector_search=VectorSearch(algorithm_configurations=[vector_search_config]))\n",
    "    image_index = SearchIndex(name=image_index_name, fields=image_fields, vector_search=VectorSearch(algorithm_configurations=[vector_search_config]))\n",
    "\n",
    "\n",
    "    # Create or update indexes\n",
    "    #index_client.create_or_update_index(text_index)\n",
    "    print(f'Indexes created or updated: {text_index_name}')\n",
    "    \n",
    "    index_client.create_or_update_index(doc_index)\n",
    "    print(f'Indexes created or updated: {doc_index_name}')\n",
    "\n",
    "    index_client.create_or_update_index(image_index)\n",
    "    print(f'Indexes created or updated: {image_index_name}')\n",
    "\n",
    "    \n",
    "    \n",
    "except HttpResponseError as e:\n",
    "    print(f\"HTTP Error: {e}\")\n",
    "    print(f\"Status Code: {e.status_code}\")\n",
    "    print(f\"Error Message: {e.error.message}\")\n",
    "\n",
    "\n",
    "\n"
   ]
  }
 ],
 "metadata": {
  "kernelspec": {
   "display_name": "postgresql",
   "language": "python",
   "name": "python3"
  },
  "language_info": {
   "codemirror_mode": {
    "name": "ipython",
    "version": 3
   },
   "file_extension": ".py",
   "mimetype": "text/x-python",
   "name": "python",
   "nbconvert_exporter": "python",
   "pygments_lexer": "ipython3",
   "version": "3.11.6"
  },
  "orig_nbformat": 4
 },
 "nbformat": 4,
 "nbformat_minor": 2
}
