{
 "cells": [
  {
   "attachments": {},
   "cell_type": "markdown",
   "metadata": {},
   "source": [
    "## Vector Search on Text: Azure Cognitive Search via REST Endpoint\n",
    "\n",
    "This notebook demonstrates how to use Azure Cognitive Search REST endpoint with OpenAI to work with simple tabular text datasets. It uses the [product_docs.json](../../data/text/product_docs.json) as source dataset. \n",
    "\n",
    "Key steps in the notebook -\n",
    "\n",
    "- Create ACS Index from index definition\n",
    "- Load the source dataset and generating embeddings\n",
    "- Ingesting embeddings to ACS Index\n",
    "- Multiple search queries\n",
    "  \n",
    "### Prerequisites\n",
    "\n",
    "- Create a conda environment using the [cognitive_search_rest_conda.yml](/cognitive_search_rest_conda.yml) file to include all the python dependencies.\n",
    "- Create a *.env* file from the *.env-template* and populate it with all necessary endpoint links and keys. "
   ]
  },
  {
   "attachments": {},
   "cell_type": "markdown",
   "metadata": {},
   "source": [
    "### Load environment variables"
   ]
  },
  {
   "cell_type": "code",
   "execution_count": null,
   "metadata": {},
   "outputs": [],
   "source": [
    "import os\n",
    "from dotenv import load_dotenv\n",
    "\n",
    "load_dotenv()\n",
    "\n",
    "acs_endpoint = os.getenv(\"COGNITIVE_SEARCH_ENDPOINT\")\n",
    "if acs_endpoint is None or acs_endpoint == \"\":\n",
    "    print(\"COGNITIVE_SEARCH_ENDPOINT environment variable not set.\")\n",
    "    exit()\n",
    "\n",
    "acs_index  = os.getenv(\"COGNITIVE_SEARCH_INDEX\")\n",
    "if acs_index is None or acs_index == \"\":\n",
    "    print(\"COGNITIVE_SEARCH_INDEX environment variable not set.\")\n",
    "    exit()\n",
    "\n",
    "acs_key  = os.getenv(\"COGNITIVE_SEARCH_KEY\")\n",
    "if acs_key is None or acs_key == \"\":\n",
    "    print(\"COGNITIVE_SEARCH_KEY environment variable not set.\")\n",
    "    exit()\n",
    "    \n",
    "acs_api_version  = os.getenv(\"COGNITIVE_SEARCH_API_VERSION\")\n",
    "if acs_api_version is None or acs_api_version == \"\":\n",
    "    print(\"COGNITIVE_SEARCH_API_VERSION environment variable not set.\")\n",
    "    exit()\n",
    "\n",
    "aoai_endpoint  = os.getenv(\"AZURE_OPENAI_ENDPOINT\")\n",
    "if aoai_endpoint is None or aoai_endpoint == \"\":\n",
    "    print(\"AZURE_OPENAI_ENDPOINT environment variable not set.\")\n",
    "    exit()\n",
    "\n",
    "aoai_key  = os.getenv(\"AZURE_OPENAI_KEY\")\n",
    "if aoai_key is None or aoai_key == \"\":\n",
    "    print(\"AZURE_OPENAI_KEY environment variable not set.\")\n",
    "    exit()\n",
    "\n",
    "aoai_api_version  = os.getenv(\"AZURE_OPENAI_API_VERSION\")\n",
    "if aoai_api_version is None or aoai_api_version == \"\":\n",
    "    print(\"AZURE_OPENAI_API_VERSION environment variable not set.\")\n",
    "    exit()\n",
    "\n",
    "aoai_embedding_deployed_model  = os.getenv(\"AZURE_OPENAI_EMBEDDING_DEPLOYED_MODEL\")\n",
    "if aoai_embedding_deployed_model is None or aoai_embedding_deployed_model == \"\":\n",
    "    print(\"AZURE_OPENAI_EMBEDDING_DEPLOYED_MODEL environment variable not set.\")\n",
    "    exit()"
   ]
  },
  {
   "cell_type": "markdown",
   "metadata": {},
   "source": [
    "### Helper Methods"
   ]
  },
  {
   "cell_type": "code",
   "execution_count": null,
   "metadata": {},
   "outputs": [],
   "source": [
    "import requests\n",
    "\n",
    "def insert_record(acs_endpoint, acs_index, data, acs_key, acs_api_version):\n",
    "    url = f\"{acs_endpoint}/indexes/{acs_index}/docs/index?api-version={acs_api_version}\"\n",
    "    headers = {\n",
    "        \"Content-Type\": \"application/json\",\n",
    "        \"api-key\": acs_key\n",
    "    }    \n",
    "    response = requests.post(url, data=data, headers=headers)\n",
    "    print(response.status_code)\n",
    "    print(response.content)\n",
    "\n",
    "def create_index(acs_endpoint, json_content, acs_index, api_key, acs_api_version):\n",
    "    url = f\"{acs_endpoint}/indexes/{acs_index}?api-version={acs_api_version}\"\n",
    "    headers = {\n",
    "        \"Content-Type\": \"application/json\",\n",
    "        \"api-key\": api_key\n",
    "    }\n",
    "    response = requests.request('PUT', url, headers=headers, data=json_content)\n",
    "    print(response.status_code)\n",
    "    print(response.content)\n",
    "\n",
    "def search_vector_similarity(query_vector, top_doc_count, acs_endpoint, acs_index,acs_key, acs_api_version):\n",
    "    url = f\"{acs_endpoint}/indexes/{acs_index}/docs/search?api-version={acs_api_version}\"\n",
    "\n",
    "    headers = {\n",
    "        \"Content-Type\": \"application/json\",\n",
    "        \"api-key\": acs_key\n",
    "    }\n",
    "\n",
    "    request_body = {\n",
    "        \"vectors\": [{\n",
    "            \"value\": query_vector,\n",
    "            \"fields\": \"content_vector\",\n",
    "            \"k\": top_doc_count\n",
    "        }],\n",
    "        \"select\": \"title\"\n",
    "    }\n",
    "    request_body = json.dumps(request_body)\n",
    "\n",
    "    response = requests.request('POST', url, headers=headers, data=request_body)\n",
    "\n",
    "    docs = [(item['title']) for item in response.json()['value']]\n",
    "\n",
    "    return docs\n",
    "\n",
    "def read_json_file(file_path):\n",
    "    with open(file_path, \"r\") as file:\n",
    "        return file.read()"
   ]
  },
  {
   "cell_type": "markdown",
   "metadata": {},
   "source": [
    "### Create ACS Index"
   ]
  },
  {
   "cell_type": "code",
   "execution_count": null,
   "metadata": {},
   "outputs": [],
   "source": [
    "index_definition_path = 'index_definition.json'\n",
    "index_definition = read_json_file(index_definition_path)\n",
    "\n",
    "create_index(acs_endpoint, index_definition, acs_index, acs_key, acs_api_version)"
   ]
  },
  {
   "attachments": {},
   "cell_type": "markdown",
   "metadata": {},
   "source": [
    "## Create embeddings\n",
    "Read your data, generate OpenAI embeddings and export to a format to insert your Azure Cognitive Search index:"
   ]
  },
  {
   "cell_type": "code",
   "execution_count": null,
   "metadata": {},
   "outputs": [],
   "source": [
    "import openai\n",
    "from openai.embeddings_utils import get_embedding, cosine_similarity\n",
    "import pandas as pd\n",
    "import json\n",
    "\n",
    "df = pd.read_json('../../data/text/product_docs.json')\n",
    "\n",
    "openai.api_type = \"azure\"\n",
    "openai.api_key = aoai_key\n",
    "openai.api_base = aoai_endpoint\n",
    "openai.api_version = aoai_api_version\n",
    "\n",
    "df['title_vector'] = df['title'].apply(lambda x : get_embedding(x, engine = aoai_embedding_deployed_model)) \n",
    "df['content_vector'] = df['content'].apply(lambda x : get_embedding(x, engine = aoai_embedding_deployed_model)) "
   ]
  },
  {
   "cell_type": "markdown",
   "metadata": {},
   "source": [
    "### Ingest to Azure Cognitive Search\n",
    "\n",
    "This cell works because the dataframe and the ACS Index both have same columns. If the dataframe doesn't have the same columns (column names or numbers) as the ACS Index, add a preprocessing step to it to structure the dataframe according to the ACS columns."
   ]
  },
  {
   "cell_type": "code",
   "execution_count": null,
   "metadata": {},
   "outputs": [],
   "source": [
    "import requests\n",
    "import json\n",
    "\n",
    "batch_size = 10\n",
    "total_records = df.shape[0]\n",
    "fields = df.columns.to_numpy()\n",
    "df['id'] = df['id'].astype(str)\n",
    "\n",
    "records = {\n",
    "    'value': []\n",
    "}\n",
    "\n",
    "for index, row in df.iterrows():\n",
    "    record = {}\n",
    "    for field in fields:\n",
    "            record[field] = row[field]\n",
    "\n",
    "    records['value'].append(\n",
    "        row\n",
    "    )\n",
    "\n",
    "    if index % batch_size == 0 or (index+1 == total_records):\n",
    "        json_data = json.dumps(records)\n",
    "        insert_record(acs_endpoint, acs_index, json_data, acs_key, acs_api_version)\n",
    "        records['value'] = []"
   ]
  },
  {
   "cell_type": "markdown",
   "metadata": {},
   "source": [
    "### Perform a vector similarity search"
   ]
  },
  {
   "cell_type": "code",
   "execution_count": null,
   "metadata": {},
   "outputs": [],
   "source": [
    "query = 'tools for software development'\n",
    "\n",
    "query_vector = get_embedding(query, engine = aoai_embedding_deployed_model)\n",
    "\n",
    "search_results = search_vector_similarity(query_vector, 5, acs_endpoint, acs_index,acs_key, acs_api_version)\n",
    "\n",
    "print(search_results)"
   ]
  }
 ],
 "metadata": {
  "kernelspec": {
   "display_name": "Python 3",
   "language": "python",
   "name": "python3"
  },
  "language_info": {
   "codemirror_mode": {
    "name": "ipython",
    "version": 3
   },
   "file_extension": ".py",
   "mimetype": "text/x-python",
   "name": "python",
   "nbconvert_exporter": "python",
   "pygments_lexer": "ipython3",
   "version": "3.10.12"
  },
  "orig_nbformat": 4
 },
 "nbformat": 4,
 "nbformat_minor": 2
}
