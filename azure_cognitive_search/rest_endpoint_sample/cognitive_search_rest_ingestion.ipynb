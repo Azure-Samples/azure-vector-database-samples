{
 "cells": [
  {
   "attachments": {},
   "cell_type": "markdown",
   "metadata": {},
   "source": [
    "## Ingestion to Azure Cognitive Search via REST Endpoint\n",
    "\n",
    "### Prerequisites\n",
    "  \n",
    "- Generate embeddings - [generate_embeddings.ipynb](../../common/generate_embeddings.ipynb) "
   ]
  },
  {
   "attachments": {},
   "cell_type": "markdown",
   "metadata": {},
   "source": [
    "### Set environment variables"
   ]
  },
  {
   "cell_type": "code",
   "execution_count": null,
   "metadata": {},
   "outputs": [],
   "source": [
    "import os\n",
    "from dotenv import load_dotenv\n",
    "\n",
    "load_dotenv()\n",
    "\n",
    "acs_endpoint  = os.getenv(\"ACS_ENDPOINT\")\n",
    "if acs_endpoint is None or acs_endpoint == \"\":\n",
    "    print(\"ACS_ENDPOINT environment variable not set.\")\n",
    "    exit()\n",
    "\n",
    "acs_api_version  = os.getenv(\"ACS_API_VERSION\")\n",
    "if acs_api_version is None or acs_api_version == \"\":\n",
    "    print(\"ACS_API_VERSION environment variable not set.\")\n",
    "    exit()\n",
    "\n",
    "acs_key  = os.getenv(\"ACS_KEY\")\n",
    "if acs_key is None or acs_key == \"\":\n",
    "    print(\"ACS_KEY environment variable not set.\")\n",
    "    exit()\n",
    "\n",
    "aoai_endpoint  = os.getenv(\"AOAI_ENDPOINT\")\n",
    "if aoai_endpoint is None or aoai_endpoint == \"\":\n",
    "    print(\"AOAI_ENDPOINT environment variable not set.\")\n",
    "    exit()\n",
    "\n",
    "aoai_api_version  = os.getenv(\"AOAI_API_VERSION\")\n",
    "if aoai_api_version is None or aoai_api_version == \"\":\n",
    "    print(\"AOAI_API_VERSION environment variable not set.\")\n",
    "    exit()\n",
    "\n",
    "aoai_embedding_deployed_model  = os.getenv(\"AOAI_EMBEDDING_DEPLOYED_MODEL\")\n",
    "if aoai_embedding_deployed_model is None or aoai_embedding_deployed_model == \"\":\n",
    "    print(\"AOAI_EMBEDDING_DEPLOYED_MODEL environment variable not set.\")\n",
    "    exit()\n",
    "\n",
    "acs_index_definition_text = 'index_definition/index_definition_text.json'\n",
    "acs_index_definition_doc = 'index_definition/index_definition_doc.json'\n",
    "acs_index_definition_image = 'index_definition/index_definition_image.json'"
   ]
  },
  {
   "cell_type": "markdown",
   "metadata": {},
   "source": [
    "#### Helper methods"
   ]
  },
  {
   "cell_type": "code",
   "execution_count": null,
   "metadata": {},
   "outputs": [],
   "source": [
    "import requests\n",
    "import json\n",
    "\n",
    "def insert_record(acs_endpoint, acs_index, data, acs_key, acs_api_version):\n",
    "    url = f\"{acs_endpoint}/indexes/{acs_index}/docs/index?api-version={acs_api_version}\"\n",
    "    headers = {\n",
    "        \"Content-Type\": \"application/json\",\n",
    "        \"api-key\": acs_key\n",
    "    }    \n",
    "    response = requests.post(url, data=data, headers=headers)\n",
    "    print(response.status_code)\n",
    "    print(response.content)\n",
    "\n",
    "def create_index(acs_endpoint, json_content, index_name, api_key, acs_api_version):\n",
    "    url = f\"{acs_endpoint}/indexes/{index_name}?api-version={acs_api_version}\"\n",
    "    headers = {\n",
    "        \"Content-Type\": \"application/json\",\n",
    "        \"api-key\": api_key\n",
    "    }\n",
    "    response = requests.request('PUT', url, headers=headers, data=json_content)\n",
    "    print(response.status_code)\n",
    "    print(response.content)\n",
    "\n",
    "def get_acs_index_name(acs_index_definition):\n",
    "    index_json_content = read_json_file(acs_index_definition)\n",
    "    index_json = json.loads(index_json_content)\n",
    "    index_name = index_json['name']\n",
    "\n",
    "    return index_name\n",
    "\n",
    "def read_json_file(file_path):\n",
    "    with open(file_path, \"r\") as file:\n",
    "        return file.read()"
   ]
  },
  {
   "cell_type": "markdown",
   "metadata": {},
   "source": [
    "#### Create ACS index"
   ]
  },
  {
   "cell_type": "code",
   "execution_count": null,
   "metadata": {},
   "outputs": [],
   "source": [
    "## Create text_sample index\n",
    "index_definition = read_json_file(acs_index_definition_text)\n",
    "index_name = get_acs_index_name(acs_index_definition_text)\n",
    "\n",
    "create_index(acs_endpoint, index_definition, index_name, acs_key, acs_api_version)\n",
    "\n",
    "## Create doc_sample index\n",
    "index_definition = read_json_file(acs_index_definition_doc)\n",
    "index_name = get_acs_index_name(acs_index_definition_doc)\n",
    "\n",
    "create_index(acs_endpoint, index_definition, index_name, acs_key, acs_api_version)\n",
    "\n",
    "## Create image_sample index\n",
    "index_definition = read_json_file(acs_index_definition_image)\n",
    "index_name = get_acs_index_name(acs_index_definition_image)\n",
    "\n",
    "create_index(acs_endpoint, index_definition, index_name, acs_key, acs_api_version)"
   ]
  },
  {
   "cell_type": "markdown",
   "metadata": {},
   "source": [
    "#### Ingest text sample with embeddings\n",
    "\n",
    "This cell works because the dataframe and the ACS Index both have same columns. If the dataframe doesn't have the same columns (column names or numbers) as the ACS Index, add a preprocessing step to structure the dataframe according to the ACS columns."
   ]
  },
  {
   "cell_type": "code",
   "execution_count": null,
   "metadata": {},
   "outputs": [],
   "source": [
    "import requests\n",
    "import json\n",
    "import pandas as pd\n",
    "\n",
    "text_df = pd.read_json('../../data/text/product_docs_embeddings.json')\n",
    "index_name = get_acs_index_name(acs_index_definition_text)\n",
    "\n",
    "batch_size = 10\n",
    "total_records = text_df.shape[0]\n",
    "fields = text_df.columns.to_numpy()\n",
    "text_df['id'] = text_df['id'].astype(str)\n",
    "\n",
    "records = {\n",
    "    'value': []\n",
    "}\n",
    "\n",
    "for index, row in text_df.iterrows():\n",
    "    record = {}\n",
    "    for field in fields:\n",
    "            record[field] = row[field]\n",
    "\n",
    "    records['value'].append(\n",
    "        record\n",
    "    )\n",
    "\n",
    "    if index % batch_size == 0 or (index+1 == total_records):\n",
    "        json_data = json.dumps(records)\n",
    "        insert_record(acs_endpoint, index_name, json_data, acs_key, acs_api_version)\n",
    "        records['value'] = []"
   ]
  },
  {
   "cell_type": "markdown",
   "metadata": {},
   "source": [
    "#### Ingest doc sample with embeddings\n",
    "\n",
    "This cell works because the dataframe and the ACS Index both have same columns. If the dataframe doesn't have the same columns (column names or numbers) as the ACS Index, add a preprocessing step to structure the dataframe according to the ACS columns."
   ]
  },
  {
   "cell_type": "code",
   "execution_count": null,
   "metadata": {},
   "outputs": [],
   "source": [
    "doc_df = pd.read_json('../../data/docs/employee_handbook_embeddings.json')\n",
    "index_name = get_acs_index_name(acs_index_definition_doc)\n",
    "\n",
    "batch_size = 10\n",
    "total_records = doc_df.shape[0]\n",
    "fields = doc_df.columns.to_numpy()\n",
    "doc_df['id'] = doc_df['id'].astype(str)\n",
    "\n",
    "records = {\n",
    "    'value': []\n",
    "}\n",
    "\n",
    "for index, row in doc_df.iterrows():\n",
    "    record = {}\n",
    "    for field in fields:\n",
    "            record[field] = row[field]\n",
    "\n",
    "    records['value'].append(\n",
    "        record\n",
    "    )\n",
    "\n",
    "    if index % batch_size == 0 or (index+1 == total_records):\n",
    "        json_data = json.dumps(records)\n",
    "        insert_record(acs_endpoint, index_name, json_data, acs_key, acs_api_version)\n",
    "        records['value'] = []"
   ]
  },
  {
   "cell_type": "markdown",
   "metadata": {},
   "source": [
    "#### Ingest image sample with embeddings\n",
    "\n",
    "This cell works because the dataframe and the ACS Index both have same columns. If the dataframe doesn't have the same columns (column names or numbers) as the ACS Index, add a preprocessing step to structure the dataframe according to the ACS columns."
   ]
  },
  {
   "cell_type": "code",
   "execution_count": null,
   "metadata": {},
   "outputs": [],
   "source": [
    "image_df = pd.read_json('../../data/images/images_embeddings.json')\n",
    "index_name = get_acs_index_name(acs_index_definition_image)\n",
    "\n",
    "batch_size = 10\n",
    "total_records = text_df.shape[0]\n",
    "fields = image_df.columns.to_numpy()\n",
    "image_df['id'] = image_df['id'].astype(str)\n",
    "\n",
    "records = {\n",
    "    'value': []\n",
    "}\n",
    "\n",
    "for index, row in image_df.iterrows():\n",
    "    record = {}\n",
    "    for field in fields:\n",
    "            record[field] = row[field]\n",
    "\n",
    "    records['value'].append(\n",
    "        record\n",
    "    )\n",
    "\n",
    "    if index % batch_size == 0 or (index+1 == total_records):\n",
    "        json_data = json.dumps(records)\n",
    "        insert_record(acs_endpoint, index_name, json_data, acs_key, acs_api_version)\n",
    "        records['value'] = []"
   ]
  }
 ],
 "metadata": {
  "kernelspec": {
   "display_name": "cognitive_search_rest",
   "language": "python",
   "name": "python3"
  },
  "language_info": {
   "codemirror_mode": {
    "name": "ipython",
    "version": 3
   },
   "file_extension": ".py",
   "mimetype": "text/x-python",
   "name": "python",
   "nbconvert_exporter": "python",
   "pygments_lexer": "ipython3",
   "version": "3.10.12"
  },
  "orig_nbformat": 4
 },
 "nbformat": 4,
 "nbformat_minor": 2
}
