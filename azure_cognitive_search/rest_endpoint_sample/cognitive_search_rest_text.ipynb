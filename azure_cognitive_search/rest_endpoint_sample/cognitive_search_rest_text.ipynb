{
 "cells": [
  {
   "attachments": {},
   "cell_type": "markdown",
   "metadata": {},
   "source": [
    "## Vector Search on Text: Azure Cognitive Search via REST Endpoint"
   ]
  },
  {
   "attachments": {},
   "cell_type": "markdown",
   "metadata": {},
   "source": [
    "### Set environment variables"
   ]
  },
  {
   "cell_type": "code",
   "execution_count": null,
   "metadata": {},
   "outputs": [],
   "source": [
    "import os\n",
    "from dotenv import load_dotenv\n",
    "\n",
    "load_dotenv()\n",
    "\n",
    "acs_key  = os.getenv(\"COGNITIVE_SEARCH_KEY\")\n",
    "if acs_key is None or acs_key == \"\":\n",
    "    print(\"COGNITIVE_SEARCH_KEY environment variable not set.\")\n",
    "    exit()\n",
    "\n",
    "aoai_key  = os.getenv(\"AZURE_OPENAI_KEY\")\n",
    "if aoai_key is None or aoai_key == \"\":\n",
    "    print(\"AZURE_OPENAI_KEY environment variable not set.\")\n",
    "    exit()\n",
    "\n",
    "acs_endpoint = 'https://cogsearch02.search.windows.net'\n",
    "acs_index_definition = 'index_definition/index_definition_text.json'\n",
    "acs_api_version = '2023-07-01-Preview'\n",
    "aoai_endpoint = 'https://azure-openai-dnai.openai.azure.com'\n",
    "aoai_api_version = '2023-08-01-preview'\n",
    "aoai_embedding_deployed_model = 'embedding-ada'"
   ]
  },
  {
   "cell_type": "markdown",
   "metadata": {},
   "source": [
    "### Helper methods"
   ]
  },
  {
   "cell_type": "code",
   "execution_count": null,
   "metadata": {},
   "outputs": [],
   "source": [
    "import requests\n",
    "import json\n",
    "\n",
    "def insert_record(acs_endpoint, acs_index, data, acs_key, acs_api_version):\n",
    "    url = f\"{acs_endpoint}/indexes/{acs_index}/docs/index?api-version={acs_api_version}\"\n",
    "    headers = {\n",
    "        \"Content-Type\": \"application/json\",\n",
    "        \"api-key\": acs_key\n",
    "    }    \n",
    "    response = requests.post(url, data=data, headers=headers)\n",
    "    print(response.status_code)\n",
    "    print(response.content)\n",
    "\n",
    "def create_index(acs_endpoint, json_content, index_name, api_key, acs_api_version):\n",
    "    url = f\"{acs_endpoint}/indexes/{index_name}?api-version={acs_api_version}\"\n",
    "    headers = {\n",
    "        \"Content-Type\": \"application/json\",\n",
    "        \"api-key\": api_key\n",
    "    }\n",
    "    response = requests.request('PUT', url, headers=headers, data=json_content)\n",
    "    print(response.status_code)\n",
    "    print(response.content)\n",
    "\n",
    "def search_vector_similarity(query_vector, top_doc_count, acs_endpoint, acs_index,acs_key, acs_api_version):\n",
    "    url = f\"{acs_endpoint}/indexes/{acs_index}/docs/search?api-version={acs_api_version}\"\n",
    "\n",
    "    headers = {\n",
    "        \"Content-Type\": \"application/json\",\n",
    "        \"api-key\": acs_key\n",
    "    }\n",
    "\n",
    "    request_body = {\n",
    "        \"vectors\": [{\n",
    "            \"value\": query_vector,\n",
    "            \"fields\": \"content_vector\",\n",
    "            \"k\": top_doc_count\n",
    "        }],\n",
    "        \"select\": \"title\"\n",
    "    }\n",
    "    request_body = json.dumps(request_body)\n",
    "    response = requests.request('POST', url, headers=headers, data=request_body)\n",
    "\n",
    "    docs = [(item['title']) for item in response.json()['value']]\n",
    "\n",
    "    return docs\n",
    "\n",
    "def get_acs_index_name(acs_index_definition):\n",
    "    index_json_content = read_json_file(acs_index_definition)\n",
    "    index_json = json.loads(index_json_content)\n",
    "    index_name = index_json['name']\n",
    "\n",
    "    return index_name\n",
    "\n",
    "def read_json_file(file_path):\n",
    "    with open(file_path, \"r\") as file:\n",
    "        return file.read()"
   ]
  },
  {
   "cell_type": "markdown",
   "metadata": {},
   "source": [
    "### Create ACS index"
   ]
  },
  {
   "cell_type": "code",
   "execution_count": null,
   "metadata": {},
   "outputs": [],
   "source": [
    "index_definition = read_json_file(acs_index_definition)\n",
    "index_name = get_acs_index_name(acs_index_definition)\n",
    "\n",
    "create_index(acs_endpoint, index_definition, index_name, acs_key, acs_api_version)"
   ]
  },
  {
   "attachments": {},
   "cell_type": "markdown",
   "metadata": {},
   "source": [
    "### Load embeddings"
   ]
  },
  {
   "cell_type": "code",
   "execution_count": null,
   "metadata": {},
   "outputs": [],
   "source": [
    "df = pd.read_json('../../data/text/product_docs_embeddings.json')"
   ]
  },
  {
   "cell_type": "markdown",
   "metadata": {},
   "source": [
    "### Ingest to azure cognitive search\n",
    "\n",
    "This cell works because the dataframe and the ACS Index both have same columns. If the dataframe doesn't have the same columns (column names or numbers) as the ACS Index, add a preprocessing step to it to structure the dataframe according to the ACS columns."
   ]
  },
  {
   "cell_type": "code",
   "execution_count": null,
   "metadata": {},
   "outputs": [],
   "source": [
    "import requests\n",
    "import json\n",
    "\n",
    "batch_size = 10\n",
    "total_records = df.shape[0]\n",
    "fields = df.columns.to_numpy()\n",
    "df['id'] = df['id'].astype(str)\n",
    "\n",
    "records = {\n",
    "    'value': []\n",
    "}\n",
    "\n",
    "for index, row in df.iterrows():\n",
    "    record = {}\n",
    "    for field in fields:\n",
    "            record[field] = row[field]\n",
    "\n",
    "    records['value'].append(\n",
    "        record\n",
    "    )\n",
    "\n",
    "    if index % batch_size == 0 or (index+1 == total_records):\n",
    "        json_data = json.dumps(records)\n",
    "        insert_record(acs_endpoint, index_name, json_data, acs_key, acs_api_version)\n",
    "        records['value'] = []"
   ]
  },
  {
   "cell_type": "markdown",
   "metadata": {},
   "source": [
    "### Perform a vector similarity search"
   ]
  },
  {
   "cell_type": "code",
   "execution_count": null,
   "metadata": {},
   "outputs": [],
   "source": [
    "query = 'tools for software development'\n",
    "\n",
    "query_vector = get_embedding(query, engine = aoai_embedding_deployed_model)\n",
    "\n",
    "search_results = search_vector_similarity(query_vector, 5, acs_endpoint, index_name,acs_key, acs_api_version)\n",
    "\n",
    "print(search_results)"
   ]
  }
 ],
 "metadata": {
  "kernelspec": {
   "display_name": "Python 3",
   "language": "python",
   "name": "python3"
  },
  "language_info": {
   "codemirror_mode": {
    "name": "ipython",
    "version": 3
   },
   "file_extension": ".py",
   "mimetype": "text/x-python",
   "name": "python",
   "nbconvert_exporter": "python",
   "pygments_lexer": "ipython3",
   "version": "3.10.12"
  },
  "orig_nbformat": 4
 },
 "nbformat": 4,
 "nbformat_minor": 2
}
