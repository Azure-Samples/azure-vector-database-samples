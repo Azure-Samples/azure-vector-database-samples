{
 "cells": [
  {
   "attachments": {},
   "cell_type": "markdown",
   "metadata": {},
   "source": [
    "## Vector Search on Text: Azure Cognitive Search via REST Endpoint"
   ]
  },
  {
   "attachments": {},
   "cell_type": "markdown",
   "metadata": {},
   "source": [
    "### Set environment variables"
   ]
  },
  {
   "cell_type": "code",
   "execution_count": 49,
   "metadata": {},
   "outputs": [],
   "source": [
    "import os\n",
    "from dotenv import load_dotenv\n",
    "\n",
    "load_dotenv()\n",
    "\n",
    "acs_key  = os.getenv(\"COGNITIVE_SEARCH_KEY\")\n",
    "if acs_key is None or acs_key == \"\":\n",
    "    print(\"COGNITIVE_SEARCH_KEY environment variable not set.\")\n",
    "    exit()\n",
    "\n",
    "aoai_key  = os.getenv(\"AZURE_OPENAI_KEY\")\n",
    "if aoai_key is None or aoai_key == \"\":\n",
    "    print(\"AZURE_OPENAI_KEY environment variable not set.\")\n",
    "    exit()\n",
    "\n",
    "acs_endpoint = 'https://cogsearch02.search.windows.net'\n",
    "acs_index_definition = 'index_definition/index_definition_text.json'\n",
    "acs_api_version = '2023-07-01-Preview'\n",
    "aoai_endpoint = 'https://azure-openai-dnai.openai.azure.com'\n",
    "aoai_api_version = '2023-08-01-preview'\n",
    "aoai_embedding_deployed_model = 'embedding-ada'"
   ]
  },
  {
   "cell_type": "markdown",
   "metadata": {},
   "source": [
    "### Helper methods"
   ]
  },
  {
   "cell_type": "code",
   "execution_count": 50,
   "metadata": {},
   "outputs": [],
   "source": [
    "import requests\n",
    "import json\n",
    "\n",
    "def insert_record(acs_endpoint, acs_index, data, acs_key, acs_api_version):\n",
    "    url = f\"{acs_endpoint}/indexes/{acs_index}/docs/index?api-version={acs_api_version}\"\n",
    "    headers = {\n",
    "        \"Content-Type\": \"application/json\",\n",
    "        \"api-key\": acs_key\n",
    "    }    \n",
    "    response = requests.post(url, data=data, headers=headers)\n",
    "    print(response.status_code)\n",
    "    print(response.content)\n",
    "\n",
    "def create_index(acs_endpoint, json_content, index_name, api_key, acs_api_version):\n",
    "    url = f\"{acs_endpoint}/indexes/{index_name}?api-version={acs_api_version}\"\n",
    "    headers = {\n",
    "        \"Content-Type\": \"application/json\",\n",
    "        \"api-key\": api_key\n",
    "    }\n",
    "    response = requests.request('PUT', url, headers=headers, data=json_content)\n",
    "    print(response.status_code)\n",
    "    print(response.content)\n",
    "\n",
    "def search_vector_similarity(query_vector, top_doc_count, acs_endpoint, acs_index,acs_key, acs_api_version):\n",
    "    url = f\"{acs_endpoint}/indexes/{acs_index}/docs/search?api-version={acs_api_version}\"\n",
    "\n",
    "    headers = {\n",
    "        \"Content-Type\": \"application/json\",\n",
    "        \"api-key\": acs_key\n",
    "    }\n",
    "\n",
    "    request_body = {\n",
    "        \"vectors\": [{\n",
    "            \"value\": query_vector,\n",
    "            \"fields\": \"content_vector\",\n",
    "            \"k\": top_doc_count\n",
    "        }],\n",
    "        \"select\": \"title, category\"\n",
    "    }\n",
    "    request_body = json.dumps(request_body)\n",
    "    response = requests.request('POST', url, headers=headers, data=request_body)\n",
    "\n",
    "    docs = [(item['title'] , item['category']) for item in response.json()['value']]\n",
    "\n",
    "    return docs\n",
    "\n",
    "def get_acs_index_name(acs_index_definition):\n",
    "    index_json_content = read_json_file(acs_index_definition)\n",
    "    index_json = json.loads(index_json_content)\n",
    "    index_name = index_json['name']\n",
    "\n",
    "    return index_name\n",
    "\n",
    "def read_json_file(file_path):\n",
    "    with open(file_path, \"r\") as file:\n",
    "        return file.read()"
   ]
  },
  {
   "cell_type": "markdown",
   "metadata": {},
   "source": [
    "### Create ACS index"
   ]
  },
  {
   "cell_type": "code",
   "execution_count": 51,
   "metadata": {},
   "outputs": [
    {
     "name": "stdout",
     "output_type": "stream",
     "text": [
      "201\n",
      "b'{\"@odata.context\":\"https://cogsearch02.search.windows.net/$metadata#indexes/$entity\",\"@odata.etag\":\"\\\\\"0x8DBC1D314654388\\\\\"\",\"name\":\"text_sample\",\"defaultScoringProfile\":null,\"fields\":[{\"name\":\"id\",\"type\":\"Edm.String\",\"searchable\":true,\"filterable\":true,\"retrievable\":true,\"sortable\":true,\"facetable\":true,\"key\":true,\"indexAnalyzer\":null,\"searchAnalyzer\":null,\"analyzer\":null,\"normalizer\":null,\"dimensions\":null,\"vectorSearchConfiguration\":null,\"synonymMaps\":[]},{\"name\":\"title\",\"type\":\"Edm.String\",\"searchable\":true,\"filterable\":true,\"retrievable\":true,\"sortable\":true,\"facetable\":true,\"key\":false,\"indexAnalyzer\":null,\"searchAnalyzer\":null,\"analyzer\":null,\"normalizer\":null,\"dimensions\":null,\"vectorSearchConfiguration\":null,\"synonymMaps\":[]},{\"name\":\"content\",\"type\":\"Edm.String\",\"searchable\":true,\"filterable\":true,\"retrievable\":true,\"sortable\":true,\"facetable\":true,\"key\":false,\"indexAnalyzer\":null,\"searchAnalyzer\":null,\"analyzer\":null,\"normalizer\":null,\"dimensions\":null,\"vectorSearchConfiguration\":null,\"synonymMaps\":[]},{\"name\":\"category\",\"type\":\"Edm.String\",\"searchable\":true,\"filterable\":true,\"retrievable\":true,\"sortable\":true,\"facetable\":true,\"key\":false,\"indexAnalyzer\":null,\"searchAnalyzer\":null,\"analyzer\":null,\"normalizer\":null,\"dimensions\":null,\"vectorSearchConfiguration\":null,\"synonymMaps\":[]},{\"name\":\"title_vector\",\"type\":\"Collection(Edm.Single)\",\"searchable\":true,\"filterable\":false,\"retrievable\":true,\"sortable\":false,\"facetable\":false,\"key\":false,\"indexAnalyzer\":null,\"searchAnalyzer\":null,\"analyzer\":null,\"normalizer\":null,\"dimensions\":1536,\"vectorSearchConfiguration\":\"vector_config\",\"synonymMaps\":[]},{\"name\":\"content_vector\",\"type\":\"Collection(Edm.Single)\",\"searchable\":true,\"filterable\":false,\"retrievable\":true,\"sortable\":false,\"facetable\":false,\"key\":false,\"indexAnalyzer\":null,\"searchAnalyzer\":null,\"analyzer\":null,\"normalizer\":null,\"dimensions\":1536,\"vectorSearchConfiguration\":\"vector_config\",\"synonymMaps\":[]}],\"scoringProfiles\":[{\"name\":\"scoring_profile_1\",\"functionAggregation\":null,\"text\":{\"weights\":{\"title\":10.0,\"content\":2.0}},\"functions\":[]}],\"corsOptions\":{\"allowedOrigins\":[\"*\"],\"maxAgeInSeconds\":60},\"suggesters\":[],\"analyzers\":[],\"normalizers\":[],\"tokenizers\":[],\"tokenFilters\":[],\"charFilters\":[],\"encryptionKey\":null,\"similarity\":{\"@odata.type\":\"#Microsoft.Azure.Search.BM25Similarity\",\"k1\":null,\"b\":null},\"semantic\":null,\"vectorSearch\":{\"algorithmConfigurations\":[{\"name\":\"vector_config\",\"kind\":\"hnsw\",\"hnswParameters\":{\"metric\":\"cosine\",\"m\":4,\"efConstruction\":400,\"efSearch\":500}}]}}'\n"
     ]
    }
   ],
   "source": [
    "index_definition = read_json_file(acs_index_definition)\n",
    "index_name = get_acs_index_name(acs_index_definition)\n",
    "\n",
    "create_index(acs_endpoint, index_definition, index_name, acs_key, acs_api_version)"
   ]
  },
  {
   "attachments": {},
   "cell_type": "markdown",
   "metadata": {},
   "source": [
    "### Load embeddings"
   ]
  },
  {
   "cell_type": "code",
   "execution_count": 52,
   "metadata": {},
   "outputs": [],
   "source": [
    "df = pd.read_json('../../data/text/product_docs_embeddings.json')"
   ]
  },
  {
   "cell_type": "markdown",
   "metadata": {},
   "source": [
    "### Ingest to azure cognitive search\n",
    "\n",
    "This cell works because the dataframe and the ACS Index both have same columns. If the dataframe doesn't have the same columns (column names or numbers) as the ACS Index, add a preprocessing step to it to structure the dataframe according to the ACS columns."
   ]
  },
  {
   "cell_type": "code",
   "execution_count": 53,
   "metadata": {},
   "outputs": [
    {
     "name": "stdout",
     "output_type": "stream",
     "text": [
      "200\n",
      "b'{\"@odata.context\":\"https://cogsearch02.search.windows.net/indexes(\\'text_sample\\')/$metadata#Collection(Microsoft.Azure.Search.V2023_07_01_Preview.IndexResult)\",\"value\":[{\"key\":\"1\",\"status\":true,\"errorMessage\":null,\"statusCode\":201}]}'\n",
      "200\n",
      "b'{\"@odata.context\":\"https://cogsearch02.search.windows.net/indexes(\\'text_sample\\')/$metadata#Collection(Microsoft.Azure.Search.V2023_07_01_Preview.IndexResult)\",\"value\":[{\"key\":\"2\",\"status\":true,\"errorMessage\":null,\"statusCode\":201},{\"key\":\"3\",\"status\":true,\"errorMessage\":null,\"statusCode\":201},{\"key\":\"4\",\"status\":true,\"errorMessage\":null,\"statusCode\":201},{\"key\":\"5\",\"status\":true,\"errorMessage\":null,\"statusCode\":201},{\"key\":\"6\",\"status\":true,\"errorMessage\":null,\"statusCode\":201},{\"key\":\"7\",\"status\":true,\"errorMessage\":null,\"statusCode\":201},{\"key\":\"8\",\"status\":true,\"errorMessage\":null,\"statusCode\":201},{\"key\":\"9\",\"status\":true,\"errorMessage\":null,\"statusCode\":201},{\"key\":\"10\",\"status\":true,\"errorMessage\":null,\"statusCode\":201},{\"key\":\"11\",\"status\":true,\"errorMessage\":null,\"statusCode\":201}]}'\n",
      "200\n",
      "b'{\"@odata.context\":\"https://cogsearch02.search.windows.net/indexes(\\'text_sample\\')/$metadata#Collection(Microsoft.Azure.Search.V2023_07_01_Preview.IndexResult)\",\"value\":[{\"key\":\"12\",\"status\":true,\"errorMessage\":null,\"statusCode\":201},{\"key\":\"13\",\"status\":true,\"errorMessage\":null,\"statusCode\":201},{\"key\":\"14\",\"status\":true,\"errorMessage\":null,\"statusCode\":201},{\"key\":\"15\",\"status\":true,\"errorMessage\":null,\"statusCode\":201},{\"key\":\"16\",\"status\":true,\"errorMessage\":null,\"statusCode\":201},{\"key\":\"17\",\"status\":true,\"errorMessage\":null,\"statusCode\":201},{\"key\":\"18\",\"status\":true,\"errorMessage\":null,\"statusCode\":201},{\"key\":\"19\",\"status\":true,\"errorMessage\":null,\"statusCode\":201},{\"key\":\"20\",\"status\":true,\"errorMessage\":null,\"statusCode\":201},{\"key\":\"21\",\"status\":true,\"errorMessage\":null,\"statusCode\":201}]}'\n",
      "200\n",
      "b'{\"@odata.context\":\"https://cogsearch02.search.windows.net/indexes(\\'text_sample\\')/$metadata#Collection(Microsoft.Azure.Search.V2023_07_01_Preview.IndexResult)\",\"value\":[{\"key\":\"22\",\"status\":true,\"errorMessage\":null,\"statusCode\":201},{\"key\":\"23\",\"status\":true,\"errorMessage\":null,\"statusCode\":201},{\"key\":\"24\",\"status\":true,\"errorMessage\":null,\"statusCode\":201},{\"key\":\"25\",\"status\":true,\"errorMessage\":null,\"statusCode\":201},{\"key\":\"26\",\"status\":true,\"errorMessage\":null,\"statusCode\":201},{\"key\":\"27\",\"status\":true,\"errorMessage\":null,\"statusCode\":201},{\"key\":\"28\",\"status\":true,\"errorMessage\":null,\"statusCode\":201},{\"key\":\"29\",\"status\":true,\"errorMessage\":null,\"statusCode\":201},{\"key\":\"30\",\"status\":true,\"errorMessage\":null,\"statusCode\":201},{\"key\":\"31\",\"status\":true,\"errorMessage\":null,\"statusCode\":201}]}'\n",
      "200\n",
      "b'{\"@odata.context\":\"https://cogsearch02.search.windows.net/indexes(\\'text_sample\\')/$metadata#Collection(Microsoft.Azure.Search.V2023_07_01_Preview.IndexResult)\",\"value\":[{\"key\":\"32\",\"status\":true,\"errorMessage\":null,\"statusCode\":201},{\"key\":\"33\",\"status\":true,\"errorMessage\":null,\"statusCode\":201},{\"key\":\"34\",\"status\":true,\"errorMessage\":null,\"statusCode\":201},{\"key\":\"35\",\"status\":true,\"errorMessage\":null,\"statusCode\":201},{\"key\":\"36\",\"status\":true,\"errorMessage\":null,\"statusCode\":201},{\"key\":\"37\",\"status\":true,\"errorMessage\":null,\"statusCode\":201},{\"key\":\"38\",\"status\":true,\"errorMessage\":null,\"statusCode\":201},{\"key\":\"39\",\"status\":true,\"errorMessage\":null,\"statusCode\":201},{\"key\":\"40\",\"status\":true,\"errorMessage\":null,\"statusCode\":201},{\"key\":\"41\",\"status\":true,\"errorMessage\":null,\"statusCode\":201}]}'\n",
      "200\n",
      "b'{\"@odata.context\":\"https://cogsearch02.search.windows.net/indexes(\\'text_sample\\')/$metadata#Collection(Microsoft.Azure.Search.V2023_07_01_Preview.IndexResult)\",\"value\":[{\"key\":\"42\",\"status\":true,\"errorMessage\":null,\"statusCode\":201},{\"key\":\"43\",\"status\":true,\"errorMessage\":null,\"statusCode\":201},{\"key\":\"44\",\"status\":true,\"errorMessage\":null,\"statusCode\":201},{\"key\":\"45\",\"status\":true,\"errorMessage\":null,\"statusCode\":201},{\"key\":\"46\",\"status\":true,\"errorMessage\":null,\"statusCode\":201},{\"key\":\"47\",\"status\":true,\"errorMessage\":null,\"statusCode\":201},{\"key\":\"48\",\"status\":true,\"errorMessage\":null,\"statusCode\":201},{\"key\":\"49\",\"status\":true,\"errorMessage\":null,\"statusCode\":201},{\"key\":\"50\",\"status\":true,\"errorMessage\":null,\"statusCode\":201},{\"key\":\"51\",\"status\":true,\"errorMessage\":null,\"statusCode\":201}]}'\n",
      "200\n",
      "b'{\"@odata.context\":\"https://cogsearch02.search.windows.net/indexes(\\'text_sample\\')/$metadata#Collection(Microsoft.Azure.Search.V2023_07_01_Preview.IndexResult)\",\"value\":[{\"key\":\"52\",\"status\":true,\"errorMessage\":null,\"statusCode\":201},{\"key\":\"53\",\"status\":true,\"errorMessage\":null,\"statusCode\":201},{\"key\":\"54\",\"status\":true,\"errorMessage\":null,\"statusCode\":201},{\"key\":\"55\",\"status\":true,\"errorMessage\":null,\"statusCode\":201},{\"key\":\"56\",\"status\":true,\"errorMessage\":null,\"statusCode\":201},{\"key\":\"57\",\"status\":true,\"errorMessage\":null,\"statusCode\":201},{\"key\":\"58\",\"status\":true,\"errorMessage\":null,\"statusCode\":201},{\"key\":\"59\",\"status\":true,\"errorMessage\":null,\"statusCode\":201},{\"key\":\"60\",\"status\":true,\"errorMessage\":null,\"statusCode\":201},{\"key\":\"61\",\"status\":true,\"errorMessage\":null,\"statusCode\":201}]}'\n",
      "200\n",
      "b'{\"@odata.context\":\"https://cogsearch02.search.windows.net/indexes(\\'text_sample\\')/$metadata#Collection(Microsoft.Azure.Search.V2023_07_01_Preview.IndexResult)\",\"value\":[{\"key\":\"62\",\"status\":true,\"errorMessage\":null,\"statusCode\":201},{\"key\":\"63\",\"status\":true,\"errorMessage\":null,\"statusCode\":201},{\"key\":\"64\",\"status\":true,\"errorMessage\":null,\"statusCode\":201},{\"key\":\"65\",\"status\":true,\"errorMessage\":null,\"statusCode\":201},{\"key\":\"66\",\"status\":true,\"errorMessage\":null,\"statusCode\":201},{\"key\":\"67\",\"status\":true,\"errorMessage\":null,\"statusCode\":201},{\"key\":\"68\",\"status\":true,\"errorMessage\":null,\"statusCode\":201},{\"key\":\"69\",\"status\":true,\"errorMessage\":null,\"statusCode\":201},{\"key\":\"70\",\"status\":true,\"errorMessage\":null,\"statusCode\":201},{\"key\":\"71\",\"status\":true,\"errorMessage\":null,\"statusCode\":201}]}'\n",
      "200\n",
      "b'{\"@odata.context\":\"https://cogsearch02.search.windows.net/indexes(\\'text_sample\\')/$metadata#Collection(Microsoft.Azure.Search.V2023_07_01_Preview.IndexResult)\",\"value\":[{\"key\":\"72\",\"status\":true,\"errorMessage\":null,\"statusCode\":201},{\"key\":\"73\",\"status\":true,\"errorMessage\":null,\"statusCode\":201},{\"key\":\"74\",\"status\":true,\"errorMessage\":null,\"statusCode\":201},{\"key\":\"75\",\"status\":true,\"errorMessage\":null,\"statusCode\":201},{\"key\":\"76\",\"status\":true,\"errorMessage\":null,\"statusCode\":201},{\"key\":\"77\",\"status\":true,\"errorMessage\":null,\"statusCode\":201},{\"key\":\"78\",\"status\":true,\"errorMessage\":null,\"statusCode\":201},{\"key\":\"79\",\"status\":true,\"errorMessage\":null,\"statusCode\":201},{\"key\":\"80\",\"status\":true,\"errorMessage\":null,\"statusCode\":201},{\"key\":\"81\",\"status\":true,\"errorMessage\":null,\"statusCode\":201}]}'\n",
      "200\n",
      "b'{\"@odata.context\":\"https://cogsearch02.search.windows.net/indexes(\\'text_sample\\')/$metadata#Collection(Microsoft.Azure.Search.V2023_07_01_Preview.IndexResult)\",\"value\":[{\"key\":\"82\",\"status\":true,\"errorMessage\":null,\"statusCode\":201},{\"key\":\"83\",\"status\":true,\"errorMessage\":null,\"statusCode\":201},{\"key\":\"84\",\"status\":true,\"errorMessage\":null,\"statusCode\":201},{\"key\":\"85\",\"status\":true,\"errorMessage\":null,\"statusCode\":201},{\"key\":\"86\",\"status\":true,\"errorMessage\":null,\"statusCode\":201},{\"key\":\"87\",\"status\":true,\"errorMessage\":null,\"statusCode\":201},{\"key\":\"88\",\"status\":true,\"errorMessage\":null,\"statusCode\":201},{\"key\":\"89\",\"status\":true,\"errorMessage\":null,\"statusCode\":201},{\"key\":\"90\",\"status\":true,\"errorMessage\":null,\"statusCode\":201},{\"key\":\"91\",\"status\":true,\"errorMessage\":null,\"statusCode\":201}]}'\n",
      "200\n",
      "b'{\"@odata.context\":\"https://cogsearch02.search.windows.net/indexes(\\'text_sample\\')/$metadata#Collection(Microsoft.Azure.Search.V2023_07_01_Preview.IndexResult)\",\"value\":[{\"key\":\"92\",\"status\":true,\"errorMessage\":null,\"statusCode\":201},{\"key\":\"93\",\"status\":true,\"errorMessage\":null,\"statusCode\":201},{\"key\":\"94\",\"status\":true,\"errorMessage\":null,\"statusCode\":201},{\"key\":\"95\",\"status\":true,\"errorMessage\":null,\"statusCode\":201},{\"key\":\"96\",\"status\":true,\"errorMessage\":null,\"statusCode\":201},{\"key\":\"97\",\"status\":true,\"errorMessage\":null,\"statusCode\":201},{\"key\":\"98\",\"status\":true,\"errorMessage\":null,\"statusCode\":201},{\"key\":\"99\",\"status\":true,\"errorMessage\":null,\"statusCode\":201},{\"key\":\"100\",\"status\":true,\"errorMessage\":null,\"statusCode\":201},{\"key\":\"101\",\"status\":true,\"errorMessage\":null,\"statusCode\":201}]}'\n",
      "200\n",
      "b'{\"@odata.context\":\"https://cogsearch02.search.windows.net/indexes(\\'text_sample\\')/$metadata#Collection(Microsoft.Azure.Search.V2023_07_01_Preview.IndexResult)\",\"value\":[{\"key\":\"102\",\"status\":true,\"errorMessage\":null,\"statusCode\":201},{\"key\":\"103\",\"status\":true,\"errorMessage\":null,\"statusCode\":201},{\"key\":\"104\",\"status\":true,\"errorMessage\":null,\"statusCode\":201},{\"key\":\"105\",\"status\":true,\"errorMessage\":null,\"statusCode\":201},{\"key\":\"106\",\"status\":true,\"errorMessage\":null,\"statusCode\":201},{\"key\":\"107\",\"status\":true,\"errorMessage\":null,\"statusCode\":201},{\"key\":\"108\",\"status\":true,\"errorMessage\":null,\"statusCode\":201}]}'\n"
     ]
    }
   ],
   "source": [
    "import requests\n",
    "import json\n",
    "\n",
    "batch_size = 10\n",
    "total_records = df.shape[0]\n",
    "fields = df.columns.to_numpy()\n",
    "df['id'] = df['id'].astype(str)\n",
    "\n",
    "records = {\n",
    "    'value': []\n",
    "}\n",
    "\n",
    "for index, row in df.iterrows():\n",
    "    record = {}\n",
    "    for field in fields:\n",
    "            record[field] = row[field]\n",
    "\n",
    "    records['value'].append(\n",
    "        record\n",
    "    )\n",
    "\n",
    "    if index % batch_size == 0 or (index+1 == total_records):\n",
    "        json_data = json.dumps(records)\n",
    "        insert_record(acs_endpoint, index_name, json_data, acs_key, acs_api_version)\n",
    "        records['value'] = []"
   ]
  },
  {
   "cell_type": "markdown",
   "metadata": {},
   "source": [
    "### Perform a vector similarity search"
   ]
  },
  {
   "cell_type": "code",
   "execution_count": 37,
   "metadata": {},
   "outputs": [
    {
     "name": "stdout",
     "output_type": "stream",
     "text": [
      "https://cogsearch02.search.windows.net/indexes/text-sample/docs/search?api-version=2023-07-01-Preview\n",
      "[('Azure Static Web Apps', 'Web'), ('Azure Functions', 'Compute'), ('Azure Data Box', 'Storage'), ('Azure App Service', 'Web'), ('Azure Mobile Apps', 'Mobile')]\n"
     ]
    }
   ],
   "source": [
    "query = 'tools that works without server'\n",
    "index_name = \"text-sample\"\n",
    "query_vector = get_embedding(query, engine = aoai_embedding_deployed_model)\n",
    "\n",
    "search_results = search_vector_similarity(query_vector, 5, acs_endpoint, index_name,acs_key, acs_api_version)\n",
    "\n",
    "print(search_results)"
   ]
  },
  {
   "cell_type": "markdown",
   "metadata": {},
   "source": [
    "### Simple vector similarity search"
   ]
  },
  {
   "cell_type": "code",
   "execution_count": 55,
   "metadata": {},
   "outputs": [
    {
     "name": "stdout",
     "output_type": "stream",
     "text": [
      "[('Azure Static Web Apps', 'Web'), ('Azure App Service', 'Web'), ('Azure Virtual Machines', 'Compute')]\n"
     ]
    }
   ],
   "source": [
    "query = 'tools for web hosting'\n",
    "top_doc_count = 3\n",
    "query_vector = get_embedding(query, engine = aoai_embedding_deployed_model)\n",
    "\n",
    "\n",
    "url = f\"{acs_endpoint}/indexes/{index_name}/docs/search?api-version={acs_api_version}\"\n",
    "\n",
    "headers = {\n",
    "    \"Content-Type\": \"application/json\",\n",
    "    \"api-key\": acs_key\n",
    "}\n",
    "\n",
    "request_body = {\n",
    "    \"vectors\": [{\n",
    "        \"value\": query_vector,\n",
    "        \"fields\": \"content_vector\",\n",
    "        \"k\": top_doc_count\n",
    "    }],\n",
    "    \"select\": \"title, category\"\n",
    "}\n",
    "request_body = json.dumps(request_body)\n",
    "response = requests.request('POST', url, headers=headers, data=request_body)\n",
    "\n",
    "docs = [(item['title'] , item['category']) for item in response.json()['value']]\n",
    "\n",
    "print(docs)"
   ]
  },
  {
   "cell_type": "markdown",
   "metadata": {},
   "source": [
    "### Cross column vector similarity search"
   ]
  },
  {
   "cell_type": "code",
   "execution_count": 56,
   "metadata": {},
   "outputs": [
    {
     "name": "stdout",
     "output_type": "stream",
     "text": [
      "[('Azure Static Web Apps', 'Web'), ('Azure Virtual Machines', 'Compute'), ('Azure App Service', 'Web'), ('Azure CDN', 'Networking')]\n"
     ]
    }
   ],
   "source": [
    "query = 'tools for web hosting'\n",
    "top_doc_count = 3\n",
    "query_vector = get_embedding(query, engine = aoai_embedding_deployed_model)\n",
    "\n",
    "\n",
    "url = f\"{acs_endpoint}/indexes/{index_name}/docs/search?api-version={acs_api_version}\"\n",
    "\n",
    "headers = {\n",
    "    \"Content-Type\": \"application/json\",\n",
    "    \"api-key\": acs_key\n",
    "}\n",
    "\n",
    "request_body = {\n",
    "    \"vectors\": [{\n",
    "        \"value\": query_vector,\n",
    "        \"fields\": \"title_vector\",\n",
    "        \"k\": top_doc_count\n",
    "    },\n",
    "    {\n",
    "        \"value\": query_vector,\n",
    "        \"fields\": \"content_vector\",\n",
    "        \"k\": top_doc_count\n",
    "    }\n",
    "    ],\n",
    "    \"select\": \"title, category\"\n",
    "}\n",
    "request_body = json.dumps(request_body)\n",
    "response = requests.request('POST', url, headers=headers, data=request_body)\n",
    "\n",
    "docs = [(item['title'] , item['category']) for item in response.json()['value']]\n",
    "\n",
    "print(docs)"
   ]
  },
  {
   "cell_type": "markdown",
   "metadata": {},
   "source": [
    "### Hybrid search"
   ]
  },
  {
   "cell_type": "code",
   "execution_count": 58,
   "metadata": {},
   "outputs": [
    {
     "name": "stdout",
     "output_type": "stream",
     "text": [
      "{\"@odata.context\":\"https://cogsearch02.search.windows.net/indexes('text_sample')/$metadata#docs(*)\",\"value\":[{\"@search.score\":0.033333335071802139,\"title\":\"Azure Static Web Apps\",\"category\":\"Web\"},{\"@search.score\":0.016393441706895828,\"title\":\"Azure App Service\",\"category\":\"Web\"},{\"@search.score\":0.016129031777381897,\"title\":\"Azure Web PubSub\",\"category\":\"Web\"}]}\n",
      "[('Azure Static Web Apps', 'Web'), ('Azure App Service', 'Web'), ('Azure Web PubSub', 'Web')]\n"
     ]
    }
   ],
   "source": [
    "query = 'tools that works without server'\n",
    "top_doc_count = 3\n",
    "query_vector = get_embedding(query, engine = aoai_embedding_deployed_model)\n",
    "\n",
    "\n",
    "url = f\"{acs_endpoint}/indexes/{index_name}/docs/search?api-version={acs_api_version}\"\n",
    "\n",
    "headers = {\n",
    "    \"Content-Type\": \"application/json\",\n",
    "    \"api-key\": acs_key\n",
    "}\n",
    "\n",
    "request_body = {\n",
    "    \"vectors\": [{\n",
    "        \"value\": query_vector,\n",
    "        \"fields\": \"title_vector,content_vector\",\n",
    "        \"k\": top_doc_count\n",
    "    }],\n",
    "    \"select\": \"title, category\",\n",
    "    \"filter\": \"category eq 'Web'\"\n",
    "}\n",
    "request_body = json.dumps(request_body)\n",
    "response = requests.request('POST', url, headers=headers, data=request_body)\n",
    "\n",
    "print(response.text)\n",
    "docs = [(item['title'] , item['category']) for item in response.json()['value']]\n",
    "\n",
    "print(docs)"
   ]
  }
 ],
 "metadata": {
  "kernelspec": {
   "display_name": "Python 3",
   "language": "python",
   "name": "python3"
  },
  "language_info": {
   "codemirror_mode": {
    "name": "ipython",
    "version": 3
   },
   "file_extension": ".py",
   "mimetype": "text/x-python",
   "name": "python",
   "nbconvert_exporter": "python",
   "pygments_lexer": "ipython3",
   "version": "3.10.12"
  },
  "orig_nbformat": 4
 },
 "nbformat": 4,
 "nbformat_minor": 2
}
