{
 "cells": [
  {
   "attachments": {},
   "cell_type": "markdown",
   "metadata": {},
   "source": [
    "## Vector Search on Azure Cognitive Search via REST Endpoint"
   ]
  },
  {
   "attachments": {},
   "cell_type": "markdown",
   "metadata": {},
   "source": [
    "### Set environment variables"
   ]
  },
  {
   "cell_type": "code",
   "execution_count": null,
   "metadata": {},
   "outputs": [],
   "source": [
    "import os\n",
    "from dotenv import load_dotenv\n",
    "\n",
    "load_dotenv()\n",
    "\n",
    "acs_key  = os.getenv(\"COGNITIVE_SEARCH_KEY\")\n",
    "if acs_key is None or acs_key == \"\":\n",
    "    print(\"COGNITIVE_SEARCH_KEY environment variable not set.\")\n",
    "    exit()\n",
    "\n",
    "aoai_key  = os.getenv(\"AZURE_OPENAI_KEY\")\n",
    "if aoai_key is None or aoai_key == \"\":\n",
    "    print(\"AZURE_OPENAI_KEY environment variable not set.\")\n",
    "    exit()\n",
    "\n",
    "acs_endpoint = 'https://cogsearch02.search.windows.net'\n",
    "acs_index_definition = 'index_definition/index_definition_text.json'\n",
    "acs_api_version = '2023-07-01-Preview'\n",
    "aoai_endpoint = 'https://azure-openai-dnai.openai.azure.com'\n",
    "aoai_api_version = '2023-08-01-preview'\n",
    "aoai_embedding_deployed_model = 'embedding-ada'"
   ]
  },
  {
   "cell_type": "markdown",
   "metadata": {},
   "source": [
    "### Helper methods"
   ]
  },
  {
   "cell_type": "code",
   "execution_count": null,
   "metadata": {},
   "outputs": [],
   "source": [
    "import requests\n",
    "import json\n",
    "\n",
    "def search_vector_similarity(query_vector, top_doc_count, acs_endpoint, acs_index,acs_key, acs_api_version):\n",
    "    url = f\"{acs_endpoint}/indexes/{acs_index}/docs/search?api-version={acs_api_version}\"\n",
    "\n",
    "    headers = {\n",
    "        \"Content-Type\": \"application/json\",\n",
    "        \"api-key\": acs_key\n",
    "    }\n",
    "\n",
    "    request_body = {\n",
    "        \"vectors\": [{\n",
    "            \"value\": query_vector,\n",
    "            \"fields\": \"content_vector\",\n",
    "            \"k\": top_doc_count\n",
    "        }],\n",
    "        \"select\": \"title, category\"\n",
    "    }\n",
    "    request_body = json.dumps(request_body)\n",
    "    response = requests.request('POST', url, headers=headers, data=request_body)\n",
    "\n",
    "    docs = [(item['title'] , item['category']) for item in response.json()['value']]\n",
    "\n",
    "    return docs\n",
    "\n",
    "def get_acs_index_name(acs_index_definition):\n",
    "    index_json_content = read_json_file(acs_index_definition)\n",
    "    index_json = json.loads(index_json_content)\n",
    "    index_name = index_json['name']\n",
    "\n",
    "    return index_name\n",
    "\n",
    "def read_json_file(file_path):\n",
    "    with open(file_path, \"r\") as file:\n",
    "        return file.read()"
   ]
  },
  {
   "cell_type": "markdown",
   "metadata": {},
   "source": [
    "### Perform a vector similarity search"
   ]
  },
  {
   "cell_type": "code",
   "execution_count": null,
   "metadata": {},
   "outputs": [],
   "source": [
    "query = 'tools that works without server'\n",
    "index_name = \"text-sample\"\n",
    "query_vector = get_embedding(query, engine = aoai_embedding_deployed_model)\n",
    "\n",
    "search_results = search_vector_similarity(query_vector, 5, acs_endpoint, index_name,acs_key, acs_api_version)\n",
    "\n",
    "print(search_results)"
   ]
  },
  {
   "cell_type": "markdown",
   "metadata": {},
   "source": [
    "### Simple vector similarity search"
   ]
  },
  {
   "cell_type": "code",
   "execution_count": null,
   "metadata": {},
   "outputs": [],
   "source": [
    "query = 'tools for web hosting'\n",
    "top_doc_count = 3\n",
    "query_vector = get_embedding(query, engine = aoai_embedding_deployed_model)\n",
    "\n",
    "\n",
    "url = f\"{acs_endpoint}/indexes/{index_name}/docs/search?api-version={acs_api_version}\"\n",
    "\n",
    "headers = {\n",
    "    \"Content-Type\": \"application/json\",\n",
    "    \"api-key\": acs_key\n",
    "}\n",
    "\n",
    "request_body = {\n",
    "    \"vectors\": [{\n",
    "        \"value\": query_vector,\n",
    "        \"fields\": \"content_vector\",\n",
    "        \"k\": top_doc_count\n",
    "    }],\n",
    "    \"select\": \"title, category\"\n",
    "}\n",
    "request_body = json.dumps(request_body)\n",
    "response = requests.request('POST', url, headers=headers, data=request_body)\n",
    "\n",
    "docs = [(item['title'] , item['category']) for item in response.json()['value']]\n",
    "\n",
    "print(docs)"
   ]
  },
  {
   "cell_type": "markdown",
   "metadata": {},
   "source": [
    "### Cross column vector similarity search"
   ]
  },
  {
   "cell_type": "code",
   "execution_count": null,
   "metadata": {},
   "outputs": [],
   "source": [
    "query = 'tools for web hosting'\n",
    "top_doc_count = 3\n",
    "query_vector = get_embedding(query, engine = aoai_embedding_deployed_model)\n",
    "\n",
    "\n",
    "url = f\"{acs_endpoint}/indexes/{index_name}/docs/search?api-version={acs_api_version}\"\n",
    "\n",
    "headers = {\n",
    "    \"Content-Type\": \"application/json\",\n",
    "    \"api-key\": acs_key\n",
    "}\n",
    "\n",
    "request_body = {\n",
    "    \"vectors\": [{\n",
    "        \"value\": query_vector,\n",
    "        \"fields\": \"title_vector\",\n",
    "        \"k\": top_doc_count\n",
    "    },\n",
    "    {\n",
    "        \"value\": query_vector,\n",
    "        \"fields\": \"content_vector\",\n",
    "        \"k\": top_doc_count\n",
    "    }\n",
    "    ],\n",
    "    \"select\": \"title, category\"\n",
    "}\n",
    "request_body = json.dumps(request_body)\n",
    "response = requests.request('POST', url, headers=headers, data=request_body)\n",
    "\n",
    "docs = [(item['title'] , item['category']) for item in response.json()['value']]\n",
    "\n",
    "print(docs)"
   ]
  },
  {
   "cell_type": "markdown",
   "metadata": {},
   "source": [
    "### Hybrid search"
   ]
  },
  {
   "cell_type": "code",
   "execution_count": null,
   "metadata": {},
   "outputs": [],
   "source": [
    "query = 'tools that works without server'\n",
    "top_doc_count = 3\n",
    "query_vector = get_embedding(query, engine = aoai_embedding_deployed_model)\n",
    "\n",
    "\n",
    "url = f\"{acs_endpoint}/indexes/{index_name}/docs/search?api-version={acs_api_version}\"\n",
    "\n",
    "headers = {\n",
    "    \"Content-Type\": \"application/json\",\n",
    "    \"api-key\": acs_key\n",
    "}\n",
    "\n",
    "request_body = {\n",
    "    \"vectors\": [{\n",
    "        \"value\": query_vector,\n",
    "        \"fields\": \"title_vector,content_vector\",\n",
    "        \"k\": top_doc_count\n",
    "    }],\n",
    "    \"select\": \"title, category\",\n",
    "    \"filter\": \"category eq 'Web'\"\n",
    "}\n",
    "request_body = json.dumps(request_body)\n",
    "response = requests.request('POST', url, headers=headers, data=request_body)\n",
    "\n",
    "print(response.text)\n",
    "docs = [(item['title'] , item['category']) for item in response.json()['value']]\n",
    "\n",
    "print(docs)"
   ]
  },
  {
   "cell_type": "markdown",
   "metadata": {},
   "source": [
    "### Perform a vector similarity search for docs"
   ]
  },
  {
   "cell_type": "code",
   "execution_count": null,
   "metadata": {},
   "outputs": [],
   "source": [
    "query = 'when are performance review announced?'\n",
    "\n",
    "query_vector = get_embedding(query, engine = aoai_embedding_deployed_model)\n",
    "\n",
    "search_results = search_vector_similarity(query_vector, 5, acs_endpoint, index_name, acs_key, acs_api_version)\n",
    "\n",
    "print(search_results)"
   ]
  },
  {
   "cell_type": "markdown",
   "metadata": {},
   "source": [
    "### Perform a vector similarity search for image"
   ]
  },
  {
   "cell_type": "code",
   "execution_count": null,
   "metadata": {},
   "outputs": [],
   "source": [
    "import matplotlib.pyplot as plt\n",
    "from PIL import Image\n",
    "\n",
    "query = 'flower with hand'\n",
    "\n",
    "query_vector = vectorize_text_com_vision(com_vision_endpoint,com_vision_key,query)\n",
    "search_results = search_vector_similarity(query_vector, 1, acs_endpoint, index_name,acs_key, acs_api_version)\n",
    "\n",
    "show_image(image_folder, search_results[0])"
   ]
  }
 ],
 "metadata": {
  "kernelspec": {
   "display_name": "Python 3",
   "language": "python",
   "name": "python3"
  },
  "language_info": {
   "codemirror_mode": {
    "name": "ipython",
    "version": 3
   },
   "file_extension": ".py",
   "mimetype": "text/x-python",
   "name": "python",
   "nbconvert_exporter": "python",
   "pygments_lexer": "ipython3",
   "version": "3.10.12"
  },
  "orig_nbformat": 4
 },
 "nbformat": 4,
 "nbformat_minor": 2
}
