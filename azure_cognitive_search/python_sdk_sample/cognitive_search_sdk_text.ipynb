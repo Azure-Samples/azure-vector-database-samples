{
 "cells": [
  {
   "attachments": {},
   "cell_type": "markdown",
   "metadata": {},
   "source": [
    "## Vector Search on Text: Azure Cognitive Search via Python SDK\n",
    "\n",
    "This notebook demonstrates how to use Azure Cognitive Search REST endpoint with OpenAI to work with simple tabular text datasets. It uses the [product_docs.json](../../data/text/product_docs.json) as source dataset. \n",
    "\n",
    "Key steps in the notebook -\n",
    "\n",
    "- Create ACS Index via python sdk\n",
    "- Load the source dataset and generating embeddings\n",
    "- Ingesting embeddings to ACS Index via python sdk\n",
    "- Multiple search queries\n",
    "  \n",
    "### Prerequisites\n",
    "\n",
    "- Create a conda environment using the [cognitive_search_python_sdk_conda.yml](/cognitive_search_python_sdk_conda.yml) file to include all the python dependencies.\n",
    "- Create a *.env* file from the *.env-template* and populate it with all necessary endpoint links and keys. "
   ]
  },
  {
   "attachments": {},
   "cell_type": "markdown",
   "metadata": {},
   "source": [
    "### Load environment variables"
   ]
  },
  {
   "cell_type": "code",
   "execution_count": 1,
   "metadata": {},
   "outputs": [],
   "source": [
    "import os\n",
    "from dotenv import load_dotenv\n",
    "\n",
    "load_dotenv()\n",
    "\n",
    "acs_endpoint = os.getenv(\"COGNITIVE_SEARCH_ENDPOINT\")\n",
    "if acs_endpoint is None or acs_endpoint == \"\":\n",
    "    print(\"COGNITIVE_SEARCH_ENDPOINT environment variable not set.\")\n",
    "    exit()\n",
    "\n",
    "acs_index  = os.getenv(\"COGNITIVE_SEARCH_INDEX\")\n",
    "if acs_index is None or acs_index == \"\":\n",
    "    print(\"COGNITIVE_SEARCH_INDEX environment variable not set.\")\n",
    "    exit()\n",
    "\n",
    "acs_key  = os.getenv(\"COGNITIVE_SEARCH_KEY\")\n",
    "if acs_key is None or acs_key == \"\":\n",
    "    print(\"COGNITIVE_SEARCH_KEY environment variable not set.\")\n",
    "    exit()\n",
    "    \n",
    "acs_api_version  = os.getenv(\"COGNITIVE_SEARCH_API_VERSION\")\n",
    "if acs_api_version is None or acs_api_version == \"\":\n",
    "    print(\"COGNITIVE_SEARCH_API_VERSION environment variable not set.\")\n",
    "    exit()\n",
    "\n",
    "aoai_endpoint  = os.getenv(\"AZURE_OPENAI_ENDPOINT\")\n",
    "if aoai_endpoint is None or aoai_endpoint == \"\":\n",
    "    print(\"AZURE_OPENAI_ENDPOINT environment variable not set.\")\n",
    "    exit()\n",
    "\n",
    "aoai_key  = os.getenv(\"AZURE_OPENAI_KEY\")\n",
    "if aoai_key is None or aoai_key == \"\":\n",
    "    print(\"AZURE_OPENAI_KEY environment variable not set.\")\n",
    "    exit()\n",
    "\n",
    "aoai_api_version  = os.getenv(\"AZURE_OPENAI_API_VERSION\")\n",
    "if aoai_api_version is None or aoai_api_version == \"\":\n",
    "    print(\"AZURE_OPENAI_API_VERSION environment variable not set.\")\n",
    "    exit()\n",
    "\n",
    "aoai_embedding_deployed_model  = os.getenv(\"AZURE_OPENAI_EMBEDDING_DEPLOYED_MODEL\")\n",
    "if aoai_embedding_deployed_model is None or aoai_embedding_deployed_model == \"\":\n",
    "    print(\"AZURE_OPENAI_EMBEDDING_DEPLOYED_MODEL environment variable not set.\")\n",
    "    exit()"
   ]
  },
  {
   "cell_type": "markdown",
   "metadata": {},
   "source": [
    "### Create ACS Index"
   ]
  },
  {
   "cell_type": "code",
   "execution_count": null,
   "metadata": {},
   "outputs": [],
   "source": []
  }
 ],
 "metadata": {
  "kernelspec": {
   "display_name": "Python 3",
   "language": "python",
   "name": "python3"
  },
  "language_info": {
   "codemirror_mode": {
    "name": "ipython",
    "version": 3
   },
   "file_extension": ".py",
   "mimetype": "text/x-python",
   "name": "python",
   "nbconvert_exporter": "python",
   "pygments_lexer": "ipython3",
   "version": "3.10.13"
  },
  "orig_nbformat": 4
 },
 "nbformat": 4,
 "nbformat_minor": 2
}
