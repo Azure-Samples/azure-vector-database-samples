{
 "cells": [
  {
   "attachments": {},
   "cell_type": "markdown",
   "metadata": {},
   "source": [
    "## Vector Search on Documents: Azure Cognitive Search via Python SDK"
   ]
  },
  {
   "attachments": {},
   "cell_type": "markdown",
   "metadata": {},
   "source": [
    "### Load environment variables"
   ]
  },
  {
   "cell_type": "code",
   "execution_count": 1,
   "metadata": {},
   "outputs": [],
   "source": [
    "import os\n",
    "from dotenv import load_dotenv\n",
    "\n",
    "load_dotenv()\n",
    "\n",
    "acs_key  = os.getenv(\"COGNITIVE_SEARCH_KEY\")\n",
    "if acs_key is None or acs_key == \"\":\n",
    "    print(\"COGNITIVE_SEARCH_KEY environment variable not set.\")\n",
    "    exit()\n",
    "\n",
    "aoai_key  = os.getenv(\"AZURE_OPENAI_KEY\")\n",
    "if aoai_key is None or aoai_key == \"\":\n",
    "    print(\"AZURE_OPENAI_KEY environment variable not set.\")\n",
    "    exit()\n",
    "    \n",
    "index_name = 'doc-sample'\n",
    "acs_endpoint = 'https://cogsearch02.search.windows.net'\n",
    "acs_index_definition = 'index_definition/index_definition_text.json'\n",
    "acs_api_version = '2023-07-01-Preview'\n",
    "aoai_endpoint = 'https://azure-openai-dnai.openai.azure.com'\n",
    "aoai_api_version = '2023-08-01-preview'\n",
    "aoai_embedding_deployed_model = 'embedding-ada'"
   ]
  },
  {
   "cell_type": "markdown",
   "metadata": {},
   "source": [
    "### Helper Methods"
   ]
  },
  {
   "cell_type": "code",
   "execution_count": 2,
   "metadata": {},
   "outputs": [],
   "source": [
    "from azure.search.documents.indexes import SearchIndexClient, SearchIndexerClient\n",
    "from azure.core.credentials import AzureKeyCredential\n",
    "from azure.search.documents.indexes.models import (\n",
    "    SimpleField,\n",
    "    SearchField,\n",
    "    SearchableField,\n",
    "    SearchFieldDataType,\n",
    "    VectorSearch,  \n",
    "    HnswVectorSearchAlgorithmConfiguration,  \n",
    "    SemanticSettings,\n",
    "    SemanticConfiguration,\n",
    "    PrioritizedFields,\n",
    "    SemanticField,\n",
    "    SearchIndex\n",
    ")\n",
    "\n",
    "def get_index_client() -> SearchIndexClient:\n",
    "    return SearchIndexClient(acs_endpoint, AzureKeyCredential(acs_key))\n",
    "\n",
    "def create_index(index_name, fields, vector_search, semantic_title_field_name, semantic_content_field_names):\n",
    "    semantic_settings = SemanticSettings(\n",
    "        configurations=[SemanticConfiguration(\n",
    "            name='default',\n",
    "            prioritized_fields=PrioritizedFields(\n",
    "                title_field=SemanticField(field_name=semantic_title_field_name), prioritized_content_fields=[SemanticField(field_name=field_name) for field_name in semantic_content_field_names]))])\n",
    "    index = SearchIndex(\n",
    "        name=index_name,\n",
    "        fields=fields,\n",
    "        vector_search=vector_search,\n",
    "        semantic_settings=semantic_settings)\n",
    "    index_client = get_index_client()\n",
    "    return index_client.create_index(index)"
   ]
  },
  {
   "cell_type": "markdown",
   "metadata": {},
   "source": [
    "### Create ACS Index"
   ]
  },
  {
   "cell_type": "code",
   "execution_count": 8,
   "metadata": {},
   "outputs": [
    {
     "ename": "HttpResponseError",
     "evalue": "(ResourceNameAlreadyInUse) Cannot create index 'doc-sample' because it already exists.\nCode: ResourceNameAlreadyInUse\nMessage: Cannot create index 'doc-sample' because it already exists.\nException Details:\t(CannotCreateExistingIndex) Cannot create index 'doc-sample' because it already exists.\n\tCode: CannotCreateExistingIndex\n\tMessage: Cannot create index 'doc-sample' because it already exists.",
     "output_type": "error",
     "traceback": [
      "\u001b[1;31m---------------------------------------------------------------------------\u001b[0m",
      "\u001b[1;31mHttpResponseError\u001b[0m                         Traceback (most recent call last)",
      "\u001b[1;32mc:\\work\\azure-vector-search-samples\\azure_cognitive_search\\python_sdk_sample\\cognitive_search_sdk_doc.ipynb Cell 7\u001b[0m line \u001b[0;36m2\n\u001b[0;32m      <a href='vscode-notebook-cell:/c%3A/work/azure-vector-search-samples/azure_cognitive_search/python_sdk_sample/cognitive_search_sdk_doc.ipynb#W6sZmlsZQ%3D%3D?line=1'>2</a>\u001b[0m vector_search \u001b[39m=\u001b[39m VectorSearch(\n\u001b[0;32m      <a href='vscode-notebook-cell:/c%3A/work/azure-vector-search-samples/azure_cognitive_search/python_sdk_sample/cognitive_search_sdk_doc.ipynb#W6sZmlsZQ%3D%3D?line=2'>3</a>\u001b[0m     algorithm_configurations\u001b[39m=\u001b[39m[\n\u001b[0;32m      <a href='vscode-notebook-cell:/c%3A/work/azure-vector-search-samples/azure_cognitive_search/python_sdk_sample/cognitive_search_sdk_doc.ipynb#W6sZmlsZQ%3D%3D?line=3'>4</a>\u001b[0m         HnswVectorSearchAlgorithmConfiguration(\n\u001b[1;32m   (...)\u001b[0m\n\u001b[0;32m     <a href='vscode-notebook-cell:/c%3A/work/azure-vector-search-samples/azure_cognitive_search/python_sdk_sample/cognitive_search_sdk_doc.ipynb#W6sZmlsZQ%3D%3D?line=13'>14</a>\u001b[0m     ]\n\u001b[0;32m     <a href='vscode-notebook-cell:/c%3A/work/azure-vector-search-samples/azure_cognitive_search/python_sdk_sample/cognitive_search_sdk_doc.ipynb#W6sZmlsZQ%3D%3D?line=14'>15</a>\u001b[0m )\n\u001b[0;32m     <a href='vscode-notebook-cell:/c%3A/work/azure-vector-search-samples/azure_cognitive_search/python_sdk_sample/cognitive_search_sdk_doc.ipynb#W6sZmlsZQ%3D%3D?line=15'>16</a>\u001b[0m fields \u001b[39m=\u001b[39m [\n\u001b[0;32m     <a href='vscode-notebook-cell:/c%3A/work/azure-vector-search-samples/azure_cognitive_search/python_sdk_sample/cognitive_search_sdk_doc.ipynb#W6sZmlsZQ%3D%3D?line=16'>17</a>\u001b[0m     SimpleField(name\u001b[39m=\u001b[39m\u001b[39m\"\u001b[39m\u001b[39mid\u001b[39m\u001b[39m\"\u001b[39m, \u001b[39mtype\u001b[39m\u001b[39m=\u001b[39mSearchFieldDataType\u001b[39m.\u001b[39mString, key\u001b[39m=\u001b[39m\u001b[39mTrue\u001b[39;00m),\n\u001b[0;32m     <a href='vscode-notebook-cell:/c%3A/work/azure-vector-search-samples/azure_cognitive_search/python_sdk_sample/cognitive_search_sdk_doc.ipynb#W6sZmlsZQ%3D%3D?line=17'>18</a>\u001b[0m     SearchableField(name\u001b[39m=\u001b[39m\u001b[39m\"\u001b[39m\u001b[39mchunk_content\u001b[39m\u001b[39m\"\u001b[39m, \u001b[39mtype\u001b[39m\u001b[39m=\u001b[39mSearchFieldDataType\u001b[39m.\u001b[39mString),\n\u001b[0;32m     <a href='vscode-notebook-cell:/c%3A/work/azure-vector-search-samples/azure_cognitive_search/python_sdk_sample/cognitive_search_sdk_doc.ipynb#W6sZmlsZQ%3D%3D?line=18'>19</a>\u001b[0m     SearchField(name\u001b[39m=\u001b[39m\u001b[39m\"\u001b[39m\u001b[39mchunk_content_vector\u001b[39m\u001b[39m\"\u001b[39m, \u001b[39mtype\u001b[39m\u001b[39m=\u001b[39mSearchFieldDataType\u001b[39m.\u001b[39mCollection(SearchFieldDataType\u001b[39m.\u001b[39mSingle), searchable\u001b[39m=\u001b[39m\u001b[39mTrue\u001b[39;00m, vector_search_dimensions\u001b[39m=\u001b[39m\u001b[39m1536\u001b[39m, vector_search_configuration\u001b[39m=\u001b[39m\u001b[39m\"\u001b[39m\u001b[39mvector_config\u001b[39m\u001b[39m\"\u001b[39m)   \n\u001b[0;32m     <a href='vscode-notebook-cell:/c%3A/work/azure-vector-search-samples/azure_cognitive_search/python_sdk_sample/cognitive_search_sdk_doc.ipynb#W6sZmlsZQ%3D%3D?line=19'>20</a>\u001b[0m ]\n\u001b[1;32m---> <a href='vscode-notebook-cell:/c%3A/work/azure-vector-search-samples/azure_cognitive_search/python_sdk_sample/cognitive_search_sdk_doc.ipynb#W6sZmlsZQ%3D%3D?line=21'>22</a>\u001b[0m index \u001b[39m=\u001b[39m create_index(index_name, fields, vector_search\u001b[39m=\u001b[39;49mvector_search, semantic_title_field_name\u001b[39m=\u001b[39;49m\u001b[39m\"\u001b[39;49m\u001b[39mchunk_content\u001b[39;49m\u001b[39m\"\u001b[39;49m, semantic_content_field_names\u001b[39m=\u001b[39;49m[\u001b[39m\"\u001b[39;49m\u001b[39mchunk_content\u001b[39;49m\u001b[39m\"\u001b[39;49m])\n",
      "\u001b[1;32mc:\\work\\azure-vector-search-samples\\azure_cognitive_search\\python_sdk_sample\\cognitive_search_sdk_doc.ipynb Cell 7\u001b[0m line \u001b[0;36m3\n\u001b[0;32m     <a href='vscode-notebook-cell:/c%3A/work/azure-vector-search-samples/azure_cognitive_search/python_sdk_sample/cognitive_search_sdk_doc.ipynb#W6sZmlsZQ%3D%3D?line=25'>26</a>\u001b[0m index \u001b[39m=\u001b[39m SearchIndex(\n\u001b[0;32m     <a href='vscode-notebook-cell:/c%3A/work/azure-vector-search-samples/azure_cognitive_search/python_sdk_sample/cognitive_search_sdk_doc.ipynb#W6sZmlsZQ%3D%3D?line=26'>27</a>\u001b[0m     name\u001b[39m=\u001b[39mindex_name,\n\u001b[0;32m     <a href='vscode-notebook-cell:/c%3A/work/azure-vector-search-samples/azure_cognitive_search/python_sdk_sample/cognitive_search_sdk_doc.ipynb#W6sZmlsZQ%3D%3D?line=27'>28</a>\u001b[0m     fields\u001b[39m=\u001b[39mfields,\n\u001b[0;32m     <a href='vscode-notebook-cell:/c%3A/work/azure-vector-search-samples/azure_cognitive_search/python_sdk_sample/cognitive_search_sdk_doc.ipynb#W6sZmlsZQ%3D%3D?line=28'>29</a>\u001b[0m     vector_search\u001b[39m=\u001b[39mvector_search,\n\u001b[0;32m     <a href='vscode-notebook-cell:/c%3A/work/azure-vector-search-samples/azure_cognitive_search/python_sdk_sample/cognitive_search_sdk_doc.ipynb#W6sZmlsZQ%3D%3D?line=29'>30</a>\u001b[0m     semantic_settings\u001b[39m=\u001b[39msemantic_settings)\n\u001b[0;32m     <a href='vscode-notebook-cell:/c%3A/work/azure-vector-search-samples/azure_cognitive_search/python_sdk_sample/cognitive_search_sdk_doc.ipynb#W6sZmlsZQ%3D%3D?line=30'>31</a>\u001b[0m index_client \u001b[39m=\u001b[39m get_index_client()\n\u001b[1;32m---> <a href='vscode-notebook-cell:/c%3A/work/azure-vector-search-samples/azure_cognitive_search/python_sdk_sample/cognitive_search_sdk_doc.ipynb#W6sZmlsZQ%3D%3D?line=31'>32</a>\u001b[0m \u001b[39mreturn\u001b[39;00m index_client\u001b[39m.\u001b[39;49mcreate_index(index)\n",
      "File \u001b[1;32mc:\\Users\\raihanalam\\Miniconda3\\envs\\cognitive_search_sdk\\lib\\site-packages\\azure\\core\\tracing\\decorator.py:78\u001b[0m, in \u001b[0;36mdistributed_trace.<locals>.decorator.<locals>.wrapper_use_tracer\u001b[1;34m(*args, **kwargs)\u001b[0m\n\u001b[0;32m     76\u001b[0m span_impl_type \u001b[39m=\u001b[39m settings\u001b[39m.\u001b[39mtracing_implementation()\n\u001b[0;32m     77\u001b[0m \u001b[39mif\u001b[39;00m span_impl_type \u001b[39mis\u001b[39;00m \u001b[39mNone\u001b[39;00m:\n\u001b[1;32m---> 78\u001b[0m     \u001b[39mreturn\u001b[39;00m func(\u001b[39m*\u001b[39margs, \u001b[39m*\u001b[39m\u001b[39m*\u001b[39mkwargs)\n\u001b[0;32m     80\u001b[0m \u001b[39m# Merge span is parameter is set, but only if no explicit parent are passed\u001b[39;00m\n\u001b[0;32m     81\u001b[0m \u001b[39mif\u001b[39;00m merge_span \u001b[39mand\u001b[39;00m \u001b[39mnot\u001b[39;00m passed_in_parent:\n",
      "File \u001b[1;32mc:\\Users\\raihanalam\\Miniconda3\\envs\\cognitive_search_sdk\\lib\\site-packages\\azure\\search\\documents\\indexes\\_search_index_client.py:211\u001b[0m, in \u001b[0;36mSearchIndexClient.create_index\u001b[1;34m(self, index, **kwargs)\u001b[0m\n\u001b[0;32m    209\u001b[0m kwargs[\u001b[39m\"\u001b[39m\u001b[39mheaders\u001b[39m\u001b[39m\"\u001b[39m] \u001b[39m=\u001b[39m \u001b[39mself\u001b[39m\u001b[39m.\u001b[39m_merge_client_headers(kwargs\u001b[39m.\u001b[39mget(\u001b[39m\"\u001b[39m\u001b[39mheaders\u001b[39m\u001b[39m\"\u001b[39m))\n\u001b[0;32m    210\u001b[0m patched_index \u001b[39m=\u001b[39m index\u001b[39m.\u001b[39m_to_generated()  \u001b[39m# pylint:disable=protected-access\u001b[39;00m\n\u001b[1;32m--> 211\u001b[0m result \u001b[39m=\u001b[39m \u001b[39mself\u001b[39m\u001b[39m.\u001b[39m_client\u001b[39m.\u001b[39mindexes\u001b[39m.\u001b[39mcreate(patched_index, \u001b[39m*\u001b[39m\u001b[39m*\u001b[39mkwargs)\n\u001b[0;32m    212\u001b[0m \u001b[39mreturn\u001b[39;00m SearchIndex\u001b[39m.\u001b[39m_from_generated(result)\n",
      "File \u001b[1;32mc:\\Users\\raihanalam\\Miniconda3\\envs\\cognitive_search_sdk\\lib\\site-packages\\azure\\core\\tracing\\decorator.py:78\u001b[0m, in \u001b[0;36mdistributed_trace.<locals>.decorator.<locals>.wrapper_use_tracer\u001b[1;34m(*args, **kwargs)\u001b[0m\n\u001b[0;32m     76\u001b[0m span_impl_type \u001b[39m=\u001b[39m settings\u001b[39m.\u001b[39mtracing_implementation()\n\u001b[0;32m     77\u001b[0m \u001b[39mif\u001b[39;00m span_impl_type \u001b[39mis\u001b[39;00m \u001b[39mNone\u001b[39;00m:\n\u001b[1;32m---> 78\u001b[0m     \u001b[39mreturn\u001b[39;00m func(\u001b[39m*\u001b[39margs, \u001b[39m*\u001b[39m\u001b[39m*\u001b[39mkwargs)\n\u001b[0;32m     80\u001b[0m \u001b[39m# Merge span is parameter is set, but only if no explicit parent are passed\u001b[39;00m\n\u001b[0;32m     81\u001b[0m \u001b[39mif\u001b[39;00m merge_span \u001b[39mand\u001b[39;00m \u001b[39mnot\u001b[39;00m passed_in_parent:\n",
      "File \u001b[1;32mc:\\Users\\raihanalam\\Miniconda3\\envs\\cognitive_search_sdk\\lib\\site-packages\\azure\\search\\documents\\indexes\\_generated\\operations\\_indexes_operations.py:403\u001b[0m, in \u001b[0;36mIndexesOperations.create\u001b[1;34m(self, index, request_options, **kwargs)\u001b[0m\n\u001b[0;32m    401\u001b[0m     map_error(status_code\u001b[39m=\u001b[39mresponse\u001b[39m.\u001b[39mstatus_code, response\u001b[39m=\u001b[39mresponse, error_map\u001b[39m=\u001b[39merror_map)\n\u001b[0;32m    402\u001b[0m     error \u001b[39m=\u001b[39m \u001b[39mself\u001b[39m\u001b[39m.\u001b[39m_deserialize\u001b[39m.\u001b[39mfailsafe_deserialize(_models\u001b[39m.\u001b[39mSearchError, pipeline_response)\n\u001b[1;32m--> 403\u001b[0m     \u001b[39mraise\u001b[39;00m HttpResponseError(response\u001b[39m=\u001b[39mresponse, model\u001b[39m=\u001b[39merror)\n\u001b[0;32m    405\u001b[0m deserialized \u001b[39m=\u001b[39m \u001b[39mself\u001b[39m\u001b[39m.\u001b[39m_deserialize(\u001b[39m\"\u001b[39m\u001b[39mSearchIndex\u001b[39m\u001b[39m\"\u001b[39m, pipeline_response)\n\u001b[0;32m    407\u001b[0m \u001b[39mif\u001b[39;00m \u001b[39mcls\u001b[39m:\n",
      "\u001b[1;31mHttpResponseError\u001b[0m: (ResourceNameAlreadyInUse) Cannot create index 'doc-sample' because it already exists.\nCode: ResourceNameAlreadyInUse\nMessage: Cannot create index 'doc-sample' because it already exists.\nException Details:\t(CannotCreateExistingIndex) Cannot create index 'doc-sample' because it already exists.\n\tCode: CannotCreateExistingIndex\n\tMessage: Cannot create index 'doc-sample' because it already exists."
     ]
    }
   ],
   "source": [
    "name = 'doc-sample'\n",
    "vector_search = VectorSearch(\n",
    "    algorithm_configurations=[\n",
    "        HnswVectorSearchAlgorithmConfiguration(\n",
    "            name=\"vector_config\",\n",
    "            kind=\"hnsw\",\n",
    "            parameters={\n",
    "                \"m\": 4,\n",
    "                \"efConstruction\": 400,\n",
    "                \"efSearch\": 1000,\n",
    "                \"metric\": \"cosine\"\n",
    "            }\n",
    "        )\n",
    "    ]\n",
    ")\n",
    "fields = [\n",
    "    SimpleField(name=\"id\", type=SearchFieldDataType.String, key=True),\n",
    "    SearchableField(name=\"chunk_content\", type=SearchFieldDataType.String),\n",
    "    SearchField(name=\"chunk_content_vector\", type=SearchFieldDataType.Collection(SearchFieldDataType.Single), searchable=True, vector_search_dimensions=1536, vector_search_configuration=\"vector_config\")   \n",
    "]\n",
    "\n",
    "index = create_index(index_name, fields, vector_search=vector_search, semantic_title_field_name=\"chunk_content\", semantic_content_field_names=[\"chunk_content\"])"
   ]
  },
  {
   "cell_type": "markdown",
   "metadata": {},
   "source": [
    "### Chunk Document"
   ]
  },
  {
   "cell_type": "code",
   "execution_count": 5,
   "metadata": {},
   "outputs": [
    {
     "name": "stdout",
     "output_type": "stream",
     "text": [
      "                                       chunk_content\n",
      "0  Contoso Electronics \\nEmployee Handbook  \\n \\n...\n",
      "1  edge systems that are both reliable and effici...\n",
      "2  edge systems that are both reliable and effici...\n",
      "3  customers.  \\n \\nCompany Values:  \\n1. Quality...\n",
      "4  we work and live.  \\nPerformance Reviews  \\n \\...\n"
     ]
    }
   ],
   "source": [
    "from PyPDF2 import PdfReader\n",
    "import pandas as pd\n",
    "from langchain.text_splitter import CharacterTextSplitter\n",
    "\n",
    "pdf_reader = PdfReader('../../data/docs/employee_handbook.pdf')\n",
    "pages = [page.extract_text() for page in pdf_reader.pages]\n",
    "text = \" \".join(pages)\n",
    "\n",
    "text_splitter = CharacterTextSplitter(\n",
    "    separator=\"\\n\",\n",
    "    chunk_size=1000,\n",
    "    chunk_overlap=200,\n",
    "    length_function=len\n",
    ")\n",
    "chunks = text_splitter.split_text(text)\n",
    "\n",
    "df = pd.DataFrame(chunks, columns=[\"chunk_content\"])\n",
    "\n",
    "print(df.head())"
   ]
  },
  {
   "cell_type": "markdown",
   "metadata": {},
   "source": [
    "### Create embeddings"
   ]
  },
  {
   "cell_type": "code",
   "execution_count": 6,
   "metadata": {},
   "outputs": [
    {
     "name": "stdout",
     "output_type": "stream",
     "text": [
      "                                       chunk_content  \\\n",
      "0  Contoso Electronics \\nEmployee Handbook  \\n \\n...   \n",
      "1  edge systems that are both reliable and effici...   \n",
      "2  edge systems that are both reliable and effici...   \n",
      "3  customers.  \\n \\nCompany Values:  \\n1. Quality...   \n",
      "4  we work and live.  \\nPerformance Reviews  \\n \\...   \n",
      "\n",
      "                                chunk_content_vector  id  \n",
      "0  [-0.013424188829958439, 0.008336983621120453, ...   0  \n",
      "1  [-0.007864218205213547, 0.003030280815437436, ...   1  \n",
      "2  [-0.010799335315823555, 0.003672731574624777, ...   2  \n",
      "3  [-0.018283184617757797, -0.002287083538249135,...   3  \n",
      "4  [-0.01662578247487545, -6.200416828505695e-05,...   4  \n"
     ]
    }
   ],
   "source": [
    "import openai\n",
    "from openai.embeddings_utils import get_embedding, cosine_similarity\n",
    "import pandas as pd\n",
    "import json\n",
    "\n",
    "openai.api_type = \"azure\"\n",
    "openai.api_key = aoai_key\n",
    "openai.api_base = aoai_endpoint\n",
    "openai.api_version = aoai_api_version\n",
    "\n",
    "df['chunk_content_vector'] = df['chunk_content'].apply(lambda x : get_embedding(x, engine = aoai_embedding_deployed_model)) \n",
    "\n",
    "df['id'] = df.index\n",
    "\n",
    "print(df.head())"
   ]
  },
  {
   "cell_type": "markdown",
   "metadata": {},
   "source": [
    "### Ingest to Azure Cognitive Search\n",
    "\n",
    "This cell works because the dataframe and the ACS Index both have same columns. If the dataframe doesn't have the same columns (column names or numbers) as the ACS Index, add a preprocessing step to it to structure the dataframe according to the ACS columns."
   ]
  },
  {
   "cell_type": "code",
   "execution_count": 9,
   "metadata": {},
   "outputs": [],
   "source": [
    "import requests\n",
    "import json\n",
    "from azure.search.documents import SearchClient  \n",
    "\n",
    "batch_size = 10\n",
    "total_records = df.shape[0]\n",
    "fields = df.columns.to_numpy()\n",
    "df['id'] = df['id'].astype(str)\n",
    "\n",
    "records = []\n",
    "\n",
    "for index, row in df.iterrows():\n",
    "    record = {}\n",
    "    for field in fields:\n",
    "            record[field] = row[field]\n",
    "\n",
    "    records.append(\n",
    "        record\n",
    "    )\n",
    "\n",
    "    if index % batch_size == 0 or (index+1 == total_records):\n",
    "        search_client = SearchClient(acs_endpoint, index_name, AzureKeyCredential(acs_key))\n",
    "        result = search_client.upload_documents(documents=records)\n",
    "        records = []"
   ]
  },
  {
   "cell_type": "markdown",
   "metadata": {},
   "source": [
    "### Perform a vector similarity search"
   ]
  },
  {
   "cell_type": "code",
   "execution_count": 11,
   "metadata": {},
   "outputs": [
    {
     "name": "stdout",
     "output_type": "stream",
     "text": [
      "we work and live.  \n",
      "Performance Reviews  \n",
      " \n",
      "Performance Reviews at Contoso Electronics  \n",
      " \n",
      "At Contoso Electronics, we strive to ensure our employees are getting the feedback they \n",
      "need to continue growing and developing in their roles. We understand that performance \n",
      "reviews are a key part of this process and it is important to us that they are conducted in an \n",
      "effective and efficient manner.  \n",
      " \n",
      "Performance reviews are conducted annually a nd are an important part of your career \n",
      "development. During the review, your supervisor will discuss your performance over the \n",
      "past year and provide feedback on areas for improvement. They will also provide you with \n",
      "an opportunity to discuss your goals and  objectives for the upcoming year.  \n",
      " \n",
      "Performance reviews are a two -way dialogue between managers and employees. We \n",
      "encourage all employees to be honest and open during the review process, as it is an \n",
      "important opportunity to discuss successes and challenges  in the workplace.\n",
      "\n",
      "\n",
      "encourage all employees to be honest and open during the review process, as it is an \n",
      "important opportunity to discuss successes and challenges  in the workplace.  \n",
      " \n",
      "We aim to provide positive and constructive feedback during performance reviews. This \n",
      "feedback should be used as an opportunity to help employees develop and grow in their \n",
      "roles.  \n",
      " \n",
      "Employees will receive a written summary of their perfor mance review which will be \n",
      "discussed during the review session. This written summary will include a rating of the \n",
      "employee’s performance, feedback, and goals and objectives for the upcoming year.  \n",
      " \n",
      "We understand that performance reviews can be a stressful p rocess. We are committed to \n",
      "making sure that all employees feel supported and empowered during the process. We \n",
      "encourage all employees to reach out to their managers with any questions or concerns \n",
      "they may have.  \n",
      " \n",
      "We look forward to conducting performance r eviews with all our employees. They are an\n",
      "\n",
      "\n",
      "encourage all employees to reach out to their managers with any questions or concerns \n",
      "they may have.  \n",
      " \n",
      "We look forward to conducting performance r eviews with all our employees. They are an \n",
      "important part of our commitment to helping our employees grow and develop in their \n",
      "roles.   Workplace Safety  \n",
      " \n",
      "Welcome to Contoso Electronics! Our goal is to provide a safe and healthy work \n",
      "environment for our emplo yees and to maintain a safe workplace that is free from \n",
      "recognized hazards. We believe that workplace safety is everyone's responsibility and we \n",
      "are committed to providing a safe working environment for all of our employees.  \n",
      " \n",
      "Contoso Electronics' Workplac e Safety Program  \n",
      " \n",
      "At Contoso Electronics, we have established a comprehensive workplace safety program \n",
      "that is designed to protect our employees from workplace hazards. Our program includes:  \n",
      " \n",
      "• Hazard Identification and Risk Assessment – We strive to ident ify and assess potential\n",
      "\n",
      "\n"
     ]
    }
   ],
   "source": [
    "import matplotlib.pyplot as plt\n",
    "from PIL import Image\n",
    "from azure.search.documents.models import Vector  \n",
    "\n",
    "query = 'when are performance review announced?'\n",
    "query_vector = get_embedding(query, engine = aoai_embedding_deployed_model)\n",
    "\n",
    "search_client = SearchClient(acs_endpoint, index_name, AzureKeyCredential(acs_key))\n",
    "vector = Vector(value=query_vector, k=3, fields=\"chunk_content_vector\")  \n",
    "\n",
    "results = search_client.search(  \n",
    "    search_text=None,  \n",
    "    vectors=[vector],\n",
    "    select=[\"chunk_content\"]  \n",
    ")   \n",
    "\n",
    "for result in results:\n",
    "    print(result['chunk_content'])\n",
    "    print(\"\\n\")"
   ]
  }
 ],
 "metadata": {
  "kernelspec": {
   "display_name": "Python 3",
   "language": "python",
   "name": "python3"
  },
  "language_info": {
   "codemirror_mode": {
    "name": "ipython",
    "version": 3
   },
   "file_extension": ".py",
   "mimetype": "text/x-python",
   "name": "python",
   "nbconvert_exporter": "python",
   "pygments_lexer": "ipython3",
   "version": "3.10.12"
  },
  "orig_nbformat": 4
 },
 "nbformat": 4,
 "nbformat_minor": 2
}
