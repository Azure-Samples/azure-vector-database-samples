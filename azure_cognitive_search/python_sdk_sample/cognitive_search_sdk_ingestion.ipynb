{
 "cells": [
  {
   "attachments": {},
   "cell_type": "markdown",
   "metadata": {},
   "source": [
    "## Vector Search on Text: Azure Cognitive Search via Python SDK\n",
    "\n",
    "### Prerequisites\n",
    "  \n",
    "- Generate embeddings - [generate_embeddings.ipynb](../../common/generate_embeddings.ipynb) "
   ]
  },
  {
   "attachments": {},
   "cell_type": "markdown",
   "metadata": {},
   "source": [
    "### Set environment variables"
   ]
  },
  {
   "cell_type": "code",
   "execution_count": null,
   "metadata": {},
   "outputs": [],
   "source": [
    "import os\n",
    "from dotenv import load_dotenv\n",
    "\n",
    "load_dotenv()\n",
    "\n",
    "acs_key  = os.getenv(\"COGNITIVE_SEARCH_KEY\")\n",
    "if acs_key is None or acs_key == \"\":\n",
    "    print(\"COGNITIVE_SEARCH_KEY environment variable not set.\")\n",
    "    exit()\n",
    "\n",
    "aoai_key  = os.getenv(\"AZURE_OPENAI_KEY\")\n",
    "if aoai_key is None or aoai_key == \"\":\n",
    "    print(\"AZURE_OPENAI_KEY environment variable not set.\")\n",
    "    exit()\n",
    "    \n",
    "index_name_text = 'text-sample'\n",
    "index_name_doc = 'doc-sample'\n",
    "index_name_image = 'image-sample'\n",
    "acs_endpoint = 'https://cogsearch02.search.windows.net'\n",
    "acs_index_definition = 'index_definition/index_definition_text.json'\n",
    "acs_api_version = '2023-07-01-Preview'\n",
    "aoai_endpoint = 'https://azure-openai-dnai.openai.azure.com'\n",
    "aoai_api_version = '2023-08-01-preview'\n",
    "aoai_embedding_deployed_model = 'embedding-ada'"
   ]
  },
  {
   "cell_type": "markdown",
   "metadata": {},
   "source": [
    "### Helper methods"
   ]
  },
  {
   "cell_type": "code",
   "execution_count": null,
   "metadata": {},
   "outputs": [],
   "source": [
    "def get_index_client() -> SearchIndexClient:\n",
    "    return SearchIndexClient(acs_endpoint, AzureKeyCredential(acs_key))\n",
    "\n",
    "def create_index(index_name, fields, vector_search, semantic_title_field_name, semantic_content_field_names):\n",
    "    semantic_settings = SemanticSettings(\n",
    "        configurations=[SemanticConfiguration(\n",
    "            name='default',\n",
    "            prioritized_fields=PrioritizedFields(\n",
    "                title_field=SemanticField(field_name=semantic_title_field_name), prioritized_content_fields=[SemanticField(field_name=field_name) for field_name in semantic_content_field_names]))])\n",
    "    index = SearchIndex(\n",
    "        name=index_name,\n",
    "        fields=fields,\n",
    "        vector_search=vector_search,\n",
    "        semantic_settings=semantic_settings)\n",
    "    index_client = get_index_client()\n",
    "    return index_client.create_index(index)"
   ]
  },
  {
   "cell_type": "markdown",
   "metadata": {},
   "source": [
    "### Create text-sample ACS index"
   ]
  },
  {
   "cell_type": "code",
   "execution_count": null,
   "metadata": {},
   "outputs": [],
   "source": [
    "from azure.search.documents.indexes.models import (\n",
    "    SimpleField,\n",
    "    SearchField,\n",
    "    SearchableField,\n",
    "    SearchFieldDataType,\n",
    "    VectorSearch,  \n",
    "    HnswVectorSearchAlgorithmConfiguration,  \n",
    ")\n",
    "\n",
    "vector_search = VectorSearch(\n",
    "    algorithm_configurations=[\n",
    "        HnswVectorSearchAlgorithmConfiguration(\n",
    "            name=\"vector_config\",\n",
    "            kind=\"hnsw\",\n",
    "            parameters={\n",
    "                \"m\": 4,\n",
    "                \"efConstruction\": 400,\n",
    "                \"efSearch\": 1000,\n",
    "                \"metric\": \"cosine\"\n",
    "            }\n",
    "        )\n",
    "    ]\n",
    ")\n",
    "fields = [\n",
    "    SimpleField(name=\"id\", type=SearchFieldDataType.String, key=True),\n",
    "    SearchableField(name=\"title\", type=SearchFieldDataType.String),\n",
    "    SearchableField(name=\"content\", type=SearchFieldDataType.String),\n",
    "    SearchableField(name=\"category\", type=SearchFieldDataType.String),\n",
    "    SearchField(name=\"title_vector\", type=SearchFieldDataType.Collection(SearchFieldDataType.Single), searchable=True, vector_search_dimensions=1536, vector_search_configuration=\"vector_config\"),    \n",
    "    SearchField(name=\"content_vector\", type=SearchFieldDataType.Collection(SearchFieldDataType.Single), searchable=True, vector_search_dimensions=1536, vector_search_configuration=\"vector_config\")    \n",
    "]\n",
    "\n",
    "index = create_index(index_name_text, fields, vector_search=vector_search, semantic_title_field_name=\"title\", semantic_content_field_names=[\"content\"])"
   ]
  },
  {
   "cell_type": "markdown",
   "metadata": {},
   "source": [
    "### Create doc-sample ACS index"
   ]
  },
  {
   "cell_type": "code",
   "execution_count": null,
   "metadata": {},
   "outputs": [],
   "source": [
    "vector_search = VectorSearch(\n",
    "    algorithm_configurations=[\n",
    "        HnswVectorSearchAlgorithmConfiguration(\n",
    "            name=\"vector_config\",\n",
    "            kind=\"hnsw\",\n",
    "            parameters={\n",
    "                \"m\": 4,\n",
    "                \"efConstruction\": 400,\n",
    "                \"efSearch\": 1000,\n",
    "                \"metric\": \"cosine\"\n",
    "            }\n",
    "        )\n",
    "    ]\n",
    ")\n",
    "fields = [\n",
    "    SimpleField(name=\"id\", type=SearchFieldDataType.String, key=True),\n",
    "    SearchableField(name=\"chunk_content\", type=SearchFieldDataType.String),\n",
    "    SearchField(name=\"chunk_content_vector\", type=SearchFieldDataType.Collection(SearchFieldDataType.Single), searchable=True, vector_search_dimensions=1536, vector_search_configuration=\"vector_config\")   \n",
    "]\n",
    "\n",
    "index = create_index(index_name_doc, fields, vector_search=vector_search, semantic_title_field_name=\"chunk_content\", semantic_content_field_names=[\"chunk_content\"])"
   ]
  },
  {
   "cell_type": "markdown",
   "metadata": {},
   "source": [
    "### Create image-sample ACS index"
   ]
  },
  {
   "cell_type": "code",
   "execution_count": null,
   "metadata": {},
   "outputs": [],
   "source": [
    "vector_search = VectorSearch(\n",
    "    algorithm_configurations=[\n",
    "        HnswVectorSearchAlgorithmConfiguration(\n",
    "            name=\"vector_config\",\n",
    "            kind=\"hnsw\",\n",
    "            parameters={\n",
    "                \"m\": 4,\n",
    "                \"efConstruction\": 400,\n",
    "                \"efSearch\": 1000,\n",
    "                \"metric\": \"cosine\"\n",
    "            }\n",
    "        )\n",
    "    ]\n",
    ")\n",
    "fields = [\n",
    "    SimpleField(name=\"id\", type=SearchFieldDataType.String, key=True),\n",
    "    SearchableField(name=\"image\", type=SearchFieldDataType.String),\n",
    "    SearchField(name=\"image_vector\", type=SearchFieldDataType.Collection(SearchFieldDataType.Single), searchable=True, vector_search_dimensions=1024, vector_search_configuration=\"vector_config\")   \n",
    "]\n",
    "\n",
    "index = create_index(index_name_image, fields, vector_search=vector_search, semantic_title_field_name=\"image\", semantic_content_field_names=[\"image\"])"
   ]
  },
  {
   "cell_type": "markdown",
   "metadata": {},
   "source": [
    "### Ingest to text-sample\n",
    "\n",
    "This cell works because the dataframe and the ACS Index both have same columns. If the dataframe doesn't have the same columns (column names or numbers) as the ACS Index, add a preprocessing step to it to structure the dataframe according to the ACS columns."
   ]
  },
  {
   "cell_type": "code",
   "execution_count": null,
   "metadata": {},
   "outputs": [],
   "source": [
    "import requests\n",
    "import json\n",
    "import pandas as pd\n",
    "from azure.search.documents import SearchClient  \n",
    "\n",
    "text_df = pd.read_json('../../data/text/product_docs_embeddings.json') \n",
    "\n",
    "batch_size = 10\n",
    "total_records = text_df.shape[0]\n",
    "fields = text_df.columns.to_numpy()\n",
    "text_df['id'] = text_df['id'].astype(str)\n",
    "\n",
    "records = []\n",
    "\n",
    "for index, row in text_df.iterrows():\n",
    "    record = {}\n",
    "    for field in fields:\n",
    "            record[field] = row[field]\n",
    "\n",
    "    records.append(\n",
    "        record\n",
    "    )\n",
    "\n",
    "    if index % batch_size == 0 or (index+1 == total_records):\n",
    "        search_client = SearchClient(acs_endpoint, index_name_text, AzureKeyCredential(acs_key))\n",
    "        result = search_client.upload_documents(documents=records)\n",
    "        records = []"
   ]
  },
  {
   "cell_type": "markdown",
   "metadata": {},
   "source": [
    "### Ingest to doc-sample\n",
    "\n",
    "This cell works because the dataframe and the ACS Index both have same columns. If the dataframe doesn't have the same columns (column names or numbers) as the ACS Index, add a preprocessing step to it to structure the dataframe according to the ACS columns."
   ]
  },
  {
   "cell_type": "code",
   "execution_count": null,
   "metadata": {},
   "outputs": [],
   "source": [
    "import requests\n",
    "import json\n",
    "from azure.search.documents import SearchClient  \n",
    "\n",
    "doc_df = pd.read_json('../../data/docs/employee_handbook_chunk_embeddings.json')\n",
    "\n",
    "batch_size = 10\n",
    "total_records = doc_df.shape[0]\n",
    "fields = doc_df.columns.to_numpy()\n",
    "doc_df['id'] = doc_df['id'].astype(str)\n",
    "\n",
    "records = []\n",
    "\n",
    "for index, row in doc_df.iterrows():\n",
    "    record = {}\n",
    "    for field in fields:\n",
    "            record[field] = row[field]\n",
    "\n",
    "    records.append(\n",
    "        record\n",
    "    )\n",
    "\n",
    "    if index % batch_size == 0 or (index+1 == total_records):\n",
    "        search_client = SearchClient(acs_endpoint, index_name_doc, AzureKeyCredential(acs_key))\n",
    "        result = search_client.upload_documents(documents=records)\n",
    "        records = []"
   ]
  },
  {
   "cell_type": "markdown",
   "metadata": {},
   "source": [
    "### Ingest to image-sample\n",
    "\n",
    "This cell works because the dataframe and the ACS Index both have same columns. If the dataframe doesn't have the same columns (column names or numbers) as the ACS Index, add a preprocessing step to it to structure the dataframe according to the ACS columns."
   ]
  },
  {
   "cell_type": "code",
   "execution_count": null,
   "metadata": {},
   "outputs": [],
   "source": [
    "import os\n",
    "from azure.core.credentials import AzureKeyCredential\n",
    "from azure.search.documents import SearchClient\n",
    "\n",
    "image_df = pd.read_json('../../data/images/images_embeddings.json')\n",
    "\n",
    "batch_size = 10\n",
    "total_records = image_df.shape[0]\n",
    "fields = image_df.columns.to_numpy()\n",
    "image_df['id'] = image_df['id'].astype(str)\n",
    "\n",
    "records = []\n",
    "\n",
    "for index, row in image_df.iterrows():\n",
    "    record = {}\n",
    "    for field in fields:\n",
    "            record[field] = row[field]\n",
    "\n",
    "    records.append(\n",
    "        record\n",
    "    )\n",
    "\n",
    "    if index % batch_size == 0 or (index+1 == total_records):\n",
    "        search_client = SearchClient(acs_endpoint, index_name_image, AzureKeyCredential(acs_key))\n",
    "        result = search_client.upload_documents(documents=records)\n",
    "        records = []"
   ]
  }
 ],
 "metadata": {
  "kernelspec": {
   "display_name": "Python 3",
   "language": "python",
   "name": "python3"
  },
  "language_info": {
   "codemirror_mode": {
    "name": "ipython",
    "version": 3
   },
   "file_extension": ".py",
   "mimetype": "text/x-python",
   "name": "python",
   "nbconvert_exporter": "python",
   "pygments_lexer": "ipython3",
   "version": "3.10.12"
  },
  "orig_nbformat": 4
 },
 "nbformat": 4,
 "nbformat_minor": 2
}
