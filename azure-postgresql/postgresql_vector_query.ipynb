{
 "cells": [
  {
   "cell_type": "markdown",
   "metadata": {},
   "source": [
    "## Vector Search on PostgreSQL"
   ]
  },
  {
   "cell_type": "markdown",
   "metadata": {},
   "source": [
    "\n",
    "### Prerequisites\n",
    "  \n",
    "- Generate embeddings - [generate_embeddings.ipynb](../common/generate_embeddings.ipynb) \n",
    "- Create table and ingest embeddings - [postgree_ingestion.ipynb](.../postgree_ingestion.ipynb)"
   ]
  },
  {
   "cell_type": "markdown",
   "metadata": {},
   "source": [
    "### Set environment variables"
   ]
  },
  {
   "cell_type": "code",
   "execution_count": null,
   "metadata": {},
   "outputs": [],
   "source": [
    "import os\n",
    "from dotenv import load_dotenv\n",
    "\n",
    "load_dotenv()\n",
    "\n",
    "pg_host  = os.getenv(\"POSTGRESQL_HOST\")\n",
    "if pg_host is None or pg_host == \"\":\n",
    "    print(\"POSTGRESQL_HOST environment variable not set.\")\n",
    "    exit()\n",
    "\n",
    "pg_user  = os.getenv(\"POSTGRESQL_USERNAME\")\n",
    "if pg_user is None or pg_user == \"\":\n",
    "    print(\"POSTGRESQL_USERNAME environment variable not set.\")\n",
    "    exit()\n",
    "\n",
    "pg_password  = os.getenv(\"POSTGRESQL_PASSWORD\")\n",
    "if pg_password is None or pg_password == \"\":\n",
    "    print(\"POSTGRESQL_PASSWORD environment variable not set.\")\n",
    "    exit()\n",
    "\n",
    "db_name  = os.getenv(\"POSTGRESQL_DATABASE\")\n",
    "if db_name is None or db_name == \"\":\n",
    "    print(\"POSTGRESQL_DATABASE environment variable not set.\")\n",
    "    exit()\n",
    "\n",
    "aoai_key  = os.getenv(\"AZURE_OPENAI_KEY\")\n",
    "if aoai_key is None or aoai_key == \"\":\n",
    "    print(\"AZURE_OPENAI_KEY environment variable not set.\")\n",
    "    exit()\n",
    "\n",
    "aoai_endpoint = 'https://azure-openai-dnai.openai.azure.com'\n",
    "aoai_api_version = '2023-08-01-preview'\n",
    "aoai_embedding_deployed_model = 'embedding-ada'\n",
    "\n",
    "text_table_name = 'text_sample'\n",
    "doc_table_name = 'doc_sample'\n",
    "image_table_name = 'image_sample'\n",
    "\n",
    "postgresql_params = {\n",
    "    \"host\": pg_host,\n",
    "    \"port\": \"5432\", \n",
    "    \"dbname\": db_name,\n",
    "    \"user\": pg_user,\n",
    "    \"password\": pg_password\n",
    "}\n",
    "\n",
    "\n"
   ]
  },
  {
   "cell_type": "markdown",
   "metadata": {},
   "source": [
    "#### Simple vector search"
   ]
  },
  {
   "cell_type": "code",
   "execution_count": null,
   "metadata": {},
   "outputs": [],
   "source": [
    "import psycopg2 \n",
    "import openai\n",
    "from openai.embeddings_utils import get_embedding, cosine_similarity\n",
    "\n",
    "query = 'web hosting services'\n",
    "\n",
    "openai.api_type = \"azure\"\n",
    "openai.api_key = aoai_key\n",
    "openai.api_base = aoai_endpoint\n",
    "openai.api_version = aoai_api_version\n",
    "\n",
    "query_vector = get_embedding(query, engine = aoai_embedding_deployed_model)\n",
    "\n",
    "connection = psycopg2.connect(**postgresql_params)\n",
    "print(\"Connection established.\")\n",
    "\n",
    "query_sql = f\"SELECT title FROM text_sample ORDER BY ((content_vector <=> '{query_vector}')) LIMIT 5;\"\n",
    "\n",
    "cursor = connection.cursor()\n",
    "cursor.execute(query_sql)\n",
    "\n",
    "records = cursor.fetchall()\n",
    "\n",
    "for row in records:\n",
    "        print(row[0], )\n",
    "\n",
    "cursor.close()\n",
    "connection.close()"
   ]
  },
  {
   "cell_type": "markdown",
   "metadata": {},
   "source": [
    "### Cross column vector similarity search"
   ]
  },
  {
   "cell_type": "code",
   "execution_count": null,
   "metadata": {},
   "outputs": [],
   "source": [
    "## TODO"
   ]
  },
  {
   "cell_type": "markdown",
   "metadata": {},
   "source": [
    "### Hybrid search"
   ]
  },
  {
   "cell_type": "code",
   "execution_count": null,
   "metadata": {},
   "outputs": [],
   "source": [
    "## TODO"
   ]
  },
  {
   "cell_type": "markdown",
   "metadata": {},
   "source": [
    "#### Document search example"
   ]
  },
  {
   "cell_type": "code",
   "execution_count": null,
   "metadata": {},
   "outputs": [],
   "source": [
    "import matplotlib.pyplot as plt\n",
    "from PIL import Image\n",
    "from azure.search.documents.models import Vector \n",
    "import pandas as pd \n",
    "from openai.embeddings_utils import get_embedding, cosine_similarity\n",
    "import psycopg2 \n",
    "import openai\n",
    "\n",
    "#autheticating\n",
    "openai.api_type = \"azure\"\n",
    "openai.api_key = aoai_key\n",
    "openai.api_base = aoai_endpoint\n",
    "openai.api_version = aoai_api_version\n",
    "\n",
    "\n",
    "\n",
    "query = 'tools for software development'\n",
    "\n",
    "query_sql = f'''\n",
    "    SELECT t1.chunk_content_vector as chunk_content_vector,\n",
    "           t1.chunk_content as chunk_content\n",
    "    FROM {doc_table_name} t1\n",
    "    LIMIT 100;\n",
    "'''\n",
    "print(\"Query table\")\n",
    "\n",
    "\n",
    "# Function to convert string to PostgreSQL double precision[]\n",
    "def to_double_precision_array(value):\n",
    "    if isinstance(value, str):\n",
    "        # Remove brackets and split by comma, then convert to float\n",
    "        values = [float(x.strip()) for x in value.strip('[]').split(',')]\n",
    "        return values\n",
    "    return []\n",
    "\n",
    "\n",
    "# Fetch and process the results\n",
    "connection = psycopg2.connect(**postgresql_params)\n",
    "cursor = connection.cursor()\n",
    "cursor.execute(query_sql)\n",
    "\n",
    "records = cursor.fetchall()\n",
    "\n",
    "##creating a dataframe from the results for the query\n",
    "column_names = [desc[0] for desc in cursor.description]\n",
    "df_query_results = pd.DataFrame(records, columns=column_names)\n",
    "\n",
    "##create embedding\n",
    "query_vector = get_embedding(query,   engine=aoai_embedding_deployed_model )\n",
    "\n",
    "##converting datatype\n",
    "df_query_results['chunk_content_vector_array'] = df_query_results['chunk_content_vector'].apply(to_double_precision_array)\n",
    "\n",
    "\n",
    "##listing datatype to cross check\n",
    "#df_query_results['chunk_content_vector_array'].apply(lambda x: print(type(x), x))\n",
    "#df_query_results['chunk_content_vector'].apply(lambda x: print(type(x), x))\n",
    "\n",
    "\n",
    "##checking similarities to do the vector cross search\n",
    "df_query_results[\"similarities\"] = df_query_results['chunk_content_vector_array'].apply(lambda x: cosine_similarity(x, query_vector))\n",
    "\n",
    "\n",
    "# Sort the DataFrame by similarities in descending order\n",
    "df_query_results = df_query_results.sort_values(by=\"similarities\", ascending=False)\n",
    "\n",
    "# Display the results and similarities\n",
    "for index, row in df_query_results.iterrows():\n",
    "    print(\"Content:\", row[\"chunk_content\"])\n",
    "    print(\"Content Vector:\", row[\"chunk_content_vector_array\"])\n",
    "    print(\"Similarity:\", row[\"similarities\"])\n",
    "    print(\"\\n\")\n",
    "\n",
    "\n",
    "\n",
    "\n"
   ]
  },
  {
   "cell_type": "markdown",
   "metadata": {},
   "source": [
    "#### Image search example"
   ]
  },
  {
   "cell_type": "code",
   "execution_count": null,
   "metadata": {},
   "outputs": [],
   "source": [
    "import psycopg2\n",
    "import openai\n",
    "from azure.search.documents.models import Vector  \n",
    "from PIL import Image\n",
    "import matplotlib.pyplot as plt\n",
    "\n",
    "###<working on it>\n",
    "# Query text\n",
    "query = 'flower with hand'\n",
    "\n",
    "# Vectorize the query text using OpenAI's function or your preferred method\n",
    "#query_vector = vectorize_text_com_vision(com_vision_endpoint, com_vision_key, query)\n",
    "\n",
    "\n",
    "\n",
    "# Search for similar image vectors in PostgreSQL\n",
    "cursor.execute(\"\"\"\n",
    "    SELECT image_name\n",
    "    FROM image_vectors\n",
    "    WHERE cosine_similarity(image_vector, %s) > 0.7\n",
    "\"\"\", (query_vector,))\n",
    "\n",
    "# Fetch and process the results\n",
    "connection = psycopg2.connect(**postgresql_params)\n",
    "cursor = connection.cursor()\n",
    "cursor.execute(query_sql)\n",
    "\n",
    "results = cursor.fetchall()\n",
    "\n",
    "# Print or process the results\n",
    "for result in results:\n",
    "    print(result[0])  \n"
   ]
  }
 ],
 "metadata": {
  "kernelspec": {
   "display_name": "postgresql",
   "language": "python",
   "name": "python3"
  },
  "language_info": {
   "codemirror_mode": {
    "name": "ipython",
    "version": 3
   },
   "file_extension": ".py",
   "mimetype": "text/x-python",
   "name": "python",
   "nbconvert_exporter": "python",
   "pygments_lexer": "ipython3",
   "version": "3.11.6"
  },
  "orig_nbformat": 4
 },
 "nbformat": 4,
 "nbformat_minor": 2
}
