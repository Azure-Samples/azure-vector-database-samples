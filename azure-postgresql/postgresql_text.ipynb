{
 "cells": [
  {
   "cell_type": "code",
   "execution_count": 11,
   "metadata": {},
   "outputs": [
    {
     "ename": "ModuleNotFoundError",
     "evalue": "No module named 'openai'",
     "output_type": "error",
     "traceback": [
      "\u001b[1;31m---------------------------------------------------------------------------\u001b[0m",
      "\u001b[1;31mModuleNotFoundError\u001b[0m                       Traceback (most recent call last)",
      "\u001b[1;32mc:\\Git\\Azure Vector Search Repo\\azure-vector-search-samples\\azure-postgresql\\postgresql_text.ipynb Cell 1\u001b[0m line \u001b[0;36m3\n\u001b[0;32m      <a href='vscode-notebook-cell:/c%3A/Git/Azure%20Vector%20Search%20Repo/azure-vector-search-samples/azure-postgresql/postgresql_text.ipynb#W0sZmlsZQ%3D%3D?line=0'>1</a>\u001b[0m \u001b[39mimport\u001b[39;00m \u001b[39mos\u001b[39;00m  \n\u001b[0;32m      <a href='vscode-notebook-cell:/c%3A/Git/Azure%20Vector%20Search%20Repo/azure-vector-search-samples/azure-postgresql/postgresql_text.ipynb#W0sZmlsZQ%3D%3D?line=1'>2</a>\u001b[0m \u001b[39mimport\u001b[39;00m \u001b[39mjson\u001b[39;00m  \n\u001b[1;32m----> <a href='vscode-notebook-cell:/c%3A/Git/Azure%20Vector%20Search%20Repo/azure-vector-search-samples/azure-postgresql/postgresql_text.ipynb#W0sZmlsZQ%3D%3D?line=2'>3</a>\u001b[0m \u001b[39mimport\u001b[39;00m \u001b[39mopenai\u001b[39;00m  \n\u001b[0;32m      <a href='vscode-notebook-cell:/c%3A/Git/Azure%20Vector%20Search%20Repo/azure-vector-search-samples/azure-postgresql/postgresql_text.ipynb#W0sZmlsZQ%3D%3D?line=3'>4</a>\u001b[0m \u001b[39mfrom\u001b[39;00m \u001b[39mdotenv\u001b[39;00m \u001b[39mimport\u001b[39;00m load_dotenv  \n\u001b[0;32m      <a href='vscode-notebook-cell:/c%3A/Git/Azure%20Vector%20Search%20Repo/azure-vector-search-samples/azure-postgresql/postgresql_text.ipynb#W0sZmlsZQ%3D%3D?line=4'>5</a>\u001b[0m \u001b[39mfrom\u001b[39;00m \u001b[39mazure\u001b[39;00m\u001b[39m.\u001b[39;00m\u001b[39mcore\u001b[39;00m\u001b[39m.\u001b[39;00m\u001b[39mcredentials\u001b[39;00m \u001b[39mimport\u001b[39;00m AzureKeyCredential  \n",
      "\u001b[1;31mModuleNotFoundError\u001b[0m: No module named 'openai'"
     ]
    }
   ],
   "source": [
    "import os  \n",
    "import json  \n",
    "import openai  \n",
    "from dotenv import load_dotenv  \n",
    "from azure.core.credentials import AzureKeyCredential  \n",
    "\n",
    "load_dotenv()  \n",
    "service_endpoint = os.getenv(\"AZURE_SEARCH_SERVICE_ENDPOINT\") \n",
    "index_name = os.getenv(\"AZURE_SEARCH_INDEX_NAME\") \n",
    "key = os.getenv(\"AZURE_SEARCH_ADMIN_KEY\") \n",
    "openai.api_type = \"azure\"  \n",
    "openai.api_key = os.getenv(\"AZURE_OPENAI_API_KEY\")  \n",
    "openai.api_base = os.getenv(\"AZURE_OPENAI_ENDPOINT\")            \n",
    "openai.api_version = os.getenv(\"AZURE_OPENAI_API_VERSION\")  \n",
    "credential = AzureKeyCredential(key)"
   ]
  },
  {
   "cell_type": "code",
   "execution_count": null,
   "metadata": {},
   "outputs": [],
   "source": [
    "# Generate Document Embeddings using OpenAI Ada 002\n",
    "\n",
    "# Read the text-sample.json\n",
    "with open('../data/text-sample.json', 'r', encoding='utf-8') as file:\n",
    "    input_data = json.load(file)\n",
    "\n",
    "# Function to generate embeddings for title and content fields, also used for query embeddings\n",
    "def generate_embeddings(text):\n",
    "    response = openai.Embedding.create(\n",
    "        input=text, engine=\"text-embedding-ada-002\")\n",
    "    embeddings = response['data'][0]['embedding']\n",
    "    return embeddings\n",
    "\n",
    "# Generate embeddings for title and content fields\n",
    "for item in input_data:\n",
    "    title = item['title']\n",
    "    content = item['content']\n",
    "    title_embeddings = generate_embeddings(title)\n",
    "    content_embeddings = generate_embeddings(content)\n",
    "    item['titleVector'] = title_embeddings\n",
    "    item['contentVector'] = content_embeddings\n",
    "\n",
    "# Output embeddings to docVectors.json file\n",
    "with open(\"docVectors.json\", \"w\") as f:\n",
    "    json.dump(input_data, f)"
   ]
  },
  {
   "cell_type": "markdown",
   "metadata": {},
   "source": [
    "Requisites - psycopg2"
   ]
  },
  {
   "cell_type": "markdown",
   "metadata": {},
   "source": [
    "Pip install psycopg2 ebefore procced"
   ]
  },
  {
   "cell_type": "code",
   "execution_count": null,
   "metadata": {},
   "outputs": [
    {
     "name": "stdout",
     "output_type": "stream",
     "text": [
      "Collecting psycopg2\n",
      "  Obtaining dependency information for psycopg2 from https://files.pythonhosted.org/packages/7b/69/3afcafc622a52bbe90da947411a063a6f33ecc7243bad7b31fe358db92ff/psycopg2-2.9.7-cp311-cp311-win_amd64.whl.metadata\n",
      "  Downloading psycopg2-2.9.7-cp311-cp311-win_amd64.whl.metadata (4.5 kB)\n",
      "Downloading psycopg2-2.9.7-cp311-cp311-win_amd64.whl (1.2 MB)\n",
      "   ---------------------------------------- 0.0/1.2 MB ? eta -:--:--\n",
      "   ---------------------------------------- 0.0/1.2 MB ? eta -:--:--\n",
      "   - -------------------------------------- 0.0/1.2 MB 487.6 kB/s eta 0:00:03\n",
      "   --------------- ------------------------ 0.5/1.2 MB 3.6 MB/s eta 0:00:01\n",
      "   ---------------------------------------  1.2/1.2 MB 7.3 MB/s eta 0:00:01\n",
      "   ---------------------------------------- 1.2/1.2 MB 6.7 MB/s eta 0:00:00\n",
      "Installing collected packages: psycopg2\n",
      "Successfully installed psycopg2-2.9.7\n"
     ]
    }
   ],
   "source": [
    "!pip install psycopg2"
   ]
  },
  {
   "cell_type": "code",
   "execution_count": 16,
   "metadata": {},
   "outputs": [
    {
     "name": "stdout",
     "output_type": "stream",
     "text": [
      "Connection established\n",
      "Finished dropping table (if existed)\n",
      "Finished creating table\n",
      "Inserted 3 rows of data\n"
     ]
    }
   ],
   "source": [
    "import psycopg2\n",
    "\n",
    "# Update connection string information\n",
    "\n",
    "host = \"server.postgres.database.azure.com\"\n",
    "dbname = \"dataabse\"\n",
    "user = \"user name\"\n",
    "password = \" password\"\n",
    "sslmode = \"require\"\n",
    "\n",
    "# Construct connection string\n",
    "\n",
    "conn_string = \"host={0} user={1} dbname={2} password={3} sslmode={4}\".format(host, user, dbname, password, sslmode)\n",
    "conn = psycopg2.connect(conn_string)\n",
    "print(\"Connection established\")\n",
    "\n",
    "\n",
    "cursor = conn.cursor()\n",
    "\n",
    "#install pgvector -> need to add the extension at the database before create.\n",
    "#cursor.execute(\"CREATE EXTENSION IF NOT EXISTS vector\"); ##postgis\n",
    "#conn.commit()\n",
    "\n",
    "# Drop previous table of same name if one exists\n",
    "\n",
    "cursor.execute(\"DROP TABLE IF EXISTS inventory;\")\n",
    "print(\"Finished dropping table (if existed)\")\n",
    "\n",
    "# Create a table\n",
    "\n",
    "cursor.execute(\"CREATE TABLE inventory (id serial PRIMARY KEY, name VARCHAR(50), quantity INTEGER);\")\n",
    "print(\"Finished creating table\")\n",
    "\n",
    "# Insert some data into the table\n",
    "\n",
    "cursor.execute(\"INSERT INTO inventory (name, quantity) VALUES (%s, %s);\", (\"banana\", 150))\n",
    "cursor.execute(\"INSERT INTO inventory (name, quantity) VALUES (%s, %s);\", (\"orange\", 154))\n",
    "cursor.execute(\"INSERT INTO inventory (name, quantity) VALUES (%s, %s);\", (\"apple\", 100))\n",
    "print(\"Inserted 3 rows of data\")\n",
    "\n",
    "# Clean up\n",
    "\n",
    "conn.commit()\n",
    "cursor.close()\n",
    "conn.close()"
   ]
  }
 ],
 "metadata": {
  "kernelspec": {
   "display_name": "vectordb2",
   "language": "python",
   "name": "python3"
  },
  "language_info": {
   "codemirror_mode": {
    "name": "ipython",
    "version": 3
   },
   "file_extension": ".py",
   "mimetype": "text/x-python",
   "name": "python",
   "nbconvert_exporter": "python",
   "pygments_lexer": "ipython3",
   "version": "3.11.5"
  },
  "orig_nbformat": 4
 },
 "nbformat": 4,
 "nbformat_minor": 2
}
