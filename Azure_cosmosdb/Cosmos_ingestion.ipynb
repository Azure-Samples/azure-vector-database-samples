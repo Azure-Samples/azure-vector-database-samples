{
 "cells": [
  {
   "cell_type": "markdown",
   "metadata": {},
   "source": [
    "#  STILL I AM WORKING ON IT.\n",
    "#not testesd yet, just started to translate\n",
    "### Ingestion to COSMOSDB \n"
   ]
  },
  {
   "cell_type": "markdown",
   "metadata": {},
   "source": [
    "#### Set environment variables"
   ]
  },
  {
   "cell_type": "code",
   "execution_count": null,
   "metadata": {},
   "outputs": [],
   "source": [
    "! pip install numpy\n",
    "! pip install openai\n",
    "! pip install python-dotenv\n",
    "! pip install azure-core\n",
    "! pip install azure-cosmos\n",
    "! pip install tenacity"
   ]
  },
  {
   "cell_type": "code",
   "execution_count": 21,
   "metadata": {},
   "outputs": [],
   "source": [
    "import json\n",
    "import datetime\n",
    "import time\n",
    "\n",
    "from azure.core.exceptions import AzureError\n",
    "from azure.core.credentials import AzureKeyCredential\n",
    "from azure.cosmos import exceptions, CosmosClient, PartitionKey\n",
    "from azure.search.documents import SearchClient\n",
    "from azure.search.documents.indexes import SearchIndexClient, SearchIndexerClient\n",
    "from azure.search.documents.models import Vector\n",
    "from azure.search.documents.indexes.models import (\n",
    "    IndexingSchedule,\n",
    "    SearchIndex,\n",
    "    SearchIndexer,\n",
    "    SearchIndexerDataContainer,\n",
    "    SearchField,\n",
    "    SearchFieldDataType,\n",
    "    SearchableField,\n",
    "    SemanticConfiguration,\n",
    "    SimpleField,\n",
    "    PrioritizedFields,\n",
    "    SemanticField,\n",
    "    SemanticSettings,\n",
    "    VectorSearch,\n",
    "    VectorSearchAlgorithmConfiguration,\n",
    "    SearchIndexerDataSourceConnection\n",
    ")\n",
    "\n",
    "import openai\n",
    "from tenacity import retry, wait_random_exponential, stop_after_attempt\n",
    "\n",
    "import os\n",
    "from dotenv import load_dotenv\n"
   ]
  },
  {
   "cell_type": "code",
   "execution_count": null,
   "metadata": {},
   "outputs": [],
   "source": [
    "\n",
    "load_dotenv()\n",
    "\n",
    "pg_host  = os.getenv(\"COSMOSDB_HOST\")\n",
    "if pg_host is None or pg_host == \"\":\n",
    "    print(\"COSMOSDB_HOST environment variable not set.\")\n",
    "    exit()\n",
    "\n",
    "pg_user  = os.getenv(\"COSMOSDB_USERNAME\")\n",
    "if pg_user is None or pg_user == \"\":\n",
    "    print(\"COSMOSDB_USERNAME environment variable not set.\")\n",
    "    exit()\n",
    "\n",
    "pg_password  = os.getenv(\"COSMOSDB_PASSWORD\")\n",
    "if pg_password is None or pg_password == \"\":\n",
    "    print(\"COSMOSDB_PASSWORD environment variable not set.\")\n",
    "    exit()\n",
    "\n",
    "db_name  = os.getenv(\"COSMOSDB_DATABASE\")\n",
    "if db_name is None or db_name == \"\":\n",
    "    print(\"COSMOSDB_DATABASE environment variable not set.\")\n",
    "    exit()\n",
    "\n",
    "text_table_name = 'text_sample'\n",
    "doc_table_name = 'doc_sample'\n",
    "image_table_name = 'image_sample'\n"
   ]
  },
  {
   "cell_type": "code",
   "execution_count": null,
   "metadata": {},
   "outputs": [],
   "source": [
    "##secrets\n",
    "##todo\n"
   ]
  },
  {
   "cell_type": "markdown",
   "metadata": {},
   "source": [
    "### Cosmos containers\n"
   ]
  },
  {
   "cell_type": "code",
   "execution_count": null,
   "metadata": {},
   "outputs": [],
   "source": [
    "from azure.cosmos import CosmosClient\n",
    "\n",
    "# Your Cosmos DB connection parameters\n",
    "cosmosdb_endpoint = \"your_cosmosdb_endpoint\"\n",
    "cosmosdb_key = \"your_cosmosdb_key\"\n",
    "cosmosdb_database_name = \"your_database_name\"\n",
    "cosmosdb_container_name = \"your_container_name\""
   ]
  },
  {
   "cell_type": "markdown",
   "metadata": {},
   "source": [
    "####  Initialize the Cosmos DB client"
   ]
  },
  {
   "cell_type": "code",
   "execution_count": null,
   "metadata": {},
   "outputs": [],
   "source": [
    "from azure.cosmos import CosmosClient\n",
    "\n",
    "# Initialize the Cosmos DB client\n",
    "client = CosmosClient(cosmos_db_api_endpoint, credential=cosmos_db_api_key)\n",
    "database = client.get_database_client(cosmosdb_database_name)\n",
    "container = database.get_container_client(cosmosdb_container_name)\n",
    "\n",
    "# Function to create a container\n",
    "def create_container(container_name, partition_key):\n",
    "    container_definition = {\n",
    "        \"id\": container_name,\n",
    "        \"partitionKey\": {\"paths\": [f'/{partition_key}']},\n",
    "    }\n",
    "    container = database.create_container_if_not_exists(\n",
    "        id=container_name, partition_key=partition_key\n",
    "    )\n",
    "\n",
    "    print(f\"Container {container_name} created.\")\n",
    "\n",
    "# Create text_sample container\n",
    "create_container(text_table_name, \"id\")\n",
    "\n",
    "# Create doc_sample container\n",
    "create_container(doc_table_name, \"id\")\n",
    "\n",
    "# Create image_sample container\n",
    "create_container(image_table_name, \"id\")\n"
   ]
  },
  {
   "cell_type": "markdown",
   "metadata": {},
   "source": [
    "#### Ingest text sample with embeddings"
   ]
  },
  {
   "cell_type": "code",
   "execution_count": null,
   "metadata": {},
   "outputs": [],
   "source": [
    "import pandas as pd\n",
    "from azure.cosmos import CosmosClient\n",
    "\n",
    "\n",
    "# Initialize the Cosmos DB client\n",
    "client = CosmosClient(cosmos_db_api_endpoint, credential=cosmos_db_api_key)\n",
    "database = client.get_database_client(cosmosdb_database_name)\n",
    "container = database.get_container_client(cosmosdb_container_name)\n",
    "\n",
    "# Read data from the JSON file\n",
    "text_df = pd.read_json('../data/text/product_docs_embeddings.json')\n",
    "records = text_df.to_dict(orient='records')\n",
    "\n",
    "## this adaptation, the script uses the Cosmos DB Python SDK to create items in the Cosmos DB container. \n",
    "# The to_dict(orient='records') method is used to convert the Pandas DataFrame to a list of dictionaries, where each dictionary represents a record\n",
    "# Function to insert data into Cosmos DB\n",
    "def insert_data(container, records):\n",
    "    for record in records:\n",
    "        container.create_item(body=record)\n",
    "    print(\"Text sample ingested.\")\n",
    "\n",
    "# Insert data into text_sample container\n",
    "insert_data(container, records)\n"
   ]
  },
  {
   "cell_type": "markdown",
   "metadata": {},
   "source": [
    "#### Ingest doc sample with embeddings"
   ]
  },
  {
   "cell_type": "code",
   "execution_count": null,
   "metadata": {},
   "outputs": [],
   "source": [
    "import pandas as pd\n",
    "from azure.cosmos import CosmosClient\n",
    "\n",
    "\n",
    "# Initialize the Cosmos DB client\n",
    "client = CosmosClient(cosmos_db_api_endpoint, credential=cosmos_db_api_key)\n",
    "database = client.get_database_client(cosmosdb_database_name)\n",
    "container = database.get_container_client(cosmosdb_container_name)\n",
    "\n",
    "# Read data from the JSON file\n",
    "doc_df = pd.read_json('../data/docs/employee_handbook_embeddings.json')\n",
    "records = doc_df.to_dict(orient='records')\n",
    "\n",
    "# Function to insert data into Cosmos DB\n",
    "def insert_data(container, records):\n",
    "    for record in records:\n",
    "        container.create_item(body=record)\n",
    "    print(\"Doc sample ingested.\")\n",
    "\n",
    "# Insert data into doc_sample container\n",
    "insert_data(container, records)\n"
   ]
  },
  {
   "cell_type": "markdown",
   "metadata": {},
   "source": [
    "#### Ingest image sample with embeddings"
   ]
  },
  {
   "cell_type": "code",
   "execution_count": null,
   "metadata": {},
   "outputs": [],
   "source": [
    "import pandas as pd\n",
    "from azure.cosmos import CosmosClient\n",
    "\n",
    "# Initialize the Cosmos DB client\n",
    "client = CosmosClient(cosmos_db_api_endpoint, credential=cosmos_db_api_key)\n",
    "database = client.get_database_client(cosmosdb_database_name)\n",
    "container = database.get_container_client(cosmosdb_container_name)\n",
    "\n",
    "# Read data from the JSON file\n",
    "image_df = pd.read_json('../data/images/images_embeddings.json')\n",
    "records = image_df.to_dict(orient='records')\n",
    "\n",
    "# Function to insert data into Cosmos DB\n",
    "def insert_data(container, records):\n",
    "    for record in records:\n",
    "        container.create_item(body=record)\n",
    "    print(\"Image sample ingested.\")\n",
    "\n",
    "# Insert data into image_sample container\n",
    "insert_data(container, records)\n"
   ]
  },
  {
   "cell_type": "markdown",
   "metadata": {},
   "source": [
    "#### Create IVFFlat Index\n",
    "\n",
    "An IVFFlat index divides vectors into lists, and then searches a subset of those lists that are closest to the query vector. Details - https://github.com/pgvector/pgvector#ivfflat"
   ]
  },
  {
   "cell_type": "code",
   "execution_count": null,
   "metadata": {},
   "outputs": [],
   "source": [
    "from azure.cosmos import CosmosClient\n",
    "\n",
    "##Cosmos DB Python SDK to set the indexing policy for the specified fields. \n",
    "##Note that Cosmos DB is schema-agnostic, and you don't explicitly create indexes as you would in a relational database. \n",
    "##Instead, you define an indexing policy that specifies how Cosmos DB should index the data. \n",
    "\n",
    "# Initialize the Cosmos DB client\n",
    "client = CosmosClient(cosmosdb_endpoint, cosmosdb_key)\n",
    "database = client.get_database_client(cosmosdb_database_name)\n",
    "container = database.get_container_client(cosmosdb_container_name)\n",
    "\n",
    "def get_query_suffix(row_count):\n",
    "    query_suffix = ''\n",
    "    if row_count >= 1000:\n",
    "        # Determine the number of lists based on the number of rows\n",
    "        if row_count <= 1000000:\n",
    "            lists = row_count / 1000\n",
    "        else:\n",
    "            lists = math.sqrt(row_count)\n",
    "        query_suffix = f\"WITH (lists = {int(lists)})\"\n",
    "\n",
    "    return query_suffix\n",
    "\n",
    "# Function to create HNSW index for a container\n",
    "def create_hnsw_index(container, field_name):\n",
    "    indexing_policy = {\n",
    "        \"indexingMode\": \"consistent\",\n",
    "        \"automatic\": True,\n",
    "        \"includedPaths\": [\n",
    "            {\n",
    "                \"path\": f'/{field_name}/*',\n",
    "                \"indexes\": [\n",
    "                    {\n",
    "                        \"kind\": \"Range\",\n",
    "                        \"dataType\": \"Number\",\n",
    "                        \"precision\": -1\n",
    "                    },\n",
    "                    {\n",
    "                        \"kind\": \"Spatial\",\n",
    "                        \"dataType\": \"Point\"\n",
    "                    }\n",
    "                ]\n",
    "            },\n",
    "            {\n",
    "                \"path\": f'/{field_name}',\n",
    "                \"indexes\": [\n",
    "                    {\n",
    "                        \"kind\": \"Range\",\n",
    "                        \"dataType\": \"Number\",\n",
    "                        \"precision\": -1\n",
    "                    },\n",
    "                    {\n",
    "                        \"kind\": \"Spatial\",\n",
    "                        \"dataType\": \"Point\"\n",
    "                    }\n",
    "                ]\n",
    "            }\n",
    "        ],\n",
    "        \"excludedPaths\": [\n",
    "            {\n",
    "                \"path\": \"/*\"\n",
    "            }\n",
    "        ],\n",
    "        \"spatialIndexes\": [\n",
    "            {\n",
    "                \"path\": f'/{field_name}/*',\n",
    "                \"types\": [\"Geospatial\"],\n",
    "                \"isAsync\": False\n",
    "            }\n",
    "        ],\n",
    "        \"spatialDefault\": {\n",
    "            \"types\": [\"Geospatial\"],\n",
    "            \"isAsync\": False\n",
    "        },\n",
    "        \"indexingDirective\": \"Include\"\n",
    "    }\n",
    "\n",
    "    container.replace_container(indexing_policy=indexing_policy)\n",
    "\n",
    "# Create HNSW index for text_sample container\n",
    "row_count = container.query_items(\"SELECT VALUE COUNT(1) FROM c\", enable_cross_partition_query=True).next()\n",
    "query_suffix = get_query_suffix(row_count)\n",
    "\n",
    "create_hnsw_index(container, \"title_vector\")\n",
    "create_hnsw_index(container, \"content_vector\")\n",
    "\n",
    "print(f\"HNSW index created for {cosmosdb_container_name}.\")\n",
    "\n",
    "##https://learn.microsoft.com/en-us/training/modules/search-azure-cosmos-db-sql-api-data-azure-cognitive-search/\n",
    "\n",
    "##https://learn.microsoft.com/en-us/azure/search/search-howto-index-cosmosdb"
   ]
  }
 ],
 "metadata": {
  "kernelspec": {
   "display_name": "postgresql",
   "language": "python",
   "name": "python3"
  },
  "language_info": {
   "codemirror_mode": {
    "name": "ipython",
    "version": 3
   },
   "file_extension": ".py",
   "mimetype": "text/x-python",
   "name": "python",
   "nbconvert_exporter": "python",
   "pygments_lexer": "ipython3",
   "version": "3.10.12"
  },
  "orig_nbformat": 4
 },
 "nbformat": 4,
 "nbformat_minor": 2
}
