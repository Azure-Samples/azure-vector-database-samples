{
 "cells": [
  {
   "cell_type": "markdown",
   "metadata": {},
   "source": [
    "## Data Pipeline - Azure Cache for Redis\n",
    "\n",
    "### Prerequisites\n",
    "\n",
    "- Generate embeddings - [generate_embeddings.ipynb](../common/generate_embeddings.ipynb) "
   ]
  },
  {
   "cell_type": "markdown",
   "metadata": {},
   "source": [
    "#### Set environment variables"
   ]
  },
  {
   "cell_type": "code",
   "execution_count": 1,
   "metadata": {},
   "outputs": [],
   "source": [
    "from dotenv import load_dotenv\n",
    "import os\n",
    "import warnings\n",
    "\n",
    "warnings.filterwarnings(action=\"ignore\", message=\"unclosed\", category=ResourceWarning)\n",
    "warnings.filterwarnings(\"ignore\", category=DeprecationWarning) \n",
    "\n",
    "load_dotenv()\n",
    "\n",
    "redis_host  = os.getenv(\"REDIS_HOST\")\n",
    "if redis_host is None or redis_host == \"\":\n",
    "    print(\"REDIS_HOST environment variable not set.\")\n",
    "    exit()\n",
    "\n",
    "redis_port  = os.getenv(\"REDIS_PORT\")\n",
    "if redis_port is None or redis_port == \"\":\n",
    "    print(\"REDIS_PORT environment variable not set.\")\n",
    "    exit()\n",
    "\n",
    "redis_password  = os.getenv(\"REDIS_PASSWORD\")\n",
    "if redis_password is None or redis_password == \"\":\n",
    "    print(\"REDIS_PASSWORD environment variable not set.\")\n",
    "    exit()"
   ]
  },
  {
   "cell_type": "markdown",
   "metadata": {},
   "source": [
    "#### Setup Redis connection"
   ]
  },
  {
   "cell_type": "code",
   "execution_count": 2,
   "metadata": {},
   "outputs": [
    {
     "data": {
      "text/plain": [
       "True"
      ]
     },
     "execution_count": 2,
     "metadata": {},
     "output_type": "execute_result"
    }
   ],
   "source": [
    "import redis\n",
    "from redis.commands.search.indexDefinition import (\n",
    "    IndexDefinition,\n",
    "    IndexType\n",
    ")\n",
    "from redis.commands.search.query import Query\n",
    "from redis.commands.search.field import (\n",
    "    TextField,\n",
    "    VectorField\n",
    ")\n",
    "import os\n",
    "\n",
    "# Connect to Redis\n",
    "redis_client = redis.Redis(\n",
    "    host=redis_host,\n",
    "    port=redis_port,\n",
    "    ssl=True,\n",
    "    password=redis_password\n",
    ")\n",
    "\n",
    "# should return True\n",
    "redis_client.ping()"
   ]
  },
  {
   "cell_type": "markdown",
   "metadata": {},
   "source": [
    "#### Helper method"
   ]
  },
  {
   "cell_type": "code",
   "execution_count": 3,
   "metadata": {},
   "outputs": [],
   "source": [
    "def create_index(index_name, doc_prefix, fields):\n",
    "    try:\n",
    "        redis_client.ft(index_name).info()\n",
    "        print(\"Index already exists\")\n",
    "    except:\n",
    "        # Create RediSearch Index\n",
    "        redis_client.ft(index_name).create_index(\n",
    "            fields = fields,\n",
    "            definition = IndexDefinition(prefix=[f'{{{doc_prefix}}}:'], index_type=IndexType.HASH)\n",
    "    )"
   ]
  },
  {
   "cell_type": "markdown",
   "metadata": {},
   "source": [
    "#### Create index - text_sample"
   ]
  },
  {
   "cell_type": "code",
   "execution_count": 6,
   "metadata": {},
   "outputs": [],
   "source": [
    "import pandas as pd\n",
    "import numpy as np\n",
    "\n",
    "text_df = pd.read_json('../data/text/product_docs_embeddings.json')\n",
    "\n",
    "# Define RediSearch fields for each of the columns in the dataset\n",
    "distance_metric = \"COSINE\"                      # distance metric for the vectors (ex. COSINE, IP, L2)\n",
    "vector_dim = len(text_df['title_vector'][0]) # length of the vectors\n",
    "vector_number = len(text_df)                 # initial number of vectors\n",
    "\n",
    "title = TextField(name=\"title\")\n",
    "category = TextField(name=\"category\")\n",
    "content = TextField(name=\"content\")\n",
    "title_embedding = VectorField(\"title_vector\",\n",
    "    \"HNSW\", {\n",
    "        \"TYPE\": \"FLOAT32\",\n",
    "        \"DIM\": vector_dim,\n",
    "        \"DISTANCE_METRIC\": distance_metric,\n",
    "        \"INITIAL_CAP\": vector_number,\n",
    "        \"M\": 4,\n",
    "        \"EF_CONSTRUCTION\": 400,\n",
    "        \"EF_RUNTIME\": 500\n",
    "    }\n",
    ")\n",
    "content_embedding = VectorField(\"content_vector\",\n",
    "    \"HNSW\", {\n",
    "        \"TYPE\": \"FLOAT32\",\n",
    "        \"DIM\": vector_dim,\n",
    "        \"DISTANCE_METRIC\": distance_metric,\n",
    "        \"INITIAL_CAP\": vector_number,\n",
    "        \"M\": 4,\n",
    "        \"EF_CONSTRUCTION\": 400,\n",
    "        \"EF_RUNTIME\": 500\n",
    "    }\n",
    ")\n",
    "product_fields = [title, category, content, title_embedding, content_embedding]\n",
    "\n",
    "text_sample_index_name=\"text_sample\"\n",
    "text_sample_prefix=\"text\"\n",
    "\n",
    "create_index(text_sample_index_name, text_sample_prefix, product_fields)"
   ]
  },
  {
   "cell_type": "markdown",
   "metadata": {},
   "source": [
    "#### Create index - doc_sample"
   ]
  },
  {
   "cell_type": "code",
   "execution_count": 7,
   "metadata": {},
   "outputs": [],
   "source": [
    "employees_df = pd.read_json('../data/docs/employee_handbook_embeddings.json')\n",
    "\n",
    "# Define RediSearch fields for each of the columns in the dataset\n",
    "distance_metric = \"COSINE\"                      # distance metric for the vectors (ex. COSINE, IP, L2)\n",
    "vector_dim = len(employees_df['chunk_content_vector'][0]) # length of the vectors\n",
    "vector_number = len(employees_df)                 # initial number of vectors\n",
    "\n",
    "chunk_content = TextField(name=\"chunk_content\")\n",
    "\n",
    "chunk_content_embedding = VectorField(\"chunk_content_vector\",\n",
    "    \"HNSW\", {\n",
    "        \"TYPE\": \"FLOAT32\",\n",
    "        \"DIM\": vector_dim,\n",
    "        \"DISTANCE_METRIC\": distance_metric,\n",
    "        \"INITIAL_CAP\": vector_number,\n",
    "        \"M\": 4,\n",
    "        \"EF_CONSTRUCTION\": 400,\n",
    "        \"EF_RUNTIME\": 500\n",
    "    }\n",
    ")\n",
    "employee_fields = [chunk_content, chunk_content_embedding]\n",
    "\n",
    "doc_sample_index_name=\"doc_sample\"\n",
    "doc_sample_prefix=\"doc\"\n",
    "\n",
    "create_index(doc_sample_index_name, doc_sample_prefix, employee_fields)"
   ]
  },
  {
   "cell_type": "markdown",
   "metadata": {},
   "source": [
    "#### Create index - image_sample"
   ]
  },
  {
   "cell_type": "code",
   "execution_count": null,
   "metadata": {},
   "outputs": [],
   "source": [
    "image_df = pd.read_json('../data/images/images_embeddings.json')\n",
    "\n",
    "# Define RediSearch fields for each of the columns in the dataset\n",
    "distance_metric = \"COSINE\"                      # distance metric for the vectors (ex. COSINE, IP, L2)\n",
    "vector_dim = len(image_df['image_vector'][0]) # length of the vectors\n",
    "vector_number = len(image_df)                 # initial number of vectors\n",
    "\n",
    "image = TextField(name=\"image\")\n",
    "\n",
    "image_embedding = VectorField(\"image_vector\",\n",
    "    \"HNSW\", {\n",
    "        \"TYPE\": \"FLOAT32\",\n",
    "        \"DIM\": vector_dim,\n",
    "        \"DISTANCE_METRIC\": distance_metric,\n",
    "        \"INITIAL_CAP\": vector_number,\n",
    "    }\n",
    ")\n",
    "image_fields = [image, image_embedding]\n",
    "\n",
    "image_sample_index_name=\"image_sample\"\n",
    "image_sample_prefix=\"image\"\n",
    "\n",
    "create_index(image_sample_index_name, image_sample_prefix, image_fields)"
   ]
  },
  {
   "cell_type": "markdown",
   "metadata": {},
   "source": [
    "#### Ingest text sample with embeddings"
   ]
  },
  {
   "cell_type": "code",
   "execution_count": null,
   "metadata": {},
   "outputs": [],
   "source": [
    "import traceback\n",
    "\n",
    "def ingest_products(client: redis.Redis, prefix: str, documents: pd.DataFrame):\n",
    "    records = documents.to_dict(\"records\")\n",
    "    pipe = client.pipeline()\n",
    "    for doc in records:\n",
    "        key = f\"{{{prefix}}}:{str(doc['id'])}\"\n",
    "\n",
    "        # create byte vectors for title and content\n",
    "        title_embedding = np.array(doc[\"title_vector\"], dtype=np.float32).tobytes()\n",
    "        content_embedding = np.array(doc[\"content_vector\"], dtype=np.float32).tobytes()\n",
    "\n",
    "        # replace list of floats with byte vectors\n",
    "        doc[\"title_vector\"] = title_embedding\n",
    "        doc[\"content_vector\"] = content_embedding\n",
    "        pipe.hset(key, mapping = doc)\n",
    "    try:\n",
    "        pipe.execute()\n",
    "    except Exception:\n",
    "        traceback.print_exc()\n",
    "        \n",
    "ingest_products(redis_client, text_sample_prefix, text_df)"
   ]
  },
  {
   "cell_type": "markdown",
   "metadata": {},
   "source": [
    "#### Ingest doc sample with embeddings"
   ]
  },
  {
   "cell_type": "code",
   "execution_count": null,
   "metadata": {},
   "outputs": [],
   "source": [
    "def ingest_employees(client: redis.Redis, prefix: str, documents: pd.DataFrame):\n",
    "    records = documents.to_dict(\"records\")\n",
    "    pipe = client.pipeline()\n",
    "    for doc in records:\n",
    "        key = f\"{{{prefix}}}:{str(doc['id'])}\"\n",
    "\n",
    "        # create byte vectors for title and content\n",
    "        chunk_content_embedding = np.array(doc[\"chunk_content_vector\"], dtype=np.float32).tobytes()\n",
    "\n",
    "        # replace list of floats with byte vectors\n",
    "        doc[\"chunk_content_vector\"] = chunk_content_embedding\n",
    "\n",
    "        pipe.hset(key, mapping = doc)\n",
    "    try:\n",
    "        pipe.execute()\n",
    "    except Exception:\n",
    "        traceback.print_exc()\n",
    "                \n",
    "ingest_employees(redis_client, doc_sample_prefix, employees_df)"
   ]
  },
  {
   "cell_type": "markdown",
   "metadata": {},
   "source": [
    "#### Ingest image sample with embeddings"
   ]
  },
  {
   "cell_type": "code",
   "execution_count": null,
   "metadata": {},
   "outputs": [],
   "source": [
    "def ingest_images(client: redis.Redis, prefix: str, documents: pd.DataFrame):\n",
    "    records = documents.to_dict(\"records\")\n",
    "    pipe = client.pipeline()\n",
    "    for doc in records:\n",
    "        key = f\"{{{prefix}}}:{str(doc['id'])}\"\n",
    "\n",
    "        # create byte vectors for title and content\n",
    "        image_embedding = np.array(doc[\"image_vector\"], dtype=np.float32).tobytes()\n",
    "\n",
    "        # replace list of floats with byte vectors\n",
    "        doc[\"image_vector\"] = image_embedding\n",
    "\n",
    "        pipe.hset(key, mapping = doc)\n",
    "    try:\n",
    "        pipe.execute()\n",
    "    except Exception:\n",
    "        traceback.print_exc()\n",
    "                \n",
    "ingest_images(redis_client, image_sample_prefix, image_df)"
   ]
  }
 ],
 "metadata": {
  "kernelspec": {
   "display_name": "Python 3 (ipykernel)",
   "language": "python",
   "name": "python3"
  },
  "language_info": {
   "codemirror_mode": {
    "name": "ipython",
    "version": 3
   },
   "file_extension": ".py",
   "mimetype": "text/x-python",
   "name": "python",
   "nbconvert_exporter": "python",
   "pygments_lexer": "ipython3",
   "version": "3.12.1"
  }
 },
 "nbformat": 4,
 "nbformat_minor": 4
}
