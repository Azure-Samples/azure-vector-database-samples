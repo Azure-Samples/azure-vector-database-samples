{
 "cells": [
  {
   "cell_type": "markdown",
   "metadata": {
    "application/vnd.databricks.v1+cell": {
     "cellMetadata": {},
     "inputWidgets": {},
     "nuid": "5e81a46e-d8e3-4b9c-b6fd-0e23bb661834",
     "showTitle": false,
     "title": ""
    }
   },
   "source": [
    "# Vector Search Python SDK example usage\n",
    "\n",
    "This notebook demonstrates usage of the Vector Search Python SDK, which provides a `VectorSearchClient` as a primary API for working with Vector Search.\n",
    "\n",
    "Alternatively, you may call the REST API directly.\n",
    "\n",
    "**Pre-req**: This notebook assumes you have already created a Model Serving endpoint for the embedding model.  See the companion notebook for creating endpoints.and the vector Index"
   ]
  },
  {
   "cell_type": "markdown",
   "metadata": {
    "application/vnd.databricks.v1+cell": {
     "cellMetadata": {},
     "inputWidgets": {},
     "nuid": "0216d136-de35-4f8b-8ae0-7e0343ec8dd5",
     "showTitle": false,
     "title": ""
    }
   },
   "source": [
    "## Similarity search\n",
    "\n",
    "Query the Vector Index to find similar documents!"
   ]
  },
  {
   "cell_type": "code",
   "execution_count": null,
   "metadata": {
    "application/vnd.databricks.v1+cell": {
     "cellMetadata": {
      "byteLimit": 2048000,
      "rowLimit": 10000
     },
     "inputWidgets": {},
     "nuid": "059b3d5d-37c9-47ff-801d-2f06c8b80d37",
     "showTitle": false,
     "title": ""
    },
    "jupyter": {
     "outputs_hidden": true
    }
   },
   "outputs": [],
   "source": [
    "%pip install --upgrade --force-reinstall databricks-vectorsearch\n",
    "dbutils.library.restartPython()"
   ]
  },
  {
   "cell_type": "code",
   "execution_count": null,
   "metadata": {
    "application/vnd.databricks.v1+cell": {
     "cellMetadata": {
      "byteLimit": 2048000,
      "rowLimit": 10000
     },
     "inputWidgets": {},
     "nuid": "ca630fcd-755e-44d2-bfba-a49cf1ac7855",
     "showTitle": false,
     "title": ""
    },
    "jupyter": {
     "outputs_hidden": true
    }
   },
   "outputs": [],
   "source": [
    "from databricks.vector_search.client import VectorSearchClient\n",
    "# Automatically generates a PAT Token for authentication\n",
    "vsc = VectorSearchClient()\n",
    "\n",
    "# Uses the service principal token for authentication\n",
    "# client = VectorSearch(service_principal_client_id=<CLIENT_ID>,service_principal_client_secret=<CLIENT_SECRET>)"
   ]
  },
  {
   "cell_type": "code",
   "execution_count": null,
   "metadata": {
    "application/vnd.databricks.v1+cell": {
     "cellMetadata": {
      "byteLimit": 2048000,
      "rowLimit": 10000
     },
     "inputWidgets": {},
     "nuid": "b627e87c-1ce6-41c4-957e-1d662de7f759",
     "showTitle": false,
     "title": ""
    }
   },
   "outputs": [],
   "source": [
    "source_catalog = \"vector_database\"\n",
    "source_schema = \"vector_search\"\n",
    "source_table = \"product\"\n",
    "source_table_fullname = f\"{source_catalog}.{source_schema}.{source_table}\"\n",
    "vs_index = \"product_vsindex\"\n",
    "vector_search_endpoint_name = \"vector-search-demo-endpoint\"\n",
    "vs_index_fullname = f\"{source_catalog}.{source_schema}.{vs_index}\""
   ]
  },
  {
   "cell_type": "code",
   "execution_count": null,
   "metadata": {
    "application/vnd.databricks.v1+cell": {
     "cellMetadata": {
      "byteLimit": 2048000,
      "rowLimit": 10000
     },
     "inputWidgets": {},
     "nuid": "430cefcf-a58a-4ad7-9ded-5db60d9bec2b",
     "showTitle": false,
     "title": ""
    },
    "jupyter": {
     "outputs_hidden": true
    }
   },
   "outputs": [],
   "source": [
    "index = vsc.get_index(endpoint_name=vector_search_endpoint_name, index_name=vs_index_fullname)\n",
    "index.describe()"
   ]
  },
  {
   "cell_type": "markdown",
   "metadata": {
    "application/vnd.databricks.v1+cell": {
     "cellMetadata": {},
     "inputWidgets": {},
     "nuid": "50527b6b-53cd-4cfa-becd-e5f35c606a42",
     "showTitle": false,
     "title": ""
    }
   },
   "source": [
    "### Performing Similarity Search and converting the results to a dataframe"
   ]
  },
  {
   "cell_type": "code",
   "execution_count": null,
   "metadata": {
    "application/vnd.databricks.v1+cell": {
     "cellMetadata": {
      "byteLimit": 2048000,
      "rowLimit": 10000
     },
     "inputWidgets": {},
     "nuid": "839e42b2-5ced-4720-a1ed-90cfa51120f3",
     "showTitle": false,
     "title": ""
    },
    "jupyter": {
     "outputs_hidden": true
    }
   },
   "outputs": [],
   "source": [
    "from pyspark.sql.functions import *\n",
    "from pyspark.sql.types import DoubleType\n",
    "all_columns = spark.table(source_table_fullname).columns\n",
    "\n",
    "results = index.similarity_search(\n",
    "  query_text=\"Databases\",\n",
    "  columns=all_columns)\n",
    "\n",
    "ls_results= results.get('result').get('data_array')\n",
    "df = spark.createDataFrame(data = ls_results, schema = \"category STRING , comment STRING ,id STRING ,title STRING ,distance STRING\")\n",
    "df=df.withColumn('distance',lit(df.distance).cast(DoubleType()))\n",
    "#display(df)"
   ]
  },
  {
   "cell_type": "markdown",
   "metadata": {
    "application/vnd.databricks.v1+cell": {
     "cellMetadata": {},
     "inputWidgets": {},
     "nuid": "65ab98cf-e66e-40b7-b121-64e9022d19f3",
     "showTitle": false,
     "title": ""
    }
   },
   "source": [
    "### Returning best five search results "
   ]
  },
  {
   "cell_type": "code",
   "execution_count": null,
   "metadata": {
    "application/vnd.databricks.v1+cell": {
     "cellMetadata": {
      "byteLimit": 2048000,
      "rowLimit": 10000
     },
     "inputWidgets": {},
     "nuid": "e6de9400-1dfd-4cb9-86dd-d1ac84a0aed7",
     "showTitle": false,
     "title": ""
    },
    "jupyter": {
     "outputs_hidden": true
    }
   },
   "outputs": [],
   "source": [
    "df_result= df.select(df.title, df.category).sort(asc('distance')).limit(5)\n",
    "display(df_result)"
   ]
  },
  {
   "cell_type": "markdown",
   "metadata": {
    "application/vnd.databricks.v1+cell": {
     "cellMetadata": {},
     "inputWidgets": {},
     "nuid": "8c21eda1-e130-4a04-8fe7-c64c1153027a",
     "showTitle": false,
     "title": ""
    }
   },
   "source": [
    "## Delete vector index"
   ]
  },
  {
   "cell_type": "code",
   "execution_count": null,
   "metadata": {
    "application/vnd.databricks.v1+cell": {
     "cellMetadata": {
      "byteLimit": 2048000,
      "rowLimit": 10000
     },
     "inputWidgets": {},
     "nuid": "25f35da9-6053-4e42-be69-fd7a6c637999",
     "showTitle": false,
     "title": ""
    },
    "jupyter": {
     "outputs_hidden": true
    }
   },
   "outputs": [],
   "source": [
    "#vsc.delete_index(endpoint_name=vector_search_endpoint_name,index_name=vs_index_fullname)"
   ]
  }
 ],
 "metadata": {
  "application/vnd.databricks.v1+notebook": {
   "dashboards": [],
   "language": "python",
   "notebookMetadata": {
    "mostRecentlyExecutedCommandWithImplicitDF": {
     "commandId": -1,
     "dataframes": [
      "_sqldf"
     ]
    },
    "pythonIndentUnit": 4
   },
   "notebookName": "databricks_vector_query",
   "widgets": {}
  },
  "language_info": {
   "name": "python"
  }
 },
 "nbformat": 4,
 "nbformat_minor": 0
}
