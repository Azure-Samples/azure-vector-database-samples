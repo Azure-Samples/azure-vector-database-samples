{
 "cells": [
  {
   "cell_type": "markdown",
   "metadata": {
    "application/vnd.databricks.v1+cell": {
     "cellMetadata": {},
     "inputWidgets": {},
     "nuid": "5e81a46e-d8e3-4b9c-b6fd-0e23bb661834",
     "showTitle": false,
     "title": ""
    }
   },
   "source": [
    "# Vector Search Python SDK example usage\n",
    "\n",
    "This notebook demonstrates usage of the Vector Search Python SDK, which provides a `VectorSearchClient` as a primary API for working with Vector Search.\n",
    "\n",
    "Alternatively, you may call the REST API directly.\n",
    "For additional documentation please review: \n",
    "https://learn.microsoft.com/en-us/azure/databricks/generative-ai/create-query-vector-search and \n",
    "https://www.databricks.com/blog/introducing-databricks-vector-search-public-preview\n",
    "\n",
    "**Pre-req**: This notebook assumes you have already created a Model Serving endpoint for the embedding model.  See `embedding_model_endpoint` below, and the companion notebook for creating endpoints."
   ]
  },
  {
   "cell_type": "code",
   "execution_count": 0,
   "metadata": {
    "application/vnd.databricks.v1+cell": {
     "cellMetadata": {
      "byteLimit": 2048000,
      "rowLimit": 10000
     },
     "inputWidgets": {},
     "nuid": "6733a370-82b3-4ff5-880b-eb0c3de811a0",
     "showTitle": false,
     "title": ""
    }
   },
   "outputs": [
    {
     "output_type": "stream",
     "name": "stdout",
     "output_type": "stream",
     "text": [
      "\u001B[43mNote: you may need to restart the kernel using dbutils.library.restartPython() to use updated packages.\u001B[0m\nCollecting databricks-vectorsearch\n  Downloading databricks_vectorsearch-0.22-py3-none-any.whl (8.5 kB)\nCollecting protobuf<5,>=3.12.0\n  Downloading protobuf-4.25.3-cp37-abi3-manylinux2014_x86_64.whl (294 kB)\n     ━━━━━━━━━━━━━━━━━━━━━━━━━━━━━━━━━━━━━━━ 294.6/294.6 kB 6.1 MB/s eta 0:00:00\nCollecting requests>=2\n  Downloading requests-2.31.0-py3-none-any.whl (62 kB)\n     ━━━━━━━━━━━━━━━━━━━━━━━━━━━━━━━━━━━━━━━━ 62.6/62.6 kB 5.7 MB/s eta 0:00:00\nCollecting mlflow-skinny<3,>=2.4.0\n  Downloading mlflow_skinny-2.10.2-py3-none-any.whl (4.8 MB)\n     ━━━━━━━━━━━━━━━━━━━━━━━━━━━━━━━━━━━━━━━━ 4.8/4.8 MB 73.7 MB/s eta 0:00:00\nCollecting entrypoints<1\n  Downloading entrypoints-0.4-py3-none-any.whl (5.3 kB)\nCollecting packaging<24\n  Using cached packaging-23.2-py3-none-any.whl (53 kB)\nCollecting pytz<2024\n  Downloading pytz-2023.4-py2.py3-none-any.whl (506 kB)\n     ━━━━━━━━━━━━━━━━━━━━━━━━━━━━━━━━━━━━━━ 506.5/506.5 kB 26.7 MB/s eta 0:00:00\nCollecting sqlparse<1,>=0.4.0\n  Downloading sqlparse-0.4.4-py3-none-any.whl (41 kB)\n     ━━━━━━━━━━━━━━━━━━━━━━━━━━━━━━━━━━━━━━━━ 41.2/41.2 kB 3.4 MB/s eta 0:00:00\nCollecting click<9,>=7.0\n  Downloading click-8.1.7-py3-none-any.whl (97 kB)\n     ━━━━━━━━━━━━━━━━━━━━━━━━━━━━━━━━━━━━━━━━ 97.9/97.9 kB 11.5 MB/s eta 0:00:00\nCollecting cloudpickle<4\n  Downloading cloudpickle-3.0.0-py3-none-any.whl (20 kB)\nCollecting pyyaml<7,>=5.1\n  Downloading PyYAML-6.0.1-cp310-cp310-manylinux_2_17_x86_64.manylinux2014_x86_64.whl (705 kB)\n     ━━━━━━━━━━━━━━━━━━━━━━━━━━━━━━━━━━━━━━ 705.5/705.5 kB 35.7 MB/s eta 0:00:00\nCollecting importlib-metadata!=4.7.0,<8,>=3.7.0\n  Downloading importlib_metadata-7.0.1-py3-none-any.whl (23 kB)\nCollecting gitpython<4,>=2.1.0\n  Downloading GitPython-3.1.42-py3-none-any.whl (195 kB)\n     ━━━━━━━━━━━━━━━━━━━━━━━━━━━━━━━━━━━━━━ 195.4/195.4 kB 12.2 MB/s eta 0:00:00\nCollecting charset-normalizer<4,>=2\n  Downloading charset_normalizer-3.3.2-cp310-cp310-manylinux_2_17_x86_64.manylinux2014_x86_64.whl (142 kB)\n     ━━━━━━━━━━━━━━━━━━━━━━━━━━━━━━━━━━━━━━ 142.1/142.1 kB 13.5 MB/s eta 0:00:00\nCollecting idna<4,>=2.5\n  Downloading idna-3.6-py3-none-any.whl (61 kB)\n     ━━━━━━━━━━━━━━━━━━━━━━━━━━━━━━━━━━━━━━━━ 61.6/61.6 kB 6.7 MB/s eta 0:00:00\nCollecting certifi>=2017.4.17\n  Downloading certifi-2024.2.2-py3-none-any.whl (163 kB)\n     ━━━━━━━━━━━━━━━━━━━━━━━━━━━━━━━━━━━━━━ 163.8/163.8 kB 18.3 MB/s eta 0:00:00\nCollecting urllib3<3,>=1.21.1\n  Downloading urllib3-2.2.1-py3-none-any.whl (121 kB)\n     ━━━━━━━━━━━━━━━━━━━━━━━━━━━━━━━━━━━━━━ 121.1/121.1 kB 15.8 MB/s eta 0:00:00\nCollecting gitdb<5,>=4.0.1\n  Downloading gitdb-4.0.11-py3-none-any.whl (62 kB)\n     ━━━━━━━━━━━━━━━━━━━━━━━━━━━━━━━━━━━━━━━━ 62.7/62.7 kB 5.8 MB/s eta 0:00:00\nCollecting zipp>=0.5\n  Using cached zipp-3.17.0-py3-none-any.whl (7.4 kB)\nCollecting smmap<6,>=3.0.1\n  Downloading smmap-5.0.1-py3-none-any.whl (24 kB)\nInstalling collected packages: pytz, zipp, urllib3, sqlparse, smmap, pyyaml, protobuf, packaging, idna, entrypoints, cloudpickle, click, charset-normalizer, certifi, requests, importlib-metadata, gitdb, gitpython, mlflow-skinny, databricks-vectorsearch\n  Attempting uninstall: pytz\n    Found existing installation: pytz 2022.1\n    Not uninstalling pytz at /databricks/python3/lib/python3.10/site-packages, outside environment /local_disk0/.ephemeral_nfs/envs/pythonEnv-cf4ea018-c031-4169-be54-a5499b2024df\n    Can't uninstall 'pytz'. No files were found to uninstall.\n  Attempting uninstall: zipp\n    Found existing installation: zipp 3.8.0\n    Not uninstalling zipp at /databricks/python3/lib/python3.10/site-packages, outside environment /local_disk0/.ephemeral_nfs/envs/pythonEnv-cf4ea018-c031-4169-be54-a5499b2024df\n    Can't uninstall 'zipp'. No files were found to uninstall.\n  Attempting uninstall: urllib3\n    Found existing installation: urllib3 1.26.11\n    Not uninstalling urllib3 at /databricks/python3/lib/python3.10/site-packages, outside environment /local_disk0/.ephemeral_nfs/envs/pythonEnv-cf4ea018-c031-4169-be54-a5499b2024df\n    Can't uninstall 'urllib3'. No files were found to uninstall.\n  Attempting uninstall: sqlparse\n    Found existing installation: sqlparse 0.4.2\n    Not uninstalling sqlparse at /databricks/python3/lib/python3.10/site-packages, outside environment /local_disk0/.ephemeral_nfs/envs/pythonEnv-cf4ea018-c031-4169-be54-a5499b2024df\n    Can't uninstall 'sqlparse'. No files were found to uninstall.\n  Attempting uninstall: smmap\n    Found existing installation: smmap 5.0.0\n    Not uninstalling smmap at /databricks/python3/lib/python3.10/site-packages, outside environment /local_disk0/.ephemeral_nfs/envs/pythonEnv-cf4ea018-c031-4169-be54-a5499b2024df\n    Can't uninstall 'smmap'. No files were found to uninstall.\n  Attempting uninstall: pyyaml\n    Found existing installation: PyYAML 6.0\n    Not uninstalling pyyaml at /databricks/python3/lib/python3.10/site-packages, outside environment /local_disk0/.ephemeral_nfs/envs/pythonEnv-cf4ea018-c031-4169-be54-a5499b2024df\n    Can't uninstall 'PyYAML'. No files were found to uninstall.\n  Attempting uninstall: protobuf\n    Found existing installation: protobuf 3.19.4\n    Not uninstalling protobuf at /databricks/python3/lib/python3.10/site-packages, outside environment /local_disk0/.ephemeral_nfs/envs/pythonEnv-cf4ea018-c031-4169-be54-a5499b2024df\n    Can't uninstall 'protobuf'. No files were found to uninstall.\n  Attempting uninstall: packaging\n    Found existing installation: packaging 21.3\n    Not uninstalling packaging at /databricks/python3/lib/python3.10/site-packages, outside environment /local_disk0/.ephemeral_nfs/envs/pythonEnv-cf4ea018-c031-4169-be54-a5499b2024df\n    Can't uninstall 'packaging'. No files were found to uninstall.\n  Attempting uninstall: idna\n    Found existing installation: idna 3.3\n    Not uninstalling idna at /databricks/python3/lib/python3.10/site-packages, outside environment /local_disk0/.ephemeral_nfs/envs/pythonEnv-cf4ea018-c031-4169-be54-a5499b2024df\n    Can't uninstall 'idna'. No files were found to uninstall.\n  Attempting uninstall: entrypoints\n    Found existing installation: entrypoints 0.4\n    Not uninstalling entrypoints at /databricks/python3/lib/python3.10/site-packages, outside environment /local_disk0/.ephemeral_nfs/envs/pythonEnv-cf4ea018-c031-4169-be54-a5499b2024df\n    Can't uninstall 'entrypoints'. No files were found to uninstall.\n  Attempting uninstall: cloudpickle\n    Found existing installation: cloudpickle 2.0.0\n    Not uninstalling cloudpickle at /databricks/python3/lib/python3.10/site-packages, outside environment /local_disk0/.ephemeral_nfs/envs/pythonEnv-cf4ea018-c031-4169-be54-a5499b2024df\n    Can't uninstall 'cloudpickle'. No files were found to uninstall.\n  Attempting uninstall: click\n    Found existing installation: click 8.0.4\n    Not uninstalling click at /databricks/python3/lib/python3.10/site-packages, outside environment /local_disk0/.ephemeral_nfs/envs/pythonEnv-cf4ea018-c031-4169-be54-a5499b2024df\n    Can't uninstall 'click'. No files were found to uninstall.\n  Attempting uninstall: charset-normalizer\n    Found existing installation: charset-normalizer 2.0.4\n    Not uninstalling charset-normalizer at /databricks/python3/lib/python3.10/site-packages, outside environment /local_disk0/.ephemeral_nfs/envs/pythonEnv-cf4ea018-c031-4169-be54-a5499b2024df\n    Can't uninstall 'charset-normalizer'. No files were found to uninstall.\n  Attempting uninstall: certifi\n    Found existing installation: certifi 2022.9.14\n    Not uninstalling certifi at /databricks/python3/lib/python3.10/site-packages, outside environment /local_disk0/.ephemeral_nfs/envs/pythonEnv-cf4ea018-c031-4169-be54-a5499b2024df\n    Can't uninstall 'certifi'. No files were found to uninstall.\n  Attempting uninstall: requests\n    Found existing installation: requests 2.28.1\n    Not uninstalling requests at /databricks/python3/lib/python3.10/site-packages, outside environment /local_disk0/.ephemeral_nfs/envs/pythonEnv-cf4ea018-c031-4169-be54-a5499b2024df\n    Can't uninstall 'requests'. No files were found to uninstall.\n  Attempting uninstall: importlib-metadata\n    Found existing installation: importlib-metadata 4.11.3\n    Not uninstalling importlib-metadata at /databricks/python3/lib/python3.10/site-packages, outside environment /local_disk0/.ephemeral_nfs/envs/pythonEnv-cf4ea018-c031-4169-be54-a5499b2024df\n    Can't uninstall 'importlib-metadata'. No files were found to uninstall.\n  Attempting uninstall: gitdb\n    Found existing installation: gitdb 4.0.10\n    Not uninstalling gitdb at /databricks/python3/lib/python3.10/site-packages, outside environment /local_disk0/.ephemeral_nfs/envs/pythonEnv-cf4ea018-c031-4169-be54-a5499b2024df\n    Can't uninstall 'gitdb'. No files were found to uninstall.\n  Attempting uninstall: gitpython\n    Found existing installation: GitPython 3.1.27\n    Not uninstalling gitpython at /databricks/python3/lib/python3.10/site-packages, outside environment /local_disk0/.ephemeral_nfs/envs/pythonEnv-cf4ea018-c031-4169-be54-a5499b2024df\n    Can't uninstall 'GitPython'. No files were found to uninstall.\n  Attempting uninstall: mlflow-skinny\n    Found existing installation: mlflow-skinny 2.5.0\n    Not uninstalling mlflow-skinny at /databricks/python3/lib/python3.10/site-packages, outside environment /local_disk0/.ephemeral_nfs/envs/pythonEnv-cf4ea018-c031-4169-be54-a5499b2024df\n    Can't uninstall 'mlflow-skinny'. No files were found to uninstall.\nERROR: pip's dependency resolver does not currently take into account all the packages that are installed. This behaviour is the source of the following dependency conflicts.\npetastorm 0.12.1 requires pyspark>=2.1.0, which is not installed.\ndatabricks-feature-store 0.14.3 requires pyspark<4,>=3.1.2, which is not installed.\ntensorflow-cpu 2.11.1 requires protobuf<3.20,>=3.9.2, but you have protobuf 4.25.3 which is incompatible.\ntensorboard 2.11.0 requires protobuf<4,>=3.9.2, but you have protobuf 4.25.3 which is incompatible.\nmleap 0.20.0 requires scikit-learn<0.23.0,>=0.22.0, but you have scikit-learn 1.1.1 which is incompatible.\ndatabricks-sdk 0.1.6 requires requests<2.29.0,>=2.28.1, but you have requests 2.31.0 which is incompatible.\ndatabricks-cli 0.17.7 requires urllib3<2.0.0,>=1.26.7, but you have urllib3 2.2.1 which is incompatible.\nbotocore 1.27.28 requires urllib3<1.27,>=1.25.4, but you have urllib3 2.2.1 which is incompatible.\nSuccessfully installed certifi-2024.2.2 charset-normalizer-3.3.2 click-8.1.7 cloudpickle-3.0.0 databricks-vectorsearch-0.22 entrypoints-0.4 gitdb-4.0.11 gitpython-3.1.42 idna-3.6 importlib-metadata-7.0.1 mlflow-skinny-2.10.2 packaging-23.2 protobuf-4.25.3 pytz-2023.4 pyyaml-6.0.1 requests-2.31.0 smmap-5.0.1 sqlparse-0.4.4 urllib3-2.2.1 zipp-3.17.0\n\u001B[43mNote: you may need to restart the kernel using dbutils.library.restartPython() to use updated packages.\u001B[0m\n"
     ]
    }
   ],
   "source": [
    "%pip install --upgrade --force-reinstall databricks-vectorsearch\n",
    "dbutils.library.restartPython()"
   ]
  },
  {
   "cell_type": "code",
   "execution_count": 0,
   "metadata": {
    "application/vnd.databricks.v1+cell": {
     "cellMetadata": {
      "byteLimit": 2048000,
      "rowLimit": 10000
     },
     "inputWidgets": {},
     "nuid": "5e99d0eb-d219-46fd-a0bc-331502b7567a",
     "showTitle": false,
     "title": ""
    }
   },
   "outputs": [
    {
     "output_type": "stream",
     "name": "stdout",
     "output_type": "stream",
     "text": [
      "[NOTICE] Using a notebook authentication token. Recommended for development only. For improved performance, please use Service Principal based authentication. To disable this message, pass disable_notice=True to VectorSearchClient().\n"
     ]
    }
   ],
   "source": [
    "from databricks.vector_search.client import VectorSearchClient\n",
    "# Automatically generates a PAT Token for authentication\n",
    "vsc = VectorSearchClient()\n",
    "\n",
    "# Uses the service principal token for authentication\n",
    "# client = VectorSearch(service_principal_client_id=<CLIENT_ID>,service_principal_client_secret=<CLIENT_SECRET>)"
   ]
  },
  {
   "cell_type": "code",
   "execution_count": 0,
   "metadata": {
    "application/vnd.databricks.v1+cell": {
     "cellMetadata": {
      "byteLimit": 2048000,
      "rowLimit": 10000
     },
     "inputWidgets": {},
     "nuid": "18992186-6e36-4738-be8a-c5aa3d706663",
     "showTitle": false,
     "title": ""
    }
   },
   "outputs": [
    {
     "output_type": "stream",
     "name": "stdout",
     "output_type": "stream",
     "text": [
      "Help on class VectorSearchClient in module databricks.vector_search.client:\n\nclass VectorSearchClient(builtins.object)\n |  VectorSearchClient(workspace_url=None, personal_access_token=None, service_principal_client_id=None, service_principal_client_secret=None, azure_tenant_id=None, azure_login_id=None, disable_notice=False)\n |  \n |  Methods defined here:\n |  \n |  __init__(self, workspace_url=None, personal_access_token=None, service_principal_client_id=None, service_principal_client_secret=None, azure_tenant_id=None, azure_login_id=None, disable_notice=False)\n |      Initialize self.  See help(type(self)) for accurate signature.\n |  \n |  create_delta_sync_index(self, endpoint_name, index_name, primary_key, source_table_name, pipeline_type, embedding_dimension=None, embedding_vector_column=None, embedding_source_column=None, embedding_model_endpoint_name=None)\n |  \n |  create_direct_access_index(self, endpoint_name, index_name, primary_key, embedding_dimension, embedding_vector_column, schema)\n |  \n |  create_endpoint(self, name, endpoint_type='STANDARD')\n |  \n |  delete_endpoint(self, name)\n |  \n |  delete_index(self, endpoint_name, index_name)\n |  \n |  get_endpoint(self, name)\n |  \n |  get_index(self, endpoint_name, index_name)\n |  \n |  list_endpoints(self)\n |  \n |  list_indexes(self, name)\n |  \n |  validate(self, disable_notice=False)\n |  \n |  ----------------------------------------------------------------------\n |  Data descriptors defined here:\n |  \n |  __dict__\n |      dictionary for instance variables (if defined)\n |  \n |  __weakref__\n |      list of weak references to the object (if defined)\n\n"
     ]
    }
   ],
   "source": [
    "help(VectorSearchClient)"
   ]
  },
  {
   "cell_type": "markdown",
   "metadata": {
    "application/vnd.databricks.v1+cell": {
     "cellMetadata": {},
     "inputWidgets": {},
     "nuid": "3400ac43-9095-4b72-ba33-378f9c8d7f4e",
     "showTitle": false,
     "title": ""
    }
   },
   "source": [
    "## Load sample dataset Products.json into source Delta table"
   ]
  },
  {
   "cell_type": "markdown",
   "metadata": {
    "application/vnd.databricks.v1+cell": {
     "cellMetadata": {},
     "inputWidgets": {},
     "nuid": "c16f4133-8a85-4106-9272-db9689a24084",
     "showTitle": false,
     "title": ""
    }
   },
   "source": [
    "The following creates the source Delta table."
   ]
  },
  {
   "cell_type": "code",
   "execution_count": 0,
   "metadata": {
    "application/vnd.databricks.v1+cell": {
     "cellMetadata": {
      "byteLimit": 2048000,
      "rowLimit": 10000
     },
     "inputWidgets": {},
     "nuid": "742310e4-890c-4441-a82b-041d96e34be6",
     "showTitle": false,
     "title": ""
    }
   },
   "outputs": [],
   "source": [
    "source_catalog = \"vector_database\"\n",
    "source_schema = \"vector_search\"\n",
    "source_table = \"product\"\n",
    "source_table_fullname = f\"{source_catalog}.{source_schema}.{source_table}\""
   ]
  },
  {
   "cell_type": "code",
   "execution_count": 0,
   "metadata": {
    "application/vnd.databricks.v1+cell": {
     "cellMetadata": {
      "byteLimit": 2048000,
      "rowLimit": 10000
     },
     "inputWidgets": {},
     "nuid": "b72a2b78-6c55-4b0f-b228-879012a9a077",
     "showTitle": false,
     "title": ""
    }
   },
   "outputs": [],
   "source": [
    "# Uncomment the below, if you need to create a catalog for the source data.\n",
    "# spark.sql(f\"CREATE CATALOG IF NOT EXISTS {source_catalog}\")\n",
    "# Uncomment to create the source schema, if needed.\n",
    "# spark.sql(f\"CREATE SCHEMA IF NOT EXISTS {source_catalog}.{source_schema} COMMENT 'This is a schema for source data for Vector Search indexes.'\")"
   ]
  },
  {
   "cell_type": "code",
   "execution_count": 0,
   "metadata": {
    "application/vnd.databricks.v1+cell": {
     "cellMetadata": {},
     "inputWidgets": {},
     "nuid": "a449568f-15ae-43be-bea9-9d5bcdec85db",
     "showTitle": false,
     "title": ""
    }
   },
   "outputs": [],
   "source": [
    "# Uncomment if you want to start from scratch by dropping the existing table.\n",
    "#spark.sql(f\"DROP TABLE {source_table_fullname}\")"
   ]
  },
  {
   "cell_type": "code",
   "execution_count": 0,
   "metadata": {
    "application/vnd.databricks.v1+cell": {
     "cellMetadata": {
      "byteLimit": 2048000,
      "rowLimit": 10000
     },
     "inputWidgets": {},
     "nuid": "fcfbe7b8-0c19-4300-a67a-74d1d1fde6c4",
     "showTitle": false,
     "title": ""
    }
   },
   "outputs": [
    {
     "output_type": "display_data",
     "data": {
      "text/html": [
       "<style scoped>\n",
       "  .table-result-container {\n",
       "    max-height: 300px;\n",
       "    overflow: auto;\n",
       "  }\n",
       "  table, th, td {\n",
       "    border: 1px solid black;\n",
       "    border-collapse: collapse;\n",
       "  }\n",
       "  th, td {\n",
       "    padding: 5px;\n",
       "  }\n",
       "  th {\n",
       "    text-align: left;\n",
       "  }\n",
       "</style><div class='table-result-container'><table class='table-result'><thead style='background-color: white'><tr><th>category</th><th>content</th><th>id</th><th>title</th></tr></thead><tbody><tr><td>Web</td><td>Azure App Service is a fully managed platform for building, deploying, and scaling web apps. You can host web apps, mobile app backends, and RESTful APIs. It supports a variety of programming languages and frameworks, such as .NET, Java, Node.js, Python, and PHP. The service offers built-in auto-scaling and load balancing capabilities. It also provides integration with other Azure services, such as Azure DevOps, GitHub, and Bitbucket.</td><td>1</td><td>Azure App Service</td></tr><tr><td>Compute</td><td>Azure Functions is a serverless compute service that enables you to run code on-demand without having to manage infrastructure. It allows you to build and deploy event-driven applications that automatically scale with your workload. Functions support various languages, including C#, F#, Node.js, Python, and Java. It offers a variety of triggers and bindings to integrate with other Azure services and external services. You only pay for the compute time you consume.</td><td>2</td><td>Azure Functions</td></tr><tr><td>AI + Machine Learning</td><td>Azure Cognitive Services are a set of AI services that enable you to build intelligent applications with powerful algorithms using just a few lines of code. These services cover a wide range of capabilities, including vision, speech, language, knowledge, and search. They are designed to be easy to use and integrate into your applications. Cognitive Services are fully managed, scalable, and continuously improved by Microsoft. It allows developers to create AI-powered solutions without deep expertise in machine learning.</td><td>3</td><td>Azure Cognitive Services</td></tr><tr><td>Storage</td><td>Azure Storage is a scalable, durable, and highly available cloud storage service that supports a variety of data types, including blobs, files, queues, and tables. It provides a massively scalable object store for unstructured data. Storage supports data redundancy and geo-replication, ensuring high durability and availability. It offers a variety of data access and management options, including REST APIs, SDKs, and Azure Portal. You can secure your data using encryption at rest and in transit.</td><td>4</td><td>Azure Storage</td></tr><tr><td>Databases</td><td>Azure SQL Database is a fully managed relational database service based on the latest stable version of Microsoft SQL Server. It offers built-in intelligence that learns your application patterns and adapts to maximize performance, reliability, and data protection. SQL Database supports elastic scaling, allowing you to dynamically adjust resources to match your workload. It provides advanced security features, such as encryption, auditing, and threat detection. You can migrate your existing SQL Server databases to Azure SQL Database with minimal downtime.</td><td>5</td><td>Azure SQL Database</td></tr><tr><td>Databases</td><td>Azure Cosmos DB is a fully managed, globally distributed, multi-model database service designed for building highly responsive and scalable applications. It offers turnkey global distribution, automatic and instant scalability, and guarantees low latency, high availability, and consistency. Cosmos DB supports popular NoSQL APIs, including MongoDB, Cassandra, Gremlin, and Azure Table Storage. You can build globally distributed applications with ease, without having to deal with complex configuration and capacity planning. Data stored in Cosmos DB is automatically indexed, enabling you to query your data with SQL, JavaScript, or other supported query languages.</td><td>6</td><td>Azure Cosmos DB</td></tr><tr><td>Containers</td><td>Azure Kubernetes Service (AKS) is a managed container orchestration service based on the popular open-source Kubernetes system. It simplifies Kubernetes deployment and management, making it easy for developers and administrators to deploy, scale, and manage containerized applications. AKS offers automatic upgrades, scaling, and self-healing capabilities, reducing the operational overhead of managing Kubernetes clusters. It also integrates with Azure services like Azure Active Directory, Azure Monitor, and Azure Policy, providing a seamless experience for managing your applications and infrastructure.</td><td>7</td><td>Azure Kubernetes Service (AKS)</td></tr><tr><td>Compute</td><td>Azure Virtual Machines (VMs) is an Infrastructure-as-a-Service (IaaS) offering that allows you to deploy and manage virtual machines in the cloud. You can choose from a wide range of VM sizes, operating systems, and software configurations. VMs support various operating systems, including Windows Server, Linux, and SQL Server. You can scale your VMs up or down as needed, and pay only for the resources you use. VMs provide built-in security features, such as Azure Security Center, Azure Active Directory, and encryption.</td><td>8</td><td>Azure Virtual Machines</td></tr><tr><td>Developer Tools</td><td>Azure DevOps is a suite of services that help you plan, build, and deploy applications. It includes Azure Boards for work item tracking, Azure Repos for source code management, Azure Pipelines for continuous integration and continuous deployment, Azure Test Plans for manual and automated testing, and Azure Artifacts for package management. DevOps supports a wide range of programming languages, frameworks, and platforms, making it easy to integrate with your existing development tools and processes. It also integrates with other Azure services, such as Azure App Service and Azure Functions.</td><td>9</td><td>Azure DevOps</td></tr><tr><td>Internet of Things</td><td>Azure IoT Hub is a managed service that enables you to connect, monitor, and manage billions of IoT devices. It provides secure and reliable communication between your IoT devices and your backend solution. IoT Hub supports multiple communication protocols, including MQTT, AMQP, and HTTPS. It offers device-to-cloud and cloud-to-device messaging, device management, and device twin capabilities. With IoT Hub, you can build scalable and secure IoT solutions that integrate with other Azure services and custom applications.</td><td>10</td><td>Azure IoT Hub</td></tr><tr><td>AI + Machine Learning</td><td>Azure Machine Learning is a cloud-based service for building, training, and deploying machine learning models. It offers a visual interface for creating and managing experiments, as well as support for popular programming languages like Python and R. Machine Learning supports various algorithms, frameworks, and data sources, making it easy to integrate with your existing data and workflows. You can deploy your models as web services, and scale them based on your needs. It also integrates with other Azure services, such as Azure Databricks and Azure Data Factory.</td><td>11</td><td>Azure Machine Learning</td></tr><tr><td>Analytics</td><td>Azure Databricks is an Apache Spark-based analytics platform optimized for the Azure cloud. It provides a collaborative workspace for data scientists, engineers, and business users to process, analyze, and visualize big data. Databricks supports multiple programming languages, including Python, Scala, R, and SQL. It offers built-in integration with Azure Blob Storage, Azure Data Lake Storage, and Azure Cosmos DB. You can also use Databricks to train and deploy machine learning models, and integrate with Azure Machine Learning.</td><td>12</td><td>Azure Databricks</td></tr><tr><td>Identity</td><td>Azure Active Directory (Azure AD) is a cloud-based identity and access management service that helps you manage and secure access to your applications and resources. It provides features like single sign-on (SSO), multi-factor authentication (MFA), and conditional access policies. Azure AD supports integration with on-premises Active Directory, as well as third-party identity providers like Google and Facebook. You can use Azure AD to protect both cloud-based and on-premises applications, and manage access for employees, partners, and customers.</td><td>13</td><td>Azure Active Directory</td></tr><tr><td>Integration</td><td>Azure Logic Apps is a cloud-based service that allows you to create and run workflows that integrate with various services and data sources. It provides a visual designer for creating workflows, and supports a wide range of connectors for popular services like Office 365, Salesforce, and Dropbox. Logic Apps enable you to automate tasks, process and transform data, and orchestrate complex processes without writing code. You can monitor and manage your workflows using Azure Portal, REST APIs, or PowerShell.</td><td>14</td><td>Azure Logic Apps</td></tr><tr><td>Big Data</td><td>Azure Event Hubs is a fully managed, real-time data ingestion service that enables you to stream and process millions of events per second. It supports various data producers, such as IoT devices, applications, and services. Event Hubs provides low latency, high throughput, and scalable data streaming, making it suitable for big data scenarios like telemetry processing and log analytics. You can use Event Hubs with other Azure services, such as Azure Stream Analytics and Azure Functions, to build end-to-end real-time data processing solutions.</td><td>15</td><td>Azure Event Hubs</td></tr><tr><td>Integration</td><td>Azure API Management is a fully managed service that helps you create, publish, and manage APIs for your applications. It provides features like API documentation, developer portal, access control, and caching. API Management supports various API formats, including REST, SOAP, and GraphQL. You can use API Management to secure your APIs with authentication, authorization, and IP filtering. It also offers built-in analytics and monitoring, allowing you to track the usage and performance of your APIs.</td><td>16</td><td>Azure API Management</td></tr><tr><td>Analytics</td><td>Azure Data Factory is a cloud-based data integration service that allows you to create, schedule, and manage data workflows. It supports a wide range of sources and destinations, such as Azure Blob Storage, Azure SQL Database, and on-premises file systems. Data Factory provides a visual interface for designing and monitoring your workflows, as well as support for popular programming languages like Python and .NET. You can use Data Factory to move and transform data, orchestrate complex data processing tasks, and integrate with other Azure services.</td><td>17</td><td>Azure Data Factory</td></tr><tr><td>Analytics</td><td>Azure Synapse Analytics is an integrated analytics service that brings together big data and data warehousing. It enables you to ingest, prepare, manage, and serve data for immediate business intelligence and machine learning needs. Synapse Analytics provides a unified workspace for data engineers, data scientists, and business analysts to collaborate and build solutions. It supports various data sources, including Azure Data Lake Storage, Azure Blob Storage, and Azure Cosmos DB. You can use Synapse Analytics with other Azure services, such as Azure Machine Learning and Power BI.</td><td>18</td><td>Azure Synapse Analytics</td></tr><tr><td>Compute</td><td>Azure Batch is a cloud-based job scheduling service that enables you to run large-scale parallel and high-performance computing (HPC) applications. It provides features like automatic scaling, task scheduling, and resource management. Batch supports various VM sizes, operating systems, and application frameworks, making it easy to integrate with your existing workloads. You can use Batch to process large datasets, run simulations, and perform complex calculations. It also integrates with other Azure services, such as Azure Storage and Azure Active Directory.</td><td>19</td><td>Azure Batch</td></tr><tr><td>Networking</td><td>Azure Content Delivery Network (CDN) is a global content delivery network that enables you to deliver content to users with low latency and high availability. It caches and serves content from edge servers located near your users, improving the performance and reliability of your web applications. Azure CDN supports various content types, including static files, videos, and images. It provides advanced features like geo-filtering, custom domains, and SSL certificates. You can use Azure CDN with other Azure services, such as Azure App Service and Azure Storage.</td><td>20</td><td>Azure CDN</td></tr><tr><td>Networking</td><td>Azure ExpressRoute is a private, dedicated network connection between your on-premises infrastructure and Azure. It provides faster speeds, lower latencies, and more reliability than a standard internet connection. ExpressRoute supports various connectivity models, such as point-to-point, any-to-any, and hub-and-spoke. You can use ExpressRoute to extend your on-premises networks into Azure, build hybrid applications, and migrate workloads to the cloud. It also integrates with other Azure services, such as Azure Virtual Machines and Azure Storage.</td><td>21</td><td>Azure ExpressRoute</td></tr><tr><td>Networking</td><td>Azure Traffic Manager is a DNS-based traffic load balancer that enables you to distribute traffic across multiple Azure services and regions. It provides features like automatic failover, performance-based routing, and geographic routing. Traffic Manager supports various Azure services, such as Azure App Service, Azure Cloud Services, and Azure Virtual Machines. You can use Traffic Manager to build highly available and responsive applications, optimize your users' experience, and improve the resiliency of your infrastructure.</td><td>22</td><td>Azure Traffic Manager</td></tr><tr><td>Networking</td><td>Azure Virtual Network (VNet) is a networking service that enables you to create and manage private networks in Azure. It provides features like subnets, network security groups, and virtual network peering. VNet supports various Azure services, such as Azure Virtual Machines, Azure App Service, and Azure Kubernetes Service. You can use VNet to build isolated environments, connect your on-premises networks to Azure, and secure your applications and resources. It also integrates with other Azure services, such as Azure ExpressRoute and Azure Traffic Manager.</td><td>23</td><td>Azure Virtual Network</td></tr><tr><td>Security</td><td>Azure Firewall is a managed, cloud-based network security service that protects your Azure Virtual Network resources. It provides features like stateful packet inspection, application filtering, and threat intelligence. Firewall supports various network protocols, including TCP, UDP, and ICMP. You can use Azure Firewall to create and enforce network security policies, prevent unauthorized access, and protect your applications and data. It also integrates with other Azure services, such as Azure Monitor and Azure Security Center.</td><td>24</td><td>Azure Firewall</td></tr><tr><td>Networking</td><td>Azure Private Link is a networking service that enables you to access Azure services over a private connection. It provides features like private IP addresses, secure connectivity, and simplified network architecture. Private Link supports various Azure services, such as Azure Storage, Azure SQL Database, and Azure App Service. You can use Private Link to build secure and compliant applications, reduce exposure to the public internet, and simplify your network management. It also integrates with other Azure services, such as Azure Virtual Network and Azure ExpressRoute.</td><td>25</td><td>Azure Private Link</td></tr><tr><td>Management + Governance</td><td>Azure Site Recovery is a disaster recovery service that enables you to protect your applications and data by orchestrating replication, failover, and recovery of workloads. It supports various platforms, including Azure, on-premises, and third-party cloud providers. Site Recovery provides features like automated recovery, application consistency, and network integration. You can use Site Recovery to meet your business continuity and disaster recovery requirements, minimize downtime, and ensure compliance with industry regulations. It also integrates with other Azure services, such as Azure Backup and Azure Monitor.</td><td>26</td><td>Azure Site Recovery</td></tr><tr><td>Management + Governance</td><td>Azure Backup is a cloud-based backup service that enables you to protect your data and applications from loss and corruption. It supports various platforms, including Azure, on-premises, and third-party cloud providers. Backup provides features like incremental backups, data encryption, and long-term retention. You can use Azure Backup to meet your data protection requirements, ensure business continuity, and comply with industry regulations. It also integrates with other Azure services, such as Azure Site Recovery and Azure Storage.</td><td>27</td><td>Azure Backup</td></tr><tr><td>Integration</td><td>Azure Service Bus is a fully managed, enterprise-grade messaging service that enables you to build reliable and scalable applications. It provides features like message queuing, publish-subscribe, and dead-lettering. Service Bus supports various messaging patterns, including point-to-point, broadcast, and request-reply. You can use Service Bus to integrate your applications and services, decouple your system components, and handle asynchronous communication. It also integrates with other Azure services, such as Azure Functions and Azure Logic Apps.</td><td>28</td><td>Azure Service Bus</td></tr><tr><td>Analytics</td><td>Azure Stream Analytics is a real-time data stream processing service that enables you to analyze and process high volumes of fast-moving data. It supports various data sources, such as Azure Event Hubs, Azure IoT Hub, and Azure Blob Storage. Stream Analytics provides features like windowing, time-based aggregations, and user-defined functions. You can use Stream Analytics to build real-time dashboards, detect anomalies, and generate alerts. It also integrates with other Azure services, such as Azure Functions and Azure Machine Learning.</td><td>29</td><td>Azure Stream Analytics</td></tr><tr><td>Mobile</td><td>Azure Notification Hubs is a scalable mobile push notification service that enables you to send notifications to users across various platforms, including iOS, Android, and Windows. It provides features like personalized notifications, templates, and localization. Notification Hubs support various push notification services, such as Apple Push Notification Service (APNS), Firebase Cloud Messaging (FCM), and Windows Notification Service (WNS). You can use Notification Hubs to engage with your users, improve user retention, and increase app usage. It also integrates with other Azure services, such as Azure Mobile Apps and Azure Functions.</td><td>30</td><td>Azure Notification Hubs</td></tr><tr><td>Mobile</td><td>Azure Mobile Apps is a mobile app development platform that enables you to build, test, deploy, and monitor your mobile applications. It provides features like offline data sync, push notifications, and user authentication. Mobile Apps supports various platforms, including iOS, Android, and Windows. You can use Mobile Apps to build cross-platform applications, integrate with other Azure services, and improve your app development lifecycle. It also integrates with other Azure services, such as Azure Notification Hubs and Azure App Service.</td><td>31</td><td>Azure Mobile Apps</td></tr><tr><td>Analytics</td><td>Azure Time Series Insights is a fully managed analytics, storage, and visualization service that enables you to explore and analyze time-series data. It supports various data sources, such as Azure IoT Hub, Azure Event Hubs, and Azure Blob Storage. Time Series Insights provides features like real-time data streaming, advanced querying, and pattern recognition. You can use Time Series Insights to monitor your IoT devices, detect anomalies, and gain insights into your data. It also integrates with other Azure services, such as Azure Stream Analytics and Azure Machine Learning.</td><td>32</td><td>Azure Time Series Insights</td></tr><tr><td>Internet of Things</td><td>Azure Digital Twins is an IoT service that enables you to create digital representations of your physical assets, environments, and processes. It provides features like spatial intelligence, twin graphs, and event-driven functions. Digital Twins supports various data sources, such as Azure IoT Hub, Azure Event Hubs, and Azure Blob Storage. You can use Digital Twins to build connected solutions, optimize your operations, and improve your decision-making. It also integrates with other Azure services, such as Azure Time Series Insights and Azure Machine Learning.</td><td>33</td><td>Azure Digital Twins</td></tr><tr><td>Analytics</td><td>Azure Data Explorer is a fast, fully managed data analytics service for real-time analysis on large volumes of data. It provides features like ingestion, querying, and visualization. Data Explorer supports various data sources, such as Azure Event Hubs, Azure IoT Hub, and Azure Blob Storage. You can use Data Explorer to analyze logs, monitor applications, and gain insights into your data. It also integrates with other Azure services, such as Azure Synapse Analytics and Azure Machine Learning.</td><td>34</td><td>Azure Data Explorer</td></tr><tr><td>Analytics</td><td>Azure Data Catalog is a fully managed metadata service that enables you to discover, understand, and use your data sources. It provides features like data asset registration, metadata discovery, and data lineage. Data Catalog supports various data sources, such as Azure SQL Database, Azure Blob Storage, and on-premises file systems. You can use Data Catalog to build a unified data catalog, improve data governance, and streamline your data discovery process. It also integrates with other Azure services, such as Azure Synapse Analytics and Azure Data Factory.</td><td>35</td><td>Azure Data Catalog</td></tr><tr><td>Storage</td><td>Azure Data Lake Storage is a scalable, secure, and cost-effective storage service for big data analytics. It provides features like unlimited storage, hierarchical namespace, and fine-grained access control. Data Lake Storage supports various data types, such as structured, semi-structured, and unstructured data. You can use Data Lake Storage to store and analyze your data, build data lakes, and integrate with other Azure services. It also integrates with other Azure services, such as Azure Databricks and Azure Machine Learning.</td><td>36</td><td>Azure Data Lake Storage</td></tr><tr><td>Analytics</td><td>Azure Data Lake Analytics is an on-demand, cloud-based analytics service that enables you to process and analyze big data. It provides features like job scheduling, parallel processing, and built-in analytics functions. Data Lake Analytics supports various data sources, such as Azure Data Lake Storage, Azure Blob Storage, and Azure SQL Database. You can use Data Lake Analytics to run U-SQL, R, and Python scripts, perform advanced analytics, and gain insights into your data. It also integrates with other Azure services, such as Azure Machine Learning and Azure Data Factory.</td><td>37</td><td>Azure Data Lake Analytics</td></tr><tr><td>Security</td><td>Azure Bastion is a fully managed, secure, and scalable service that provides remote access to your virtual machines. It provides features like private connectivity, secure RDP/SSH sessions, and browser-based access. Bastion supports various Azure services, such as Azure Virtual Machines, Azure Virtual Network, and Azure Active Directory. You can use Azure Bastion to securely access your virtual machines, minimize your attack surface, and improve the security of your infrastructure. It also integrates with other Azure services, such as Azure Monitor and Azure Security Center.</td><td>38</td><td>Azure Bastion</td></tr><tr><td>Media</td><td>Azure Media Services is a cloud-based media processing and delivery platform that enables you to build, deploy, and scale video applications. It provides features like encoding, streaming, content protection, and video indexing. Media Services supports various input and output formats, such as MP4, MPEG-DASH, and HLS. You can use Media Services to deliver live and on-demand video, build video-on-demand platforms, and analyze your video content. It also integrates with other Azure services, such as Azure Content Delivery Network and Azure Storage.</td><td>39</td><td>Azure Media Services</td></tr><tr><td>AI + Machine Learning</td><td>Azure Cognitive Search is a fully managed search-as-a-service that enables you to build rich search experiences for your applications. It provides features like full-text search, faceted navigation, and filters. Azure Cognitive Search supports various data sources, such as Azure SQL Database, Azure Blob Storage, and Azure Cosmos DB. You can use Azure Cognitive Search to index your data, create custom scoring profiles, and integrate with other Azure services. It also integrates with other Azure services, such as Azure Cognitive Services and Azure Machine Learning.</td><td>40</td><td>Azure Cognitive Search</td></tr><tr><td>Security</td><td>Azure Key Vault is a cloud-based service for securely storing and managing secrets, keys, and certificates. It provides features like access control, auditing, and secure storage. Key Vault supports various types of secrets, such as connection strings, passwords, and API keys. You can use Key Vault to secure your applications, protect your sensitive data, and manage your cryptographic keys. It also integrates with other Azure services, such as Azure Virtual Machines and Azure App Service.</td><td>41</td><td>Azure Key Vault</td></tr><tr><td>Management + Governance</td><td>Azure Monitor is a comprehensive, full-stack monitoring service that enables you to collect, analyze, and act on telemetry data from your applications and infrastructure. It provides features like log analytics, metrics, alerts, and dashboards. Azure Monitor supports various data sources, such as Azure resources, custom applications, and operating systems. You can use Azure Monitor to detect and diagnose issues, optimize your performance, and ensure the availability of your resources. It also integrates with other Azure services, such as Azure Log Analytics and Azure Application Insights.</td><td>42</td><td>Azure Monitor</td></tr><tr><td>Security</td><td>Azure DDoS Protection is a cloud-based service that helps protect your applications and resources from distributed denial-of-service (DDoS) attacks. It provides features like automatic attack mitigation, traffic profiling, and attack analytics. DDoS Protection supports various Azure services, such as Azure Virtual Machines, Azure App Service, and Azure Load Balancer. You can use Azure DDoS Protection to safeguard your infrastructure, ensure the availability of your applications, and maintain your business continuity. It also integrates with other Azure services, such as Azure Security Center and Azure Monitor.</td><td>43</td><td>Azure DDoS Protection</td></tr><tr><td>Networking</td><td>Azure Application Gateway is a fully managed, scalable, and secure web application firewall (WAF) that helps protect your web applications from common web vulnerabilities and exploits. It provides features like SSL offloading, URL-based routing, and custom health probes. Application Gateway supports various Azure services, such as Azure Virtual Machines, Azure App Service, and Azure Kubernetes Service. You can use Application Gateway to secure your applications, improve performance, and ensure high availability. It also integrates with other Azure services, such as Azure Security Center and Azure Monitor.</td><td>44</td><td>Azure Application Gateway</td></tr><tr><td>Networking</td><td>Azure VPN Gateway is a secure, scalable, and high-performance virtual network gateway that enables you to establish encrypted connections between your on-premises networks and Azure Virtual Networks. It provides features like site-to-site VPN, point-to-site VPN, and ExpressRoute. VPN Gateway supports various VPN protocols, such as IKEv2, SSTP, and OpenVPN. You can use Azure VPN Gateway to build hybrid applications, extend your on-premises networks to the cloud, and secure your data in transit. It also integrates with other Azure services, such as Azure Virtual Network and Azure Network Security Groups.</td><td>45</td><td>Azure VPN Gateway</td></tr><tr><td>Analytics</td><td>Azure HDInsight is a fully managed, open-source analytics service for processing big data workloads. It provides popular open-source frameworks, such as Apache Hadoop, Apache Spark, Apache Kafka, and Apache HBase. HDInsight supports various data sources, such as Azure Blob Storage, Azure Data Lake Storage, and Azure Cosmos DB. You can use HDInsight to analyze and process large volumes of data, build real-time analytics solutions, and develop machine learning models. It also integrates with other Azure services, such as Azure Synapse Analytics and Azure Machine Learning.</td><td>46</td><td>Azure HDInsight</td></tr><tr><td>Analytics</td><td>Azure Power BI Embedded is a cloud-based analytics service that enables you to embed interactive visualizations and reports into your applications. It provides features like data exploration, custom visuals, and real-time data refresh. Power BI Embedded supports various data sources, such as Azure SQL Database, Azure Blob Storage, and on-premises databases. You can use Power BI Embedded to create data-driven applications, improve decision-making, and enhance user experiences. It also integrates with other Azure services, such as Azure Synapse Analytics and Azure Machine Learning.</td><td>47</td><td>Azure Power BI Embedded</td></tr><tr><td>Storage</td><td>Azure Managed Disks is a scalable, durable, and high-performance block storage service for Azure Virtual Machines. It provides features like automatic scaling, built-in encryption, and integration with Azure Backup. Managed Disks supports various disk types, such as Premium SSD, Standard SSD, and Standard HDD. You can use Managed Disks to store and manage your data, improve the performance of your applications, and ensure high availability. It also integrates with other Azure services, such as Azure Virtual Machines and Azure Site Recovery.</td><td>48</td><td>Azure Managed Disks</td></tr><tr><td>Databases</td><td>Azure Cache for Redis is a fully managed, in-memory data store that enables you to build highly responsive and scalable applications. It provides features like data persistence, high availability, and automatic scaling. Cache for Redis supports various data structures, such as strings, lists, sets, and hashes. You can use Azure Cache for Redis to improve the performance of your applications, offload your databases, and reduce the latency of your data access. It also integrates with other Azure services, such as Azure App Service and Azure Kubernetes Service.</td><td>49</td><td>Azure Cache for Redis</td></tr><tr><td>Storage</td><td>Azure Blob Storage is a scalable, durable, and high-performance object storage service for unstructured data. It provides features like data redundancy, geo-replication, and fine-grained access control. Blob Storage supports various data types, such as images, documents, and videos. You can use Blob Storage to store and manage your data, build data lakes, and develop big data analytics solutions. It also integrates with other Azure services, such as Azure CDN, Azure Functions, and Azure Machine Learning.</td><td>50</td><td>Azure Blob Storage</td></tr><tr><td>Storage</td><td>Azure File Storage is a fully managed, scalable, and secure file sharing service that enables you to store and access your files over the Server Message Block (SMB) protocol. It provides features like snapshots, shared access signatures, and integration with Azure Backup. File Storage supports various platforms, such as Windows, Linux, and macOS. You can use Azure File Storage to build file sharing solutions, lift and shift your applications to the cloud, and simplify your data management. It also integrates with other Azure services, such as Azure Virtual Machines and Azure Kubernetes Service.</td><td>51</td><td>Azure File Storage</td></tr><tr><td>Storage</td><td>Azure Table Storage is a fully managed, NoSQL datastore that enables you to store and query large amounts of structured, non-relational data. It provides features like automatic scaling, schema-less design, and a RESTful API. Table Storage supports various data types, such as strings, numbers, and booleans. You can use Azure Table Storage to store and manage your data, build scalable applications, and reduce the cost of your storage. It also integrates with other Azure services, such as Azure Functions and Azure Cosmos DB.</td><td>52</td><td>Azure Table Storage</td></tr><tr><td>Storage</td><td>Azure Queue Storage is a fully managed, scalable, and durable message queuing service that enables you to decouple your applications and build asynchronous solutions. It provides features like at-least-once delivery, message time-to-live, and a RESTful API. Queue Storage supports various programming languages, such as C#, Java, and Python. You can use Azure Queue Storage to build distributed applications, offload your databases, and process and store large volumes of messages. It also integrates with other Azure services, such as Azure Functions and Azure Logic Apps.</td><td>53</td><td>Azure Queue Storage</td></tr><tr><td>Storage</td><td>Azure Data Box is a family of data transfer devices that enables you to securely and efficiently transfer your data to Azure. It provides features like offline data transfer, data encryption, and chain of custody. Data Box supports various data types, such as files, databases, and virtual machines. You can use Azure Data Box to migrate your data, build data lakes, and perform data backup and archiving. It also integrates with other Azure services, such as Azure Storage and Azure Synapse Analytics.</td><td>54</td><td>Azure Data Box</td></tr><tr><td>Storage</td><td>Azure Import/Export is a data transport solution that enables you to securely and efficiently transfer your data to and from Azure Storage. It provides features like offline data transfer, data encryption, and chain of custody. Import/Export supports various data types, such as files, databases, and virtual machines. You can use Azure Import/Export to migrate your data, build data lakes, and perform data backup and archiving. It also integrates with other Azure services, such as Azure Storage and Azure Data Box.</td><td>55</td><td>Azure Import/Export</td></tr><tr><td>Networking</td><td>Azure Front Door is a global, scalable, and secure entry point for fast delivery of your web applications. It provides features like load balancing, SSL offloading, and web application firewall (WAF). Front Door supports various Azure services, such as Azure App Service, Azure Storage, and Azure Virtual Machines. You can use Azure Front Door to build highly available and responsive applications, optimize your users' experience, and improve the security of your infrastructure. It also integrates with other Azure services, such as Azure CDN and Azure Traffic Manager.</td><td>56</td><td>Azure Front Door</td></tr><tr><td>Compute</td><td>Azure Service Fabric is a distributed systems platform that enables you to build, deploy, and manage scalable and reliable microservices and container-based applications. It provides features like stateful services, fault tolerance, and rolling upgrades. Service Fabric supports various programming languages, such as C#, Java, and Node.js. You can use Azure Service Fabric to build cloud-native applications, modernize your existing applications, and ensure high availability and scalability. It also integrates with other Azure services, such as Azure Kubernetes Service and Azure DevOps.</td><td>57</td><td>Azure Service Fabric</td></tr><tr><td>Management + Governance</td><td>Azure Reserved VM Instances (RIs) are a flexible, cost-effective way to reserve compute capacity in Azure. By committing to a one-year or three-year term, you can significantly reduce your virtual machine costs compared to pay-as-you-go pricing. RIs provide features like instance size flexibility, regional scoping, and easy exchanges. You can use Azure Reserved VM Instances to optimize your costs, ensure capacity availability, and simplify your budget planning. It also integrates with other Azure services, such as Azure Cost Management and Azure Virtual Machines.</td><td>58</td><td>Azure Reserved VM Instances</td></tr><tr><td>Management + Governance</td><td>Azure Policy is a governance service that enables you to define, enforce, and audit policies across your Azure resources. It provides features like policy assignment, policy evaluation, and compliance reporting. Azure Policy supports various resource types, such as Azure Virtual Machines, Azure Storage, and Azure App Service. You can use Azure Policy to ensure compliance with your organization's standards, prevent non-compliant resources, and automate remediation. It also integrates with other Azure services, such as Azure Monitor and Azure Security Center.</td><td>59</td><td>Azure Policy</td></tr><tr><td>Security</td><td>Azure Security Center is a unified security management service that helps you protect your workloads and improve your security posture across your Azure resources and on-premises infrastructure. It provides features like continuous security assessments, threat protection, and security recommendations. Security Center supports various platforms, such as Windows, Linux, and Kubernetes. You can use Azure Security Center to detect and remediate threats, manage your security policies, and ensure compliance with industry regulations. It also integrates with other Azure services, such as Azure Monitor and Azure Log Analytics.</td><td>60</td><td>Azure Security Center</td></tr><tr><td>Networking</td><td>Azure Private DNS is a fully managed, private Domain Name System (DNS) service that enables you to manage and resolve domain names in your virtual network. It provides features like custom domains, DNS-based load balancing, and private access. Private DNS supports various Azure services, such as Azure Virtual Machines, Azure App Service, and Azure Kubernetes Service. You can use Azure Private DNS to build isolated environments, simplify your network management, and ensure the security of your DNS traffic. It also integrates with other Azure services, such as Azure Virtual Network and Azure Traffic Manager.</td><td>61</td><td>Azure Private DNS</td></tr><tr><td>Developer Tools</td><td>Azure DevTest Labs is a fully managed service that enables you to create, manage, and share development and test environments in Azure. It provides features like custom templates, cost management, and integration with Azure DevOps. DevTest Labs supports various platforms, such as Windows, Linux, and Kubernetes. You can use Azure DevTest Labs to improve your application development lifecycle, reduce your costs, and ensure the consistency of your environments. It also integrates with other Azure services, such as Azure Virtual Machines and Azure App Service.</td><td>62</td><td>Azure DevTest Labs</td></tr><tr><td>Compute</td><td>Azure Functions is a serverless compute service that enables you to run event-driven code without managing the underlying infrastructure. It provides features like automatic scaling, triggers, and bindings. Functions supports various programming languages, such as C#, Java, and Python. You can use Azure Functions to build microservices, integrate with other Azure services, and process and transform data. It also integrates with other Azure services, such as Azure Event Hubs, Azure Storage, and Azure Cosmos DB.</td><td>63</td><td>Azure Functions</td></tr><tr><td>Web</td><td>Azure SignalR Service is a fully managed, real-time messaging service that enables you to build and scale real-time web applications. It provides features like automatic scaling, WebSocket support, and serverless integration. SignalR Service supports various programming languages, such as C#, JavaScript, and Java. You can use Azure SignalR Service to build chat applications, real-time dashboards, and collaborative tools. It also integrates with other Azure services, such as Azure Functions and Azure App Service.</td><td>64</td><td>Azure SignalR Service</td></tr><tr><td>Blockchain</td><td>Azure Blockchain Service is a fully managed, multi-ledger blockchain platform that enables you to build and manage blockchain applications. It provides features like consortium management, private transactions, and integration with Azure Logic Apps. Blockchain Service supports various blockchain protocols, such as Ethereum and Hyperledger Fabric. You can use Azure Blockchain Service to build secure and compliant applications, streamline your business processes, and improve trust and transparency. It also integrates with other Azure services, such as Azure Active Directory and Azure Key Vault.</td><td>65</td><td>Azure Blockchain Service</td></tr><tr><td>Databases</td><td>Azure Database for MySQL is a fully managed, scalable, and secure relational database service that enables you to build and manage MySQL applications in Azure. It provides features like automatic backups, monitoring, and high availability. Database for MySQL supports various data types, such as JSON, spatial, and full-text. You can use Azure Database for MySQL to migrate your existing applications, build new applications, and ensure the performance and security of your data. It also integrates with other Azure services, such as Azure App Service and Azure Data Factory.</td><td>66</td><td>Azure Database for MySQL</td></tr><tr><td>Databases</td><td>Azure Database for PostgreSQL is a fully managed, scalable, and secure relational database service that enables you to build and manage PostgreSQL applications in Azure. It provides features like automatic backups, monitoring, and high availability. Database for PostgreSQL supports various data types, such as JSON, spatial, and full-text. You can use Azure Database for PostgreSQL to migrate your existing applications, build new applications, and ensure the performance and security of your data. It also integrates with other Azure services, such as Azure App Service and Azure Data Factory.</td><td>67</td><td>Azure Database for PostgreSQL</td></tr><tr><td>Databases</td><td>Azure Database for MariaDB is a fully managed, scalable, and secure relational database service that enables you to build and manage MariaDB applications in Azure. It provides features like automatic backups, monitoring, and high availability. Database for MariaDB supports various data types, such as JSON, spatial, and full-text. You can use Azure Database for MariaDB to migrate your existing applications, build new applications, and ensure the performance and security of your data. It also integrates with other Azure services, such as Azure App Service and Azure Data Factory.</td><td>68</td><td>Azure Database for MariaDB</td></tr><tr><td>Databases</td><td>Azure SQL Managed Instance is a fully managed, scalable, and secure SQL Server instance hosted in Azure. It provides features like automatic backups, monitoring, and high availability. SQL Managed Instance supports various data types, such as JSON, spatial, and full-text. You can use Azure SQL Managed Instance to migrate your existing applications, build new applications, and ensure the performance and security of your data. It also integrates with other Azure services, such as Azure App Service and Azure Data Factory.</td><td>69</td><td>Azure SQL Managed Instance</td></tr><tr><td>Databases</td><td>Azure Cosmos DB is a globally distributed, multi-model database service that enables you to build and manage NoSQL applications in Azure. It provides features like automatic scaling, low-latency access, and multi-master replication. Cosmos DB supports various data models, such as key-value, document, graph, and column-family. You can use Azure Cosmos DB to build globally distributed applications, ensure high availability and performance, and manage your data at scale. It also integrates with other Azure services, such as Azure Functions and Azure App Service.</td><td>70</td><td>Azure Cosmos DB</td></tr><tr><td>Databases</td><td>Azure SQL Data Warehouse is a fully managed, petabyte-scale cloud data warehouse service that enables you to store and analyze your structured and semi-structured data. It provides features like automatic scaling, data movement, and integration with Azure Machine Learning. SQL Data Warehouse supports various data sources, such as Azure Blob Storage, Azure Data Lake Storage, and Azure SQL Database. You can use Azure SQL Data Warehouse to build data lakes, develop big data analytics solutions, and ensure the performance and security of your data. It also integrates with other Azure services, such as Azure Synapse Analytics and Azure Data Factory.</td><td>71</td><td>Azure SQL Data Warehouse</td></tr><tr><td>Management + Governance</td><td>Azure Application Insights is an application performance management service that enables you to monitor, diagnose, and troubleshoot your applications and infrastructure. It provides features like real-time telemetry, dependency mapping, and live metrics. Application Insights supports various platforms, such as .NET, Java, Node.js, and Python. You can use Azure Application Insights to detect and diagnose issues, optimize your performance, and ensure the availability of your applications. It also integrates with other Azure services, such as Azure Monitor and Azure Log Analytics.</td><td>72</td><td>Azure Application Insights</td></tr><tr><td>Management + Governance</td><td>Azure Log Analytics is a log management and analytics service that enables you to collect, store, and analyze your log data from various sources, such as Azure resources, custom applications, and operating systems. It provides features like advanced querying, data visualization, and integration with Azure Monitor. Log Analytics supports various data types, such as performance counters, event logs, and custom logs. You can use Azure Log Analytics to detect and diagnose issues, optimize your performance, and ensure the security of your infrastructure. It also integrates with other Azure services, such as Azure Security Center and Azure Application Insights.</td><td>73</td><td>Azure Log Analytics</td></tr><tr><td>Internet of Things</td><td>Azure IoT Central is a fully managed, global IoT software-as-a-service (SaaS) solution that enables you to build, manage, and scale your IoT applications. It provides features like device management, data visualization, and application templates. IoT Central supports various data sources, such as Azure IoT Hub, Azure Event Hubs, and Azure Blob Storage. You can use Azure IoT Central to build connected solutions, optimize your operations, and improve your decision-making. It also integrates with other Azure services, such as Azure Time Series Insights and Azure Machine Learning.</td><td>74</td><td>Azure IoT Central</td></tr><tr><td>Internet of Things</td><td>Azure Sphere is a comprehensive IoT security solution that includes a secure, high-level application platform, a custom Linux-based operating system, and a cloud-based security service. It provides features like automatic updates, device attestation, and error reporting. Azure Sphere supports various hardware platforms, such as microcontrollers and development boards. You can use Azure Sphere to build secure and compliant IoT devices, protect your intellectual property, and ensure the security of your IoT ecosystem. It also integrates with other Azure services, such as Azure IoT Hub and Azure IoT Central.</td><td>75</td><td>Azure Sphere</td></tr><tr><td>Internet of Things</td><td>Azure IoT Edge is a fully managed service that enables you to run cloud intelligence directly on your IoT devices. It provides features like automatic scaling, device management, and integration with Azure Machine Learning. IoT Edge supports various programming languages, such as C#, Java, and Python. You can use Azure IoT Edge to build edge computing solutions, optimize your operations, and improve your decision-making. It also integrates with other Azure services, such as Azure IoT Hub and Azure Functions.</td><td>76</td><td>Azure IoT Edge</td></tr><tr><td>Management + Governance</td><td>Azure Migrate is a cloud migration service that enables you to discover, assess, and migrate your on-premises workloads to Azure. It provides features like VM compatibility assessment, performance-based sizing, and cost estimation. Azure Migrate supports various platforms, such as Windows, Linux, and VMware. You can use Azure Migrate to plan your migration, ensure the compatibility of your workloads, and optimize your costs. It also integrates with other Azure services, such as Azure Site Recovery and Azure Database Migration Service.</td><td>77</td><td>Azure Migrate</td></tr><tr><td>Databases</td><td>Azure Database Migration Service is a fully managed, end-to-end migration service that enables you to migrate your databases to Azure with minimal downtime. It supports various source and target platforms, such as SQL Server, MySQL, PostgreSQL, and Azure SQL Database. Database Migration Service provides features like schema conversion, data migration, and performance monitoring. You can use Azure Database Migration Service to migrate your databases, ensure the compatibility of your workloads, and minimize your migration risks. It also integrates with other Azure services, such as Azure Migrate and Azure SQL Managed Instance.</td><td>78</td><td>Azure Database Migration Service</td></tr><tr><td>Management + Governance</td><td>Azure Blueprints is a governance service that enables you to define, deploy, and update your Azure environments in a consistent and repeatable manner. It provides features like environment templates, policy assignment, and RBAC configuration. Blueprints support various Azure services, such as Azure Virtual Machines, Azure Storage, and Azure App Service. You can use Azure Blueprints to ensure compliance with your organization's standards, automate your environment creation, and simplify your infrastructure management. It also integrates with other Azure services, such as Azure Policy and Azure Resource Manager.</td><td>79</td><td>Azure Blueprints</td></tr><tr><td>Compute</td><td>Azure Kubernetes Service (AKS) is a fully managed, container orchestration platform that enables you to deploy, scale, and manage containerized applications using Kubernetes. It provides features like automatic scaling, rolling updates, and integration with Azure Active Directory. AKS supports various container runtimes, such as Docker and containerd. You can use Azure Kubernetes Service to build microservices, modernize your existing applications, and ensure high availability and scalability. It also integrates with other Azure services, such as Azure Container Registry and Azure Monitor.</td><td>80</td><td>Azure Kubernetes Service (AKS)</td></tr><tr><td>Compute</td><td>Azure Container Instances (ACI) is a serverless container runtime that enables you to run and scale your containerized applications in Azure without managing the underlying infrastructure. It provides features like automatic scaling, custom domains, and integration with Azure Logic Apps. ACI supports various container runtimes, such as Docker and containerd. You can use Azure Container Instances to build microservices, modernize your existing applications, and ensure high availability and scalability. It also integrates with other Azure services, such as Azure Kubernetes Service and Azure Functions.</td><td>81</td><td>Azure Container Instances</td></tr><tr><td>Containers</td><td>Azure Container Registry is a fully managed, private Docker registry service that enables you to store and manage your container images and artifacts in Azure. It provides features like geo-replication, webhooks, and integration with Azure Active Directory. Container Registry supports various container formats, such as Docker and Open Container Initiative (OCI). You can use Azure Container Registry to build and deploy your containerized applications, ensure the security of your images, and automate your container lifecycle. It also integrates with other Azure services, such as Azure Kubernetes Service and Azure DevOps.</td><td>82</td><td>Azure Container Registry</td></tr><tr><td>Analytics</td><td>Azure Databricks is a fully managed, Apache Spark-based analytics platform that enables you to process and analyze large volumes of data. It provides features like collaborative notebooks, job scheduling, and integration with Azure Machine Learning. Databricks supports various data sources, such as Azure Blob Storage, Azure Data Lake Storage, and Azure Cosmos DB. You can use Azure Databricks to build data lakes, develop big data analytics solutions, and train machine learning models. It also integrates with other Azure services, such as Azure Synapse Analytics and Azure Data Factory.</td><td>83</td><td>Azure Databricks</td></tr><tr><td>Integration</td><td>Azure Event Grid is a fully managed, event-routing service that enables you to build event-driven and serverless applications. It provides features like event filtering, custom event topics, and integration with Azure Functions. Event Grid supports various event sources, such as Azure Blob Storage, Azure Event Hubs, and custom applications. You can use Azure Event Grid to build reactive applications, integrate with other Azure services, and process and route events at scale. It also integrates with other Azure services, such as Azure Logic Apps and Azure Service Bus.</td><td>84</td><td>Azure Event Grid</td></tr><tr><td>Management + Governance</td><td>Azure Cost Management is a financial management service that enables you to analyze, manage, and optimize your Azure costs. It provides features like cost analysis, budgeting, and alerting. Cost Management supports various Azure services, such as Azure Virtual Machines, Azure Storage, and Azure App Service. You can use Azure Cost Management to gain insights into your spending, ensure the efficient use of your resources, and control your cloud costs. It also integrates with other Azure services, such as Azure Monitor and Azure Policy.</td><td>85</td><td>Azure Cost Management</td></tr><tr><td>Developer Tools</td><td>Azure App Configuration is a fully managed configuration service that enables you to centrally manage and distribute your application settings and feature flags. It provides features like key-value storage, versioning, and access control. App Configuration supports various platforms, such as .NET, Java, Node.js, and Python. You can use Azure App Configuration to build and deploy your applications, ensure the consistency of your settings, and improve your application lifecycle. It also integrates with other Azure services, such as Azure App Service and Azure Functions.</td><td>86</td><td>Azure App Configuration</td></tr><tr><td>Web</td><td>Azure Static Web Apps is a serverless hosting service that enables you to build and deploy modern web applications using static front-end technologies and serverless APIs. It provides features like custom domains, SSL certificates, and integration with Azure Functions. Static Web Apps supports various frameworks, such as React, Angular, and Vue.js. You can use Azure Static Web Apps to build and deploy your web applications, ensure high performance and security, and simplify your development workflow. It also integrates with other Azure services, such as Azure App Service and Azure CDN.</td><td>87</td><td>Azure Static Web Apps</td></tr><tr><td>Management + Governance</td><td>Azure Lighthouse is a cross-tenant management service that enables you to manage and monitor your customers' Azure resources at scale. It provides features like delegated access, centralized management, and multi-tenant reporting. Lighthouse supports various Azure services, such as Azure Virtual Machines, Azure Storage, and Azure App Service. You can use Azure Lighthouse to build managed service offerings, improve your operational efficiency, and ensure the security and compliance of your customers' environments. It also integrates with other Azure services, such as Azure Monitor and Azure Policy.</td><td>88</td><td>Azure Lighthouse</td></tr><tr><td>AI + Machine Learning</td><td>Azure Machine Learning is a fully managed, end-to-end platform that enables you to build, train, and deploy machine learning models at scale. It provides features like automated machine learning, data labeling, and model management. Machine Learning supports various frameworks, such as TensorFlow, PyTorch, and Scikit-learn. You can use Azure Machine Learning to develop predictive analytics solutions, improve your decision-making, and gain insights into your data. It also integrates with other Azure services, such as Azure Databricks and Azure Synapse Analytics.</td><td>89</td><td>Azure Machine Learning</td></tr><tr><td>AI + Machine Learning</td><td>Azure Cognitive Services is a collection of AI services and APIs that enable you to build intelligent applications using pre-built models and algorithms. It provides features like computer vision, speech recognition, and natural language processing. Cognitive Services supports various platforms, such as .NET, Java, Node.js, and Python. You can use Azure Cognitive Services to build chatbots, analyze images and videos, and process and understand text. It also integrates with other Azure services, such as Azure Machine Learning and Azure Cognitive Search.</td><td>90</td><td>Azure Cognitive Services</td></tr><tr><td>AI + Machine Learning</td><td>Azure Bot Service is a managed, AI-powered service that enables you to build, deploy, and manage intelligent chatbots for your applications. It provides features like natural language understanding, multi-channel support, and integration with Azure Cognitive Services. Bot Service supports various platforms, such as .NET, Java, Node.js, and Python. You can use Azure Bot Service to build conversational applications, improve user engagement, and automate customer support. It also integrates with other Azure services, such as Azure App Service and Azure Functions.</td><td>91</td><td>Azure Bot Service</td></tr><tr><td>AI + Machine Learning</td><td>Azure Batch AI is a fully managed, AI-powered service that enables you to run distributed training and inferencing workloads for your machine learning models at scale. It provides features like automatic scaling, job scheduling, and integration with popular deep learning frameworks, such as TensorFlow, PyTorch, and Caffe. Batch AI supports various platforms, such as .NET, Java, Node.js, and Python. You can use Azure Batch AI to train and deploy your machine learning models, improve your decision-making, and gain insights into your data. It also integrates with other Azure services, such as Azure Machine Learning and Azure Storage.</td><td>92</td><td>Azure Batch AI</td></tr><tr><td>Internet of Things</td><td>Azure Maps is a collection of geospatial services and SDKs that enable you to build location-based applications using Azure. It provides features like map rendering, geocoding, route planning, and spatial analytics. Azure Maps supports various platforms, such as web, mobile, and IoT devices. You can use Azure Maps to build mapping applications, visualize and analyze your spatial data, and improve your decision-making. It also integrates with other Azure services, such as Azure IoT Hub and Azure Functions.</td><td>93</td><td>Azure Maps</td></tr><tr><td>Healthcare</td><td>Azure API for FHIR is a fully managed, standards-based API that enables you to store, manage, and exchange health data in the Fast Healthcare Interoperability Resources (FHIR) format. It provides features like data validation, versioning, and integration with Azure Active Directory. API for FHIR supports various data types, such as clinical, imaging, and administrative data. You can use Azure API for FHIR to build healthcare applications, ensure the security and compliance of your health data, and streamline your data management. It also integrates with other Azure services, such as Azure Machine Learning and Azure IoT Central.</td><td>94</td><td>Azure API for FHIR</td></tr><tr><td>Storage</td><td>Azure HPC Cache is a fully managed, high-performance caching service that enables you to access and manage large datasets stored on-premises or in Azure. It provides features like automatic scaling, data prefetching, and integration with Azure Blob Storage. HPC Cache supports various file systems, such as NFS and SMB. You can use Azure HPC Cache to build high-performance computing applications, optimize your data access, and ensure the performance and reliability of your workloads. It also integrates with other Azure services, such as Azure Virtual Machines and Azure Storage.</td><td>95</td><td>Azure HPC Cache</td></tr><tr><td>Compute</td><td>Azure Quantum is a fully managed, quantum computing service that enables you to build and run quantum applications using Azure. It provides features like quantum hardware, quantum simulators, and quantum optimization algorithms. Azure Quantum supports various programming languages, such as Q#, Python, and C#. You can use Azure Quantum to explore quantum computing, develop quantum algorithms, and solve complex optimization problems. It also integrates with other Azure services, such as Azure Machine Learning and Azure Functions.</td><td>96</td><td>Azure Quantum</td></tr><tr><td>Analytics</td><td>Azure Data Share is a fully managed data sharing service that enables you to securely share and receive data from other organizations using Azure. It provides features like data snapshotting, change tracking, and access control. Data Share supports various data sources, such as Azure Blob Storage, Azure Data Lake Storage, and Azure SQL Database. You can use Azure Data Share to collaborate with your partners, improve your data governance, and ensure the security of your data. It also integrates with other Azure services, such as Azure Synapse Analytics and Azure Data Factory.</td><td>97</td><td>Azure Data Share</td></tr><tr><td>Hybrid</td><td>Azure Stack Hub is an extension of Azure that enables you to run Azure services on-premises, in your own datacenter, or at the edge. It provides features like consistent APIs, hybrid application development, and integration with Azure Active Directory. Azure Stack Hub supports various Azure services, such as Azure Virtual Machines, Azure Storage, and Azure App Service. You can use Azure Stack Hub to build hybrid applications, ensure the compliance of your workloads, and simplify your infrastructure management. It also integrates with other Azure services, such as Azure Monitor and Azure Site Recovery.</td><td>98</td><td>Azure Stack Hub</td></tr><tr><td>Hybrid</td><td>Azure Stack Edge is a managed, edge computing appliance that enables you to run Azure services and AI workloads on-premises or at the edge. It provides features like hardware-accelerated machine learning, local caching, and integration with Azure IoT Hub. Azure Stack Edge supports various Azure services, such as Azure Functions, Azure Machine Learning, and Azure Kubernetes Service. You can use Azure Stack Edge to build edge computing applications, optimize your data processing, and ensure the security and compliance of your workloads. It also integrates with other Azure services, such as Azure Monitor and Azure Stack Hub.</td><td>99</td><td>Azure Stack Edge</td></tr><tr><td>Security</td><td>Azure Active Directory (Azure AD) is a cloud-based identity and access management service that enables you to manage users, groups, and access to your applications and resources. It provides features like single sign-on (SSO), multi-factor authentication (MFA), and conditional access. Azure AD supports various platforms, such as Windows, macOS, and Linux. You can use Azure Active Directory to secure your applications, ensure the compliance of your workloads, and simplify your identity management. It also integrates with other Azure services, such as Azure Virtual Machines and Azure App Service.</td><td>100</td><td>Azure Active Directory</td></tr><tr><td>Networking</td><td>Azure ExpressRoute is a dedicated, private connectivity service that enables you to securely extend your on-premises networks to Azure over a private connection. It provides features like low latency, high bandwidth, and integration with Azure Virtual Network. ExpressRoute supports various connectivity models, such as point-to-point, MPLS, and SD-WAN. You can use Azure ExpressRoute to build hybrid applications, ensure the performance and security of your data in transit, and improve your network reliability. It also integrates with other Azure services, such as Azure VPN Gateway and Azure Traffic Manager.</td><td>101</td><td>Azure ExpressRoute</td></tr><tr><td>Networking</td><td>Azure Private Link is a secure, private connectivity service that enables you to access Azure services over a private connection within an Azure Virtual Network. It provides features like private IP addresses, data exfiltration protection, and integration with Azure Private DNS. Private Link supports various Azure services, such as Azure Storage, Azure SQL Database, and Azure App Service. You can use Azure Private Link to build isolated environments, ensure the security of your data in transit, and simplify your network management. It also integrates with other Azure services, such as Azure Virtual Network and Azure Firewall.</td><td>102</td><td>Azure Private Link</td></tr><tr><td>Networking</td><td>Azure Virtual WAN is a global, scalable, and secure networking service that enables you to build and manage your wide area networks (WAN) in Azure. It provides features like automated site-to-site VPN, hub-and-spoke topology, and integration with Azure Firewall. Virtual WAN supports various Azure services, such as Azure Virtual Machines, Azure Storage, and Azure App Service. You can use Azure Virtual WAN to build hybrid applications, ensure the performance and security of your data in transit, and improve your network reliability. It also integrates with other Azure services, such as Azure ExpressRoute and Azure Traffic Manager.</td><td>103</td><td>Azure Virtual WAN</td></tr><tr><td>Management + Governance</td><td>Azure Site Recovery is a fully managed, disaster recovery service that enables you to protect and recover your applications and data from various types of failures. It provides features like automated failover, recovery plans, and integration with Azure Backup. Site Recovery supports various platforms, such as Windows, Linux, and VMware. You can use Azure Site Recovery to ensure the availability of your applications, maintain your business continuity, and automate your disaster recovery process. It also integrates with other Azure services, such as Azure Virtual Machines and Azure Storage.</td><td>104</td><td>Azure Site Recovery</td></tr><tr><td>Web</td><td>Azure Web PubSub is a fully managed, real-time messaging service that enables you to build and scale real-time web applications using WebSockets. It provides features like automatic scaling, custom domains, and serverless integration. Web PubSub supports various programming languages, such as C#, JavaScript, and Java. You can use Azure Web PubSub to build chat applications, real-time dashboards, and collaborative tools. It also integrates with other Azure services, such as Azure Functions and Azure SignalR Service.</td><td>105</td><td>Azure Web PubSub</td></tr><tr><td>Analytics</td><td>Azure Data Factory is a cloud-based data integration service that enables you to create, schedule, and manage your data workflows. It provides features like data movement, data transformation, and integration with Azure Machine Learning. Data Factory supports various data sources, such as Azure Blob Storage, Azure Data Lake Storage, and Azure SQL Database. You can use Azure Data Factory to build data pipelines, develop big data analytics solutions, and migrate your data to Azure. It also integrates with other Azure services, such as Azure Synapse Analytics and Azure Data Lake Analytics.</td><td>106</td><td>Azure Data Factory</td></tr><tr><td>Analytics</td><td>Azure Data Bricks is a fully managed, Apache Spark-based analytics platform that enables you to process and analyze large volumes of data. It provides features like collaborative notebooks, job scheduling, and integration with Azure Machine Learning. Data Bricks supports various data sources, such as Azure Blob Storage, Azure Data Lake Storage, and Azure Cosmos DB. You can use Azure Data Bricks to build data lakes, develop big data analytics solutions, and train machine learning models. It also integrates with other Azure services, such as Azure Synapse Analytics and Azure Data Factory.</td><td>107</td><td>Azure Data Bricks</td></tr><tr><td>Security</td><td>Azure Bastion is a fully managed, secure, and scalable service that provides remote access to your virtual machines. It provides features like private connectivity, secure RDP/SSH sessions, and browser-based access. Bastion supports various Azure services, such as Azure Virtual Machines, Azure Virtual Network, and Azure Active Directory. You can use Azure Bastion to securely access your virtual machines, minimize your attack surface, and improve the security of your infrastructure. It also integrates with other Azure services, such as Azure Monitor and Azure Security Center.</td><td>108</td><td>Azure Bastion</td></tr></tbody></table></div>"
      ]
     },
     "metadata": {
      "application/vnd.databricks.v1+output": {
       "addedWidgets": {},
       "aggData": [],
       "aggError": "",
       "aggOverflow": false,
       "aggSchema": [],
       "aggSeriesLimitReached": false,
       "aggType": "",
       "arguments": {},
       "columnCustomDisplayInfos": {},
       "data": [
        [
         "Web",
         "Azure App Service is a fully managed platform for building, deploying, and scaling web apps. You can host web apps, mobile app backends, and RESTful APIs. It supports a variety of programming languages and frameworks, such as .NET, Java, Node.js, Python, and PHP. The service offers built-in auto-scaling and load balancing capabilities. It also provides integration with other Azure services, such as Azure DevOps, GitHub, and Bitbucket.",
         "1",
         "Azure App Service"
        ],
        [
         "Compute",
         "Azure Functions is a serverless compute service that enables you to run code on-demand without having to manage infrastructure. It allows you to build and deploy event-driven applications that automatically scale with your workload. Functions support various languages, including C#, F#, Node.js, Python, and Java. It offers a variety of triggers and bindings to integrate with other Azure services and external services. You only pay for the compute time you consume.",
         "2",
         "Azure Functions"
        ],
        [
         "AI + Machine Learning",
         "Azure Cognitive Services are a set of AI services that enable you to build intelligent applications with powerful algorithms using just a few lines of code. These services cover a wide range of capabilities, including vision, speech, language, knowledge, and search. They are designed to be easy to use and integrate into your applications. Cognitive Services are fully managed, scalable, and continuously improved by Microsoft. It allows developers to create AI-powered solutions without deep expertise in machine learning.",
         "3",
         "Azure Cognitive Services"
        ],
        [
         "Storage",
         "Azure Storage is a scalable, durable, and highly available cloud storage service that supports a variety of data types, including blobs, files, queues, and tables. It provides a massively scalable object store for unstructured data. Storage supports data redundancy and geo-replication, ensuring high durability and availability. It offers a variety of data access and management options, including REST APIs, SDKs, and Azure Portal. You can secure your data using encryption at rest and in transit.",
         "4",
         "Azure Storage"
        ],
        [
         "Databases",
         "Azure SQL Database is a fully managed relational database service based on the latest stable version of Microsoft SQL Server. It offers built-in intelligence that learns your application patterns and adapts to maximize performance, reliability, and data protection. SQL Database supports elastic scaling, allowing you to dynamically adjust resources to match your workload. It provides advanced security features, such as encryption, auditing, and threat detection. You can migrate your existing SQL Server databases to Azure SQL Database with minimal downtime.",
         "5",
         "Azure SQL Database"
        ],
        [
         "Databases",
         "Azure Cosmos DB is a fully managed, globally distributed, multi-model database service designed for building highly responsive and scalable applications. It offers turnkey global distribution, automatic and instant scalability, and guarantees low latency, high availability, and consistency. Cosmos DB supports popular NoSQL APIs, including MongoDB, Cassandra, Gremlin, and Azure Table Storage. You can build globally distributed applications with ease, without having to deal with complex configuration and capacity planning. Data stored in Cosmos DB is automatically indexed, enabling you to query your data with SQL, JavaScript, or other supported query languages.",
         "6",
         "Azure Cosmos DB"
        ],
        [
         "Containers",
         "Azure Kubernetes Service (AKS) is a managed container orchestration service based on the popular open-source Kubernetes system. It simplifies Kubernetes deployment and management, making it easy for developers and administrators to deploy, scale, and manage containerized applications. AKS offers automatic upgrades, scaling, and self-healing capabilities, reducing the operational overhead of managing Kubernetes clusters. It also integrates with Azure services like Azure Active Directory, Azure Monitor, and Azure Policy, providing a seamless experience for managing your applications and infrastructure.",
         "7",
         "Azure Kubernetes Service (AKS)"
        ],
        [
         "Compute",
         "Azure Virtual Machines (VMs) is an Infrastructure-as-a-Service (IaaS) offering that allows you to deploy and manage virtual machines in the cloud. You can choose from a wide range of VM sizes, operating systems, and software configurations. VMs support various operating systems, including Windows Server, Linux, and SQL Server. You can scale your VMs up or down as needed, and pay only for the resources you use. VMs provide built-in security features, such as Azure Security Center, Azure Active Directory, and encryption.",
         "8",
         "Azure Virtual Machines"
        ],
        [
         "Developer Tools",
         "Azure DevOps is a suite of services that help you plan, build, and deploy applications. It includes Azure Boards for work item tracking, Azure Repos for source code management, Azure Pipelines for continuous integration and continuous deployment, Azure Test Plans for manual and automated testing, and Azure Artifacts for package management. DevOps supports a wide range of programming languages, frameworks, and platforms, making it easy to integrate with your existing development tools and processes. It also integrates with other Azure services, such as Azure App Service and Azure Functions.",
         "9",
         "Azure DevOps"
        ],
        [
         "Internet of Things",
         "Azure IoT Hub is a managed service that enables you to connect, monitor, and manage billions of IoT devices. It provides secure and reliable communication between your IoT devices and your backend solution. IoT Hub supports multiple communication protocols, including MQTT, AMQP, and HTTPS. It offers device-to-cloud and cloud-to-device messaging, device management, and device twin capabilities. With IoT Hub, you can build scalable and secure IoT solutions that integrate with other Azure services and custom applications.",
         "10",
         "Azure IoT Hub"
        ],
        [
         "AI + Machine Learning",
         "Azure Machine Learning is a cloud-based service for building, training, and deploying machine learning models. It offers a visual interface for creating and managing experiments, as well as support for popular programming languages like Python and R. Machine Learning supports various algorithms, frameworks, and data sources, making it easy to integrate with your existing data and workflows. You can deploy your models as web services, and scale them based on your needs. It also integrates with other Azure services, such as Azure Databricks and Azure Data Factory.",
         "11",
         "Azure Machine Learning"
        ],
        [
         "Analytics",
         "Azure Databricks is an Apache Spark-based analytics platform optimized for the Azure cloud. It provides a collaborative workspace for data scientists, engineers, and business users to process, analyze, and visualize big data. Databricks supports multiple programming languages, including Python, Scala, R, and SQL. It offers built-in integration with Azure Blob Storage, Azure Data Lake Storage, and Azure Cosmos DB. You can also use Databricks to train and deploy machine learning models, and integrate with Azure Machine Learning.",
         "12",
         "Azure Databricks"
        ],
        [
         "Identity",
         "Azure Active Directory (Azure AD) is a cloud-based identity and access management service that helps you manage and secure access to your applications and resources. It provides features like single sign-on (SSO), multi-factor authentication (MFA), and conditional access policies. Azure AD supports integration with on-premises Active Directory, as well as third-party identity providers like Google and Facebook. You can use Azure AD to protect both cloud-based and on-premises applications, and manage access for employees, partners, and customers.",
         "13",
         "Azure Active Directory"
        ],
        [
         "Integration",
         "Azure Logic Apps is a cloud-based service that allows you to create and run workflows that integrate with various services and data sources. It provides a visual designer for creating workflows, and supports a wide range of connectors for popular services like Office 365, Salesforce, and Dropbox. Logic Apps enable you to automate tasks, process and transform data, and orchestrate complex processes without writing code. You can monitor and manage your workflows using Azure Portal, REST APIs, or PowerShell.",
         "14",
         "Azure Logic Apps"
        ],
        [
         "Big Data",
         "Azure Event Hubs is a fully managed, real-time data ingestion service that enables you to stream and process millions of events per second. It supports various data producers, such as IoT devices, applications, and services. Event Hubs provides low latency, high throughput, and scalable data streaming, making it suitable for big data scenarios like telemetry processing and log analytics. You can use Event Hubs with other Azure services, such as Azure Stream Analytics and Azure Functions, to build end-to-end real-time data processing solutions.",
         "15",
         "Azure Event Hubs"
        ],
        [
         "Integration",
         "Azure API Management is a fully managed service that helps you create, publish, and manage APIs for your applications. It provides features like API documentation, developer portal, access control, and caching. API Management supports various API formats, including REST, SOAP, and GraphQL. You can use API Management to secure your APIs with authentication, authorization, and IP filtering. It also offers built-in analytics and monitoring, allowing you to track the usage and performance of your APIs.",
         "16",
         "Azure API Management"
        ],
        [
         "Analytics",
         "Azure Data Factory is a cloud-based data integration service that allows you to create, schedule, and manage data workflows. It supports a wide range of sources and destinations, such as Azure Blob Storage, Azure SQL Database, and on-premises file systems. Data Factory provides a visual interface for designing and monitoring your workflows, as well as support for popular programming languages like Python and .NET. You can use Data Factory to move and transform data, orchestrate complex data processing tasks, and integrate with other Azure services.",
         "17",
         "Azure Data Factory"
        ],
        [
         "Analytics",
         "Azure Synapse Analytics is an integrated analytics service that brings together big data and data warehousing. It enables you to ingest, prepare, manage, and serve data for immediate business intelligence and machine learning needs. Synapse Analytics provides a unified workspace for data engineers, data scientists, and business analysts to collaborate and build solutions. It supports various data sources, including Azure Data Lake Storage, Azure Blob Storage, and Azure Cosmos DB. You can use Synapse Analytics with other Azure services, such as Azure Machine Learning and Power BI.",
         "18",
         "Azure Synapse Analytics"
        ],
        [
         "Compute",
         "Azure Batch is a cloud-based job scheduling service that enables you to run large-scale parallel and high-performance computing (HPC) applications. It provides features like automatic scaling, task scheduling, and resource management. Batch supports various VM sizes, operating systems, and application frameworks, making it easy to integrate with your existing workloads. You can use Batch to process large datasets, run simulations, and perform complex calculations. It also integrates with other Azure services, such as Azure Storage and Azure Active Directory.",
         "19",
         "Azure Batch"
        ],
        [
         "Networking",
         "Azure Content Delivery Network (CDN) is a global content delivery network that enables you to deliver content to users with low latency and high availability. It caches and serves content from edge servers located near your users, improving the performance and reliability of your web applications. Azure CDN supports various content types, including static files, videos, and images. It provides advanced features like geo-filtering, custom domains, and SSL certificates. You can use Azure CDN with other Azure services, such as Azure App Service and Azure Storage.",
         "20",
         "Azure CDN"
        ],
        [
         "Networking",
         "Azure ExpressRoute is a private, dedicated network connection between your on-premises infrastructure and Azure. It provides faster speeds, lower latencies, and more reliability than a standard internet connection. ExpressRoute supports various connectivity models, such as point-to-point, any-to-any, and hub-and-spoke. You can use ExpressRoute to extend your on-premises networks into Azure, build hybrid applications, and migrate workloads to the cloud. It also integrates with other Azure services, such as Azure Virtual Machines and Azure Storage.",
         "21",
         "Azure ExpressRoute"
        ],
        [
         "Networking",
         "Azure Traffic Manager is a DNS-based traffic load balancer that enables you to distribute traffic across multiple Azure services and regions. It provides features like automatic failover, performance-based routing, and geographic routing. Traffic Manager supports various Azure services, such as Azure App Service, Azure Cloud Services, and Azure Virtual Machines. You can use Traffic Manager to build highly available and responsive applications, optimize your users' experience, and improve the resiliency of your infrastructure.",
         "22",
         "Azure Traffic Manager"
        ],
        [
         "Networking",
         "Azure Virtual Network (VNet) is a networking service that enables you to create and manage private networks in Azure. It provides features like subnets, network security groups, and virtual network peering. VNet supports various Azure services, such as Azure Virtual Machines, Azure App Service, and Azure Kubernetes Service. You can use VNet to build isolated environments, connect your on-premises networks to Azure, and secure your applications and resources. It also integrates with other Azure services, such as Azure ExpressRoute and Azure Traffic Manager.",
         "23",
         "Azure Virtual Network"
        ],
        [
         "Security",
         "Azure Firewall is a managed, cloud-based network security service that protects your Azure Virtual Network resources. It provides features like stateful packet inspection, application filtering, and threat intelligence. Firewall supports various network protocols, including TCP, UDP, and ICMP. You can use Azure Firewall to create and enforce network security policies, prevent unauthorized access, and protect your applications and data. It also integrates with other Azure services, such as Azure Monitor and Azure Security Center.",
         "24",
         "Azure Firewall"
        ],
        [
         "Networking",
         "Azure Private Link is a networking service that enables you to access Azure services over a private connection. It provides features like private IP addresses, secure connectivity, and simplified network architecture. Private Link supports various Azure services, such as Azure Storage, Azure SQL Database, and Azure App Service. You can use Private Link to build secure and compliant applications, reduce exposure to the public internet, and simplify your network management. It also integrates with other Azure services, such as Azure Virtual Network and Azure ExpressRoute.",
         "25",
         "Azure Private Link"
        ],
        [
         "Management + Governance",
         "Azure Site Recovery is a disaster recovery service that enables you to protect your applications and data by orchestrating replication, failover, and recovery of workloads. It supports various platforms, including Azure, on-premises, and third-party cloud providers. Site Recovery provides features like automated recovery, application consistency, and network integration. You can use Site Recovery to meet your business continuity and disaster recovery requirements, minimize downtime, and ensure compliance with industry regulations. It also integrates with other Azure services, such as Azure Backup and Azure Monitor.",
         "26",
         "Azure Site Recovery"
        ],
        [
         "Management + Governance",
         "Azure Backup is a cloud-based backup service that enables you to protect your data and applications from loss and corruption. It supports various platforms, including Azure, on-premises, and third-party cloud providers. Backup provides features like incremental backups, data encryption, and long-term retention. You can use Azure Backup to meet your data protection requirements, ensure business continuity, and comply with industry regulations. It also integrates with other Azure services, such as Azure Site Recovery and Azure Storage.",
         "27",
         "Azure Backup"
        ],
        [
         "Integration",
         "Azure Service Bus is a fully managed, enterprise-grade messaging service that enables you to build reliable and scalable applications. It provides features like message queuing, publish-subscribe, and dead-lettering. Service Bus supports various messaging patterns, including point-to-point, broadcast, and request-reply. You can use Service Bus to integrate your applications and services, decouple your system components, and handle asynchronous communication. It also integrates with other Azure services, such as Azure Functions and Azure Logic Apps.",
         "28",
         "Azure Service Bus"
        ],
        [
         "Analytics",
         "Azure Stream Analytics is a real-time data stream processing service that enables you to analyze and process high volumes of fast-moving data. It supports various data sources, such as Azure Event Hubs, Azure IoT Hub, and Azure Blob Storage. Stream Analytics provides features like windowing, time-based aggregations, and user-defined functions. You can use Stream Analytics to build real-time dashboards, detect anomalies, and generate alerts. It also integrates with other Azure services, such as Azure Functions and Azure Machine Learning.",
         "29",
         "Azure Stream Analytics"
        ],
        [
         "Mobile",
         "Azure Notification Hubs is a scalable mobile push notification service that enables you to send notifications to users across various platforms, including iOS, Android, and Windows. It provides features like personalized notifications, templates, and localization. Notification Hubs support various push notification services, such as Apple Push Notification Service (APNS), Firebase Cloud Messaging (FCM), and Windows Notification Service (WNS). You can use Notification Hubs to engage with your users, improve user retention, and increase app usage. It also integrates with other Azure services, such as Azure Mobile Apps and Azure Functions.",
         "30",
         "Azure Notification Hubs"
        ],
        [
         "Mobile",
         "Azure Mobile Apps is a mobile app development platform that enables you to build, test, deploy, and monitor your mobile applications. It provides features like offline data sync, push notifications, and user authentication. Mobile Apps supports various platforms, including iOS, Android, and Windows. You can use Mobile Apps to build cross-platform applications, integrate with other Azure services, and improve your app development lifecycle. It also integrates with other Azure services, such as Azure Notification Hubs and Azure App Service.",
         "31",
         "Azure Mobile Apps"
        ],
        [
         "Analytics",
         "Azure Time Series Insights is a fully managed analytics, storage, and visualization service that enables you to explore and analyze time-series data. It supports various data sources, such as Azure IoT Hub, Azure Event Hubs, and Azure Blob Storage. Time Series Insights provides features like real-time data streaming, advanced querying, and pattern recognition. You can use Time Series Insights to monitor your IoT devices, detect anomalies, and gain insights into your data. It also integrates with other Azure services, such as Azure Stream Analytics and Azure Machine Learning.",
         "32",
         "Azure Time Series Insights"
        ],
        [
         "Internet of Things",
         "Azure Digital Twins is an IoT service that enables you to create digital representations of your physical assets, environments, and processes. It provides features like spatial intelligence, twin graphs, and event-driven functions. Digital Twins supports various data sources, such as Azure IoT Hub, Azure Event Hubs, and Azure Blob Storage. You can use Digital Twins to build connected solutions, optimize your operations, and improve your decision-making. It also integrates with other Azure services, such as Azure Time Series Insights and Azure Machine Learning.",
         "33",
         "Azure Digital Twins"
        ],
        [
         "Analytics",
         "Azure Data Explorer is a fast, fully managed data analytics service for real-time analysis on large volumes of data. It provides features like ingestion, querying, and visualization. Data Explorer supports various data sources, such as Azure Event Hubs, Azure IoT Hub, and Azure Blob Storage. You can use Data Explorer to analyze logs, monitor applications, and gain insights into your data. It also integrates with other Azure services, such as Azure Synapse Analytics and Azure Machine Learning.",
         "34",
         "Azure Data Explorer"
        ],
        [
         "Analytics",
         "Azure Data Catalog is a fully managed metadata service that enables you to discover, understand, and use your data sources. It provides features like data asset registration, metadata discovery, and data lineage. Data Catalog supports various data sources, such as Azure SQL Database, Azure Blob Storage, and on-premises file systems. You can use Data Catalog to build a unified data catalog, improve data governance, and streamline your data discovery process. It also integrates with other Azure services, such as Azure Synapse Analytics and Azure Data Factory.",
         "35",
         "Azure Data Catalog"
        ],
        [
         "Storage",
         "Azure Data Lake Storage is a scalable, secure, and cost-effective storage service for big data analytics. It provides features like unlimited storage, hierarchical namespace, and fine-grained access control. Data Lake Storage supports various data types, such as structured, semi-structured, and unstructured data. You can use Data Lake Storage to store and analyze your data, build data lakes, and integrate with other Azure services. It also integrates with other Azure services, such as Azure Databricks and Azure Machine Learning.",
         "36",
         "Azure Data Lake Storage"
        ],
        [
         "Analytics",
         "Azure Data Lake Analytics is an on-demand, cloud-based analytics service that enables you to process and analyze big data. It provides features like job scheduling, parallel processing, and built-in analytics functions. Data Lake Analytics supports various data sources, such as Azure Data Lake Storage, Azure Blob Storage, and Azure SQL Database. You can use Data Lake Analytics to run U-SQL, R, and Python scripts, perform advanced analytics, and gain insights into your data. It also integrates with other Azure services, such as Azure Machine Learning and Azure Data Factory.",
         "37",
         "Azure Data Lake Analytics"
        ],
        [
         "Security",
         "Azure Bastion is a fully managed, secure, and scalable service that provides remote access to your virtual machines. It provides features like private connectivity, secure RDP/SSH sessions, and browser-based access. Bastion supports various Azure services, such as Azure Virtual Machines, Azure Virtual Network, and Azure Active Directory. You can use Azure Bastion to securely access your virtual machines, minimize your attack surface, and improve the security of your infrastructure. It also integrates with other Azure services, such as Azure Monitor and Azure Security Center.",
         "38",
         "Azure Bastion"
        ],
        [
         "Media",
         "Azure Media Services is a cloud-based media processing and delivery platform that enables you to build, deploy, and scale video applications. It provides features like encoding, streaming, content protection, and video indexing. Media Services supports various input and output formats, such as MP4, MPEG-DASH, and HLS. You can use Media Services to deliver live and on-demand video, build video-on-demand platforms, and analyze your video content. It also integrates with other Azure services, such as Azure Content Delivery Network and Azure Storage.",
         "39",
         "Azure Media Services"
        ],
        [
         "AI + Machine Learning",
         "Azure Cognitive Search is a fully managed search-as-a-service that enables you to build rich search experiences for your applications. It provides features like full-text search, faceted navigation, and filters. Azure Cognitive Search supports various data sources, such as Azure SQL Database, Azure Blob Storage, and Azure Cosmos DB. You can use Azure Cognitive Search to index your data, create custom scoring profiles, and integrate with other Azure services. It also integrates with other Azure services, such as Azure Cognitive Services and Azure Machine Learning.",
         "40",
         "Azure Cognitive Search"
        ],
        [
         "Security",
         "Azure Key Vault is a cloud-based service for securely storing and managing secrets, keys, and certificates. It provides features like access control, auditing, and secure storage. Key Vault supports various types of secrets, such as connection strings, passwords, and API keys. You can use Key Vault to secure your applications, protect your sensitive data, and manage your cryptographic keys. It also integrates with other Azure services, such as Azure Virtual Machines and Azure App Service.",
         "41",
         "Azure Key Vault"
        ],
        [
         "Management + Governance",
         "Azure Monitor is a comprehensive, full-stack monitoring service that enables you to collect, analyze, and act on telemetry data from your applications and infrastructure. It provides features like log analytics, metrics, alerts, and dashboards. Azure Monitor supports various data sources, such as Azure resources, custom applications, and operating systems. You can use Azure Monitor to detect and diagnose issues, optimize your performance, and ensure the availability of your resources. It also integrates with other Azure services, such as Azure Log Analytics and Azure Application Insights.",
         "42",
         "Azure Monitor"
        ],
        [
         "Security",
         "Azure DDoS Protection is a cloud-based service that helps protect your applications and resources from distributed denial-of-service (DDoS) attacks. It provides features like automatic attack mitigation, traffic profiling, and attack analytics. DDoS Protection supports various Azure services, such as Azure Virtual Machines, Azure App Service, and Azure Load Balancer. You can use Azure DDoS Protection to safeguard your infrastructure, ensure the availability of your applications, and maintain your business continuity. It also integrates with other Azure services, such as Azure Security Center and Azure Monitor.",
         "43",
         "Azure DDoS Protection"
        ],
        [
         "Networking",
         "Azure Application Gateway is a fully managed, scalable, and secure web application firewall (WAF) that helps protect your web applications from common web vulnerabilities and exploits. It provides features like SSL offloading, URL-based routing, and custom health probes. Application Gateway supports various Azure services, such as Azure Virtual Machines, Azure App Service, and Azure Kubernetes Service. You can use Application Gateway to secure your applications, improve performance, and ensure high availability. It also integrates with other Azure services, such as Azure Security Center and Azure Monitor.",
         "44",
         "Azure Application Gateway"
        ],
        [
         "Networking",
         "Azure VPN Gateway is a secure, scalable, and high-performance virtual network gateway that enables you to establish encrypted connections between your on-premises networks and Azure Virtual Networks. It provides features like site-to-site VPN, point-to-site VPN, and ExpressRoute. VPN Gateway supports various VPN protocols, such as IKEv2, SSTP, and OpenVPN. You can use Azure VPN Gateway to build hybrid applications, extend your on-premises networks to the cloud, and secure your data in transit. It also integrates with other Azure services, such as Azure Virtual Network and Azure Network Security Groups.",
         "45",
         "Azure VPN Gateway"
        ],
        [
         "Analytics",
         "Azure HDInsight is a fully managed, open-source analytics service for processing big data workloads. It provides popular open-source frameworks, such as Apache Hadoop, Apache Spark, Apache Kafka, and Apache HBase. HDInsight supports various data sources, such as Azure Blob Storage, Azure Data Lake Storage, and Azure Cosmos DB. You can use HDInsight to analyze and process large volumes of data, build real-time analytics solutions, and develop machine learning models. It also integrates with other Azure services, such as Azure Synapse Analytics and Azure Machine Learning.",
         "46",
         "Azure HDInsight"
        ],
        [
         "Analytics",
         "Azure Power BI Embedded is a cloud-based analytics service that enables you to embed interactive visualizations and reports into your applications. It provides features like data exploration, custom visuals, and real-time data refresh. Power BI Embedded supports various data sources, such as Azure SQL Database, Azure Blob Storage, and on-premises databases. You can use Power BI Embedded to create data-driven applications, improve decision-making, and enhance user experiences. It also integrates with other Azure services, such as Azure Synapse Analytics and Azure Machine Learning.",
         "47",
         "Azure Power BI Embedded"
        ],
        [
         "Storage",
         "Azure Managed Disks is a scalable, durable, and high-performance block storage service for Azure Virtual Machines. It provides features like automatic scaling, built-in encryption, and integration with Azure Backup. Managed Disks supports various disk types, such as Premium SSD, Standard SSD, and Standard HDD. You can use Managed Disks to store and manage your data, improve the performance of your applications, and ensure high availability. It also integrates with other Azure services, such as Azure Virtual Machines and Azure Site Recovery.",
         "48",
         "Azure Managed Disks"
        ],
        [
         "Databases",
         "Azure Cache for Redis is a fully managed, in-memory data store that enables you to build highly responsive and scalable applications. It provides features like data persistence, high availability, and automatic scaling. Cache for Redis supports various data structures, such as strings, lists, sets, and hashes. You can use Azure Cache for Redis to improve the performance of your applications, offload your databases, and reduce the latency of your data access. It also integrates with other Azure services, such as Azure App Service and Azure Kubernetes Service.",
         "49",
         "Azure Cache for Redis"
        ],
        [
         "Storage",
         "Azure Blob Storage is a scalable, durable, and high-performance object storage service for unstructured data. It provides features like data redundancy, geo-replication, and fine-grained access control. Blob Storage supports various data types, such as images, documents, and videos. You can use Blob Storage to store and manage your data, build data lakes, and develop big data analytics solutions. It also integrates with other Azure services, such as Azure CDN, Azure Functions, and Azure Machine Learning.",
         "50",
         "Azure Blob Storage"
        ],
        [
         "Storage",
         "Azure File Storage is a fully managed, scalable, and secure file sharing service that enables you to store and access your files over the Server Message Block (SMB) protocol. It provides features like snapshots, shared access signatures, and integration with Azure Backup. File Storage supports various platforms, such as Windows, Linux, and macOS. You can use Azure File Storage to build file sharing solutions, lift and shift your applications to the cloud, and simplify your data management. It also integrates with other Azure services, such as Azure Virtual Machines and Azure Kubernetes Service.",
         "51",
         "Azure File Storage"
        ],
        [
         "Storage",
         "Azure Table Storage is a fully managed, NoSQL datastore that enables you to store and query large amounts of structured, non-relational data. It provides features like automatic scaling, schema-less design, and a RESTful API. Table Storage supports various data types, such as strings, numbers, and booleans. You can use Azure Table Storage to store and manage your data, build scalable applications, and reduce the cost of your storage. It also integrates with other Azure services, such as Azure Functions and Azure Cosmos DB.",
         "52",
         "Azure Table Storage"
        ],
        [
         "Storage",
         "Azure Queue Storage is a fully managed, scalable, and durable message queuing service that enables you to decouple your applications and build asynchronous solutions. It provides features like at-least-once delivery, message time-to-live, and a RESTful API. Queue Storage supports various programming languages, such as C#, Java, and Python. You can use Azure Queue Storage to build distributed applications, offload your databases, and process and store large volumes of messages. It also integrates with other Azure services, such as Azure Functions and Azure Logic Apps.",
         "53",
         "Azure Queue Storage"
        ],
        [
         "Storage",
         "Azure Data Box is a family of data transfer devices that enables you to securely and efficiently transfer your data to Azure. It provides features like offline data transfer, data encryption, and chain of custody. Data Box supports various data types, such as files, databases, and virtual machines. You can use Azure Data Box to migrate your data, build data lakes, and perform data backup and archiving. It also integrates with other Azure services, such as Azure Storage and Azure Synapse Analytics.",
         "54",
         "Azure Data Box"
        ],
        [
         "Storage",
         "Azure Import/Export is a data transport solution that enables you to securely and efficiently transfer your data to and from Azure Storage. It provides features like offline data transfer, data encryption, and chain of custody. Import/Export supports various data types, such as files, databases, and virtual machines. You can use Azure Import/Export to migrate your data, build data lakes, and perform data backup and archiving. It also integrates with other Azure services, such as Azure Storage and Azure Data Box.",
         "55",
         "Azure Import/Export"
        ],
        [
         "Networking",
         "Azure Front Door is a global, scalable, and secure entry point for fast delivery of your web applications. It provides features like load balancing, SSL offloading, and web application firewall (WAF). Front Door supports various Azure services, such as Azure App Service, Azure Storage, and Azure Virtual Machines. You can use Azure Front Door to build highly available and responsive applications, optimize your users' experience, and improve the security of your infrastructure. It also integrates with other Azure services, such as Azure CDN and Azure Traffic Manager.",
         "56",
         "Azure Front Door"
        ],
        [
         "Compute",
         "Azure Service Fabric is a distributed systems platform that enables you to build, deploy, and manage scalable and reliable microservices and container-based applications. It provides features like stateful services, fault tolerance, and rolling upgrades. Service Fabric supports various programming languages, such as C#, Java, and Node.js. You can use Azure Service Fabric to build cloud-native applications, modernize your existing applications, and ensure high availability and scalability. It also integrates with other Azure services, such as Azure Kubernetes Service and Azure DevOps.",
         "57",
         "Azure Service Fabric"
        ],
        [
         "Management + Governance",
         "Azure Reserved VM Instances (RIs) are a flexible, cost-effective way to reserve compute capacity in Azure. By committing to a one-year or three-year term, you can significantly reduce your virtual machine costs compared to pay-as-you-go pricing. RIs provide features like instance size flexibility, regional scoping, and easy exchanges. You can use Azure Reserved VM Instances to optimize your costs, ensure capacity availability, and simplify your budget planning. It also integrates with other Azure services, such as Azure Cost Management and Azure Virtual Machines.",
         "58",
         "Azure Reserved VM Instances"
        ],
        [
         "Management + Governance",
         "Azure Policy is a governance service that enables you to define, enforce, and audit policies across your Azure resources. It provides features like policy assignment, policy evaluation, and compliance reporting. Azure Policy supports various resource types, such as Azure Virtual Machines, Azure Storage, and Azure App Service. You can use Azure Policy to ensure compliance with your organization's standards, prevent non-compliant resources, and automate remediation. It also integrates with other Azure services, such as Azure Monitor and Azure Security Center.",
         "59",
         "Azure Policy"
        ],
        [
         "Security",
         "Azure Security Center is a unified security management service that helps you protect your workloads and improve your security posture across your Azure resources and on-premises infrastructure. It provides features like continuous security assessments, threat protection, and security recommendations. Security Center supports various platforms, such as Windows, Linux, and Kubernetes. You can use Azure Security Center to detect and remediate threats, manage your security policies, and ensure compliance with industry regulations. It also integrates with other Azure services, such as Azure Monitor and Azure Log Analytics.",
         "60",
         "Azure Security Center"
        ],
        [
         "Networking",
         "Azure Private DNS is a fully managed, private Domain Name System (DNS) service that enables you to manage and resolve domain names in your virtual network. It provides features like custom domains, DNS-based load balancing, and private access. Private DNS supports various Azure services, such as Azure Virtual Machines, Azure App Service, and Azure Kubernetes Service. You can use Azure Private DNS to build isolated environments, simplify your network management, and ensure the security of your DNS traffic. It also integrates with other Azure services, such as Azure Virtual Network and Azure Traffic Manager.",
         "61",
         "Azure Private DNS"
        ],
        [
         "Developer Tools",
         "Azure DevTest Labs is a fully managed service that enables you to create, manage, and share development and test environments in Azure. It provides features like custom templates, cost management, and integration with Azure DevOps. DevTest Labs supports various platforms, such as Windows, Linux, and Kubernetes. You can use Azure DevTest Labs to improve your application development lifecycle, reduce your costs, and ensure the consistency of your environments. It also integrates with other Azure services, such as Azure Virtual Machines and Azure App Service.",
         "62",
         "Azure DevTest Labs"
        ],
        [
         "Compute",
         "Azure Functions is a serverless compute service that enables you to run event-driven code without managing the underlying infrastructure. It provides features like automatic scaling, triggers, and bindings. Functions supports various programming languages, such as C#, Java, and Python. You can use Azure Functions to build microservices, integrate with other Azure services, and process and transform data. It also integrates with other Azure services, such as Azure Event Hubs, Azure Storage, and Azure Cosmos DB.",
         "63",
         "Azure Functions"
        ],
        [
         "Web",
         "Azure SignalR Service is a fully managed, real-time messaging service that enables you to build and scale real-time web applications. It provides features like automatic scaling, WebSocket support, and serverless integration. SignalR Service supports various programming languages, such as C#, JavaScript, and Java. You can use Azure SignalR Service to build chat applications, real-time dashboards, and collaborative tools. It also integrates with other Azure services, such as Azure Functions and Azure App Service.",
         "64",
         "Azure SignalR Service"
        ],
        [
         "Blockchain",
         "Azure Blockchain Service is a fully managed, multi-ledger blockchain platform that enables you to build and manage blockchain applications. It provides features like consortium management, private transactions, and integration with Azure Logic Apps. Blockchain Service supports various blockchain protocols, such as Ethereum and Hyperledger Fabric. You can use Azure Blockchain Service to build secure and compliant applications, streamline your business processes, and improve trust and transparency. It also integrates with other Azure services, such as Azure Active Directory and Azure Key Vault.",
         "65",
         "Azure Blockchain Service"
        ],
        [
         "Databases",
         "Azure Database for MySQL is a fully managed, scalable, and secure relational database service that enables you to build and manage MySQL applications in Azure. It provides features like automatic backups, monitoring, and high availability. Database for MySQL supports various data types, such as JSON, spatial, and full-text. You can use Azure Database for MySQL to migrate your existing applications, build new applications, and ensure the performance and security of your data. It also integrates with other Azure services, such as Azure App Service and Azure Data Factory.",
         "66",
         "Azure Database for MySQL"
        ],
        [
         "Databases",
         "Azure Database for PostgreSQL is a fully managed, scalable, and secure relational database service that enables you to build and manage PostgreSQL applications in Azure. It provides features like automatic backups, monitoring, and high availability. Database for PostgreSQL supports various data types, such as JSON, spatial, and full-text. You can use Azure Database for PostgreSQL to migrate your existing applications, build new applications, and ensure the performance and security of your data. It also integrates with other Azure services, such as Azure App Service and Azure Data Factory.",
         "67",
         "Azure Database for PostgreSQL"
        ],
        [
         "Databases",
         "Azure Database for MariaDB is a fully managed, scalable, and secure relational database service that enables you to build and manage MariaDB applications in Azure. It provides features like automatic backups, monitoring, and high availability. Database for MariaDB supports various data types, such as JSON, spatial, and full-text. You can use Azure Database for MariaDB to migrate your existing applications, build new applications, and ensure the performance and security of your data. It also integrates with other Azure services, such as Azure App Service and Azure Data Factory.",
         "68",
         "Azure Database for MariaDB"
        ],
        [
         "Databases",
         "Azure SQL Managed Instance is a fully managed, scalable, and secure SQL Server instance hosted in Azure. It provides features like automatic backups, monitoring, and high availability. SQL Managed Instance supports various data types, such as JSON, spatial, and full-text. You can use Azure SQL Managed Instance to migrate your existing applications, build new applications, and ensure the performance and security of your data. It also integrates with other Azure services, such as Azure App Service and Azure Data Factory.",
         "69",
         "Azure SQL Managed Instance"
        ],
        [
         "Databases",
         "Azure Cosmos DB is a globally distributed, multi-model database service that enables you to build and manage NoSQL applications in Azure. It provides features like automatic scaling, low-latency access, and multi-master replication. Cosmos DB supports various data models, such as key-value, document, graph, and column-family. You can use Azure Cosmos DB to build globally distributed applications, ensure high availability and performance, and manage your data at scale. It also integrates with other Azure services, such as Azure Functions and Azure App Service.",
         "70",
         "Azure Cosmos DB"
        ],
        [
         "Databases",
         "Azure SQL Data Warehouse is a fully managed, petabyte-scale cloud data warehouse service that enables you to store and analyze your structured and semi-structured data. It provides features like automatic scaling, data movement, and integration with Azure Machine Learning. SQL Data Warehouse supports various data sources, such as Azure Blob Storage, Azure Data Lake Storage, and Azure SQL Database. You can use Azure SQL Data Warehouse to build data lakes, develop big data analytics solutions, and ensure the performance and security of your data. It also integrates with other Azure services, such as Azure Synapse Analytics and Azure Data Factory.",
         "71",
         "Azure SQL Data Warehouse"
        ],
        [
         "Management + Governance",
         "Azure Application Insights is an application performance management service that enables you to monitor, diagnose, and troubleshoot your applications and infrastructure. It provides features like real-time telemetry, dependency mapping, and live metrics. Application Insights supports various platforms, such as .NET, Java, Node.js, and Python. You can use Azure Application Insights to detect and diagnose issues, optimize your performance, and ensure the availability of your applications. It also integrates with other Azure services, such as Azure Monitor and Azure Log Analytics.",
         "72",
         "Azure Application Insights"
        ],
        [
         "Management + Governance",
         "Azure Log Analytics is a log management and analytics service that enables you to collect, store, and analyze your log data from various sources, such as Azure resources, custom applications, and operating systems. It provides features like advanced querying, data visualization, and integration with Azure Monitor. Log Analytics supports various data types, such as performance counters, event logs, and custom logs. You can use Azure Log Analytics to detect and diagnose issues, optimize your performance, and ensure the security of your infrastructure. It also integrates with other Azure services, such as Azure Security Center and Azure Application Insights.",
         "73",
         "Azure Log Analytics"
        ],
        [
         "Internet of Things",
         "Azure IoT Central is a fully managed, global IoT software-as-a-service (SaaS) solution that enables you to build, manage, and scale your IoT applications. It provides features like device management, data visualization, and application templates. IoT Central supports various data sources, such as Azure IoT Hub, Azure Event Hubs, and Azure Blob Storage. You can use Azure IoT Central to build connected solutions, optimize your operations, and improve your decision-making. It also integrates with other Azure services, such as Azure Time Series Insights and Azure Machine Learning.",
         "74",
         "Azure IoT Central"
        ],
        [
         "Internet of Things",
         "Azure Sphere is a comprehensive IoT security solution that includes a secure, high-level application platform, a custom Linux-based operating system, and a cloud-based security service. It provides features like automatic updates, device attestation, and error reporting. Azure Sphere supports various hardware platforms, such as microcontrollers and development boards. You can use Azure Sphere to build secure and compliant IoT devices, protect your intellectual property, and ensure the security of your IoT ecosystem. It also integrates with other Azure services, such as Azure IoT Hub and Azure IoT Central.",
         "75",
         "Azure Sphere"
        ],
        [
         "Internet of Things",
         "Azure IoT Edge is a fully managed service that enables you to run cloud intelligence directly on your IoT devices. It provides features like automatic scaling, device management, and integration with Azure Machine Learning. IoT Edge supports various programming languages, such as C#, Java, and Python. You can use Azure IoT Edge to build edge computing solutions, optimize your operations, and improve your decision-making. It also integrates with other Azure services, such as Azure IoT Hub and Azure Functions.",
         "76",
         "Azure IoT Edge"
        ],
        [
         "Management + Governance",
         "Azure Migrate is a cloud migration service that enables you to discover, assess, and migrate your on-premises workloads to Azure. It provides features like VM compatibility assessment, performance-based sizing, and cost estimation. Azure Migrate supports various platforms, such as Windows, Linux, and VMware. You can use Azure Migrate to plan your migration, ensure the compatibility of your workloads, and optimize your costs. It also integrates with other Azure services, such as Azure Site Recovery and Azure Database Migration Service.",
         "77",
         "Azure Migrate"
        ],
        [
         "Databases",
         "Azure Database Migration Service is a fully managed, end-to-end migration service that enables you to migrate your databases to Azure with minimal downtime. It supports various source and target platforms, such as SQL Server, MySQL, PostgreSQL, and Azure SQL Database. Database Migration Service provides features like schema conversion, data migration, and performance monitoring. You can use Azure Database Migration Service to migrate your databases, ensure the compatibility of your workloads, and minimize your migration risks. It also integrates with other Azure services, such as Azure Migrate and Azure SQL Managed Instance.",
         "78",
         "Azure Database Migration Service"
        ],
        [
         "Management + Governance",
         "Azure Blueprints is a governance service that enables you to define, deploy, and update your Azure environments in a consistent and repeatable manner. It provides features like environment templates, policy assignment, and RBAC configuration. Blueprints support various Azure services, such as Azure Virtual Machines, Azure Storage, and Azure App Service. You can use Azure Blueprints to ensure compliance with your organization's standards, automate your environment creation, and simplify your infrastructure management. It also integrates with other Azure services, such as Azure Policy and Azure Resource Manager.",
         "79",
         "Azure Blueprints"
        ],
        [
         "Compute",
         "Azure Kubernetes Service (AKS) is a fully managed, container orchestration platform that enables you to deploy, scale, and manage containerized applications using Kubernetes. It provides features like automatic scaling, rolling updates, and integration with Azure Active Directory. AKS supports various container runtimes, such as Docker and containerd. You can use Azure Kubernetes Service to build microservices, modernize your existing applications, and ensure high availability and scalability. It also integrates with other Azure services, such as Azure Container Registry and Azure Monitor.",
         "80",
         "Azure Kubernetes Service (AKS)"
        ],
        [
         "Compute",
         "Azure Container Instances (ACI) is a serverless container runtime that enables you to run and scale your containerized applications in Azure without managing the underlying infrastructure. It provides features like automatic scaling, custom domains, and integration with Azure Logic Apps. ACI supports various container runtimes, such as Docker and containerd. You can use Azure Container Instances to build microservices, modernize your existing applications, and ensure high availability and scalability. It also integrates with other Azure services, such as Azure Kubernetes Service and Azure Functions.",
         "81",
         "Azure Container Instances"
        ],
        [
         "Containers",
         "Azure Container Registry is a fully managed, private Docker registry service that enables you to store and manage your container images and artifacts in Azure. It provides features like geo-replication, webhooks, and integration with Azure Active Directory. Container Registry supports various container formats, such as Docker and Open Container Initiative (OCI). You can use Azure Container Registry to build and deploy your containerized applications, ensure the security of your images, and automate your container lifecycle. It also integrates with other Azure services, such as Azure Kubernetes Service and Azure DevOps.",
         "82",
         "Azure Container Registry"
        ],
        [
         "Analytics",
         "Azure Databricks is a fully managed, Apache Spark-based analytics platform that enables you to process and analyze large volumes of data. It provides features like collaborative notebooks, job scheduling, and integration with Azure Machine Learning. Databricks supports various data sources, such as Azure Blob Storage, Azure Data Lake Storage, and Azure Cosmos DB. You can use Azure Databricks to build data lakes, develop big data analytics solutions, and train machine learning models. It also integrates with other Azure services, such as Azure Synapse Analytics and Azure Data Factory.",
         "83",
         "Azure Databricks"
        ],
        [
         "Integration",
         "Azure Event Grid is a fully managed, event-routing service that enables you to build event-driven and serverless applications. It provides features like event filtering, custom event topics, and integration with Azure Functions. Event Grid supports various event sources, such as Azure Blob Storage, Azure Event Hubs, and custom applications. You can use Azure Event Grid to build reactive applications, integrate with other Azure services, and process and route events at scale. It also integrates with other Azure services, such as Azure Logic Apps and Azure Service Bus.",
         "84",
         "Azure Event Grid"
        ],
        [
         "Management + Governance",
         "Azure Cost Management is a financial management service that enables you to analyze, manage, and optimize your Azure costs. It provides features like cost analysis, budgeting, and alerting. Cost Management supports various Azure services, such as Azure Virtual Machines, Azure Storage, and Azure App Service. You can use Azure Cost Management to gain insights into your spending, ensure the efficient use of your resources, and control your cloud costs. It also integrates with other Azure services, such as Azure Monitor and Azure Policy.",
         "85",
         "Azure Cost Management"
        ],
        [
         "Developer Tools",
         "Azure App Configuration is a fully managed configuration service that enables you to centrally manage and distribute your application settings and feature flags. It provides features like key-value storage, versioning, and access control. App Configuration supports various platforms, such as .NET, Java, Node.js, and Python. You can use Azure App Configuration to build and deploy your applications, ensure the consistency of your settings, and improve your application lifecycle. It also integrates with other Azure services, such as Azure App Service and Azure Functions.",
         "86",
         "Azure App Configuration"
        ],
        [
         "Web",
         "Azure Static Web Apps is a serverless hosting service that enables you to build and deploy modern web applications using static front-end technologies and serverless APIs. It provides features like custom domains, SSL certificates, and integration with Azure Functions. Static Web Apps supports various frameworks, such as React, Angular, and Vue.js. You can use Azure Static Web Apps to build and deploy your web applications, ensure high performance and security, and simplify your development workflow. It also integrates with other Azure services, such as Azure App Service and Azure CDN.",
         "87",
         "Azure Static Web Apps"
        ],
        [
         "Management + Governance",
         "Azure Lighthouse is a cross-tenant management service that enables you to manage and monitor your customers' Azure resources at scale. It provides features like delegated access, centralized management, and multi-tenant reporting. Lighthouse supports various Azure services, such as Azure Virtual Machines, Azure Storage, and Azure App Service. You can use Azure Lighthouse to build managed service offerings, improve your operational efficiency, and ensure the security and compliance of your customers' environments. It also integrates with other Azure services, such as Azure Monitor and Azure Policy.",
         "88",
         "Azure Lighthouse"
        ],
        [
         "AI + Machine Learning",
         "Azure Machine Learning is a fully managed, end-to-end platform that enables you to build, train, and deploy machine learning models at scale. It provides features like automated machine learning, data labeling, and model management. Machine Learning supports various frameworks, such as TensorFlow, PyTorch, and Scikit-learn. You can use Azure Machine Learning to develop predictive analytics solutions, improve your decision-making, and gain insights into your data. It also integrates with other Azure services, such as Azure Databricks and Azure Synapse Analytics.",
         "89",
         "Azure Machine Learning"
        ],
        [
         "AI + Machine Learning",
         "Azure Cognitive Services is a collection of AI services and APIs that enable you to build intelligent applications using pre-built models and algorithms. It provides features like computer vision, speech recognition, and natural language processing. Cognitive Services supports various platforms, such as .NET, Java, Node.js, and Python. You can use Azure Cognitive Services to build chatbots, analyze images and videos, and process and understand text. It also integrates with other Azure services, such as Azure Machine Learning and Azure Cognitive Search.",
         "90",
         "Azure Cognitive Services"
        ],
        [
         "AI + Machine Learning",
         "Azure Bot Service is a managed, AI-powered service that enables you to build, deploy, and manage intelligent chatbots for your applications. It provides features like natural language understanding, multi-channel support, and integration with Azure Cognitive Services. Bot Service supports various platforms, such as .NET, Java, Node.js, and Python. You can use Azure Bot Service to build conversational applications, improve user engagement, and automate customer support. It also integrates with other Azure services, such as Azure App Service and Azure Functions.",
         "91",
         "Azure Bot Service"
        ],
        [
         "AI + Machine Learning",
         "Azure Batch AI is a fully managed, AI-powered service that enables you to run distributed training and inferencing workloads for your machine learning models at scale. It provides features like automatic scaling, job scheduling, and integration with popular deep learning frameworks, such as TensorFlow, PyTorch, and Caffe. Batch AI supports various platforms, such as .NET, Java, Node.js, and Python. You can use Azure Batch AI to train and deploy your machine learning models, improve your decision-making, and gain insights into your data. It also integrates with other Azure services, such as Azure Machine Learning and Azure Storage.",
         "92",
         "Azure Batch AI"
        ],
        [
         "Internet of Things",
         "Azure Maps is a collection of geospatial services and SDKs that enable you to build location-based applications using Azure. It provides features like map rendering, geocoding, route planning, and spatial analytics. Azure Maps supports various platforms, such as web, mobile, and IoT devices. You can use Azure Maps to build mapping applications, visualize and analyze your spatial data, and improve your decision-making. It also integrates with other Azure services, such as Azure IoT Hub and Azure Functions.",
         "93",
         "Azure Maps"
        ],
        [
         "Healthcare",
         "Azure API for FHIR is a fully managed, standards-based API that enables you to store, manage, and exchange health data in the Fast Healthcare Interoperability Resources (FHIR) format. It provides features like data validation, versioning, and integration with Azure Active Directory. API for FHIR supports various data types, such as clinical, imaging, and administrative data. You can use Azure API for FHIR to build healthcare applications, ensure the security and compliance of your health data, and streamline your data management. It also integrates with other Azure services, such as Azure Machine Learning and Azure IoT Central.",
         "94",
         "Azure API for FHIR"
        ],
        [
         "Storage",
         "Azure HPC Cache is a fully managed, high-performance caching service that enables you to access and manage large datasets stored on-premises or in Azure. It provides features like automatic scaling, data prefetching, and integration with Azure Blob Storage. HPC Cache supports various file systems, such as NFS and SMB. You can use Azure HPC Cache to build high-performance computing applications, optimize your data access, and ensure the performance and reliability of your workloads. It also integrates with other Azure services, such as Azure Virtual Machines and Azure Storage.",
         "95",
         "Azure HPC Cache"
        ],
        [
         "Compute",
         "Azure Quantum is a fully managed, quantum computing service that enables you to build and run quantum applications using Azure. It provides features like quantum hardware, quantum simulators, and quantum optimization algorithms. Azure Quantum supports various programming languages, such as Q#, Python, and C#. You can use Azure Quantum to explore quantum computing, develop quantum algorithms, and solve complex optimization problems. It also integrates with other Azure services, such as Azure Machine Learning and Azure Functions.",
         "96",
         "Azure Quantum"
        ],
        [
         "Analytics",
         "Azure Data Share is a fully managed data sharing service that enables you to securely share and receive data from other organizations using Azure. It provides features like data snapshotting, change tracking, and access control. Data Share supports various data sources, such as Azure Blob Storage, Azure Data Lake Storage, and Azure SQL Database. You can use Azure Data Share to collaborate with your partners, improve your data governance, and ensure the security of your data. It also integrates with other Azure services, such as Azure Synapse Analytics and Azure Data Factory.",
         "97",
         "Azure Data Share"
        ],
        [
         "Hybrid",
         "Azure Stack Hub is an extension of Azure that enables you to run Azure services on-premises, in your own datacenter, or at the edge. It provides features like consistent APIs, hybrid application development, and integration with Azure Active Directory. Azure Stack Hub supports various Azure services, such as Azure Virtual Machines, Azure Storage, and Azure App Service. You can use Azure Stack Hub to build hybrid applications, ensure the compliance of your workloads, and simplify your infrastructure management. It also integrates with other Azure services, such as Azure Monitor and Azure Site Recovery.",
         "98",
         "Azure Stack Hub"
        ],
        [
         "Hybrid",
         "Azure Stack Edge is a managed, edge computing appliance that enables you to run Azure services and AI workloads on-premises or at the edge. It provides features like hardware-accelerated machine learning, local caching, and integration with Azure IoT Hub. Azure Stack Edge supports various Azure services, such as Azure Functions, Azure Machine Learning, and Azure Kubernetes Service. You can use Azure Stack Edge to build edge computing applications, optimize your data processing, and ensure the security and compliance of your workloads. It also integrates with other Azure services, such as Azure Monitor and Azure Stack Hub.",
         "99",
         "Azure Stack Edge"
        ],
        [
         "Security",
         "Azure Active Directory (Azure AD) is a cloud-based identity and access management service that enables you to manage users, groups, and access to your applications and resources. It provides features like single sign-on (SSO), multi-factor authentication (MFA), and conditional access. Azure AD supports various platforms, such as Windows, macOS, and Linux. You can use Azure Active Directory to secure your applications, ensure the compliance of your workloads, and simplify your identity management. It also integrates with other Azure services, such as Azure Virtual Machines and Azure App Service.",
         "100",
         "Azure Active Directory"
        ],
        [
         "Networking",
         "Azure ExpressRoute is a dedicated, private connectivity service that enables you to securely extend your on-premises networks to Azure over a private connection. It provides features like low latency, high bandwidth, and integration with Azure Virtual Network. ExpressRoute supports various connectivity models, such as point-to-point, MPLS, and SD-WAN. You can use Azure ExpressRoute to build hybrid applications, ensure the performance and security of your data in transit, and improve your network reliability. It also integrates with other Azure services, such as Azure VPN Gateway and Azure Traffic Manager.",
         "101",
         "Azure ExpressRoute"
        ],
        [
         "Networking",
         "Azure Private Link is a secure, private connectivity service that enables you to access Azure services over a private connection within an Azure Virtual Network. It provides features like private IP addresses, data exfiltration protection, and integration with Azure Private DNS. Private Link supports various Azure services, such as Azure Storage, Azure SQL Database, and Azure App Service. You can use Azure Private Link to build isolated environments, ensure the security of your data in transit, and simplify your network management. It also integrates with other Azure services, such as Azure Virtual Network and Azure Firewall.",
         "102",
         "Azure Private Link"
        ],
        [
         "Networking",
         "Azure Virtual WAN is a global, scalable, and secure networking service that enables you to build and manage your wide area networks (WAN) in Azure. It provides features like automated site-to-site VPN, hub-and-spoke topology, and integration with Azure Firewall. Virtual WAN supports various Azure services, such as Azure Virtual Machines, Azure Storage, and Azure App Service. You can use Azure Virtual WAN to build hybrid applications, ensure the performance and security of your data in transit, and improve your network reliability. It also integrates with other Azure services, such as Azure ExpressRoute and Azure Traffic Manager.",
         "103",
         "Azure Virtual WAN"
        ],
        [
         "Management + Governance",
         "Azure Site Recovery is a fully managed, disaster recovery service that enables you to protect and recover your applications and data from various types of failures. It provides features like automated failover, recovery plans, and integration with Azure Backup. Site Recovery supports various platforms, such as Windows, Linux, and VMware. You can use Azure Site Recovery to ensure the availability of your applications, maintain your business continuity, and automate your disaster recovery process. It also integrates with other Azure services, such as Azure Virtual Machines and Azure Storage.",
         "104",
         "Azure Site Recovery"
        ],
        [
         "Web",
         "Azure Web PubSub is a fully managed, real-time messaging service that enables you to build and scale real-time web applications using WebSockets. It provides features like automatic scaling, custom domains, and serverless integration. Web PubSub supports various programming languages, such as C#, JavaScript, and Java. You can use Azure Web PubSub to build chat applications, real-time dashboards, and collaborative tools. It also integrates with other Azure services, such as Azure Functions and Azure SignalR Service.",
         "105",
         "Azure Web PubSub"
        ],
        [
         "Analytics",
         "Azure Data Factory is a cloud-based data integration service that enables you to create, schedule, and manage your data workflows. It provides features like data movement, data transformation, and integration with Azure Machine Learning. Data Factory supports various data sources, such as Azure Blob Storage, Azure Data Lake Storage, and Azure SQL Database. You can use Azure Data Factory to build data pipelines, develop big data analytics solutions, and migrate your data to Azure. It also integrates with other Azure services, such as Azure Synapse Analytics and Azure Data Lake Analytics.",
         "106",
         "Azure Data Factory"
        ],
        [
         "Analytics",
         "Azure Data Bricks is a fully managed, Apache Spark-based analytics platform that enables you to process and analyze large volumes of data. It provides features like collaborative notebooks, job scheduling, and integration with Azure Machine Learning. Data Bricks supports various data sources, such as Azure Blob Storage, Azure Data Lake Storage, and Azure Cosmos DB. You can use Azure Data Bricks to build data lakes, develop big data analytics solutions, and train machine learning models. It also integrates with other Azure services, such as Azure Synapse Analytics and Azure Data Factory.",
         "107",
         "Azure Data Bricks"
        ],
        [
         "Security",
         "Azure Bastion is a fully managed, secure, and scalable service that provides remote access to your virtual machines. It provides features like private connectivity, secure RDP/SSH sessions, and browser-based access. Bastion supports various Azure services, such as Azure Virtual Machines, Azure Virtual Network, and Azure Active Directory. You can use Azure Bastion to securely access your virtual machines, minimize your attack surface, and improve the security of your infrastructure. It also integrates with other Azure services, such as Azure Monitor and Azure Security Center.",
         "108",
         "Azure Bastion"
        ]
       ],
       "datasetInfos": [],
       "dbfsResultPath": null,
       "isJsonSchema": true,
       "metadata": {},
       "overflow": false,
       "plotOptions": {
        "customPlotOptions": {},
        "displayType": "table",
        "pivotAggregation": null,
        "pivotColumns": null,
        "xColumns": null,
        "yColumns": null
       },
       "removedWidgets": [],
       "schema": [
        {
         "metadata": "{}",
         "name": "category",
         "type": "\"string\""
        },
        {
         "metadata": "{}",
         "name": "content",
         "type": "\"string\""
        },
        {
         "metadata": "{}",
         "name": "id",
         "type": "\"string\""
        },
        {
         "metadata": "{}",
         "name": "title",
         "type": "\"string\""
        }
       ],
       "type": "table"
      }
     },
     "output_type": "display_data"
    }
   ],
   "source": [
    "source_df =spark.read.option(\"multiline\",\"true\").json(\"dbfs:/mnt/hvdata/product_docs.json\")\n",
    "display(source_df)"
   ]
  },
  {
   "cell_type": "code",
   "execution_count": 0,
   "metadata": {
    "application/vnd.databricks.v1+cell": {
     "cellMetadata": {
      "byteLimit": 2048000,
      "rowLimit": 10000
     },
     "inputWidgets": {},
     "nuid": "54eb00f2-6530-43c7-9063-c9892a062333",
     "showTitle": false,
     "title": ""
    }
   },
   "outputs": [
    {
     "output_type": "display_data",
     "data": {
      "text/plain": [
       "\u001B[0;31m---------------------------------------------------------------------------\u001B[0m\n",
       "\u001B[0;31mAnalysisException\u001B[0m                         Traceback (most recent call last)\n",
       "File \u001B[0;32m<command-3694651593041713>, line 1\u001B[0m\n",
       "\u001B[0;32m----> 1\u001B[0m \u001B[43msource_df\u001B[49m\u001B[38;5;241;43m.\u001B[39;49m\u001B[43mwrite\u001B[49m\u001B[38;5;241;43m.\u001B[39;49m\u001B[43mformat\u001B[49m\u001B[43m(\u001B[49m\u001B[38;5;124;43m\"\u001B[39;49m\u001B[38;5;124;43mdelta\u001B[39;49m\u001B[38;5;124;43m\"\u001B[39;49m\u001B[43m)\u001B[49m\u001B[38;5;241;43m.\u001B[39;49m\u001B[43moption\u001B[49m\u001B[43m(\u001B[49m\u001B[38;5;124;43m\"\u001B[39;49m\u001B[38;5;124;43mdelta.enableChangeDataFeed\u001B[39;49m\u001B[38;5;124;43m\"\u001B[39;49m\u001B[43m,\u001B[49m\u001B[43m \u001B[49m\u001B[38;5;124;43m\"\u001B[39;49m\u001B[38;5;124;43mtrue\u001B[39;49m\u001B[38;5;124;43m\"\u001B[39;49m\u001B[43m)\u001B[49m\u001B[38;5;241;43m.\u001B[39;49m\u001B[43msaveAsTable\u001B[49m\u001B[43m(\u001B[49m\u001B[43msource_table_fullname\u001B[49m\u001B[43m)\u001B[49m\n",
       "\n",
       "File \u001B[0;32m/databricks/spark/python/pyspark/instrumentation_utils.py:48\u001B[0m, in \u001B[0;36m_wrap_function.<locals>.wrapper\u001B[0;34m(*args, **kwargs)\u001B[0m\n",
       "\u001B[1;32m     46\u001B[0m start \u001B[38;5;241m=\u001B[39m time\u001B[38;5;241m.\u001B[39mperf_counter()\n",
       "\u001B[1;32m     47\u001B[0m \u001B[38;5;28;01mtry\u001B[39;00m:\n",
       "\u001B[0;32m---> 48\u001B[0m     res \u001B[38;5;241m=\u001B[39m \u001B[43mfunc\u001B[49m\u001B[43m(\u001B[49m\u001B[38;5;241;43m*\u001B[39;49m\u001B[43margs\u001B[49m\u001B[43m,\u001B[49m\u001B[43m \u001B[49m\u001B[38;5;241;43m*\u001B[39;49m\u001B[38;5;241;43m*\u001B[39;49m\u001B[43mkwargs\u001B[49m\u001B[43m)\u001B[49m\n",
       "\u001B[1;32m     49\u001B[0m     logger\u001B[38;5;241m.\u001B[39mlog_success(\n",
       "\u001B[1;32m     50\u001B[0m         module_name, class_name, function_name, time\u001B[38;5;241m.\u001B[39mperf_counter() \u001B[38;5;241m-\u001B[39m start, signature\n",
       "\u001B[1;32m     51\u001B[0m     )\n",
       "\u001B[1;32m     52\u001B[0m     \u001B[38;5;28;01mreturn\u001B[39;00m res\n",
       "\n",
       "File \u001B[0;32m/databricks/spark/python/pyspark/sql/readwriter.py:1586\u001B[0m, in \u001B[0;36mDataFrameWriter.saveAsTable\u001B[0;34m(self, name, format, mode, partitionBy, **options)\u001B[0m\n",
       "\u001B[1;32m   1584\u001B[0m \u001B[38;5;28;01mif\u001B[39;00m \u001B[38;5;28mformat\u001B[39m \u001B[38;5;129;01mis\u001B[39;00m \u001B[38;5;129;01mnot\u001B[39;00m \u001B[38;5;28;01mNone\u001B[39;00m:\n",
       "\u001B[1;32m   1585\u001B[0m     \u001B[38;5;28mself\u001B[39m\u001B[38;5;241m.\u001B[39mformat(\u001B[38;5;28mformat\u001B[39m)\n",
       "\u001B[0;32m-> 1586\u001B[0m \u001B[38;5;28;43mself\u001B[39;49m\u001B[38;5;241;43m.\u001B[39;49m\u001B[43m_jwrite\u001B[49m\u001B[38;5;241;43m.\u001B[39;49m\u001B[43msaveAsTable\u001B[49m\u001B[43m(\u001B[49m\u001B[43mname\u001B[49m\u001B[43m)\u001B[49m\n",
       "\n",
       "File \u001B[0;32m/databricks/spark/python/lib/py4j-0.10.9.7-src.zip/py4j/java_gateway.py:1322\u001B[0m, in \u001B[0;36mJavaMember.__call__\u001B[0;34m(self, *args)\u001B[0m\n",
       "\u001B[1;32m   1316\u001B[0m command \u001B[38;5;241m=\u001B[39m proto\u001B[38;5;241m.\u001B[39mCALL_COMMAND_NAME \u001B[38;5;241m+\u001B[39m\\\n",
       "\u001B[1;32m   1317\u001B[0m     \u001B[38;5;28mself\u001B[39m\u001B[38;5;241m.\u001B[39mcommand_header \u001B[38;5;241m+\u001B[39m\\\n",
       "\u001B[1;32m   1318\u001B[0m     args_command \u001B[38;5;241m+\u001B[39m\\\n",
       "\u001B[1;32m   1319\u001B[0m     proto\u001B[38;5;241m.\u001B[39mEND_COMMAND_PART\n",
       "\u001B[1;32m   1321\u001B[0m answer \u001B[38;5;241m=\u001B[39m \u001B[38;5;28mself\u001B[39m\u001B[38;5;241m.\u001B[39mgateway_client\u001B[38;5;241m.\u001B[39msend_command(command)\n",
       "\u001B[0;32m-> 1322\u001B[0m return_value \u001B[38;5;241m=\u001B[39m \u001B[43mget_return_value\u001B[49m\u001B[43m(\u001B[49m\n",
       "\u001B[1;32m   1323\u001B[0m \u001B[43m    \u001B[49m\u001B[43manswer\u001B[49m\u001B[43m,\u001B[49m\u001B[43m \u001B[49m\u001B[38;5;28;43mself\u001B[39;49m\u001B[38;5;241;43m.\u001B[39;49m\u001B[43mgateway_client\u001B[49m\u001B[43m,\u001B[49m\u001B[43m \u001B[49m\u001B[38;5;28;43mself\u001B[39;49m\u001B[38;5;241;43m.\u001B[39;49m\u001B[43mtarget_id\u001B[49m\u001B[43m,\u001B[49m\u001B[43m \u001B[49m\u001B[38;5;28;43mself\u001B[39;49m\u001B[38;5;241;43m.\u001B[39;49m\u001B[43mname\u001B[49m\u001B[43m)\u001B[49m\n",
       "\u001B[1;32m   1325\u001B[0m \u001B[38;5;28;01mfor\u001B[39;00m temp_arg \u001B[38;5;129;01min\u001B[39;00m temp_args:\n",
       "\u001B[1;32m   1326\u001B[0m     \u001B[38;5;28;01mif\u001B[39;00m \u001B[38;5;28mhasattr\u001B[39m(temp_arg, \u001B[38;5;124m\"\u001B[39m\u001B[38;5;124m_detach\u001B[39m\u001B[38;5;124m\"\u001B[39m):\n",
       "\n",
       "File \u001B[0;32m/databricks/spark/python/pyspark/errors/exceptions/captured.py:194\u001B[0m, in \u001B[0;36mcapture_sql_exception.<locals>.deco\u001B[0;34m(*a, **kw)\u001B[0m\n",
       "\u001B[1;32m    190\u001B[0m converted \u001B[38;5;241m=\u001B[39m convert_exception(e\u001B[38;5;241m.\u001B[39mjava_exception)\n",
       "\u001B[1;32m    191\u001B[0m \u001B[38;5;28;01mif\u001B[39;00m \u001B[38;5;129;01mnot\u001B[39;00m \u001B[38;5;28misinstance\u001B[39m(converted, UnknownException):\n",
       "\u001B[1;32m    192\u001B[0m     \u001B[38;5;66;03m# Hide where the exception came from that shows a non-Pythonic\u001B[39;00m\n",
       "\u001B[1;32m    193\u001B[0m     \u001B[38;5;66;03m# JVM exception message.\u001B[39;00m\n",
       "\u001B[0;32m--> 194\u001B[0m     \u001B[38;5;28;01mraise\u001B[39;00m converted \u001B[38;5;28;01mfrom\u001B[39;00m \u001B[38;5;28mNone\u001B[39m\n",
       "\u001B[1;32m    195\u001B[0m \u001B[38;5;28;01melse\u001B[39;00m:\n",
       "\u001B[1;32m    196\u001B[0m     \u001B[38;5;28;01mraise\u001B[39;00m\n",
       "\n",
       "\u001B[0;31mAnalysisException\u001B[0m: [TABLE_OR_VIEW_ALREADY_EXISTS] Cannot create table or view `vector_search`.`product` because it already exists.\n",
       "Choose a different name, drop or replace the existing object, add the IF NOT EXISTS clause to tolerate pre-existing objects, or add the OR REFRESH clause to refresh the existing streaming table."
      ]
     },
     "metadata": {
      "application/vnd.databricks.v1+output": {
       "arguments": {},
       "data": "\u001B[0;31m---------------------------------------------------------------------------\u001B[0m\n\u001B[0;31mAnalysisException\u001B[0m                         Traceback (most recent call last)\nFile \u001B[0;32m<command-3694651593041713>, line 1\u001B[0m\n\u001B[0;32m----> 1\u001B[0m \u001B[43msource_df\u001B[49m\u001B[38;5;241;43m.\u001B[39;49m\u001B[43mwrite\u001B[49m\u001B[38;5;241;43m.\u001B[39;49m\u001B[43mformat\u001B[49m\u001B[43m(\u001B[49m\u001B[38;5;124;43m\"\u001B[39;49m\u001B[38;5;124;43mdelta\u001B[39;49m\u001B[38;5;124;43m\"\u001B[39;49m\u001B[43m)\u001B[49m\u001B[38;5;241;43m.\u001B[39;49m\u001B[43moption\u001B[49m\u001B[43m(\u001B[49m\u001B[38;5;124;43m\"\u001B[39;49m\u001B[38;5;124;43mdelta.enableChangeDataFeed\u001B[39;49m\u001B[38;5;124;43m\"\u001B[39;49m\u001B[43m,\u001B[49m\u001B[43m \u001B[49m\u001B[38;5;124;43m\"\u001B[39;49m\u001B[38;5;124;43mtrue\u001B[39;49m\u001B[38;5;124;43m\"\u001B[39;49m\u001B[43m)\u001B[49m\u001B[38;5;241;43m.\u001B[39;49m\u001B[43msaveAsTable\u001B[49m\u001B[43m(\u001B[49m\u001B[43msource_table_fullname\u001B[49m\u001B[43m)\u001B[49m\n\nFile \u001B[0;32m/databricks/spark/python/pyspark/instrumentation_utils.py:48\u001B[0m, in \u001B[0;36m_wrap_function.<locals>.wrapper\u001B[0;34m(*args, **kwargs)\u001B[0m\n\u001B[1;32m     46\u001B[0m start \u001B[38;5;241m=\u001B[39m time\u001B[38;5;241m.\u001B[39mperf_counter()\n\u001B[1;32m     47\u001B[0m \u001B[38;5;28;01mtry\u001B[39;00m:\n\u001B[0;32m---> 48\u001B[0m     res \u001B[38;5;241m=\u001B[39m \u001B[43mfunc\u001B[49m\u001B[43m(\u001B[49m\u001B[38;5;241;43m*\u001B[39;49m\u001B[43margs\u001B[49m\u001B[43m,\u001B[49m\u001B[43m \u001B[49m\u001B[38;5;241;43m*\u001B[39;49m\u001B[38;5;241;43m*\u001B[39;49m\u001B[43mkwargs\u001B[49m\u001B[43m)\u001B[49m\n\u001B[1;32m     49\u001B[0m     logger\u001B[38;5;241m.\u001B[39mlog_success(\n\u001B[1;32m     50\u001B[0m         module_name, class_name, function_name, time\u001B[38;5;241m.\u001B[39mperf_counter() \u001B[38;5;241m-\u001B[39m start, signature\n\u001B[1;32m     51\u001B[0m     )\n\u001B[1;32m     52\u001B[0m     \u001B[38;5;28;01mreturn\u001B[39;00m res\n\nFile \u001B[0;32m/databricks/spark/python/pyspark/sql/readwriter.py:1586\u001B[0m, in \u001B[0;36mDataFrameWriter.saveAsTable\u001B[0;34m(self, name, format, mode, partitionBy, **options)\u001B[0m\n\u001B[1;32m   1584\u001B[0m \u001B[38;5;28;01mif\u001B[39;00m \u001B[38;5;28mformat\u001B[39m \u001B[38;5;129;01mis\u001B[39;00m \u001B[38;5;129;01mnot\u001B[39;00m \u001B[38;5;28;01mNone\u001B[39;00m:\n\u001B[1;32m   1585\u001B[0m     \u001B[38;5;28mself\u001B[39m\u001B[38;5;241m.\u001B[39mformat(\u001B[38;5;28mformat\u001B[39m)\n\u001B[0;32m-> 1586\u001B[0m \u001B[38;5;28;43mself\u001B[39;49m\u001B[38;5;241;43m.\u001B[39;49m\u001B[43m_jwrite\u001B[49m\u001B[38;5;241;43m.\u001B[39;49m\u001B[43msaveAsTable\u001B[49m\u001B[43m(\u001B[49m\u001B[43mname\u001B[49m\u001B[43m)\u001B[49m\n\nFile \u001B[0;32m/databricks/spark/python/lib/py4j-0.10.9.7-src.zip/py4j/java_gateway.py:1322\u001B[0m, in \u001B[0;36mJavaMember.__call__\u001B[0;34m(self, *args)\u001B[0m\n\u001B[1;32m   1316\u001B[0m command \u001B[38;5;241m=\u001B[39m proto\u001B[38;5;241m.\u001B[39mCALL_COMMAND_NAME \u001B[38;5;241m+\u001B[39m\\\n\u001B[1;32m   1317\u001B[0m     \u001B[38;5;28mself\u001B[39m\u001B[38;5;241m.\u001B[39mcommand_header \u001B[38;5;241m+\u001B[39m\\\n\u001B[1;32m   1318\u001B[0m     args_command \u001B[38;5;241m+\u001B[39m\\\n\u001B[1;32m   1319\u001B[0m     proto\u001B[38;5;241m.\u001B[39mEND_COMMAND_PART\n\u001B[1;32m   1321\u001B[0m answer \u001B[38;5;241m=\u001B[39m \u001B[38;5;28mself\u001B[39m\u001B[38;5;241m.\u001B[39mgateway_client\u001B[38;5;241m.\u001B[39msend_command(command)\n\u001B[0;32m-> 1322\u001B[0m return_value \u001B[38;5;241m=\u001B[39m \u001B[43mget_return_value\u001B[49m\u001B[43m(\u001B[49m\n\u001B[1;32m   1323\u001B[0m \u001B[43m    \u001B[49m\u001B[43manswer\u001B[49m\u001B[43m,\u001B[49m\u001B[43m \u001B[49m\u001B[38;5;28;43mself\u001B[39;49m\u001B[38;5;241;43m.\u001B[39;49m\u001B[43mgateway_client\u001B[49m\u001B[43m,\u001B[49m\u001B[43m \u001B[49m\u001B[38;5;28;43mself\u001B[39;49m\u001B[38;5;241;43m.\u001B[39;49m\u001B[43mtarget_id\u001B[49m\u001B[43m,\u001B[49m\u001B[43m \u001B[49m\u001B[38;5;28;43mself\u001B[39;49m\u001B[38;5;241;43m.\u001B[39;49m\u001B[43mname\u001B[49m\u001B[43m)\u001B[49m\n\u001B[1;32m   1325\u001B[0m \u001B[38;5;28;01mfor\u001B[39;00m temp_arg \u001B[38;5;129;01min\u001B[39;00m temp_args:\n\u001B[1;32m   1326\u001B[0m     \u001B[38;5;28;01mif\u001B[39;00m \u001B[38;5;28mhasattr\u001B[39m(temp_arg, \u001B[38;5;124m\"\u001B[39m\u001B[38;5;124m_detach\u001B[39m\u001B[38;5;124m\"\u001B[39m):\n\nFile \u001B[0;32m/databricks/spark/python/pyspark/errors/exceptions/captured.py:194\u001B[0m, in \u001B[0;36mcapture_sql_exception.<locals>.deco\u001B[0;34m(*a, **kw)\u001B[0m\n\u001B[1;32m    190\u001B[0m converted \u001B[38;5;241m=\u001B[39m convert_exception(e\u001B[38;5;241m.\u001B[39mjava_exception)\n\u001B[1;32m    191\u001B[0m \u001B[38;5;28;01mif\u001B[39;00m \u001B[38;5;129;01mnot\u001B[39;00m \u001B[38;5;28misinstance\u001B[39m(converted, UnknownException):\n\u001B[1;32m    192\u001B[0m     \u001B[38;5;66;03m# Hide where the exception came from that shows a non-Pythonic\u001B[39;00m\n\u001B[1;32m    193\u001B[0m     \u001B[38;5;66;03m# JVM exception message.\u001B[39;00m\n\u001B[0;32m--> 194\u001B[0m     \u001B[38;5;28;01mraise\u001B[39;00m converted \u001B[38;5;28;01mfrom\u001B[39;00m \u001B[38;5;28mNone\u001B[39m\n\u001B[1;32m    195\u001B[0m \u001B[38;5;28;01melse\u001B[39;00m:\n\u001B[1;32m    196\u001B[0m     \u001B[38;5;28;01mraise\u001B[39;00m\n\n\u001B[0;31mAnalysisException\u001B[0m: [TABLE_OR_VIEW_ALREADY_EXISTS] Cannot create table or view `vector_search`.`product` because it already exists.\nChoose a different name, drop or replace the existing object, add the IF NOT EXISTS clause to tolerate pre-existing objects, or add the OR REFRESH clause to refresh the existing streaming table.",
       "errorSummary": "<span class='ansi-red-fg'>AnalysisException</span>: [TABLE_OR_VIEW_ALREADY_EXISTS] Cannot create table or view `vector_search`.`product` because it already exists.\nChoose a different name, drop or replace the existing object, add the IF NOT EXISTS clause to tolerate pre-existing objects, or add the OR REFRESH clause to refresh the existing streaming table.",
       "errorTraceType": "ansi",
       "metadata": {},
       "type": "ipynbError"
      }
     },
     "output_type": "display_data"
    }
   ],
   "source": [
    "source_df.write.format(\"delta\").option(\"delta.enableChangeDataFeed\", \"true\").saveAsTable(source_table_fullname)"
   ]
  },
  {
   "cell_type": "code",
   "execution_count": 0,
   "metadata": {
    "application/vnd.databricks.v1+cell": {
     "cellMetadata": {
      "byteLimit": 2048000,
      "rowLimit": 10000
     },
     "inputWidgets": {},
     "nuid": "9328c952-505a-4e42-a033-1d763704c8dd",
     "showTitle": false,
     "title": ""
    }
   },
   "outputs": [
    {
     "output_type": "display_data",
     "data": {
      "text/html": [
       "<style scoped>\n",
       "  .table-result-container {\n",
       "    max-height: 300px;\n",
       "    overflow: auto;\n",
       "  }\n",
       "  table, th, td {\n",
       "    border: 1px solid black;\n",
       "    border-collapse: collapse;\n",
       "  }\n",
       "  th, td {\n",
       "    padding: 5px;\n",
       "  }\n",
       "  th {\n",
       "    text-align: left;\n",
       "  }\n",
       "</style><div class='table-result-container'><table class='table-result'><thead style='background-color: white'><tr><th>category</th><th>content</th><th>id</th><th>title</th></tr></thead><tbody><tr><td>Web</td><td>Azure App Service is a fully managed platform for building, deploying, and scaling web apps. You can host web apps, mobile app backends, and RESTful APIs. It supports a variety of programming languages and frameworks, such as .NET, Java, Node.js, Python, and PHP. The service offers built-in auto-scaling and load balancing capabilities. It also provides integration with other Azure services, such as Azure DevOps, GitHub, and Bitbucket.</td><td>1</td><td>Azure App Service</td></tr><tr><td>Compute</td><td>Azure Functions is a serverless compute service that enables you to run code on-demand without having to manage infrastructure. It allows you to build and deploy event-driven applications that automatically scale with your workload. Functions support various languages, including C#, F#, Node.js, Python, and Java. It offers a variety of triggers and bindings to integrate with other Azure services and external services. You only pay for the compute time you consume.</td><td>2</td><td>Azure Functions</td></tr><tr><td>AI + Machine Learning</td><td>Azure Cognitive Services are a set of AI services that enable you to build intelligent applications with powerful algorithms using just a few lines of code. These services cover a wide range of capabilities, including vision, speech, language, knowledge, and search. They are designed to be easy to use and integrate into your applications. Cognitive Services are fully managed, scalable, and continuously improved by Microsoft. It allows developers to create AI-powered solutions without deep expertise in machine learning.</td><td>3</td><td>Azure Cognitive Services</td></tr><tr><td>Storage</td><td>Azure Storage is a scalable, durable, and highly available cloud storage service that supports a variety of data types, including blobs, files, queues, and tables. It provides a massively scalable object store for unstructured data. Storage supports data redundancy and geo-replication, ensuring high durability and availability. It offers a variety of data access and management options, including REST APIs, SDKs, and Azure Portal. You can secure your data using encryption at rest and in transit.</td><td>4</td><td>Azure Storage</td></tr><tr><td>Databases</td><td>Azure SQL Database is a fully managed relational database service based on the latest stable version of Microsoft SQL Server. It offers built-in intelligence that learns your application patterns and adapts to maximize performance, reliability, and data protection. SQL Database supports elastic scaling, allowing you to dynamically adjust resources to match your workload. It provides advanced security features, such as encryption, auditing, and threat detection. You can migrate your existing SQL Server databases to Azure SQL Database with minimal downtime.</td><td>5</td><td>Azure SQL Database</td></tr><tr><td>Databases</td><td>Azure Cosmos DB is a fully managed, globally distributed, multi-model database service designed for building highly responsive and scalable applications. It offers turnkey global distribution, automatic and instant scalability, and guarantees low latency, high availability, and consistency. Cosmos DB supports popular NoSQL APIs, including MongoDB, Cassandra, Gremlin, and Azure Table Storage. You can build globally distributed applications with ease, without having to deal with complex configuration and capacity planning. Data stored in Cosmos DB is automatically indexed, enabling you to query your data with SQL, JavaScript, or other supported query languages.</td><td>6</td><td>Azure Cosmos DB</td></tr><tr><td>Containers</td><td>Azure Kubernetes Service (AKS) is a managed container orchestration service based on the popular open-source Kubernetes system. It simplifies Kubernetes deployment and management, making it easy for developers and administrators to deploy, scale, and manage containerized applications. AKS offers automatic upgrades, scaling, and self-healing capabilities, reducing the operational overhead of managing Kubernetes clusters. It also integrates with Azure services like Azure Active Directory, Azure Monitor, and Azure Policy, providing a seamless experience for managing your applications and infrastructure.</td><td>7</td><td>Azure Kubernetes Service (AKS)</td></tr><tr><td>Compute</td><td>Azure Virtual Machines (VMs) is an Infrastructure-as-a-Service (IaaS) offering that allows you to deploy and manage virtual machines in the cloud. You can choose from a wide range of VM sizes, operating systems, and software configurations. VMs support various operating systems, including Windows Server, Linux, and SQL Server. You can scale your VMs up or down as needed, and pay only for the resources you use. VMs provide built-in security features, such as Azure Security Center, Azure Active Directory, and encryption.</td><td>8</td><td>Azure Virtual Machines</td></tr><tr><td>Developer Tools</td><td>Azure DevOps is a suite of services that help you plan, build, and deploy applications. It includes Azure Boards for work item tracking, Azure Repos for source code management, Azure Pipelines for continuous integration and continuous deployment, Azure Test Plans for manual and automated testing, and Azure Artifacts for package management. DevOps supports a wide range of programming languages, frameworks, and platforms, making it easy to integrate with your existing development tools and processes. It also integrates with other Azure services, such as Azure App Service and Azure Functions.</td><td>9</td><td>Azure DevOps</td></tr><tr><td>Internet of Things</td><td>Azure IoT Hub is a managed service that enables you to connect, monitor, and manage billions of IoT devices. It provides secure and reliable communication between your IoT devices and your backend solution. IoT Hub supports multiple communication protocols, including MQTT, AMQP, and HTTPS. It offers device-to-cloud and cloud-to-device messaging, device management, and device twin capabilities. With IoT Hub, you can build scalable and secure IoT solutions that integrate with other Azure services and custom applications.</td><td>10</td><td>Azure IoT Hub</td></tr><tr><td>AI + Machine Learning</td><td>Azure Machine Learning is a cloud-based service for building, training, and deploying machine learning models. It offers a visual interface for creating and managing experiments, as well as support for popular programming languages like Python and R. Machine Learning supports various algorithms, frameworks, and data sources, making it easy to integrate with your existing data and workflows. You can deploy your models as web services, and scale them based on your needs. It also integrates with other Azure services, such as Azure Databricks and Azure Data Factory.</td><td>11</td><td>Azure Machine Learning</td></tr><tr><td>Analytics</td><td>Azure Databricks is an Apache Spark-based analytics platform optimized for the Azure cloud. It provides a collaborative workspace for data scientists, engineers, and business users to process, analyze, and visualize big data. Databricks supports multiple programming languages, including Python, Scala, R, and SQL. It offers built-in integration with Azure Blob Storage, Azure Data Lake Storage, and Azure Cosmos DB. You can also use Databricks to train and deploy machine learning models, and integrate with Azure Machine Learning.</td><td>12</td><td>Azure Databricks</td></tr><tr><td>Identity</td><td>Azure Active Directory (Azure AD) is a cloud-based identity and access management service that helps you manage and secure access to your applications and resources. It provides features like single sign-on (SSO), multi-factor authentication (MFA), and conditional access policies. Azure AD supports integration with on-premises Active Directory, as well as third-party identity providers like Google and Facebook. You can use Azure AD to protect both cloud-based and on-premises applications, and manage access for employees, partners, and customers.</td><td>13</td><td>Azure Active Directory</td></tr><tr><td>Integration</td><td>Azure Logic Apps is a cloud-based service that allows you to create and run workflows that integrate with various services and data sources. It provides a visual designer for creating workflows, and supports a wide range of connectors for popular services like Office 365, Salesforce, and Dropbox. Logic Apps enable you to automate tasks, process and transform data, and orchestrate complex processes without writing code. You can monitor and manage your workflows using Azure Portal, REST APIs, or PowerShell.</td><td>14</td><td>Azure Logic Apps</td></tr><tr><td>Big Data</td><td>Azure Event Hubs is a fully managed, real-time data ingestion service that enables you to stream and process millions of events per second. It supports various data producers, such as IoT devices, applications, and services. Event Hubs provides low latency, high throughput, and scalable data streaming, making it suitable for big data scenarios like telemetry processing and log analytics. You can use Event Hubs with other Azure services, such as Azure Stream Analytics and Azure Functions, to build end-to-end real-time data processing solutions.</td><td>15</td><td>Azure Event Hubs</td></tr><tr><td>Integration</td><td>Azure API Management is a fully managed service that helps you create, publish, and manage APIs for your applications. It provides features like API documentation, developer portal, access control, and caching. API Management supports various API formats, including REST, SOAP, and GraphQL. You can use API Management to secure your APIs with authentication, authorization, and IP filtering. It also offers built-in analytics and monitoring, allowing you to track the usage and performance of your APIs.</td><td>16</td><td>Azure API Management</td></tr><tr><td>Analytics</td><td>Azure Data Factory is a cloud-based data integration service that allows you to create, schedule, and manage data workflows. It supports a wide range of sources and destinations, such as Azure Blob Storage, Azure SQL Database, and on-premises file systems. Data Factory provides a visual interface for designing and monitoring your workflows, as well as support for popular programming languages like Python and .NET. You can use Data Factory to move and transform data, orchestrate complex data processing tasks, and integrate with other Azure services.</td><td>17</td><td>Azure Data Factory</td></tr><tr><td>Analytics</td><td>Azure Synapse Analytics is an integrated analytics service that brings together big data and data warehousing. It enables you to ingest, prepare, manage, and serve data for immediate business intelligence and machine learning needs. Synapse Analytics provides a unified workspace for data engineers, data scientists, and business analysts to collaborate and build solutions. It supports various data sources, including Azure Data Lake Storage, Azure Blob Storage, and Azure Cosmos DB. You can use Synapse Analytics with other Azure services, such as Azure Machine Learning and Power BI.</td><td>18</td><td>Azure Synapse Analytics</td></tr><tr><td>Compute</td><td>Azure Batch is a cloud-based job scheduling service that enables you to run large-scale parallel and high-performance computing (HPC) applications. It provides features like automatic scaling, task scheduling, and resource management. Batch supports various VM sizes, operating systems, and application frameworks, making it easy to integrate with your existing workloads. You can use Batch to process large datasets, run simulations, and perform complex calculations. It also integrates with other Azure services, such as Azure Storage and Azure Active Directory.</td><td>19</td><td>Azure Batch</td></tr><tr><td>Networking</td><td>Azure Content Delivery Network (CDN) is a global content delivery network that enables you to deliver content to users with low latency and high availability. It caches and serves content from edge servers located near your users, improving the performance and reliability of your web applications. Azure CDN supports various content types, including static files, videos, and images. It provides advanced features like geo-filtering, custom domains, and SSL certificates. You can use Azure CDN with other Azure services, such as Azure App Service and Azure Storage.</td><td>20</td><td>Azure CDN</td></tr><tr><td>Networking</td><td>Azure ExpressRoute is a private, dedicated network connection between your on-premises infrastructure and Azure. It provides faster speeds, lower latencies, and more reliability than a standard internet connection. ExpressRoute supports various connectivity models, such as point-to-point, any-to-any, and hub-and-spoke. You can use ExpressRoute to extend your on-premises networks into Azure, build hybrid applications, and migrate workloads to the cloud. It also integrates with other Azure services, such as Azure Virtual Machines and Azure Storage.</td><td>21</td><td>Azure ExpressRoute</td></tr><tr><td>Networking</td><td>Azure Traffic Manager is a DNS-based traffic load balancer that enables you to distribute traffic across multiple Azure services and regions. It provides features like automatic failover, performance-based routing, and geographic routing. Traffic Manager supports various Azure services, such as Azure App Service, Azure Cloud Services, and Azure Virtual Machines. You can use Traffic Manager to build highly available and responsive applications, optimize your users' experience, and improve the resiliency of your infrastructure.</td><td>22</td><td>Azure Traffic Manager</td></tr><tr><td>Networking</td><td>Azure Virtual Network (VNet) is a networking service that enables you to create and manage private networks in Azure. It provides features like subnets, network security groups, and virtual network peering. VNet supports various Azure services, such as Azure Virtual Machines, Azure App Service, and Azure Kubernetes Service. You can use VNet to build isolated environments, connect your on-premises networks to Azure, and secure your applications and resources. It also integrates with other Azure services, such as Azure ExpressRoute and Azure Traffic Manager.</td><td>23</td><td>Azure Virtual Network</td></tr><tr><td>Security</td><td>Azure Firewall is a managed, cloud-based network security service that protects your Azure Virtual Network resources. It provides features like stateful packet inspection, application filtering, and threat intelligence. Firewall supports various network protocols, including TCP, UDP, and ICMP. You can use Azure Firewall to create and enforce network security policies, prevent unauthorized access, and protect your applications and data. It also integrates with other Azure services, such as Azure Monitor and Azure Security Center.</td><td>24</td><td>Azure Firewall</td></tr><tr><td>Networking</td><td>Azure Private Link is a networking service that enables you to access Azure services over a private connection. It provides features like private IP addresses, secure connectivity, and simplified network architecture. Private Link supports various Azure services, such as Azure Storage, Azure SQL Database, and Azure App Service. You can use Private Link to build secure and compliant applications, reduce exposure to the public internet, and simplify your network management. It also integrates with other Azure services, such as Azure Virtual Network and Azure ExpressRoute.</td><td>25</td><td>Azure Private Link</td></tr><tr><td>Management + Governance</td><td>Azure Site Recovery is a disaster recovery service that enables you to protect your applications and data by orchestrating replication, failover, and recovery of workloads. It supports various platforms, including Azure, on-premises, and third-party cloud providers. Site Recovery provides features like automated recovery, application consistency, and network integration. You can use Site Recovery to meet your business continuity and disaster recovery requirements, minimize downtime, and ensure compliance with industry regulations. It also integrates with other Azure services, such as Azure Backup and Azure Monitor.</td><td>26</td><td>Azure Site Recovery</td></tr><tr><td>Management + Governance</td><td>Azure Backup is a cloud-based backup service that enables you to protect your data and applications from loss and corruption. It supports various platforms, including Azure, on-premises, and third-party cloud providers. Backup provides features like incremental backups, data encryption, and long-term retention. You can use Azure Backup to meet your data protection requirements, ensure business continuity, and comply with industry regulations. It also integrates with other Azure services, such as Azure Site Recovery and Azure Storage.</td><td>27</td><td>Azure Backup</td></tr><tr><td>Integration</td><td>Azure Service Bus is a fully managed, enterprise-grade messaging service that enables you to build reliable and scalable applications. It provides features like message queuing, publish-subscribe, and dead-lettering. Service Bus supports various messaging patterns, including point-to-point, broadcast, and request-reply. You can use Service Bus to integrate your applications and services, decouple your system components, and handle asynchronous communication. It also integrates with other Azure services, such as Azure Functions and Azure Logic Apps.</td><td>28</td><td>Azure Service Bus</td></tr><tr><td>Analytics</td><td>Azure Stream Analytics is a real-time data stream processing service that enables you to analyze and process high volumes of fast-moving data. It supports various data sources, such as Azure Event Hubs, Azure IoT Hub, and Azure Blob Storage. Stream Analytics provides features like windowing, time-based aggregations, and user-defined functions. You can use Stream Analytics to build real-time dashboards, detect anomalies, and generate alerts. It also integrates with other Azure services, such as Azure Functions and Azure Machine Learning.</td><td>29</td><td>Azure Stream Analytics</td></tr><tr><td>Mobile</td><td>Azure Notification Hubs is a scalable mobile push notification service that enables you to send notifications to users across various platforms, including iOS, Android, and Windows. It provides features like personalized notifications, templates, and localization. Notification Hubs support various push notification services, such as Apple Push Notification Service (APNS), Firebase Cloud Messaging (FCM), and Windows Notification Service (WNS). You can use Notification Hubs to engage with your users, improve user retention, and increase app usage. It also integrates with other Azure services, such as Azure Mobile Apps and Azure Functions.</td><td>30</td><td>Azure Notification Hubs</td></tr><tr><td>Mobile</td><td>Azure Mobile Apps is a mobile app development platform that enables you to build, test, deploy, and monitor your mobile applications. It provides features like offline data sync, push notifications, and user authentication. Mobile Apps supports various platforms, including iOS, Android, and Windows. You can use Mobile Apps to build cross-platform applications, integrate with other Azure services, and improve your app development lifecycle. It also integrates with other Azure services, such as Azure Notification Hubs and Azure App Service.</td><td>31</td><td>Azure Mobile Apps</td></tr><tr><td>Analytics</td><td>Azure Time Series Insights is a fully managed analytics, storage, and visualization service that enables you to explore and analyze time-series data. It supports various data sources, such as Azure IoT Hub, Azure Event Hubs, and Azure Blob Storage. Time Series Insights provides features like real-time data streaming, advanced querying, and pattern recognition. You can use Time Series Insights to monitor your IoT devices, detect anomalies, and gain insights into your data. It also integrates with other Azure services, such as Azure Stream Analytics and Azure Machine Learning.</td><td>32</td><td>Azure Time Series Insights</td></tr><tr><td>Internet of Things</td><td>Azure Digital Twins is an IoT service that enables you to create digital representations of your physical assets, environments, and processes. It provides features like spatial intelligence, twin graphs, and event-driven functions. Digital Twins supports various data sources, such as Azure IoT Hub, Azure Event Hubs, and Azure Blob Storage. You can use Digital Twins to build connected solutions, optimize your operations, and improve your decision-making. It also integrates with other Azure services, such as Azure Time Series Insights and Azure Machine Learning.</td><td>33</td><td>Azure Digital Twins</td></tr><tr><td>Analytics</td><td>Azure Data Explorer is a fast, fully managed data analytics service for real-time analysis on large volumes of data. It provides features like ingestion, querying, and visualization. Data Explorer supports various data sources, such as Azure Event Hubs, Azure IoT Hub, and Azure Blob Storage. You can use Data Explorer to analyze logs, monitor applications, and gain insights into your data. It also integrates with other Azure services, such as Azure Synapse Analytics and Azure Machine Learning.</td><td>34</td><td>Azure Data Explorer</td></tr><tr><td>Analytics</td><td>Azure Data Catalog is a fully managed metadata service that enables you to discover, understand, and use your data sources. It provides features like data asset registration, metadata discovery, and data lineage. Data Catalog supports various data sources, such as Azure SQL Database, Azure Blob Storage, and on-premises file systems. You can use Data Catalog to build a unified data catalog, improve data governance, and streamline your data discovery process. It also integrates with other Azure services, such as Azure Synapse Analytics and Azure Data Factory.</td><td>35</td><td>Azure Data Catalog</td></tr><tr><td>Storage</td><td>Azure Data Lake Storage is a scalable, secure, and cost-effective storage service for big data analytics. It provides features like unlimited storage, hierarchical namespace, and fine-grained access control. Data Lake Storage supports various data types, such as structured, semi-structured, and unstructured data. You can use Data Lake Storage to store and analyze your data, build data lakes, and integrate with other Azure services. It also integrates with other Azure services, such as Azure Databricks and Azure Machine Learning.</td><td>36</td><td>Azure Data Lake Storage</td></tr><tr><td>Analytics</td><td>Azure Data Lake Analytics is an on-demand, cloud-based analytics service that enables you to process and analyze big data. It provides features like job scheduling, parallel processing, and built-in analytics functions. Data Lake Analytics supports various data sources, such as Azure Data Lake Storage, Azure Blob Storage, and Azure SQL Database. You can use Data Lake Analytics to run U-SQL, R, and Python scripts, perform advanced analytics, and gain insights into your data. It also integrates with other Azure services, such as Azure Machine Learning and Azure Data Factory.</td><td>37</td><td>Azure Data Lake Analytics</td></tr><tr><td>Security</td><td>Azure Bastion is a fully managed, secure, and scalable service that provides remote access to your virtual machines. It provides features like private connectivity, secure RDP/SSH sessions, and browser-based access. Bastion supports various Azure services, such as Azure Virtual Machines, Azure Virtual Network, and Azure Active Directory. You can use Azure Bastion to securely access your virtual machines, minimize your attack surface, and improve the security of your infrastructure. It also integrates with other Azure services, such as Azure Monitor and Azure Security Center.</td><td>38</td><td>Azure Bastion</td></tr><tr><td>Media</td><td>Azure Media Services is a cloud-based media processing and delivery platform that enables you to build, deploy, and scale video applications. It provides features like encoding, streaming, content protection, and video indexing. Media Services supports various input and output formats, such as MP4, MPEG-DASH, and HLS. You can use Media Services to deliver live and on-demand video, build video-on-demand platforms, and analyze your video content. It also integrates with other Azure services, such as Azure Content Delivery Network and Azure Storage.</td><td>39</td><td>Azure Media Services</td></tr><tr><td>AI + Machine Learning</td><td>Azure Cognitive Search is a fully managed search-as-a-service that enables you to build rich search experiences for your applications. It provides features like full-text search, faceted navigation, and filters. Azure Cognitive Search supports various data sources, such as Azure SQL Database, Azure Blob Storage, and Azure Cosmos DB. You can use Azure Cognitive Search to index your data, create custom scoring profiles, and integrate with other Azure services. It also integrates with other Azure services, such as Azure Cognitive Services and Azure Machine Learning.</td><td>40</td><td>Azure Cognitive Search</td></tr><tr><td>Security</td><td>Azure Key Vault is a cloud-based service for securely storing and managing secrets, keys, and certificates. It provides features like access control, auditing, and secure storage. Key Vault supports various types of secrets, such as connection strings, passwords, and API keys. You can use Key Vault to secure your applications, protect your sensitive data, and manage your cryptographic keys. It also integrates with other Azure services, such as Azure Virtual Machines and Azure App Service.</td><td>41</td><td>Azure Key Vault</td></tr><tr><td>Management + Governance</td><td>Azure Monitor is a comprehensive, full-stack monitoring service that enables you to collect, analyze, and act on telemetry data from your applications and infrastructure. It provides features like log analytics, metrics, alerts, and dashboards. Azure Monitor supports various data sources, such as Azure resources, custom applications, and operating systems. You can use Azure Monitor to detect and diagnose issues, optimize your performance, and ensure the availability of your resources. It also integrates with other Azure services, such as Azure Log Analytics and Azure Application Insights.</td><td>42</td><td>Azure Monitor</td></tr><tr><td>Security</td><td>Azure DDoS Protection is a cloud-based service that helps protect your applications and resources from distributed denial-of-service (DDoS) attacks. It provides features like automatic attack mitigation, traffic profiling, and attack analytics. DDoS Protection supports various Azure services, such as Azure Virtual Machines, Azure App Service, and Azure Load Balancer. You can use Azure DDoS Protection to safeguard your infrastructure, ensure the availability of your applications, and maintain your business continuity. It also integrates with other Azure services, such as Azure Security Center and Azure Monitor.</td><td>43</td><td>Azure DDoS Protection</td></tr><tr><td>Networking</td><td>Azure Application Gateway is a fully managed, scalable, and secure web application firewall (WAF) that helps protect your web applications from common web vulnerabilities and exploits. It provides features like SSL offloading, URL-based routing, and custom health probes. Application Gateway supports various Azure services, such as Azure Virtual Machines, Azure App Service, and Azure Kubernetes Service. You can use Application Gateway to secure your applications, improve performance, and ensure high availability. It also integrates with other Azure services, such as Azure Security Center and Azure Monitor.</td><td>44</td><td>Azure Application Gateway</td></tr><tr><td>Networking</td><td>Azure VPN Gateway is a secure, scalable, and high-performance virtual network gateway that enables you to establish encrypted connections between your on-premises networks and Azure Virtual Networks. It provides features like site-to-site VPN, point-to-site VPN, and ExpressRoute. VPN Gateway supports various VPN protocols, such as IKEv2, SSTP, and OpenVPN. You can use Azure VPN Gateway to build hybrid applications, extend your on-premises networks to the cloud, and secure your data in transit. It also integrates with other Azure services, such as Azure Virtual Network and Azure Network Security Groups.</td><td>45</td><td>Azure VPN Gateway</td></tr><tr><td>Analytics</td><td>Azure HDInsight is a fully managed, open-source analytics service for processing big data workloads. It provides popular open-source frameworks, such as Apache Hadoop, Apache Spark, Apache Kafka, and Apache HBase. HDInsight supports various data sources, such as Azure Blob Storage, Azure Data Lake Storage, and Azure Cosmos DB. You can use HDInsight to analyze and process large volumes of data, build real-time analytics solutions, and develop machine learning models. It also integrates with other Azure services, such as Azure Synapse Analytics and Azure Machine Learning.</td><td>46</td><td>Azure HDInsight</td></tr><tr><td>Analytics</td><td>Azure Power BI Embedded is a cloud-based analytics service that enables you to embed interactive visualizations and reports into your applications. It provides features like data exploration, custom visuals, and real-time data refresh. Power BI Embedded supports various data sources, such as Azure SQL Database, Azure Blob Storage, and on-premises databases. You can use Power BI Embedded to create data-driven applications, improve decision-making, and enhance user experiences. It also integrates with other Azure services, such as Azure Synapse Analytics and Azure Machine Learning.</td><td>47</td><td>Azure Power BI Embedded</td></tr><tr><td>Storage</td><td>Azure Managed Disks is a scalable, durable, and high-performance block storage service for Azure Virtual Machines. It provides features like automatic scaling, built-in encryption, and integration with Azure Backup. Managed Disks supports various disk types, such as Premium SSD, Standard SSD, and Standard HDD. You can use Managed Disks to store and manage your data, improve the performance of your applications, and ensure high availability. It also integrates with other Azure services, such as Azure Virtual Machines and Azure Site Recovery.</td><td>48</td><td>Azure Managed Disks</td></tr><tr><td>Databases</td><td>Azure Cache for Redis is a fully managed, in-memory data store that enables you to build highly responsive and scalable applications. It provides features like data persistence, high availability, and automatic scaling. Cache for Redis supports various data structures, such as strings, lists, sets, and hashes. You can use Azure Cache for Redis to improve the performance of your applications, offload your databases, and reduce the latency of your data access. It also integrates with other Azure services, such as Azure App Service and Azure Kubernetes Service.</td><td>49</td><td>Azure Cache for Redis</td></tr><tr><td>Storage</td><td>Azure Blob Storage is a scalable, durable, and high-performance object storage service for unstructured data. It provides features like data redundancy, geo-replication, and fine-grained access control. Blob Storage supports various data types, such as images, documents, and videos. You can use Blob Storage to store and manage your data, build data lakes, and develop big data analytics solutions. It also integrates with other Azure services, such as Azure CDN, Azure Functions, and Azure Machine Learning.</td><td>50</td><td>Azure Blob Storage</td></tr><tr><td>Storage</td><td>Azure File Storage is a fully managed, scalable, and secure file sharing service that enables you to store and access your files over the Server Message Block (SMB) protocol. It provides features like snapshots, shared access signatures, and integration with Azure Backup. File Storage supports various platforms, such as Windows, Linux, and macOS. You can use Azure File Storage to build file sharing solutions, lift and shift your applications to the cloud, and simplify your data management. It also integrates with other Azure services, such as Azure Virtual Machines and Azure Kubernetes Service.</td><td>51</td><td>Azure File Storage</td></tr><tr><td>Storage</td><td>Azure Table Storage is a fully managed, NoSQL datastore that enables you to store and query large amounts of structured, non-relational data. It provides features like automatic scaling, schema-less design, and a RESTful API. Table Storage supports various data types, such as strings, numbers, and booleans. You can use Azure Table Storage to store and manage your data, build scalable applications, and reduce the cost of your storage. It also integrates with other Azure services, such as Azure Functions and Azure Cosmos DB.</td><td>52</td><td>Azure Table Storage</td></tr><tr><td>Storage</td><td>Azure Queue Storage is a fully managed, scalable, and durable message queuing service that enables you to decouple your applications and build asynchronous solutions. It provides features like at-least-once delivery, message time-to-live, and a RESTful API. Queue Storage supports various programming languages, such as C#, Java, and Python. You can use Azure Queue Storage to build distributed applications, offload your databases, and process and store large volumes of messages. It also integrates with other Azure services, such as Azure Functions and Azure Logic Apps.</td><td>53</td><td>Azure Queue Storage</td></tr><tr><td>Storage</td><td>Azure Data Box is a family of data transfer devices that enables you to securely and efficiently transfer your data to Azure. It provides features like offline data transfer, data encryption, and chain of custody. Data Box supports various data types, such as files, databases, and virtual machines. You can use Azure Data Box to migrate your data, build data lakes, and perform data backup and archiving. It also integrates with other Azure services, such as Azure Storage and Azure Synapse Analytics.</td><td>54</td><td>Azure Data Box</td></tr><tr><td>Storage</td><td>Azure Import/Export is a data transport solution that enables you to securely and efficiently transfer your data to and from Azure Storage. It provides features like offline data transfer, data encryption, and chain of custody. Import/Export supports various data types, such as files, databases, and virtual machines. You can use Azure Import/Export to migrate your data, build data lakes, and perform data backup and archiving. It also integrates with other Azure services, such as Azure Storage and Azure Data Box.</td><td>55</td><td>Azure Import/Export</td></tr><tr><td>Networking</td><td>Azure Front Door is a global, scalable, and secure entry point for fast delivery of your web applications. It provides features like load balancing, SSL offloading, and web application firewall (WAF). Front Door supports various Azure services, such as Azure App Service, Azure Storage, and Azure Virtual Machines. You can use Azure Front Door to build highly available and responsive applications, optimize your users' experience, and improve the security of your infrastructure. It also integrates with other Azure services, such as Azure CDN and Azure Traffic Manager.</td><td>56</td><td>Azure Front Door</td></tr><tr><td>Compute</td><td>Azure Service Fabric is a distributed systems platform that enables you to build, deploy, and manage scalable and reliable microservices and container-based applications. It provides features like stateful services, fault tolerance, and rolling upgrades. Service Fabric supports various programming languages, such as C#, Java, and Node.js. You can use Azure Service Fabric to build cloud-native applications, modernize your existing applications, and ensure high availability and scalability. It also integrates with other Azure services, such as Azure Kubernetes Service and Azure DevOps.</td><td>57</td><td>Azure Service Fabric</td></tr><tr><td>Management + Governance</td><td>Azure Reserved VM Instances (RIs) are a flexible, cost-effective way to reserve compute capacity in Azure. By committing to a one-year or three-year term, you can significantly reduce your virtual machine costs compared to pay-as-you-go pricing. RIs provide features like instance size flexibility, regional scoping, and easy exchanges. You can use Azure Reserved VM Instances to optimize your costs, ensure capacity availability, and simplify your budget planning. It also integrates with other Azure services, such as Azure Cost Management and Azure Virtual Machines.</td><td>58</td><td>Azure Reserved VM Instances</td></tr><tr><td>Management + Governance</td><td>Azure Policy is a governance service that enables you to define, enforce, and audit policies across your Azure resources. It provides features like policy assignment, policy evaluation, and compliance reporting. Azure Policy supports various resource types, such as Azure Virtual Machines, Azure Storage, and Azure App Service. You can use Azure Policy to ensure compliance with your organization's standards, prevent non-compliant resources, and automate remediation. It also integrates with other Azure services, such as Azure Monitor and Azure Security Center.</td><td>59</td><td>Azure Policy</td></tr><tr><td>Security</td><td>Azure Security Center is a unified security management service that helps you protect your workloads and improve your security posture across your Azure resources and on-premises infrastructure. It provides features like continuous security assessments, threat protection, and security recommendations. Security Center supports various platforms, such as Windows, Linux, and Kubernetes. You can use Azure Security Center to detect and remediate threats, manage your security policies, and ensure compliance with industry regulations. It also integrates with other Azure services, such as Azure Monitor and Azure Log Analytics.</td><td>60</td><td>Azure Security Center</td></tr><tr><td>Networking</td><td>Azure Private DNS is a fully managed, private Domain Name System (DNS) service that enables you to manage and resolve domain names in your virtual network. It provides features like custom domains, DNS-based load balancing, and private access. Private DNS supports various Azure services, such as Azure Virtual Machines, Azure App Service, and Azure Kubernetes Service. You can use Azure Private DNS to build isolated environments, simplify your network management, and ensure the security of your DNS traffic. It also integrates with other Azure services, such as Azure Virtual Network and Azure Traffic Manager.</td><td>61</td><td>Azure Private DNS</td></tr><tr><td>Developer Tools</td><td>Azure DevTest Labs is a fully managed service that enables you to create, manage, and share development and test environments in Azure. It provides features like custom templates, cost management, and integration with Azure DevOps. DevTest Labs supports various platforms, such as Windows, Linux, and Kubernetes. You can use Azure DevTest Labs to improve your application development lifecycle, reduce your costs, and ensure the consistency of your environments. It also integrates with other Azure services, such as Azure Virtual Machines and Azure App Service.</td><td>62</td><td>Azure DevTest Labs</td></tr><tr><td>Compute</td><td>Azure Functions is a serverless compute service that enables you to run event-driven code without managing the underlying infrastructure. It provides features like automatic scaling, triggers, and bindings. Functions supports various programming languages, such as C#, Java, and Python. You can use Azure Functions to build microservices, integrate with other Azure services, and process and transform data. It also integrates with other Azure services, such as Azure Event Hubs, Azure Storage, and Azure Cosmos DB.</td><td>63</td><td>Azure Functions</td></tr><tr><td>Web</td><td>Azure SignalR Service is a fully managed, real-time messaging service that enables you to build and scale real-time web applications. It provides features like automatic scaling, WebSocket support, and serverless integration. SignalR Service supports various programming languages, such as C#, JavaScript, and Java. You can use Azure SignalR Service to build chat applications, real-time dashboards, and collaborative tools. It also integrates with other Azure services, such as Azure Functions and Azure App Service.</td><td>64</td><td>Azure SignalR Service</td></tr><tr><td>Blockchain</td><td>Azure Blockchain Service is a fully managed, multi-ledger blockchain platform that enables you to build and manage blockchain applications. It provides features like consortium management, private transactions, and integration with Azure Logic Apps. Blockchain Service supports various blockchain protocols, such as Ethereum and Hyperledger Fabric. You can use Azure Blockchain Service to build secure and compliant applications, streamline your business processes, and improve trust and transparency. It also integrates with other Azure services, such as Azure Active Directory and Azure Key Vault.</td><td>65</td><td>Azure Blockchain Service</td></tr><tr><td>Databases</td><td>Azure Database for MySQL is a fully managed, scalable, and secure relational database service that enables you to build and manage MySQL applications in Azure. It provides features like automatic backups, monitoring, and high availability. Database for MySQL supports various data types, such as JSON, spatial, and full-text. You can use Azure Database for MySQL to migrate your existing applications, build new applications, and ensure the performance and security of your data. It also integrates with other Azure services, such as Azure App Service and Azure Data Factory.</td><td>66</td><td>Azure Database for MySQL</td></tr><tr><td>Databases</td><td>Azure Database for PostgreSQL is a fully managed, scalable, and secure relational database service that enables you to build and manage PostgreSQL applications in Azure. It provides features like automatic backups, monitoring, and high availability. Database for PostgreSQL supports various data types, such as JSON, spatial, and full-text. You can use Azure Database for PostgreSQL to migrate your existing applications, build new applications, and ensure the performance and security of your data. It also integrates with other Azure services, such as Azure App Service and Azure Data Factory.</td><td>67</td><td>Azure Database for PostgreSQL</td></tr><tr><td>Databases</td><td>Azure Database for MariaDB is a fully managed, scalable, and secure relational database service that enables you to build and manage MariaDB applications in Azure. It provides features like automatic backups, monitoring, and high availability. Database for MariaDB supports various data types, such as JSON, spatial, and full-text. You can use Azure Database for MariaDB to migrate your existing applications, build new applications, and ensure the performance and security of your data. It also integrates with other Azure services, such as Azure App Service and Azure Data Factory.</td><td>68</td><td>Azure Database for MariaDB</td></tr><tr><td>Databases</td><td>Azure SQL Managed Instance is a fully managed, scalable, and secure SQL Server instance hosted in Azure. It provides features like automatic backups, monitoring, and high availability. SQL Managed Instance supports various data types, such as JSON, spatial, and full-text. You can use Azure SQL Managed Instance to migrate your existing applications, build new applications, and ensure the performance and security of your data. It also integrates with other Azure services, such as Azure App Service and Azure Data Factory.</td><td>69</td><td>Azure SQL Managed Instance</td></tr><tr><td>Databases</td><td>Azure Cosmos DB is a globally distributed, multi-model database service that enables you to build and manage NoSQL applications in Azure. It provides features like automatic scaling, low-latency access, and multi-master replication. Cosmos DB supports various data models, such as key-value, document, graph, and column-family. You can use Azure Cosmos DB to build globally distributed applications, ensure high availability and performance, and manage your data at scale. It also integrates with other Azure services, such as Azure Functions and Azure App Service.</td><td>70</td><td>Azure Cosmos DB</td></tr><tr><td>Databases</td><td>Azure SQL Data Warehouse is a fully managed, petabyte-scale cloud data warehouse service that enables you to store and analyze your structured and semi-structured data. It provides features like automatic scaling, data movement, and integration with Azure Machine Learning. SQL Data Warehouse supports various data sources, such as Azure Blob Storage, Azure Data Lake Storage, and Azure SQL Database. You can use Azure SQL Data Warehouse to build data lakes, develop big data analytics solutions, and ensure the performance and security of your data. It also integrates with other Azure services, such as Azure Synapse Analytics and Azure Data Factory.</td><td>71</td><td>Azure SQL Data Warehouse</td></tr><tr><td>Management + Governance</td><td>Azure Application Insights is an application performance management service that enables you to monitor, diagnose, and troubleshoot your applications and infrastructure. It provides features like real-time telemetry, dependency mapping, and live metrics. Application Insights supports various platforms, such as .NET, Java, Node.js, and Python. You can use Azure Application Insights to detect and diagnose issues, optimize your performance, and ensure the availability of your applications. It also integrates with other Azure services, such as Azure Monitor and Azure Log Analytics.</td><td>72</td><td>Azure Application Insights</td></tr><tr><td>Management + Governance</td><td>Azure Log Analytics is a log management and analytics service that enables you to collect, store, and analyze your log data from various sources, such as Azure resources, custom applications, and operating systems. It provides features like advanced querying, data visualization, and integration with Azure Monitor. Log Analytics supports various data types, such as performance counters, event logs, and custom logs. You can use Azure Log Analytics to detect and diagnose issues, optimize your performance, and ensure the security of your infrastructure. It also integrates with other Azure services, such as Azure Security Center and Azure Application Insights.</td><td>73</td><td>Azure Log Analytics</td></tr><tr><td>Internet of Things</td><td>Azure IoT Central is a fully managed, global IoT software-as-a-service (SaaS) solution that enables you to build, manage, and scale your IoT applications. It provides features like device management, data visualization, and application templates. IoT Central supports various data sources, such as Azure IoT Hub, Azure Event Hubs, and Azure Blob Storage. You can use Azure IoT Central to build connected solutions, optimize your operations, and improve your decision-making. It also integrates with other Azure services, such as Azure Time Series Insights and Azure Machine Learning.</td><td>74</td><td>Azure IoT Central</td></tr><tr><td>Internet of Things</td><td>Azure Sphere is a comprehensive IoT security solution that includes a secure, high-level application platform, a custom Linux-based operating system, and a cloud-based security service. It provides features like automatic updates, device attestation, and error reporting. Azure Sphere supports various hardware platforms, such as microcontrollers and development boards. You can use Azure Sphere to build secure and compliant IoT devices, protect your intellectual property, and ensure the security of your IoT ecosystem. It also integrates with other Azure services, such as Azure IoT Hub and Azure IoT Central.</td><td>75</td><td>Azure Sphere</td></tr><tr><td>Internet of Things</td><td>Azure IoT Edge is a fully managed service that enables you to run cloud intelligence directly on your IoT devices. It provides features like automatic scaling, device management, and integration with Azure Machine Learning. IoT Edge supports various programming languages, such as C#, Java, and Python. You can use Azure IoT Edge to build edge computing solutions, optimize your operations, and improve your decision-making. It also integrates with other Azure services, such as Azure IoT Hub and Azure Functions.</td><td>76</td><td>Azure IoT Edge</td></tr><tr><td>Management + Governance</td><td>Azure Migrate is a cloud migration service that enables you to discover, assess, and migrate your on-premises workloads to Azure. It provides features like VM compatibility assessment, performance-based sizing, and cost estimation. Azure Migrate supports various platforms, such as Windows, Linux, and VMware. You can use Azure Migrate to plan your migration, ensure the compatibility of your workloads, and optimize your costs. It also integrates with other Azure services, such as Azure Site Recovery and Azure Database Migration Service.</td><td>77</td><td>Azure Migrate</td></tr><tr><td>Databases</td><td>Azure Database Migration Service is a fully managed, end-to-end migration service that enables you to migrate your databases to Azure with minimal downtime. It supports various source and target platforms, such as SQL Server, MySQL, PostgreSQL, and Azure SQL Database. Database Migration Service provides features like schema conversion, data migration, and performance monitoring. You can use Azure Database Migration Service to migrate your databases, ensure the compatibility of your workloads, and minimize your migration risks. It also integrates with other Azure services, such as Azure Migrate and Azure SQL Managed Instance.</td><td>78</td><td>Azure Database Migration Service</td></tr><tr><td>Management + Governance</td><td>Azure Blueprints is a governance service that enables you to define, deploy, and update your Azure environments in a consistent and repeatable manner. It provides features like environment templates, policy assignment, and RBAC configuration. Blueprints support various Azure services, such as Azure Virtual Machines, Azure Storage, and Azure App Service. You can use Azure Blueprints to ensure compliance with your organization's standards, automate your environment creation, and simplify your infrastructure management. It also integrates with other Azure services, such as Azure Policy and Azure Resource Manager.</td><td>79</td><td>Azure Blueprints</td></tr><tr><td>Compute</td><td>Azure Kubernetes Service (AKS) is a fully managed, container orchestration platform that enables you to deploy, scale, and manage containerized applications using Kubernetes. It provides features like automatic scaling, rolling updates, and integration with Azure Active Directory. AKS supports various container runtimes, such as Docker and containerd. You can use Azure Kubernetes Service to build microservices, modernize your existing applications, and ensure high availability and scalability. It also integrates with other Azure services, such as Azure Container Registry and Azure Monitor.</td><td>80</td><td>Azure Kubernetes Service (AKS)</td></tr><tr><td>Compute</td><td>Azure Container Instances (ACI) is a serverless container runtime that enables you to run and scale your containerized applications in Azure without managing the underlying infrastructure. It provides features like automatic scaling, custom domains, and integration with Azure Logic Apps. ACI supports various container runtimes, such as Docker and containerd. You can use Azure Container Instances to build microservices, modernize your existing applications, and ensure high availability and scalability. It also integrates with other Azure services, such as Azure Kubernetes Service and Azure Functions.</td><td>81</td><td>Azure Container Instances</td></tr><tr><td>Containers</td><td>Azure Container Registry is a fully managed, private Docker registry service that enables you to store and manage your container images and artifacts in Azure. It provides features like geo-replication, webhooks, and integration with Azure Active Directory. Container Registry supports various container formats, such as Docker and Open Container Initiative (OCI). You can use Azure Container Registry to build and deploy your containerized applications, ensure the security of your images, and automate your container lifecycle. It also integrates with other Azure services, such as Azure Kubernetes Service and Azure DevOps.</td><td>82</td><td>Azure Container Registry</td></tr><tr><td>Analytics</td><td>Azure Databricks is a fully managed, Apache Spark-based analytics platform that enables you to process and analyze large volumes of data. It provides features like collaborative notebooks, job scheduling, and integration with Azure Machine Learning. Databricks supports various data sources, such as Azure Blob Storage, Azure Data Lake Storage, and Azure Cosmos DB. You can use Azure Databricks to build data lakes, develop big data analytics solutions, and train machine learning models. It also integrates with other Azure services, such as Azure Synapse Analytics and Azure Data Factory.</td><td>83</td><td>Azure Databricks</td></tr><tr><td>Integration</td><td>Azure Event Grid is a fully managed, event-routing service that enables you to build event-driven and serverless applications. It provides features like event filtering, custom event topics, and integration with Azure Functions. Event Grid supports various event sources, such as Azure Blob Storage, Azure Event Hubs, and custom applications. You can use Azure Event Grid to build reactive applications, integrate with other Azure services, and process and route events at scale. It also integrates with other Azure services, such as Azure Logic Apps and Azure Service Bus.</td><td>84</td><td>Azure Event Grid</td></tr><tr><td>Management + Governance</td><td>Azure Cost Management is a financial management service that enables you to analyze, manage, and optimize your Azure costs. It provides features like cost analysis, budgeting, and alerting. Cost Management supports various Azure services, such as Azure Virtual Machines, Azure Storage, and Azure App Service. You can use Azure Cost Management to gain insights into your spending, ensure the efficient use of your resources, and control your cloud costs. It also integrates with other Azure services, such as Azure Monitor and Azure Policy.</td><td>85</td><td>Azure Cost Management</td></tr><tr><td>Developer Tools</td><td>Azure App Configuration is a fully managed configuration service that enables you to centrally manage and distribute your application settings and feature flags. It provides features like key-value storage, versioning, and access control. App Configuration supports various platforms, such as .NET, Java, Node.js, and Python. You can use Azure App Configuration to build and deploy your applications, ensure the consistency of your settings, and improve your application lifecycle. It also integrates with other Azure services, such as Azure App Service and Azure Functions.</td><td>86</td><td>Azure App Configuration</td></tr><tr><td>Web</td><td>Azure Static Web Apps is a serverless hosting service that enables you to build and deploy modern web applications using static front-end technologies and serverless APIs. It provides features like custom domains, SSL certificates, and integration with Azure Functions. Static Web Apps supports various frameworks, such as React, Angular, and Vue.js. You can use Azure Static Web Apps to build and deploy your web applications, ensure high performance and security, and simplify your development workflow. It also integrates with other Azure services, such as Azure App Service and Azure CDN.</td><td>87</td><td>Azure Static Web Apps</td></tr><tr><td>Management + Governance</td><td>Azure Lighthouse is a cross-tenant management service that enables you to manage and monitor your customers' Azure resources at scale. It provides features like delegated access, centralized management, and multi-tenant reporting. Lighthouse supports various Azure services, such as Azure Virtual Machines, Azure Storage, and Azure App Service. You can use Azure Lighthouse to build managed service offerings, improve your operational efficiency, and ensure the security and compliance of your customers' environments. It also integrates with other Azure services, such as Azure Monitor and Azure Policy.</td><td>88</td><td>Azure Lighthouse</td></tr><tr><td>AI + Machine Learning</td><td>Azure Machine Learning is a fully managed, end-to-end platform that enables you to build, train, and deploy machine learning models at scale. It provides features like automated machine learning, data labeling, and model management. Machine Learning supports various frameworks, such as TensorFlow, PyTorch, and Scikit-learn. You can use Azure Machine Learning to develop predictive analytics solutions, improve your decision-making, and gain insights into your data. It also integrates with other Azure services, such as Azure Databricks and Azure Synapse Analytics.</td><td>89</td><td>Azure Machine Learning</td></tr><tr><td>AI + Machine Learning</td><td>Azure Cognitive Services is a collection of AI services and APIs that enable you to build intelligent applications using pre-built models and algorithms. It provides features like computer vision, speech recognition, and natural language processing. Cognitive Services supports various platforms, such as .NET, Java, Node.js, and Python. You can use Azure Cognitive Services to build chatbots, analyze images and videos, and process and understand text. It also integrates with other Azure services, such as Azure Machine Learning and Azure Cognitive Search.</td><td>90</td><td>Azure Cognitive Services</td></tr><tr><td>AI + Machine Learning</td><td>Azure Bot Service is a managed, AI-powered service that enables you to build, deploy, and manage intelligent chatbots for your applications. It provides features like natural language understanding, multi-channel support, and integration with Azure Cognitive Services. Bot Service supports various platforms, such as .NET, Java, Node.js, and Python. You can use Azure Bot Service to build conversational applications, improve user engagement, and automate customer support. It also integrates with other Azure services, such as Azure App Service and Azure Functions.</td><td>91</td><td>Azure Bot Service</td></tr><tr><td>AI + Machine Learning</td><td>Azure Batch AI is a fully managed, AI-powered service that enables you to run distributed training and inferencing workloads for your machine learning models at scale. It provides features like automatic scaling, job scheduling, and integration with popular deep learning frameworks, such as TensorFlow, PyTorch, and Caffe. Batch AI supports various platforms, such as .NET, Java, Node.js, and Python. You can use Azure Batch AI to train and deploy your machine learning models, improve your decision-making, and gain insights into your data. It also integrates with other Azure services, such as Azure Machine Learning and Azure Storage.</td><td>92</td><td>Azure Batch AI</td></tr><tr><td>Internet of Things</td><td>Azure Maps is a collection of geospatial services and SDKs that enable you to build location-based applications using Azure. It provides features like map rendering, geocoding, route planning, and spatial analytics. Azure Maps supports various platforms, such as web, mobile, and IoT devices. You can use Azure Maps to build mapping applications, visualize and analyze your spatial data, and improve your decision-making. It also integrates with other Azure services, such as Azure IoT Hub and Azure Functions.</td><td>93</td><td>Azure Maps</td></tr><tr><td>Healthcare</td><td>Azure API for FHIR is a fully managed, standards-based API that enables you to store, manage, and exchange health data in the Fast Healthcare Interoperability Resources (FHIR) format. It provides features like data validation, versioning, and integration with Azure Active Directory. API for FHIR supports various data types, such as clinical, imaging, and administrative data. You can use Azure API for FHIR to build healthcare applications, ensure the security and compliance of your health data, and streamline your data management. It also integrates with other Azure services, such as Azure Machine Learning and Azure IoT Central.</td><td>94</td><td>Azure API for FHIR</td></tr><tr><td>Storage</td><td>Azure HPC Cache is a fully managed, high-performance caching service that enables you to access and manage large datasets stored on-premises or in Azure. It provides features like automatic scaling, data prefetching, and integration with Azure Blob Storage. HPC Cache supports various file systems, such as NFS and SMB. You can use Azure HPC Cache to build high-performance computing applications, optimize your data access, and ensure the performance and reliability of your workloads. It also integrates with other Azure services, such as Azure Virtual Machines and Azure Storage.</td><td>95</td><td>Azure HPC Cache</td></tr><tr><td>Compute</td><td>Azure Quantum is a fully managed, quantum computing service that enables you to build and run quantum applications using Azure. It provides features like quantum hardware, quantum simulators, and quantum optimization algorithms. Azure Quantum supports various programming languages, such as Q#, Python, and C#. You can use Azure Quantum to explore quantum computing, develop quantum algorithms, and solve complex optimization problems. It also integrates with other Azure services, such as Azure Machine Learning and Azure Functions.</td><td>96</td><td>Azure Quantum</td></tr><tr><td>Analytics</td><td>Azure Data Share is a fully managed data sharing service that enables you to securely share and receive data from other organizations using Azure. It provides features like data snapshotting, change tracking, and access control. Data Share supports various data sources, such as Azure Blob Storage, Azure Data Lake Storage, and Azure SQL Database. You can use Azure Data Share to collaborate with your partners, improve your data governance, and ensure the security of your data. It also integrates with other Azure services, such as Azure Synapse Analytics and Azure Data Factory.</td><td>97</td><td>Azure Data Share</td></tr><tr><td>Hybrid</td><td>Azure Stack Hub is an extension of Azure that enables you to run Azure services on-premises, in your own datacenter, or at the edge. It provides features like consistent APIs, hybrid application development, and integration with Azure Active Directory. Azure Stack Hub supports various Azure services, such as Azure Virtual Machines, Azure Storage, and Azure App Service. You can use Azure Stack Hub to build hybrid applications, ensure the compliance of your workloads, and simplify your infrastructure management. It also integrates with other Azure services, such as Azure Monitor and Azure Site Recovery.</td><td>98</td><td>Azure Stack Hub</td></tr><tr><td>Hybrid</td><td>Azure Stack Edge is a managed, edge computing appliance that enables you to run Azure services and AI workloads on-premises or at the edge. It provides features like hardware-accelerated machine learning, local caching, and integration with Azure IoT Hub. Azure Stack Edge supports various Azure services, such as Azure Functions, Azure Machine Learning, and Azure Kubernetes Service. You can use Azure Stack Edge to build edge computing applications, optimize your data processing, and ensure the security and compliance of your workloads. It also integrates with other Azure services, such as Azure Monitor and Azure Stack Hub.</td><td>99</td><td>Azure Stack Edge</td></tr><tr><td>Security</td><td>Azure Active Directory (Azure AD) is a cloud-based identity and access management service that enables you to manage users, groups, and access to your applications and resources. It provides features like single sign-on (SSO), multi-factor authentication (MFA), and conditional access. Azure AD supports various platforms, such as Windows, macOS, and Linux. You can use Azure Active Directory to secure your applications, ensure the compliance of your workloads, and simplify your identity management. It also integrates with other Azure services, such as Azure Virtual Machines and Azure App Service.</td><td>100</td><td>Azure Active Directory</td></tr><tr><td>Networking</td><td>Azure ExpressRoute is a dedicated, private connectivity service that enables you to securely extend your on-premises networks to Azure over a private connection. It provides features like low latency, high bandwidth, and integration with Azure Virtual Network. ExpressRoute supports various connectivity models, such as point-to-point, MPLS, and SD-WAN. You can use Azure ExpressRoute to build hybrid applications, ensure the performance and security of your data in transit, and improve your network reliability. It also integrates with other Azure services, such as Azure VPN Gateway and Azure Traffic Manager.</td><td>101</td><td>Azure ExpressRoute</td></tr><tr><td>Networking</td><td>Azure Private Link is a secure, private connectivity service that enables you to access Azure services over a private connection within an Azure Virtual Network. It provides features like private IP addresses, data exfiltration protection, and integration with Azure Private DNS. Private Link supports various Azure services, such as Azure Storage, Azure SQL Database, and Azure App Service. You can use Azure Private Link to build isolated environments, ensure the security of your data in transit, and simplify your network management. It also integrates with other Azure services, such as Azure Virtual Network and Azure Firewall.</td><td>102</td><td>Azure Private Link</td></tr><tr><td>Networking</td><td>Azure Virtual WAN is a global, scalable, and secure networking service that enables you to build and manage your wide area networks (WAN) in Azure. It provides features like automated site-to-site VPN, hub-and-spoke topology, and integration with Azure Firewall. Virtual WAN supports various Azure services, such as Azure Virtual Machines, Azure Storage, and Azure App Service. You can use Azure Virtual WAN to build hybrid applications, ensure the performance and security of your data in transit, and improve your network reliability. It also integrates with other Azure services, such as Azure ExpressRoute and Azure Traffic Manager.</td><td>103</td><td>Azure Virtual WAN</td></tr><tr><td>Management + Governance</td><td>Azure Site Recovery is a fully managed, disaster recovery service that enables you to protect and recover your applications and data from various types of failures. It provides features like automated failover, recovery plans, and integration with Azure Backup. Site Recovery supports various platforms, such as Windows, Linux, and VMware. You can use Azure Site Recovery to ensure the availability of your applications, maintain your business continuity, and automate your disaster recovery process. It also integrates with other Azure services, such as Azure Virtual Machines and Azure Storage.</td><td>104</td><td>Azure Site Recovery</td></tr><tr><td>Web</td><td>Azure Web PubSub is a fully managed, real-time messaging service that enables you to build and scale real-time web applications using WebSockets. It provides features like automatic scaling, custom domains, and serverless integration. Web PubSub supports various programming languages, such as C#, JavaScript, and Java. You can use Azure Web PubSub to build chat applications, real-time dashboards, and collaborative tools. It also integrates with other Azure services, such as Azure Functions and Azure SignalR Service.</td><td>105</td><td>Azure Web PubSub</td></tr><tr><td>Analytics</td><td>Azure Data Factory is a cloud-based data integration service that enables you to create, schedule, and manage your data workflows. It provides features like data movement, data transformation, and integration with Azure Machine Learning. Data Factory supports various data sources, such as Azure Blob Storage, Azure Data Lake Storage, and Azure SQL Database. You can use Azure Data Factory to build data pipelines, develop big data analytics solutions, and migrate your data to Azure. It also integrates with other Azure services, such as Azure Synapse Analytics and Azure Data Lake Analytics.</td><td>106</td><td>Azure Data Factory</td></tr><tr><td>Analytics</td><td>Azure Data Bricks is a fully managed, Apache Spark-based analytics platform that enables you to process and analyze large volumes of data. It provides features like collaborative notebooks, job scheduling, and integration with Azure Machine Learning. Data Bricks supports various data sources, such as Azure Blob Storage, Azure Data Lake Storage, and Azure Cosmos DB. You can use Azure Data Bricks to build data lakes, develop big data analytics solutions, and train machine learning models. It also integrates with other Azure services, such as Azure Synapse Analytics and Azure Data Factory.</td><td>107</td><td>Azure Data Bricks</td></tr><tr><td>Security</td><td>Azure Bastion is a fully managed, secure, and scalable service that provides remote access to your virtual machines. It provides features like private connectivity, secure RDP/SSH sessions, and browser-based access. Bastion supports various Azure services, such as Azure Virtual Machines, Azure Virtual Network, and Azure Active Directory. You can use Azure Bastion to securely access your virtual machines, minimize your attack surface, and improve the security of your infrastructure. It also integrates with other Azure services, such as Azure Monitor and Azure Security Center.</td><td>108</td><td>Azure Bastion</td></tr></tbody></table></div>"
      ]
     },
     "metadata": {
      "application/vnd.databricks.v1+output": {
       "addedWidgets": {},
       "aggData": [],
       "aggError": "",
       "aggOverflow": false,
       "aggSchema": [],
       "aggSeriesLimitReached": false,
       "aggType": "",
       "arguments": {},
       "columnCustomDisplayInfos": {},
       "data": [
        [
         "Web",
         "Azure App Service is a fully managed platform for building, deploying, and scaling web apps. You can host web apps, mobile app backends, and RESTful APIs. It supports a variety of programming languages and frameworks, such as .NET, Java, Node.js, Python, and PHP. The service offers built-in auto-scaling and load balancing capabilities. It also provides integration with other Azure services, such as Azure DevOps, GitHub, and Bitbucket.",
         "1",
         "Azure App Service"
        ],
        [
         "Compute",
         "Azure Functions is a serverless compute service that enables you to run code on-demand without having to manage infrastructure. It allows you to build and deploy event-driven applications that automatically scale with your workload. Functions support various languages, including C#, F#, Node.js, Python, and Java. It offers a variety of triggers and bindings to integrate with other Azure services and external services. You only pay for the compute time you consume.",
         "2",
         "Azure Functions"
        ],
        [
         "AI + Machine Learning",
         "Azure Cognitive Services are a set of AI services that enable you to build intelligent applications with powerful algorithms using just a few lines of code. These services cover a wide range of capabilities, including vision, speech, language, knowledge, and search. They are designed to be easy to use and integrate into your applications. Cognitive Services are fully managed, scalable, and continuously improved by Microsoft. It allows developers to create AI-powered solutions without deep expertise in machine learning.",
         "3",
         "Azure Cognitive Services"
        ],
        [
         "Storage",
         "Azure Storage is a scalable, durable, and highly available cloud storage service that supports a variety of data types, including blobs, files, queues, and tables. It provides a massively scalable object store for unstructured data. Storage supports data redundancy and geo-replication, ensuring high durability and availability. It offers a variety of data access and management options, including REST APIs, SDKs, and Azure Portal. You can secure your data using encryption at rest and in transit.",
         "4",
         "Azure Storage"
        ],
        [
         "Databases",
         "Azure SQL Database is a fully managed relational database service based on the latest stable version of Microsoft SQL Server. It offers built-in intelligence that learns your application patterns and adapts to maximize performance, reliability, and data protection. SQL Database supports elastic scaling, allowing you to dynamically adjust resources to match your workload. It provides advanced security features, such as encryption, auditing, and threat detection. You can migrate your existing SQL Server databases to Azure SQL Database with minimal downtime.",
         "5",
         "Azure SQL Database"
        ],
        [
         "Databases",
         "Azure Cosmos DB is a fully managed, globally distributed, multi-model database service designed for building highly responsive and scalable applications. It offers turnkey global distribution, automatic and instant scalability, and guarantees low latency, high availability, and consistency. Cosmos DB supports popular NoSQL APIs, including MongoDB, Cassandra, Gremlin, and Azure Table Storage. You can build globally distributed applications with ease, without having to deal with complex configuration and capacity planning. Data stored in Cosmos DB is automatically indexed, enabling you to query your data with SQL, JavaScript, or other supported query languages.",
         "6",
         "Azure Cosmos DB"
        ],
        [
         "Containers",
         "Azure Kubernetes Service (AKS) is a managed container orchestration service based on the popular open-source Kubernetes system. It simplifies Kubernetes deployment and management, making it easy for developers and administrators to deploy, scale, and manage containerized applications. AKS offers automatic upgrades, scaling, and self-healing capabilities, reducing the operational overhead of managing Kubernetes clusters. It also integrates with Azure services like Azure Active Directory, Azure Monitor, and Azure Policy, providing a seamless experience for managing your applications and infrastructure.",
         "7",
         "Azure Kubernetes Service (AKS)"
        ],
        [
         "Compute",
         "Azure Virtual Machines (VMs) is an Infrastructure-as-a-Service (IaaS) offering that allows you to deploy and manage virtual machines in the cloud. You can choose from a wide range of VM sizes, operating systems, and software configurations. VMs support various operating systems, including Windows Server, Linux, and SQL Server. You can scale your VMs up or down as needed, and pay only for the resources you use. VMs provide built-in security features, such as Azure Security Center, Azure Active Directory, and encryption.",
         "8",
         "Azure Virtual Machines"
        ],
        [
         "Developer Tools",
         "Azure DevOps is a suite of services that help you plan, build, and deploy applications. It includes Azure Boards for work item tracking, Azure Repos for source code management, Azure Pipelines for continuous integration and continuous deployment, Azure Test Plans for manual and automated testing, and Azure Artifacts for package management. DevOps supports a wide range of programming languages, frameworks, and platforms, making it easy to integrate with your existing development tools and processes. It also integrates with other Azure services, such as Azure App Service and Azure Functions.",
         "9",
         "Azure DevOps"
        ],
        [
         "Internet of Things",
         "Azure IoT Hub is a managed service that enables you to connect, monitor, and manage billions of IoT devices. It provides secure and reliable communication between your IoT devices and your backend solution. IoT Hub supports multiple communication protocols, including MQTT, AMQP, and HTTPS. It offers device-to-cloud and cloud-to-device messaging, device management, and device twin capabilities. With IoT Hub, you can build scalable and secure IoT solutions that integrate with other Azure services and custom applications.",
         "10",
         "Azure IoT Hub"
        ],
        [
         "AI + Machine Learning",
         "Azure Machine Learning is a cloud-based service for building, training, and deploying machine learning models. It offers a visual interface for creating and managing experiments, as well as support for popular programming languages like Python and R. Machine Learning supports various algorithms, frameworks, and data sources, making it easy to integrate with your existing data and workflows. You can deploy your models as web services, and scale them based on your needs. It also integrates with other Azure services, such as Azure Databricks and Azure Data Factory.",
         "11",
         "Azure Machine Learning"
        ],
        [
         "Analytics",
         "Azure Databricks is an Apache Spark-based analytics platform optimized for the Azure cloud. It provides a collaborative workspace for data scientists, engineers, and business users to process, analyze, and visualize big data. Databricks supports multiple programming languages, including Python, Scala, R, and SQL. It offers built-in integration with Azure Blob Storage, Azure Data Lake Storage, and Azure Cosmos DB. You can also use Databricks to train and deploy machine learning models, and integrate with Azure Machine Learning.",
         "12",
         "Azure Databricks"
        ],
        [
         "Identity",
         "Azure Active Directory (Azure AD) is a cloud-based identity and access management service that helps you manage and secure access to your applications and resources. It provides features like single sign-on (SSO), multi-factor authentication (MFA), and conditional access policies. Azure AD supports integration with on-premises Active Directory, as well as third-party identity providers like Google and Facebook. You can use Azure AD to protect both cloud-based and on-premises applications, and manage access for employees, partners, and customers.",
         "13",
         "Azure Active Directory"
        ],
        [
         "Integration",
         "Azure Logic Apps is a cloud-based service that allows you to create and run workflows that integrate with various services and data sources. It provides a visual designer for creating workflows, and supports a wide range of connectors for popular services like Office 365, Salesforce, and Dropbox. Logic Apps enable you to automate tasks, process and transform data, and orchestrate complex processes without writing code. You can monitor and manage your workflows using Azure Portal, REST APIs, or PowerShell.",
         "14",
         "Azure Logic Apps"
        ],
        [
         "Big Data",
         "Azure Event Hubs is a fully managed, real-time data ingestion service that enables you to stream and process millions of events per second. It supports various data producers, such as IoT devices, applications, and services. Event Hubs provides low latency, high throughput, and scalable data streaming, making it suitable for big data scenarios like telemetry processing and log analytics. You can use Event Hubs with other Azure services, such as Azure Stream Analytics and Azure Functions, to build end-to-end real-time data processing solutions.",
         "15",
         "Azure Event Hubs"
        ],
        [
         "Integration",
         "Azure API Management is a fully managed service that helps you create, publish, and manage APIs for your applications. It provides features like API documentation, developer portal, access control, and caching. API Management supports various API formats, including REST, SOAP, and GraphQL. You can use API Management to secure your APIs with authentication, authorization, and IP filtering. It also offers built-in analytics and monitoring, allowing you to track the usage and performance of your APIs.",
         "16",
         "Azure API Management"
        ],
        [
         "Analytics",
         "Azure Data Factory is a cloud-based data integration service that allows you to create, schedule, and manage data workflows. It supports a wide range of sources and destinations, such as Azure Blob Storage, Azure SQL Database, and on-premises file systems. Data Factory provides a visual interface for designing and monitoring your workflows, as well as support for popular programming languages like Python and .NET. You can use Data Factory to move and transform data, orchestrate complex data processing tasks, and integrate with other Azure services.",
         "17",
         "Azure Data Factory"
        ],
        [
         "Analytics",
         "Azure Synapse Analytics is an integrated analytics service that brings together big data and data warehousing. It enables you to ingest, prepare, manage, and serve data for immediate business intelligence and machine learning needs. Synapse Analytics provides a unified workspace for data engineers, data scientists, and business analysts to collaborate and build solutions. It supports various data sources, including Azure Data Lake Storage, Azure Blob Storage, and Azure Cosmos DB. You can use Synapse Analytics with other Azure services, such as Azure Machine Learning and Power BI.",
         "18",
         "Azure Synapse Analytics"
        ],
        [
         "Compute",
         "Azure Batch is a cloud-based job scheduling service that enables you to run large-scale parallel and high-performance computing (HPC) applications. It provides features like automatic scaling, task scheduling, and resource management. Batch supports various VM sizes, operating systems, and application frameworks, making it easy to integrate with your existing workloads. You can use Batch to process large datasets, run simulations, and perform complex calculations. It also integrates with other Azure services, such as Azure Storage and Azure Active Directory.",
         "19",
         "Azure Batch"
        ],
        [
         "Networking",
         "Azure Content Delivery Network (CDN) is a global content delivery network that enables you to deliver content to users with low latency and high availability. It caches and serves content from edge servers located near your users, improving the performance and reliability of your web applications. Azure CDN supports various content types, including static files, videos, and images. It provides advanced features like geo-filtering, custom domains, and SSL certificates. You can use Azure CDN with other Azure services, such as Azure App Service and Azure Storage.",
         "20",
         "Azure CDN"
        ],
        [
         "Networking",
         "Azure ExpressRoute is a private, dedicated network connection between your on-premises infrastructure and Azure. It provides faster speeds, lower latencies, and more reliability than a standard internet connection. ExpressRoute supports various connectivity models, such as point-to-point, any-to-any, and hub-and-spoke. You can use ExpressRoute to extend your on-premises networks into Azure, build hybrid applications, and migrate workloads to the cloud. It also integrates with other Azure services, such as Azure Virtual Machines and Azure Storage.",
         "21",
         "Azure ExpressRoute"
        ],
        [
         "Networking",
         "Azure Traffic Manager is a DNS-based traffic load balancer that enables you to distribute traffic across multiple Azure services and regions. It provides features like automatic failover, performance-based routing, and geographic routing. Traffic Manager supports various Azure services, such as Azure App Service, Azure Cloud Services, and Azure Virtual Machines. You can use Traffic Manager to build highly available and responsive applications, optimize your users' experience, and improve the resiliency of your infrastructure.",
         "22",
         "Azure Traffic Manager"
        ],
        [
         "Networking",
         "Azure Virtual Network (VNet) is a networking service that enables you to create and manage private networks in Azure. It provides features like subnets, network security groups, and virtual network peering. VNet supports various Azure services, such as Azure Virtual Machines, Azure App Service, and Azure Kubernetes Service. You can use VNet to build isolated environments, connect your on-premises networks to Azure, and secure your applications and resources. It also integrates with other Azure services, such as Azure ExpressRoute and Azure Traffic Manager.",
         "23",
         "Azure Virtual Network"
        ],
        [
         "Security",
         "Azure Firewall is a managed, cloud-based network security service that protects your Azure Virtual Network resources. It provides features like stateful packet inspection, application filtering, and threat intelligence. Firewall supports various network protocols, including TCP, UDP, and ICMP. You can use Azure Firewall to create and enforce network security policies, prevent unauthorized access, and protect your applications and data. It also integrates with other Azure services, such as Azure Monitor and Azure Security Center.",
         "24",
         "Azure Firewall"
        ],
        [
         "Networking",
         "Azure Private Link is a networking service that enables you to access Azure services over a private connection. It provides features like private IP addresses, secure connectivity, and simplified network architecture. Private Link supports various Azure services, such as Azure Storage, Azure SQL Database, and Azure App Service. You can use Private Link to build secure and compliant applications, reduce exposure to the public internet, and simplify your network management. It also integrates with other Azure services, such as Azure Virtual Network and Azure ExpressRoute.",
         "25",
         "Azure Private Link"
        ],
        [
         "Management + Governance",
         "Azure Site Recovery is a disaster recovery service that enables you to protect your applications and data by orchestrating replication, failover, and recovery of workloads. It supports various platforms, including Azure, on-premises, and third-party cloud providers. Site Recovery provides features like automated recovery, application consistency, and network integration. You can use Site Recovery to meet your business continuity and disaster recovery requirements, minimize downtime, and ensure compliance with industry regulations. It also integrates with other Azure services, such as Azure Backup and Azure Monitor.",
         "26",
         "Azure Site Recovery"
        ],
        [
         "Management + Governance",
         "Azure Backup is a cloud-based backup service that enables you to protect your data and applications from loss and corruption. It supports various platforms, including Azure, on-premises, and third-party cloud providers. Backup provides features like incremental backups, data encryption, and long-term retention. You can use Azure Backup to meet your data protection requirements, ensure business continuity, and comply with industry regulations. It also integrates with other Azure services, such as Azure Site Recovery and Azure Storage.",
         "27",
         "Azure Backup"
        ],
        [
         "Integration",
         "Azure Service Bus is a fully managed, enterprise-grade messaging service that enables you to build reliable and scalable applications. It provides features like message queuing, publish-subscribe, and dead-lettering. Service Bus supports various messaging patterns, including point-to-point, broadcast, and request-reply. You can use Service Bus to integrate your applications and services, decouple your system components, and handle asynchronous communication. It also integrates with other Azure services, such as Azure Functions and Azure Logic Apps.",
         "28",
         "Azure Service Bus"
        ],
        [
         "Analytics",
         "Azure Stream Analytics is a real-time data stream processing service that enables you to analyze and process high volumes of fast-moving data. It supports various data sources, such as Azure Event Hubs, Azure IoT Hub, and Azure Blob Storage. Stream Analytics provides features like windowing, time-based aggregations, and user-defined functions. You can use Stream Analytics to build real-time dashboards, detect anomalies, and generate alerts. It also integrates with other Azure services, such as Azure Functions and Azure Machine Learning.",
         "29",
         "Azure Stream Analytics"
        ],
        [
         "Mobile",
         "Azure Notification Hubs is a scalable mobile push notification service that enables you to send notifications to users across various platforms, including iOS, Android, and Windows. It provides features like personalized notifications, templates, and localization. Notification Hubs support various push notification services, such as Apple Push Notification Service (APNS), Firebase Cloud Messaging (FCM), and Windows Notification Service (WNS). You can use Notification Hubs to engage with your users, improve user retention, and increase app usage. It also integrates with other Azure services, such as Azure Mobile Apps and Azure Functions.",
         "30",
         "Azure Notification Hubs"
        ],
        [
         "Mobile",
         "Azure Mobile Apps is a mobile app development platform that enables you to build, test, deploy, and monitor your mobile applications. It provides features like offline data sync, push notifications, and user authentication. Mobile Apps supports various platforms, including iOS, Android, and Windows. You can use Mobile Apps to build cross-platform applications, integrate with other Azure services, and improve your app development lifecycle. It also integrates with other Azure services, such as Azure Notification Hubs and Azure App Service.",
         "31",
         "Azure Mobile Apps"
        ],
        [
         "Analytics",
         "Azure Time Series Insights is a fully managed analytics, storage, and visualization service that enables you to explore and analyze time-series data. It supports various data sources, such as Azure IoT Hub, Azure Event Hubs, and Azure Blob Storage. Time Series Insights provides features like real-time data streaming, advanced querying, and pattern recognition. You can use Time Series Insights to monitor your IoT devices, detect anomalies, and gain insights into your data. It also integrates with other Azure services, such as Azure Stream Analytics and Azure Machine Learning.",
         "32",
         "Azure Time Series Insights"
        ],
        [
         "Internet of Things",
         "Azure Digital Twins is an IoT service that enables you to create digital representations of your physical assets, environments, and processes. It provides features like spatial intelligence, twin graphs, and event-driven functions. Digital Twins supports various data sources, such as Azure IoT Hub, Azure Event Hubs, and Azure Blob Storage. You can use Digital Twins to build connected solutions, optimize your operations, and improve your decision-making. It also integrates with other Azure services, such as Azure Time Series Insights and Azure Machine Learning.",
         "33",
         "Azure Digital Twins"
        ],
        [
         "Analytics",
         "Azure Data Explorer is a fast, fully managed data analytics service for real-time analysis on large volumes of data. It provides features like ingestion, querying, and visualization. Data Explorer supports various data sources, such as Azure Event Hubs, Azure IoT Hub, and Azure Blob Storage. You can use Data Explorer to analyze logs, monitor applications, and gain insights into your data. It also integrates with other Azure services, such as Azure Synapse Analytics and Azure Machine Learning.",
         "34",
         "Azure Data Explorer"
        ],
        [
         "Analytics",
         "Azure Data Catalog is a fully managed metadata service that enables you to discover, understand, and use your data sources. It provides features like data asset registration, metadata discovery, and data lineage. Data Catalog supports various data sources, such as Azure SQL Database, Azure Blob Storage, and on-premises file systems. You can use Data Catalog to build a unified data catalog, improve data governance, and streamline your data discovery process. It also integrates with other Azure services, such as Azure Synapse Analytics and Azure Data Factory.",
         "35",
         "Azure Data Catalog"
        ],
        [
         "Storage",
         "Azure Data Lake Storage is a scalable, secure, and cost-effective storage service for big data analytics. It provides features like unlimited storage, hierarchical namespace, and fine-grained access control. Data Lake Storage supports various data types, such as structured, semi-structured, and unstructured data. You can use Data Lake Storage to store and analyze your data, build data lakes, and integrate with other Azure services. It also integrates with other Azure services, such as Azure Databricks and Azure Machine Learning.",
         "36",
         "Azure Data Lake Storage"
        ],
        [
         "Analytics",
         "Azure Data Lake Analytics is an on-demand, cloud-based analytics service that enables you to process and analyze big data. It provides features like job scheduling, parallel processing, and built-in analytics functions. Data Lake Analytics supports various data sources, such as Azure Data Lake Storage, Azure Blob Storage, and Azure SQL Database. You can use Data Lake Analytics to run U-SQL, R, and Python scripts, perform advanced analytics, and gain insights into your data. It also integrates with other Azure services, such as Azure Machine Learning and Azure Data Factory.",
         "37",
         "Azure Data Lake Analytics"
        ],
        [
         "Security",
         "Azure Bastion is a fully managed, secure, and scalable service that provides remote access to your virtual machines. It provides features like private connectivity, secure RDP/SSH sessions, and browser-based access. Bastion supports various Azure services, such as Azure Virtual Machines, Azure Virtual Network, and Azure Active Directory. You can use Azure Bastion to securely access your virtual machines, minimize your attack surface, and improve the security of your infrastructure. It also integrates with other Azure services, such as Azure Monitor and Azure Security Center.",
         "38",
         "Azure Bastion"
        ],
        [
         "Media",
         "Azure Media Services is a cloud-based media processing and delivery platform that enables you to build, deploy, and scale video applications. It provides features like encoding, streaming, content protection, and video indexing. Media Services supports various input and output formats, such as MP4, MPEG-DASH, and HLS. You can use Media Services to deliver live and on-demand video, build video-on-demand platforms, and analyze your video content. It also integrates with other Azure services, such as Azure Content Delivery Network and Azure Storage.",
         "39",
         "Azure Media Services"
        ],
        [
         "AI + Machine Learning",
         "Azure Cognitive Search is a fully managed search-as-a-service that enables you to build rich search experiences for your applications. It provides features like full-text search, faceted navigation, and filters. Azure Cognitive Search supports various data sources, such as Azure SQL Database, Azure Blob Storage, and Azure Cosmos DB. You can use Azure Cognitive Search to index your data, create custom scoring profiles, and integrate with other Azure services. It also integrates with other Azure services, such as Azure Cognitive Services and Azure Machine Learning.",
         "40",
         "Azure Cognitive Search"
        ],
        [
         "Security",
         "Azure Key Vault is a cloud-based service for securely storing and managing secrets, keys, and certificates. It provides features like access control, auditing, and secure storage. Key Vault supports various types of secrets, such as connection strings, passwords, and API keys. You can use Key Vault to secure your applications, protect your sensitive data, and manage your cryptographic keys. It also integrates with other Azure services, such as Azure Virtual Machines and Azure App Service.",
         "41",
         "Azure Key Vault"
        ],
        [
         "Management + Governance",
         "Azure Monitor is a comprehensive, full-stack monitoring service that enables you to collect, analyze, and act on telemetry data from your applications and infrastructure. It provides features like log analytics, metrics, alerts, and dashboards. Azure Monitor supports various data sources, such as Azure resources, custom applications, and operating systems. You can use Azure Monitor to detect and diagnose issues, optimize your performance, and ensure the availability of your resources. It also integrates with other Azure services, such as Azure Log Analytics and Azure Application Insights.",
         "42",
         "Azure Monitor"
        ],
        [
         "Security",
         "Azure DDoS Protection is a cloud-based service that helps protect your applications and resources from distributed denial-of-service (DDoS) attacks. It provides features like automatic attack mitigation, traffic profiling, and attack analytics. DDoS Protection supports various Azure services, such as Azure Virtual Machines, Azure App Service, and Azure Load Balancer. You can use Azure DDoS Protection to safeguard your infrastructure, ensure the availability of your applications, and maintain your business continuity. It also integrates with other Azure services, such as Azure Security Center and Azure Monitor.",
         "43",
         "Azure DDoS Protection"
        ],
        [
         "Networking",
         "Azure Application Gateway is a fully managed, scalable, and secure web application firewall (WAF) that helps protect your web applications from common web vulnerabilities and exploits. It provides features like SSL offloading, URL-based routing, and custom health probes. Application Gateway supports various Azure services, such as Azure Virtual Machines, Azure App Service, and Azure Kubernetes Service. You can use Application Gateway to secure your applications, improve performance, and ensure high availability. It also integrates with other Azure services, such as Azure Security Center and Azure Monitor.",
         "44",
         "Azure Application Gateway"
        ],
        [
         "Networking",
         "Azure VPN Gateway is a secure, scalable, and high-performance virtual network gateway that enables you to establish encrypted connections between your on-premises networks and Azure Virtual Networks. It provides features like site-to-site VPN, point-to-site VPN, and ExpressRoute. VPN Gateway supports various VPN protocols, such as IKEv2, SSTP, and OpenVPN. You can use Azure VPN Gateway to build hybrid applications, extend your on-premises networks to the cloud, and secure your data in transit. It also integrates with other Azure services, such as Azure Virtual Network and Azure Network Security Groups.",
         "45",
         "Azure VPN Gateway"
        ],
        [
         "Analytics",
         "Azure HDInsight is a fully managed, open-source analytics service for processing big data workloads. It provides popular open-source frameworks, such as Apache Hadoop, Apache Spark, Apache Kafka, and Apache HBase. HDInsight supports various data sources, such as Azure Blob Storage, Azure Data Lake Storage, and Azure Cosmos DB. You can use HDInsight to analyze and process large volumes of data, build real-time analytics solutions, and develop machine learning models. It also integrates with other Azure services, such as Azure Synapse Analytics and Azure Machine Learning.",
         "46",
         "Azure HDInsight"
        ],
        [
         "Analytics",
         "Azure Power BI Embedded is a cloud-based analytics service that enables you to embed interactive visualizations and reports into your applications. It provides features like data exploration, custom visuals, and real-time data refresh. Power BI Embedded supports various data sources, such as Azure SQL Database, Azure Blob Storage, and on-premises databases. You can use Power BI Embedded to create data-driven applications, improve decision-making, and enhance user experiences. It also integrates with other Azure services, such as Azure Synapse Analytics and Azure Machine Learning.",
         "47",
         "Azure Power BI Embedded"
        ],
        [
         "Storage",
         "Azure Managed Disks is a scalable, durable, and high-performance block storage service for Azure Virtual Machines. It provides features like automatic scaling, built-in encryption, and integration with Azure Backup. Managed Disks supports various disk types, such as Premium SSD, Standard SSD, and Standard HDD. You can use Managed Disks to store and manage your data, improve the performance of your applications, and ensure high availability. It also integrates with other Azure services, such as Azure Virtual Machines and Azure Site Recovery.",
         "48",
         "Azure Managed Disks"
        ],
        [
         "Databases",
         "Azure Cache for Redis is a fully managed, in-memory data store that enables you to build highly responsive and scalable applications. It provides features like data persistence, high availability, and automatic scaling. Cache for Redis supports various data structures, such as strings, lists, sets, and hashes. You can use Azure Cache for Redis to improve the performance of your applications, offload your databases, and reduce the latency of your data access. It also integrates with other Azure services, such as Azure App Service and Azure Kubernetes Service.",
         "49",
         "Azure Cache for Redis"
        ],
        [
         "Storage",
         "Azure Blob Storage is a scalable, durable, and high-performance object storage service for unstructured data. It provides features like data redundancy, geo-replication, and fine-grained access control. Blob Storage supports various data types, such as images, documents, and videos. You can use Blob Storage to store and manage your data, build data lakes, and develop big data analytics solutions. It also integrates with other Azure services, such as Azure CDN, Azure Functions, and Azure Machine Learning.",
         "50",
         "Azure Blob Storage"
        ],
        [
         "Storage",
         "Azure File Storage is a fully managed, scalable, and secure file sharing service that enables you to store and access your files over the Server Message Block (SMB) protocol. It provides features like snapshots, shared access signatures, and integration with Azure Backup. File Storage supports various platforms, such as Windows, Linux, and macOS. You can use Azure File Storage to build file sharing solutions, lift and shift your applications to the cloud, and simplify your data management. It also integrates with other Azure services, such as Azure Virtual Machines and Azure Kubernetes Service.",
         "51",
         "Azure File Storage"
        ],
        [
         "Storage",
         "Azure Table Storage is a fully managed, NoSQL datastore that enables you to store and query large amounts of structured, non-relational data. It provides features like automatic scaling, schema-less design, and a RESTful API. Table Storage supports various data types, such as strings, numbers, and booleans. You can use Azure Table Storage to store and manage your data, build scalable applications, and reduce the cost of your storage. It also integrates with other Azure services, such as Azure Functions and Azure Cosmos DB.",
         "52",
         "Azure Table Storage"
        ],
        [
         "Storage",
         "Azure Queue Storage is a fully managed, scalable, and durable message queuing service that enables you to decouple your applications and build asynchronous solutions. It provides features like at-least-once delivery, message time-to-live, and a RESTful API. Queue Storage supports various programming languages, such as C#, Java, and Python. You can use Azure Queue Storage to build distributed applications, offload your databases, and process and store large volumes of messages. It also integrates with other Azure services, such as Azure Functions and Azure Logic Apps.",
         "53",
         "Azure Queue Storage"
        ],
        [
         "Storage",
         "Azure Data Box is a family of data transfer devices that enables you to securely and efficiently transfer your data to Azure. It provides features like offline data transfer, data encryption, and chain of custody. Data Box supports various data types, such as files, databases, and virtual machines. You can use Azure Data Box to migrate your data, build data lakes, and perform data backup and archiving. It also integrates with other Azure services, such as Azure Storage and Azure Synapse Analytics.",
         "54",
         "Azure Data Box"
        ],
        [
         "Storage",
         "Azure Import/Export is a data transport solution that enables you to securely and efficiently transfer your data to and from Azure Storage. It provides features like offline data transfer, data encryption, and chain of custody. Import/Export supports various data types, such as files, databases, and virtual machines. You can use Azure Import/Export to migrate your data, build data lakes, and perform data backup and archiving. It also integrates with other Azure services, such as Azure Storage and Azure Data Box.",
         "55",
         "Azure Import/Export"
        ],
        [
         "Networking",
         "Azure Front Door is a global, scalable, and secure entry point for fast delivery of your web applications. It provides features like load balancing, SSL offloading, and web application firewall (WAF). Front Door supports various Azure services, such as Azure App Service, Azure Storage, and Azure Virtual Machines. You can use Azure Front Door to build highly available and responsive applications, optimize your users' experience, and improve the security of your infrastructure. It also integrates with other Azure services, such as Azure CDN and Azure Traffic Manager.",
         "56",
         "Azure Front Door"
        ],
        [
         "Compute",
         "Azure Service Fabric is a distributed systems platform that enables you to build, deploy, and manage scalable and reliable microservices and container-based applications. It provides features like stateful services, fault tolerance, and rolling upgrades. Service Fabric supports various programming languages, such as C#, Java, and Node.js. You can use Azure Service Fabric to build cloud-native applications, modernize your existing applications, and ensure high availability and scalability. It also integrates with other Azure services, such as Azure Kubernetes Service and Azure DevOps.",
         "57",
         "Azure Service Fabric"
        ],
        [
         "Management + Governance",
         "Azure Reserved VM Instances (RIs) are a flexible, cost-effective way to reserve compute capacity in Azure. By committing to a one-year or three-year term, you can significantly reduce your virtual machine costs compared to pay-as-you-go pricing. RIs provide features like instance size flexibility, regional scoping, and easy exchanges. You can use Azure Reserved VM Instances to optimize your costs, ensure capacity availability, and simplify your budget planning. It also integrates with other Azure services, such as Azure Cost Management and Azure Virtual Machines.",
         "58",
         "Azure Reserved VM Instances"
        ],
        [
         "Management + Governance",
         "Azure Policy is a governance service that enables you to define, enforce, and audit policies across your Azure resources. It provides features like policy assignment, policy evaluation, and compliance reporting. Azure Policy supports various resource types, such as Azure Virtual Machines, Azure Storage, and Azure App Service. You can use Azure Policy to ensure compliance with your organization's standards, prevent non-compliant resources, and automate remediation. It also integrates with other Azure services, such as Azure Monitor and Azure Security Center.",
         "59",
         "Azure Policy"
        ],
        [
         "Security",
         "Azure Security Center is a unified security management service that helps you protect your workloads and improve your security posture across your Azure resources and on-premises infrastructure. It provides features like continuous security assessments, threat protection, and security recommendations. Security Center supports various platforms, such as Windows, Linux, and Kubernetes. You can use Azure Security Center to detect and remediate threats, manage your security policies, and ensure compliance with industry regulations. It also integrates with other Azure services, such as Azure Monitor and Azure Log Analytics.",
         "60",
         "Azure Security Center"
        ],
        [
         "Networking",
         "Azure Private DNS is a fully managed, private Domain Name System (DNS) service that enables you to manage and resolve domain names in your virtual network. It provides features like custom domains, DNS-based load balancing, and private access. Private DNS supports various Azure services, such as Azure Virtual Machines, Azure App Service, and Azure Kubernetes Service. You can use Azure Private DNS to build isolated environments, simplify your network management, and ensure the security of your DNS traffic. It also integrates with other Azure services, such as Azure Virtual Network and Azure Traffic Manager.",
         "61",
         "Azure Private DNS"
        ],
        [
         "Developer Tools",
         "Azure DevTest Labs is a fully managed service that enables you to create, manage, and share development and test environments in Azure. It provides features like custom templates, cost management, and integration with Azure DevOps. DevTest Labs supports various platforms, such as Windows, Linux, and Kubernetes. You can use Azure DevTest Labs to improve your application development lifecycle, reduce your costs, and ensure the consistency of your environments. It also integrates with other Azure services, such as Azure Virtual Machines and Azure App Service.",
         "62",
         "Azure DevTest Labs"
        ],
        [
         "Compute",
         "Azure Functions is a serverless compute service that enables you to run event-driven code without managing the underlying infrastructure. It provides features like automatic scaling, triggers, and bindings. Functions supports various programming languages, such as C#, Java, and Python. You can use Azure Functions to build microservices, integrate with other Azure services, and process and transform data. It also integrates with other Azure services, such as Azure Event Hubs, Azure Storage, and Azure Cosmos DB.",
         "63",
         "Azure Functions"
        ],
        [
         "Web",
         "Azure SignalR Service is a fully managed, real-time messaging service that enables you to build and scale real-time web applications. It provides features like automatic scaling, WebSocket support, and serverless integration. SignalR Service supports various programming languages, such as C#, JavaScript, and Java. You can use Azure SignalR Service to build chat applications, real-time dashboards, and collaborative tools. It also integrates with other Azure services, such as Azure Functions and Azure App Service.",
         "64",
         "Azure SignalR Service"
        ],
        [
         "Blockchain",
         "Azure Blockchain Service is a fully managed, multi-ledger blockchain platform that enables you to build and manage blockchain applications. It provides features like consortium management, private transactions, and integration with Azure Logic Apps. Blockchain Service supports various blockchain protocols, such as Ethereum and Hyperledger Fabric. You can use Azure Blockchain Service to build secure and compliant applications, streamline your business processes, and improve trust and transparency. It also integrates with other Azure services, such as Azure Active Directory and Azure Key Vault.",
         "65",
         "Azure Blockchain Service"
        ],
        [
         "Databases",
         "Azure Database for MySQL is a fully managed, scalable, and secure relational database service that enables you to build and manage MySQL applications in Azure. It provides features like automatic backups, monitoring, and high availability. Database for MySQL supports various data types, such as JSON, spatial, and full-text. You can use Azure Database for MySQL to migrate your existing applications, build new applications, and ensure the performance and security of your data. It also integrates with other Azure services, such as Azure App Service and Azure Data Factory.",
         "66",
         "Azure Database for MySQL"
        ],
        [
         "Databases",
         "Azure Database for PostgreSQL is a fully managed, scalable, and secure relational database service that enables you to build and manage PostgreSQL applications in Azure. It provides features like automatic backups, monitoring, and high availability. Database for PostgreSQL supports various data types, such as JSON, spatial, and full-text. You can use Azure Database for PostgreSQL to migrate your existing applications, build new applications, and ensure the performance and security of your data. It also integrates with other Azure services, such as Azure App Service and Azure Data Factory.",
         "67",
         "Azure Database for PostgreSQL"
        ],
        [
         "Databases",
         "Azure Database for MariaDB is a fully managed, scalable, and secure relational database service that enables you to build and manage MariaDB applications in Azure. It provides features like automatic backups, monitoring, and high availability. Database for MariaDB supports various data types, such as JSON, spatial, and full-text. You can use Azure Database for MariaDB to migrate your existing applications, build new applications, and ensure the performance and security of your data. It also integrates with other Azure services, such as Azure App Service and Azure Data Factory.",
         "68",
         "Azure Database for MariaDB"
        ],
        [
         "Databases",
         "Azure SQL Managed Instance is a fully managed, scalable, and secure SQL Server instance hosted in Azure. It provides features like automatic backups, monitoring, and high availability. SQL Managed Instance supports various data types, such as JSON, spatial, and full-text. You can use Azure SQL Managed Instance to migrate your existing applications, build new applications, and ensure the performance and security of your data. It also integrates with other Azure services, such as Azure App Service and Azure Data Factory.",
         "69",
         "Azure SQL Managed Instance"
        ],
        [
         "Databases",
         "Azure Cosmos DB is a globally distributed, multi-model database service that enables you to build and manage NoSQL applications in Azure. It provides features like automatic scaling, low-latency access, and multi-master replication. Cosmos DB supports various data models, such as key-value, document, graph, and column-family. You can use Azure Cosmos DB to build globally distributed applications, ensure high availability and performance, and manage your data at scale. It also integrates with other Azure services, such as Azure Functions and Azure App Service.",
         "70",
         "Azure Cosmos DB"
        ],
        [
         "Databases",
         "Azure SQL Data Warehouse is a fully managed, petabyte-scale cloud data warehouse service that enables you to store and analyze your structured and semi-structured data. It provides features like automatic scaling, data movement, and integration with Azure Machine Learning. SQL Data Warehouse supports various data sources, such as Azure Blob Storage, Azure Data Lake Storage, and Azure SQL Database. You can use Azure SQL Data Warehouse to build data lakes, develop big data analytics solutions, and ensure the performance and security of your data. It also integrates with other Azure services, such as Azure Synapse Analytics and Azure Data Factory.",
         "71",
         "Azure SQL Data Warehouse"
        ],
        [
         "Management + Governance",
         "Azure Application Insights is an application performance management service that enables you to monitor, diagnose, and troubleshoot your applications and infrastructure. It provides features like real-time telemetry, dependency mapping, and live metrics. Application Insights supports various platforms, such as .NET, Java, Node.js, and Python. You can use Azure Application Insights to detect and diagnose issues, optimize your performance, and ensure the availability of your applications. It also integrates with other Azure services, such as Azure Monitor and Azure Log Analytics.",
         "72",
         "Azure Application Insights"
        ],
        [
         "Management + Governance",
         "Azure Log Analytics is a log management and analytics service that enables you to collect, store, and analyze your log data from various sources, such as Azure resources, custom applications, and operating systems. It provides features like advanced querying, data visualization, and integration with Azure Monitor. Log Analytics supports various data types, such as performance counters, event logs, and custom logs. You can use Azure Log Analytics to detect and diagnose issues, optimize your performance, and ensure the security of your infrastructure. It also integrates with other Azure services, such as Azure Security Center and Azure Application Insights.",
         "73",
         "Azure Log Analytics"
        ],
        [
         "Internet of Things",
         "Azure IoT Central is a fully managed, global IoT software-as-a-service (SaaS) solution that enables you to build, manage, and scale your IoT applications. It provides features like device management, data visualization, and application templates. IoT Central supports various data sources, such as Azure IoT Hub, Azure Event Hubs, and Azure Blob Storage. You can use Azure IoT Central to build connected solutions, optimize your operations, and improve your decision-making. It also integrates with other Azure services, such as Azure Time Series Insights and Azure Machine Learning.",
         "74",
         "Azure IoT Central"
        ],
        [
         "Internet of Things",
         "Azure Sphere is a comprehensive IoT security solution that includes a secure, high-level application platform, a custom Linux-based operating system, and a cloud-based security service. It provides features like automatic updates, device attestation, and error reporting. Azure Sphere supports various hardware platforms, such as microcontrollers and development boards. You can use Azure Sphere to build secure and compliant IoT devices, protect your intellectual property, and ensure the security of your IoT ecosystem. It also integrates with other Azure services, such as Azure IoT Hub and Azure IoT Central.",
         "75",
         "Azure Sphere"
        ],
        [
         "Internet of Things",
         "Azure IoT Edge is a fully managed service that enables you to run cloud intelligence directly on your IoT devices. It provides features like automatic scaling, device management, and integration with Azure Machine Learning. IoT Edge supports various programming languages, such as C#, Java, and Python. You can use Azure IoT Edge to build edge computing solutions, optimize your operations, and improve your decision-making. It also integrates with other Azure services, such as Azure IoT Hub and Azure Functions.",
         "76",
         "Azure IoT Edge"
        ],
        [
         "Management + Governance",
         "Azure Migrate is a cloud migration service that enables you to discover, assess, and migrate your on-premises workloads to Azure. It provides features like VM compatibility assessment, performance-based sizing, and cost estimation. Azure Migrate supports various platforms, such as Windows, Linux, and VMware. You can use Azure Migrate to plan your migration, ensure the compatibility of your workloads, and optimize your costs. It also integrates with other Azure services, such as Azure Site Recovery and Azure Database Migration Service.",
         "77",
         "Azure Migrate"
        ],
        [
         "Databases",
         "Azure Database Migration Service is a fully managed, end-to-end migration service that enables you to migrate your databases to Azure with minimal downtime. It supports various source and target platforms, such as SQL Server, MySQL, PostgreSQL, and Azure SQL Database. Database Migration Service provides features like schema conversion, data migration, and performance monitoring. You can use Azure Database Migration Service to migrate your databases, ensure the compatibility of your workloads, and minimize your migration risks. It also integrates with other Azure services, such as Azure Migrate and Azure SQL Managed Instance.",
         "78",
         "Azure Database Migration Service"
        ],
        [
         "Management + Governance",
         "Azure Blueprints is a governance service that enables you to define, deploy, and update your Azure environments in a consistent and repeatable manner. It provides features like environment templates, policy assignment, and RBAC configuration. Blueprints support various Azure services, such as Azure Virtual Machines, Azure Storage, and Azure App Service. You can use Azure Blueprints to ensure compliance with your organization's standards, automate your environment creation, and simplify your infrastructure management. It also integrates with other Azure services, such as Azure Policy and Azure Resource Manager.",
         "79",
         "Azure Blueprints"
        ],
        [
         "Compute",
         "Azure Kubernetes Service (AKS) is a fully managed, container orchestration platform that enables you to deploy, scale, and manage containerized applications using Kubernetes. It provides features like automatic scaling, rolling updates, and integration with Azure Active Directory. AKS supports various container runtimes, such as Docker and containerd. You can use Azure Kubernetes Service to build microservices, modernize your existing applications, and ensure high availability and scalability. It also integrates with other Azure services, such as Azure Container Registry and Azure Monitor.",
         "80",
         "Azure Kubernetes Service (AKS)"
        ],
        [
         "Compute",
         "Azure Container Instances (ACI) is a serverless container runtime that enables you to run and scale your containerized applications in Azure without managing the underlying infrastructure. It provides features like automatic scaling, custom domains, and integration with Azure Logic Apps. ACI supports various container runtimes, such as Docker and containerd. You can use Azure Container Instances to build microservices, modernize your existing applications, and ensure high availability and scalability. It also integrates with other Azure services, such as Azure Kubernetes Service and Azure Functions.",
         "81",
         "Azure Container Instances"
        ],
        [
         "Containers",
         "Azure Container Registry is a fully managed, private Docker registry service that enables you to store and manage your container images and artifacts in Azure. It provides features like geo-replication, webhooks, and integration with Azure Active Directory. Container Registry supports various container formats, such as Docker and Open Container Initiative (OCI). You can use Azure Container Registry to build and deploy your containerized applications, ensure the security of your images, and automate your container lifecycle. It also integrates with other Azure services, such as Azure Kubernetes Service and Azure DevOps.",
         "82",
         "Azure Container Registry"
        ],
        [
         "Analytics",
         "Azure Databricks is a fully managed, Apache Spark-based analytics platform that enables you to process and analyze large volumes of data. It provides features like collaborative notebooks, job scheduling, and integration with Azure Machine Learning. Databricks supports various data sources, such as Azure Blob Storage, Azure Data Lake Storage, and Azure Cosmos DB. You can use Azure Databricks to build data lakes, develop big data analytics solutions, and train machine learning models. It also integrates with other Azure services, such as Azure Synapse Analytics and Azure Data Factory.",
         "83",
         "Azure Databricks"
        ],
        [
         "Integration",
         "Azure Event Grid is a fully managed, event-routing service that enables you to build event-driven and serverless applications. It provides features like event filtering, custom event topics, and integration with Azure Functions. Event Grid supports various event sources, such as Azure Blob Storage, Azure Event Hubs, and custom applications. You can use Azure Event Grid to build reactive applications, integrate with other Azure services, and process and route events at scale. It also integrates with other Azure services, such as Azure Logic Apps and Azure Service Bus.",
         "84",
         "Azure Event Grid"
        ],
        [
         "Management + Governance",
         "Azure Cost Management is a financial management service that enables you to analyze, manage, and optimize your Azure costs. It provides features like cost analysis, budgeting, and alerting. Cost Management supports various Azure services, such as Azure Virtual Machines, Azure Storage, and Azure App Service. You can use Azure Cost Management to gain insights into your spending, ensure the efficient use of your resources, and control your cloud costs. It also integrates with other Azure services, such as Azure Monitor and Azure Policy.",
         "85",
         "Azure Cost Management"
        ],
        [
         "Developer Tools",
         "Azure App Configuration is a fully managed configuration service that enables you to centrally manage and distribute your application settings and feature flags. It provides features like key-value storage, versioning, and access control. App Configuration supports various platforms, such as .NET, Java, Node.js, and Python. You can use Azure App Configuration to build and deploy your applications, ensure the consistency of your settings, and improve your application lifecycle. It also integrates with other Azure services, such as Azure App Service and Azure Functions.",
         "86",
         "Azure App Configuration"
        ],
        [
         "Web",
         "Azure Static Web Apps is a serverless hosting service that enables you to build and deploy modern web applications using static front-end technologies and serverless APIs. It provides features like custom domains, SSL certificates, and integration with Azure Functions. Static Web Apps supports various frameworks, such as React, Angular, and Vue.js. You can use Azure Static Web Apps to build and deploy your web applications, ensure high performance and security, and simplify your development workflow. It also integrates with other Azure services, such as Azure App Service and Azure CDN.",
         "87",
         "Azure Static Web Apps"
        ],
        [
         "Management + Governance",
         "Azure Lighthouse is a cross-tenant management service that enables you to manage and monitor your customers' Azure resources at scale. It provides features like delegated access, centralized management, and multi-tenant reporting. Lighthouse supports various Azure services, such as Azure Virtual Machines, Azure Storage, and Azure App Service. You can use Azure Lighthouse to build managed service offerings, improve your operational efficiency, and ensure the security and compliance of your customers' environments. It also integrates with other Azure services, such as Azure Monitor and Azure Policy.",
         "88",
         "Azure Lighthouse"
        ],
        [
         "AI + Machine Learning",
         "Azure Machine Learning is a fully managed, end-to-end platform that enables you to build, train, and deploy machine learning models at scale. It provides features like automated machine learning, data labeling, and model management. Machine Learning supports various frameworks, such as TensorFlow, PyTorch, and Scikit-learn. You can use Azure Machine Learning to develop predictive analytics solutions, improve your decision-making, and gain insights into your data. It also integrates with other Azure services, such as Azure Databricks and Azure Synapse Analytics.",
         "89",
         "Azure Machine Learning"
        ],
        [
         "AI + Machine Learning",
         "Azure Cognitive Services is a collection of AI services and APIs that enable you to build intelligent applications using pre-built models and algorithms. It provides features like computer vision, speech recognition, and natural language processing. Cognitive Services supports various platforms, such as .NET, Java, Node.js, and Python. You can use Azure Cognitive Services to build chatbots, analyze images and videos, and process and understand text. It also integrates with other Azure services, such as Azure Machine Learning and Azure Cognitive Search.",
         "90",
         "Azure Cognitive Services"
        ],
        [
         "AI + Machine Learning",
         "Azure Bot Service is a managed, AI-powered service that enables you to build, deploy, and manage intelligent chatbots for your applications. It provides features like natural language understanding, multi-channel support, and integration with Azure Cognitive Services. Bot Service supports various platforms, such as .NET, Java, Node.js, and Python. You can use Azure Bot Service to build conversational applications, improve user engagement, and automate customer support. It also integrates with other Azure services, such as Azure App Service and Azure Functions.",
         "91",
         "Azure Bot Service"
        ],
        [
         "AI + Machine Learning",
         "Azure Batch AI is a fully managed, AI-powered service that enables you to run distributed training and inferencing workloads for your machine learning models at scale. It provides features like automatic scaling, job scheduling, and integration with popular deep learning frameworks, such as TensorFlow, PyTorch, and Caffe. Batch AI supports various platforms, such as .NET, Java, Node.js, and Python. You can use Azure Batch AI to train and deploy your machine learning models, improve your decision-making, and gain insights into your data. It also integrates with other Azure services, such as Azure Machine Learning and Azure Storage.",
         "92",
         "Azure Batch AI"
        ],
        [
         "Internet of Things",
         "Azure Maps is a collection of geospatial services and SDKs that enable you to build location-based applications using Azure. It provides features like map rendering, geocoding, route planning, and spatial analytics. Azure Maps supports various platforms, such as web, mobile, and IoT devices. You can use Azure Maps to build mapping applications, visualize and analyze your spatial data, and improve your decision-making. It also integrates with other Azure services, such as Azure IoT Hub and Azure Functions.",
         "93",
         "Azure Maps"
        ],
        [
         "Healthcare",
         "Azure API for FHIR is a fully managed, standards-based API that enables you to store, manage, and exchange health data in the Fast Healthcare Interoperability Resources (FHIR) format. It provides features like data validation, versioning, and integration with Azure Active Directory. API for FHIR supports various data types, such as clinical, imaging, and administrative data. You can use Azure API for FHIR to build healthcare applications, ensure the security and compliance of your health data, and streamline your data management. It also integrates with other Azure services, such as Azure Machine Learning and Azure IoT Central.",
         "94",
         "Azure API for FHIR"
        ],
        [
         "Storage",
         "Azure HPC Cache is a fully managed, high-performance caching service that enables you to access and manage large datasets stored on-premises or in Azure. It provides features like automatic scaling, data prefetching, and integration with Azure Blob Storage. HPC Cache supports various file systems, such as NFS and SMB. You can use Azure HPC Cache to build high-performance computing applications, optimize your data access, and ensure the performance and reliability of your workloads. It also integrates with other Azure services, such as Azure Virtual Machines and Azure Storage.",
         "95",
         "Azure HPC Cache"
        ],
        [
         "Compute",
         "Azure Quantum is a fully managed, quantum computing service that enables you to build and run quantum applications using Azure. It provides features like quantum hardware, quantum simulators, and quantum optimization algorithms. Azure Quantum supports various programming languages, such as Q#, Python, and C#. You can use Azure Quantum to explore quantum computing, develop quantum algorithms, and solve complex optimization problems. It also integrates with other Azure services, such as Azure Machine Learning and Azure Functions.",
         "96",
         "Azure Quantum"
        ],
        [
         "Analytics",
         "Azure Data Share is a fully managed data sharing service that enables you to securely share and receive data from other organizations using Azure. It provides features like data snapshotting, change tracking, and access control. Data Share supports various data sources, such as Azure Blob Storage, Azure Data Lake Storage, and Azure SQL Database. You can use Azure Data Share to collaborate with your partners, improve your data governance, and ensure the security of your data. It also integrates with other Azure services, such as Azure Synapse Analytics and Azure Data Factory.",
         "97",
         "Azure Data Share"
        ],
        [
         "Hybrid",
         "Azure Stack Hub is an extension of Azure that enables you to run Azure services on-premises, in your own datacenter, or at the edge. It provides features like consistent APIs, hybrid application development, and integration with Azure Active Directory. Azure Stack Hub supports various Azure services, such as Azure Virtual Machines, Azure Storage, and Azure App Service. You can use Azure Stack Hub to build hybrid applications, ensure the compliance of your workloads, and simplify your infrastructure management. It also integrates with other Azure services, such as Azure Monitor and Azure Site Recovery.",
         "98",
         "Azure Stack Hub"
        ],
        [
         "Hybrid",
         "Azure Stack Edge is a managed, edge computing appliance that enables you to run Azure services and AI workloads on-premises or at the edge. It provides features like hardware-accelerated machine learning, local caching, and integration with Azure IoT Hub. Azure Stack Edge supports various Azure services, such as Azure Functions, Azure Machine Learning, and Azure Kubernetes Service. You can use Azure Stack Edge to build edge computing applications, optimize your data processing, and ensure the security and compliance of your workloads. It also integrates with other Azure services, such as Azure Monitor and Azure Stack Hub.",
         "99",
         "Azure Stack Edge"
        ],
        [
         "Security",
         "Azure Active Directory (Azure AD) is a cloud-based identity and access management service that enables you to manage users, groups, and access to your applications and resources. It provides features like single sign-on (SSO), multi-factor authentication (MFA), and conditional access. Azure AD supports various platforms, such as Windows, macOS, and Linux. You can use Azure Active Directory to secure your applications, ensure the compliance of your workloads, and simplify your identity management. It also integrates with other Azure services, such as Azure Virtual Machines and Azure App Service.",
         "100",
         "Azure Active Directory"
        ],
        [
         "Networking",
         "Azure ExpressRoute is a dedicated, private connectivity service that enables you to securely extend your on-premises networks to Azure over a private connection. It provides features like low latency, high bandwidth, and integration with Azure Virtual Network. ExpressRoute supports various connectivity models, such as point-to-point, MPLS, and SD-WAN. You can use Azure ExpressRoute to build hybrid applications, ensure the performance and security of your data in transit, and improve your network reliability. It also integrates with other Azure services, such as Azure VPN Gateway and Azure Traffic Manager.",
         "101",
         "Azure ExpressRoute"
        ],
        [
         "Networking",
         "Azure Private Link is a secure, private connectivity service that enables you to access Azure services over a private connection within an Azure Virtual Network. It provides features like private IP addresses, data exfiltration protection, and integration with Azure Private DNS. Private Link supports various Azure services, such as Azure Storage, Azure SQL Database, and Azure App Service. You can use Azure Private Link to build isolated environments, ensure the security of your data in transit, and simplify your network management. It also integrates with other Azure services, such as Azure Virtual Network and Azure Firewall.",
         "102",
         "Azure Private Link"
        ],
        [
         "Networking",
         "Azure Virtual WAN is a global, scalable, and secure networking service that enables you to build and manage your wide area networks (WAN) in Azure. It provides features like automated site-to-site VPN, hub-and-spoke topology, and integration with Azure Firewall. Virtual WAN supports various Azure services, such as Azure Virtual Machines, Azure Storage, and Azure App Service. You can use Azure Virtual WAN to build hybrid applications, ensure the performance and security of your data in transit, and improve your network reliability. It also integrates with other Azure services, such as Azure ExpressRoute and Azure Traffic Manager.",
         "103",
         "Azure Virtual WAN"
        ],
        [
         "Management + Governance",
         "Azure Site Recovery is a fully managed, disaster recovery service that enables you to protect and recover your applications and data from various types of failures. It provides features like automated failover, recovery plans, and integration with Azure Backup. Site Recovery supports various platforms, such as Windows, Linux, and VMware. You can use Azure Site Recovery to ensure the availability of your applications, maintain your business continuity, and automate your disaster recovery process. It also integrates with other Azure services, such as Azure Virtual Machines and Azure Storage.",
         "104",
         "Azure Site Recovery"
        ],
        [
         "Web",
         "Azure Web PubSub is a fully managed, real-time messaging service that enables you to build and scale real-time web applications using WebSockets. It provides features like automatic scaling, custom domains, and serverless integration. Web PubSub supports various programming languages, such as C#, JavaScript, and Java. You can use Azure Web PubSub to build chat applications, real-time dashboards, and collaborative tools. It also integrates with other Azure services, such as Azure Functions and Azure SignalR Service.",
         "105",
         "Azure Web PubSub"
        ],
        [
         "Analytics",
         "Azure Data Factory is a cloud-based data integration service that enables you to create, schedule, and manage your data workflows. It provides features like data movement, data transformation, and integration with Azure Machine Learning. Data Factory supports various data sources, such as Azure Blob Storage, Azure Data Lake Storage, and Azure SQL Database. You can use Azure Data Factory to build data pipelines, develop big data analytics solutions, and migrate your data to Azure. It also integrates with other Azure services, such as Azure Synapse Analytics and Azure Data Lake Analytics.",
         "106",
         "Azure Data Factory"
        ],
        [
         "Analytics",
         "Azure Data Bricks is a fully managed, Apache Spark-based analytics platform that enables you to process and analyze large volumes of data. It provides features like collaborative notebooks, job scheduling, and integration with Azure Machine Learning. Data Bricks supports various data sources, such as Azure Blob Storage, Azure Data Lake Storage, and Azure Cosmos DB. You can use Azure Data Bricks to build data lakes, develop big data analytics solutions, and train machine learning models. It also integrates with other Azure services, such as Azure Synapse Analytics and Azure Data Factory.",
         "107",
         "Azure Data Bricks"
        ],
        [
         "Security",
         "Azure Bastion is a fully managed, secure, and scalable service that provides remote access to your virtual machines. It provides features like private connectivity, secure RDP/SSH sessions, and browser-based access. Bastion supports various Azure services, such as Azure Virtual Machines, Azure Virtual Network, and Azure Active Directory. You can use Azure Bastion to securely access your virtual machines, minimize your attack surface, and improve the security of your infrastructure. It also integrates with other Azure services, such as Azure Monitor and Azure Security Center.",
         "108",
         "Azure Bastion"
        ]
       ],
       "datasetInfos": [],
       "dbfsResultPath": null,
       "isJsonSchema": true,
       "metadata": {},
       "overflow": false,
       "plotOptions": {
        "customPlotOptions": {},
        "displayType": "table",
        "pivotAggregation": null,
        "pivotColumns": null,
        "xColumns": null,
        "yColumns": null
       },
       "removedWidgets": [],
       "schema": [
        {
         "metadata": "{}",
         "name": "category",
         "type": "\"string\""
        },
        {
         "metadata": "{}",
         "name": "content",
         "type": "\"string\""
        },
        {
         "metadata": "{}",
         "name": "id",
         "type": "\"string\""
        },
        {
         "metadata": "{}",
         "name": "title",
         "type": "\"string\""
        }
       ],
       "type": "table"
      }
     },
     "output_type": "display_data"
    }
   ],
   "source": [
    "display(spark.sql(f\"SELECT * FROM {source_table_fullname}\"))"
   ]
  },
  {
   "cell_type": "markdown",
   "metadata": {
    "application/vnd.databricks.v1+cell": {
     "cellMetadata": {},
     "inputWidgets": {},
     "nuid": "8c2e2154-e8c4-45a1-bfb4-6e042503cbc3",
     "showTitle": false,
     "title": ""
    }
   },
   "source": [
    "\n",
    "## Create Vector Search Endpoint"
   ]
  },
  {
   "cell_type": "code",
   "execution_count": 0,
   "metadata": {
    "application/vnd.databricks.v1+cell": {
     "cellMetadata": {
      "byteLimit": 2048000,
      "rowLimit": 10000
     },
     "inputWidgets": {},
     "nuid": "a0661dfe-77bd-441a-9558-35af188afd90",
     "showTitle": false,
     "title": ""
    }
   },
   "outputs": [],
   "source": [
    "vector_search_endpoint_name = \"vector-search-demo-endpoint\""
   ]
  },
  {
   "cell_type": "code",
   "execution_count": 0,
   "metadata": {
    "application/vnd.databricks.v1+cell": {
     "cellMetadata": {
      "byteLimit": 2048000,
      "rowLimit": 10000
     },
     "inputWidgets": {},
     "nuid": "3c8fcfd3-64dc-4b93-ad71-faee1b4c7c6d",
     "showTitle": false,
     "title": ""
    }
   },
   "outputs": [
    {
     "output_type": "stream",
     "name": "stderr",
     "output_type": "stream",
     "text": [
      "WARNING:root:Error processing request 409 Client Error: Conflict for url: https://eastus-c3.azuredatabricks.net/api/2.0/vector-search/endpoints\n"
     ]
    },
    {
     "output_type": "display_data",
     "data": {
      "text/plain": [
       "\u001B[0;31m---------------------------------------------------------------------------\u001B[0m\n",
       "\u001B[0;31mHTTPError\u001B[0m                                 Traceback (most recent call last)\n",
       "File \u001B[0;32m/local_disk0/.ephemeral_nfs/envs/pythonEnv-cf4ea018-c031-4169-be54-a5499b2024df/lib/python3.10/site-packages/databricks/vector_search/utils.py:123\u001B[0m, in \u001B[0;36mRequestUtils.issue_request\u001B[0;34m(url, token, method, params, json, verify)\u001B[0m\n",
       "\u001B[1;32m    122\u001B[0m \u001B[38;5;28;01mtry\u001B[39;00m:\n",
       "\u001B[0;32m--> 123\u001B[0m     \u001B[43mresponse\u001B[49m\u001B[38;5;241;43m.\u001B[39;49m\u001B[43mraise_for_status\u001B[49m\u001B[43m(\u001B[49m\u001B[43m)\u001B[49m\n",
       "\u001B[1;32m    124\u001B[0m \u001B[38;5;28;01mexcept\u001B[39;00m \u001B[38;5;167;01mException\u001B[39;00m \u001B[38;5;28;01mas\u001B[39;00m e:\n",
       "\n",
       "File \u001B[0;32m/local_disk0/.ephemeral_nfs/envs/pythonEnv-cf4ea018-c031-4169-be54-a5499b2024df/lib/python3.10/site-packages/requests/models.py:1021\u001B[0m, in \u001B[0;36mResponse.raise_for_status\u001B[0;34m(self)\u001B[0m\n",
       "\u001B[1;32m   1020\u001B[0m \u001B[38;5;28;01mif\u001B[39;00m http_error_msg:\n",
       "\u001B[0;32m-> 1021\u001B[0m     \u001B[38;5;28;01mraise\u001B[39;00m HTTPError(http_error_msg, response\u001B[38;5;241m=\u001B[39m\u001B[38;5;28mself\u001B[39m)\n",
       "\n",
       "\u001B[0;31mHTTPError\u001B[0m: 409 Client Error: Conflict for url: https://eastus-c3.azuredatabricks.net/api/2.0/vector-search/endpoints\n",
       "\n",
       "During handling of the above exception, another exception occurred:\n",
       "\n",
       "\u001B[0;31mException\u001B[0m                                 Traceback (most recent call last)\n",
       "File \u001B[0;32m<command-3694651593041720>, line 1\u001B[0m\n",
       "\u001B[0;32m----> 1\u001B[0m \u001B[43mvsc\u001B[49m\u001B[38;5;241;43m.\u001B[39;49m\u001B[43mcreate_endpoint\u001B[49m\u001B[43m(\u001B[49m\n",
       "\u001B[1;32m      2\u001B[0m \u001B[43m    \u001B[49m\u001B[43mname\u001B[49m\u001B[38;5;241;43m=\u001B[39;49m\u001B[43mvector_search_endpoint_name\u001B[49m\u001B[43m,\u001B[49m\n",
       "\u001B[1;32m      3\u001B[0m \u001B[43m    \u001B[49m\u001B[43mendpoint_type\u001B[49m\u001B[38;5;241;43m=\u001B[39;49m\u001B[38;5;124;43m\"\u001B[39;49m\u001B[38;5;124;43mSTANDARD\u001B[39;49m\u001B[38;5;124;43m\"\u001B[39;49m\n",
       "\u001B[1;32m      4\u001B[0m \u001B[43m)\u001B[49m\n",
       "\n",
       "File \u001B[0;32m/local_disk0/.ephemeral_nfs/envs/pythonEnv-cf4ea018-c031-4169-be54-a5499b2024df/lib/python3.10/site-packages/databricks/vector_search/client.py:108\u001B[0m, in \u001B[0;36mVectorSearchClient.create_endpoint\u001B[0;34m(self, name, endpoint_type)\u001B[0m\n",
       "\u001B[1;32m    106\u001B[0m logging\u001B[38;5;241m.\u001B[39minfo(\u001B[38;5;124mf\u001B[39m\u001B[38;5;124m\"\u001B[39m\u001B[38;5;124mCreating endpoint: \u001B[39m\u001B[38;5;132;01m{\u001B[39;00mname\u001B[38;5;132;01m}\u001B[39;00m\u001B[38;5;124m\"\u001B[39m)\n",
       "\u001B[1;32m    107\u001B[0m json_data \u001B[38;5;241m=\u001B[39m {\u001B[38;5;124m\"\u001B[39m\u001B[38;5;124mname\u001B[39m\u001B[38;5;124m\"\u001B[39m: name, \u001B[38;5;124m\"\u001B[39m\u001B[38;5;124mendpoint_type\u001B[39m\u001B[38;5;124m\"\u001B[39m: endpoint_type}\n",
       "\u001B[0;32m--> 108\u001B[0m \u001B[38;5;28;01mreturn\u001B[39;00m \u001B[43mRequestUtils\u001B[49m\u001B[38;5;241;43m.\u001B[39;49m\u001B[43missue_request\u001B[49m\u001B[43m(\u001B[49m\n",
       "\u001B[1;32m    109\u001B[0m \u001B[43m    \u001B[49m\u001B[43murl\u001B[49m\u001B[38;5;241;43m=\u001B[39;49m\u001B[38;5;124;43mf\u001B[39;49m\u001B[38;5;124;43m\"\u001B[39;49m\u001B[38;5;132;43;01m{\u001B[39;49;00m\u001B[38;5;28;43mself\u001B[39;49m\u001B[38;5;241;43m.\u001B[39;49m\u001B[43mworkspace_url\u001B[49m\u001B[38;5;132;43;01m}\u001B[39;49;00m\u001B[38;5;124;43m/api/2.0/vector-search/endpoints\u001B[39;49m\u001B[38;5;124;43m\"\u001B[39;49m\u001B[43m,\u001B[49m\n",
       "\u001B[1;32m    110\u001B[0m \u001B[43m    \u001B[49m\u001B[43mtoken\u001B[49m\u001B[38;5;241;43m=\u001B[39;49m\u001B[38;5;28;43mself\u001B[39;49m\u001B[38;5;241;43m.\u001B[39;49m\u001B[43m_get_token_for_request\u001B[49m\u001B[43m(\u001B[49m\u001B[43m)\u001B[49m\u001B[43m,\u001B[49m\n",
       "\u001B[1;32m    111\u001B[0m \u001B[43m    \u001B[49m\u001B[43mmethod\u001B[49m\u001B[38;5;241;43m=\u001B[39;49m\u001B[38;5;124;43m\"\u001B[39;49m\u001B[38;5;124;43mPOST\u001B[39;49m\u001B[38;5;124;43m\"\u001B[39;49m\u001B[43m,\u001B[49m\n",
       "\u001B[1;32m    112\u001B[0m \u001B[43m    \u001B[49m\u001B[43mjson\u001B[49m\u001B[38;5;241;43m=\u001B[39;49m\u001B[43mjson_data\u001B[49m\u001B[43m,\u001B[49m\n",
       "\u001B[1;32m    113\u001B[0m \u001B[43m\u001B[49m\u001B[43m)\u001B[49m\n",
       "\n",
       "File \u001B[0;32m/local_disk0/.ephemeral_nfs/envs/pythonEnv-cf4ea018-c031-4169-be54-a5499b2024df/lib/python3.10/site-packages/databricks/vector_search/utils.py:126\u001B[0m, in \u001B[0;36mRequestUtils.issue_request\u001B[0;34m(url, token, method, params, json, verify)\u001B[0m\n",
       "\u001B[1;32m    124\u001B[0m \u001B[38;5;28;01mexcept\u001B[39;00m \u001B[38;5;167;01mException\u001B[39;00m \u001B[38;5;28;01mas\u001B[39;00m e:\n",
       "\u001B[1;32m    125\u001B[0m     logging\u001B[38;5;241m.\u001B[39mwarn(\u001B[38;5;124mf\u001B[39m\u001B[38;5;124m\"\u001B[39m\u001B[38;5;124mError processing request \u001B[39m\u001B[38;5;132;01m{\u001B[39;00me\u001B[38;5;132;01m}\u001B[39;00m\u001B[38;5;124m\"\u001B[39m)\n",
       "\u001B[0;32m--> 126\u001B[0m     \u001B[38;5;28;01mraise\u001B[39;00m \u001B[38;5;167;01mException\u001B[39;00m(\n",
       "\u001B[1;32m    127\u001B[0m         \u001B[38;5;124mf\u001B[39m\u001B[38;5;124m\"\u001B[39m\u001B[38;5;124mResponse content \u001B[39m\u001B[38;5;132;01m{\u001B[39;00mresponse\u001B[38;5;241m.\u001B[39mcontent\u001B[38;5;132;01m}\u001B[39;00m\u001B[38;5;124m, status_code \u001B[39m\u001B[38;5;132;01m{\u001B[39;00mresponse\u001B[38;5;241m.\u001B[39mstatus_code\u001B[38;5;132;01m}\u001B[39;00m\u001B[38;5;124m\"\u001B[39m\n",
       "\u001B[1;32m    128\u001B[0m     )\n",
       "\u001B[1;32m    129\u001B[0m \u001B[38;5;28;01mreturn\u001B[39;00m response\u001B[38;5;241m.\u001B[39mjson()\n",
       "\n",
       "\u001B[0;31mException\u001B[0m: Response content b'{\"error_code\":\"ALREADY_EXISTS\",\"message\":\"Vector search endpoint vector-search-demo-endpoint already exists. Please try again with a different endpoint name.\"}', status_code 409"
      ]
     },
     "metadata": {
      "application/vnd.databricks.v1+output": {
       "arguments": {},
       "data": "\u001B[0;31m---------------------------------------------------------------------------\u001B[0m\n\u001B[0;31mHTTPError\u001B[0m                                 Traceback (most recent call last)\nFile \u001B[0;32m/local_disk0/.ephemeral_nfs/envs/pythonEnv-cf4ea018-c031-4169-be54-a5499b2024df/lib/python3.10/site-packages/databricks/vector_search/utils.py:123\u001B[0m, in \u001B[0;36mRequestUtils.issue_request\u001B[0;34m(url, token, method, params, json, verify)\u001B[0m\n\u001B[1;32m    122\u001B[0m \u001B[38;5;28;01mtry\u001B[39;00m:\n\u001B[0;32m--> 123\u001B[0m     \u001B[43mresponse\u001B[49m\u001B[38;5;241;43m.\u001B[39;49m\u001B[43mraise_for_status\u001B[49m\u001B[43m(\u001B[49m\u001B[43m)\u001B[49m\n\u001B[1;32m    124\u001B[0m \u001B[38;5;28;01mexcept\u001B[39;00m \u001B[38;5;167;01mException\u001B[39;00m \u001B[38;5;28;01mas\u001B[39;00m e:\n\nFile \u001B[0;32m/local_disk0/.ephemeral_nfs/envs/pythonEnv-cf4ea018-c031-4169-be54-a5499b2024df/lib/python3.10/site-packages/requests/models.py:1021\u001B[0m, in \u001B[0;36mResponse.raise_for_status\u001B[0;34m(self)\u001B[0m\n\u001B[1;32m   1020\u001B[0m \u001B[38;5;28;01mif\u001B[39;00m http_error_msg:\n\u001B[0;32m-> 1021\u001B[0m     \u001B[38;5;28;01mraise\u001B[39;00m HTTPError(http_error_msg, response\u001B[38;5;241m=\u001B[39m\u001B[38;5;28mself\u001B[39m)\n\n\u001B[0;31mHTTPError\u001B[0m: 409 Client Error: Conflict for url: https://eastus-c3.azuredatabricks.net/api/2.0/vector-search/endpoints\n\nDuring handling of the above exception, another exception occurred:\n\n\u001B[0;31mException\u001B[0m                                 Traceback (most recent call last)\nFile \u001B[0;32m<command-3694651593041720>, line 1\u001B[0m\n\u001B[0;32m----> 1\u001B[0m \u001B[43mvsc\u001B[49m\u001B[38;5;241;43m.\u001B[39;49m\u001B[43mcreate_endpoint\u001B[49m\u001B[43m(\u001B[49m\n\u001B[1;32m      2\u001B[0m \u001B[43m    \u001B[49m\u001B[43mname\u001B[49m\u001B[38;5;241;43m=\u001B[39;49m\u001B[43mvector_search_endpoint_name\u001B[49m\u001B[43m,\u001B[49m\n\u001B[1;32m      3\u001B[0m \u001B[43m    \u001B[49m\u001B[43mendpoint_type\u001B[49m\u001B[38;5;241;43m=\u001B[39;49m\u001B[38;5;124;43m\"\u001B[39;49m\u001B[38;5;124;43mSTANDARD\u001B[39;49m\u001B[38;5;124;43m\"\u001B[39;49m\n\u001B[1;32m      4\u001B[0m \u001B[43m)\u001B[49m\n\nFile \u001B[0;32m/local_disk0/.ephemeral_nfs/envs/pythonEnv-cf4ea018-c031-4169-be54-a5499b2024df/lib/python3.10/site-packages/databricks/vector_search/client.py:108\u001B[0m, in \u001B[0;36mVectorSearchClient.create_endpoint\u001B[0;34m(self, name, endpoint_type)\u001B[0m\n\u001B[1;32m    106\u001B[0m logging\u001B[38;5;241m.\u001B[39minfo(\u001B[38;5;124mf\u001B[39m\u001B[38;5;124m\"\u001B[39m\u001B[38;5;124mCreating endpoint: \u001B[39m\u001B[38;5;132;01m{\u001B[39;00mname\u001B[38;5;132;01m}\u001B[39;00m\u001B[38;5;124m\"\u001B[39m)\n\u001B[1;32m    107\u001B[0m json_data \u001B[38;5;241m=\u001B[39m {\u001B[38;5;124m\"\u001B[39m\u001B[38;5;124mname\u001B[39m\u001B[38;5;124m\"\u001B[39m: name, \u001B[38;5;124m\"\u001B[39m\u001B[38;5;124mendpoint_type\u001B[39m\u001B[38;5;124m\"\u001B[39m: endpoint_type}\n\u001B[0;32m--> 108\u001B[0m \u001B[38;5;28;01mreturn\u001B[39;00m \u001B[43mRequestUtils\u001B[49m\u001B[38;5;241;43m.\u001B[39;49m\u001B[43missue_request\u001B[49m\u001B[43m(\u001B[49m\n\u001B[1;32m    109\u001B[0m \u001B[43m    \u001B[49m\u001B[43murl\u001B[49m\u001B[38;5;241;43m=\u001B[39;49m\u001B[38;5;124;43mf\u001B[39;49m\u001B[38;5;124;43m\"\u001B[39;49m\u001B[38;5;132;43;01m{\u001B[39;49;00m\u001B[38;5;28;43mself\u001B[39;49m\u001B[38;5;241;43m.\u001B[39;49m\u001B[43mworkspace_url\u001B[49m\u001B[38;5;132;43;01m}\u001B[39;49;00m\u001B[38;5;124;43m/api/2.0/vector-search/endpoints\u001B[39;49m\u001B[38;5;124;43m\"\u001B[39;49m\u001B[43m,\u001B[49m\n\u001B[1;32m    110\u001B[0m \u001B[43m    \u001B[49m\u001B[43mtoken\u001B[49m\u001B[38;5;241;43m=\u001B[39;49m\u001B[38;5;28;43mself\u001B[39;49m\u001B[38;5;241;43m.\u001B[39;49m\u001B[43m_get_token_for_request\u001B[49m\u001B[43m(\u001B[49m\u001B[43m)\u001B[49m\u001B[43m,\u001B[49m\n\u001B[1;32m    111\u001B[0m \u001B[43m    \u001B[49m\u001B[43mmethod\u001B[49m\u001B[38;5;241;43m=\u001B[39;49m\u001B[38;5;124;43m\"\u001B[39;49m\u001B[38;5;124;43mPOST\u001B[39;49m\u001B[38;5;124;43m\"\u001B[39;49m\u001B[43m,\u001B[49m\n\u001B[1;32m    112\u001B[0m \u001B[43m    \u001B[49m\u001B[43mjson\u001B[49m\u001B[38;5;241;43m=\u001B[39;49m\u001B[43mjson_data\u001B[49m\u001B[43m,\u001B[49m\n\u001B[1;32m    113\u001B[0m \u001B[43m\u001B[49m\u001B[43m)\u001B[49m\n\nFile \u001B[0;32m/local_disk0/.ephemeral_nfs/envs/pythonEnv-cf4ea018-c031-4169-be54-a5499b2024df/lib/python3.10/site-packages/databricks/vector_search/utils.py:126\u001B[0m, in \u001B[0;36mRequestUtils.issue_request\u001B[0;34m(url, token, method, params, json, verify)\u001B[0m\n\u001B[1;32m    124\u001B[0m \u001B[38;5;28;01mexcept\u001B[39;00m \u001B[38;5;167;01mException\u001B[39;00m \u001B[38;5;28;01mas\u001B[39;00m e:\n\u001B[1;32m    125\u001B[0m     logging\u001B[38;5;241m.\u001B[39mwarn(\u001B[38;5;124mf\u001B[39m\u001B[38;5;124m\"\u001B[39m\u001B[38;5;124mError processing request \u001B[39m\u001B[38;5;132;01m{\u001B[39;00me\u001B[38;5;132;01m}\u001B[39;00m\u001B[38;5;124m\"\u001B[39m)\n\u001B[0;32m--> 126\u001B[0m     \u001B[38;5;28;01mraise\u001B[39;00m \u001B[38;5;167;01mException\u001B[39;00m(\n\u001B[1;32m    127\u001B[0m         \u001B[38;5;124mf\u001B[39m\u001B[38;5;124m\"\u001B[39m\u001B[38;5;124mResponse content \u001B[39m\u001B[38;5;132;01m{\u001B[39;00mresponse\u001B[38;5;241m.\u001B[39mcontent\u001B[38;5;132;01m}\u001B[39;00m\u001B[38;5;124m, status_code \u001B[39m\u001B[38;5;132;01m{\u001B[39;00mresponse\u001B[38;5;241m.\u001B[39mstatus_code\u001B[38;5;132;01m}\u001B[39;00m\u001B[38;5;124m\"\u001B[39m\n\u001B[1;32m    128\u001B[0m     )\n\u001B[1;32m    129\u001B[0m \u001B[38;5;28;01mreturn\u001B[39;00m response\u001B[38;5;241m.\u001B[39mjson()\n\n\u001B[0;31mException\u001B[0m: Response content b'{\"error_code\":\"ALREADY_EXISTS\",\"message\":\"Vector search endpoint vector-search-demo-endpoint already exists. Please try again with a different endpoint name.\"}', status_code 409",
       "errorSummary": "<span class='ansi-red-fg'>Exception</span>: Response content b'{\"error_code\":\"ALREADY_EXISTS\",\"message\":\"Vector search endpoint vector-search-demo-endpoint already exists. Please try again with a different endpoint name.\"}', status_code 409",
       "errorTraceType": "ansi",
       "metadata": {},
       "type": "ipynbError"
      }
     },
     "output_type": "display_data"
    }
   ],
   "source": [
    "vsc.create_endpoint(\n",
    "    name=vector_search_endpoint_name,\n",
    "    endpoint_type=\"STANDARD\"\n",
    ")"
   ]
  },
  {
   "cell_type": "code",
   "execution_count": 0,
   "metadata": {
    "application/vnd.databricks.v1+cell": {
     "cellMetadata": {
      "byteLimit": 2048000,
      "rowLimit": 10000
     },
     "inputWidgets": {},
     "nuid": "b96c3894-7ff4-46d2-b7e2-1fe784a9073d",
     "showTitle": false,
     "title": ""
    }
   },
   "outputs": [
    {
     "output_type": "execute_result",
     "data": {
      "text/plain": [
       "{'name': 'vector-search-demo-endpoint',\n",
       " 'creator': 'hema.verma@mngenvmcap040685.onmicrosoft.com',\n",
       " 'creation_timestamp': 1707500999351,\n",
       " 'last_updated_timestamp': 1707500999351,\n",
       " 'endpoint_type': 'STANDARD',\n",
       " 'last_updated_user': 'hema.verma@mngenvmcap040685.onmicrosoft.com',\n",
       " 'id': 'f4ccadd6-e96a-43b5-b62e-e38a7e3030a3',\n",
       " 'endpoint_status': {'state': 'ONLINE'},\n",
       " 'num_indexes': 1,\n",
       " 'units': 1}"
      ]
     },
     "execution_count": 10,
     "metadata": {},
     "output_type": "execute_result"
    }
   ],
   "source": [
    "endpoint = vsc.get_endpoint(\n",
    "  name=vector_search_endpoint_name)\n",
    "endpoint"
   ]
  },
  {
   "cell_type": "markdown",
   "metadata": {
    "application/vnd.databricks.v1+cell": {
     "cellMetadata": {},
     "inputWidgets": {},
     "nuid": "256a5458-4ead-48ea-88e0-e111b23f5aa9",
     "showTitle": false,
     "title": ""
    }
   },
   "source": [
    "## Create vector index"
   ]
  },
  {
   "cell_type": "code",
   "execution_count": 0,
   "metadata": {
    "application/vnd.databricks.v1+cell": {
     "cellMetadata": {
      "byteLimit": 2048000,
      "rowLimit": 10000
     },
     "inputWidgets": {},
     "nuid": "54d2f971-869b-4544-b2f1-36ef86aca309",
     "showTitle": false,
     "title": ""
    }
   },
   "outputs": [],
   "source": [
    "# Vector index\n",
    "vs_index = \"product_vsindex\"\n",
    "vs_index_fullname = f\"{source_catalog}.{source_schema}.{vs_index}\"\n",
    "embedding_model_endpoint = \"databricks-bge-large-en\"\n"
   ]
  },
  {
   "cell_type": "code",
   "execution_count": 0,
   "metadata": {
    "application/vnd.databricks.v1+cell": {
     "cellMetadata": {
      "byteLimit": 2048000,
      "rowLimit": 10000
     },
     "inputWidgets": {},
     "nuid": "3068ca7c-185c-4c75-8edb-dcbe2117263b",
     "showTitle": false,
     "title": ""
    }
   },
   "outputs": [
    {
     "output_type": "stream",
     "name": "stderr",
     "output_type": "stream",
     "text": [
      "WARNING:root:Error processing request 400 Client Error: Bad Request for url: https://eastus-c3.azuredatabricks.net/api/2.0/vector-search/endpoints/vector-search-demo-endpoint/indexes\n"
     ]
    },
    {
     "output_type": "display_data",
     "data": {
      "text/plain": [
       "\u001B[0;31m---------------------------------------------------------------------------\u001B[0m\n",
       "\u001B[0;31mHTTPError\u001B[0m                                 Traceback (most recent call last)\n",
       "File \u001B[0;32m/local_disk0/.ephemeral_nfs/envs/pythonEnv-cf4ea018-c031-4169-be54-a5499b2024df/lib/python3.10/site-packages/databricks/vector_search/utils.py:123\u001B[0m, in \u001B[0;36mRequestUtils.issue_request\u001B[0;34m(url, token, method, params, json, verify)\u001B[0m\n",
       "\u001B[1;32m    122\u001B[0m \u001B[38;5;28;01mtry\u001B[39;00m:\n",
       "\u001B[0;32m--> 123\u001B[0m     \u001B[43mresponse\u001B[49m\u001B[38;5;241;43m.\u001B[39;49m\u001B[43mraise_for_status\u001B[49m\u001B[43m(\u001B[49m\u001B[43m)\u001B[49m\n",
       "\u001B[1;32m    124\u001B[0m \u001B[38;5;28;01mexcept\u001B[39;00m \u001B[38;5;167;01mException\u001B[39;00m \u001B[38;5;28;01mas\u001B[39;00m e:\n",
       "\n",
       "File \u001B[0;32m/local_disk0/.ephemeral_nfs/envs/pythonEnv-cf4ea018-c031-4169-be54-a5499b2024df/lib/python3.10/site-packages/requests/models.py:1021\u001B[0m, in \u001B[0;36mResponse.raise_for_status\u001B[0;34m(self)\u001B[0m\n",
       "\u001B[1;32m   1020\u001B[0m \u001B[38;5;28;01mif\u001B[39;00m http_error_msg:\n",
       "\u001B[0;32m-> 1021\u001B[0m     \u001B[38;5;28;01mraise\u001B[39;00m HTTPError(http_error_msg, response\u001B[38;5;241m=\u001B[39m\u001B[38;5;28mself\u001B[39m)\n",
       "\n",
       "\u001B[0;31mHTTPError\u001B[0m: 400 Client Error: Bad Request for url: https://eastus-c3.azuredatabricks.net/api/2.0/vector-search/endpoints/vector-search-demo-endpoint/indexes\n",
       "\n",
       "During handling of the above exception, another exception occurred:\n",
       "\n",
       "\u001B[0;31mException\u001B[0m                                 Traceback (most recent call last)\n",
       "File \u001B[0;32m<command-3694651593041725>, line 1\u001B[0m\n",
       "\u001B[0;32m----> 1\u001B[0m index \u001B[38;5;241m=\u001B[39m vsc\u001B[38;5;241m.\u001B[39mcreate_delta_sync_index(\n",
       "\u001B[1;32m      2\u001B[0m   endpoint_name\u001B[38;5;241m=\u001B[39mvector_search_endpoint_name,\n",
       "\u001B[1;32m      3\u001B[0m   source_table_name\u001B[38;5;241m=\u001B[39msource_table_fullname,\n",
       "\u001B[1;32m      4\u001B[0m   index_name\u001B[38;5;241m=\u001B[39mvs_index_fullname,\n",
       "\u001B[1;32m      5\u001B[0m   pipeline_type\u001B[38;5;241m=\u001B[39m\u001B[38;5;124m'\u001B[39m\u001B[38;5;124mTRIGGERED\u001B[39m\u001B[38;5;124m'\u001B[39m,\n",
       "\u001B[1;32m      6\u001B[0m   primary_key\u001B[38;5;241m=\u001B[39m\u001B[38;5;124m\"\u001B[39m\u001B[38;5;124mid\u001B[39m\u001B[38;5;124m\"\u001B[39m,\n",
       "\u001B[1;32m      7\u001B[0m   embedding_source_column\u001B[38;5;241m=\u001B[39m\u001B[38;5;124m\"\u001B[39m\u001B[38;5;124mcontent\u001B[39m\u001B[38;5;124m\"\u001B[39m,\n",
       "\u001B[1;32m      8\u001B[0m   embedding_model_endpoint_name\u001B[38;5;241m=\u001B[39membedding_model_endpoint\n",
       "\u001B[1;32m      9\u001B[0m )\n",
       "\u001B[1;32m     10\u001B[0m index\u001B[38;5;241m.\u001B[39mdescribe()\n",
       "\n",
       "File \u001B[0;32m/local_disk0/.ephemeral_nfs/envs/pythonEnv-cf4ea018-c031-4169-be54-a5499b2024df/lib/python3.10/site-packages/databricks/vector_search/client.py:188\u001B[0m, in \u001B[0;36mVectorSearchClient.create_delta_sync_index\u001B[0;34m(self, endpoint_name, index_name, primary_key, source_table_name, pipeline_type, embedding_dimension, embedding_vector_column, embedding_source_column, embedding_model_endpoint_name)\u001B[0m\n",
       "\u001B[1;32m    179\u001B[0m     \u001B[38;5;28;01massert\u001B[39;00m embedding_model_endpoint_name, \\\n",
       "\u001B[1;32m    180\u001B[0m         \u001B[38;5;124m\"\u001B[39m\u001B[38;5;124mYou must specify Embedding Model Endpoint\u001B[39m\u001B[38;5;124m\"\u001B[39m\n",
       "\u001B[1;32m    181\u001B[0m     json_data[\u001B[38;5;124m\"\u001B[39m\u001B[38;5;124mdelta_sync_index_spec\u001B[39m\u001B[38;5;124m\"\u001B[39m][\u001B[38;5;124m\"\u001B[39m\u001B[38;5;124membedding_source_columns\u001B[39m\u001B[38;5;124m\"\u001B[39m] \u001B[38;5;241m=\u001B[39m [\n",
       "\u001B[1;32m    182\u001B[0m         {\n",
       "\u001B[1;32m    183\u001B[0m             \u001B[38;5;124m\"\u001B[39m\u001B[38;5;124mname\u001B[39m\u001B[38;5;124m\"\u001B[39m: embedding_source_column,\n",
       "\u001B[1;32m    184\u001B[0m             \u001B[38;5;124m\"\u001B[39m\u001B[38;5;124membedding_model_endpoint_name\u001B[39m\u001B[38;5;124m\"\u001B[39m: embedding_model_endpoint_name\n",
       "\u001B[1;32m    185\u001B[0m         }\n",
       "\u001B[1;32m    186\u001B[0m     ]\n",
       "\u001B[0;32m--> 188\u001B[0m resp \u001B[38;5;241m=\u001B[39m \u001B[43mRequestUtils\u001B[49m\u001B[38;5;241;43m.\u001B[39;49m\u001B[43missue_request\u001B[49m\u001B[43m(\u001B[49m\n",
       "\u001B[1;32m    189\u001B[0m \u001B[43m    \u001B[49m\u001B[43murl\u001B[49m\u001B[38;5;241;43m=\u001B[39;49m\u001B[38;5;124;43mf\u001B[39;49m\u001B[38;5;124;43m\"\u001B[39;49m\u001B[38;5;132;43;01m{\u001B[39;49;00m\u001B[38;5;28;43mself\u001B[39;49m\u001B[38;5;241;43m.\u001B[39;49m\u001B[43mworkspace_url\u001B[49m\u001B[38;5;132;43;01m}\u001B[39;49;00m\u001B[38;5;124;43m/api/2.0/vector-search/endpoints/\u001B[39;49m\u001B[38;5;132;43;01m{\u001B[39;49;00m\u001B[43mendpoint_name\u001B[49m\u001B[38;5;132;43;01m}\u001B[39;49;00m\u001B[38;5;124;43m/indexes\u001B[39;49m\u001B[38;5;124;43m\"\u001B[39;49m\u001B[43m,\u001B[49m\n",
       "\u001B[1;32m    190\u001B[0m \u001B[43m    \u001B[49m\u001B[43mtoken\u001B[49m\u001B[38;5;241;43m=\u001B[39;49m\u001B[38;5;28;43mself\u001B[39;49m\u001B[38;5;241;43m.\u001B[39;49m\u001B[43m_get_token_for_request\u001B[49m\u001B[43m(\u001B[49m\u001B[43m)\u001B[49m\u001B[43m,\u001B[49m\n",
       "\u001B[1;32m    191\u001B[0m \u001B[43m    \u001B[49m\u001B[43mmethod\u001B[49m\u001B[38;5;241;43m=\u001B[39;49m\u001B[38;5;124;43m\"\u001B[39;49m\u001B[38;5;124;43mPOST\u001B[39;49m\u001B[38;5;124;43m\"\u001B[39;49m\u001B[43m,\u001B[49m\n",
       "\u001B[1;32m    192\u001B[0m \u001B[43m    \u001B[49m\u001B[43mjson\u001B[49m\u001B[38;5;241;43m=\u001B[39;49m\u001B[43mjson_data\u001B[49m\u001B[43m,\u001B[49m\n",
       "\u001B[1;32m    193\u001B[0m \u001B[43m\u001B[49m\u001B[43m)\u001B[49m\n",
       "\u001B[1;32m    195\u001B[0m index_url \u001B[38;5;241m=\u001B[39m resp\u001B[38;5;241m.\u001B[39mget(\u001B[38;5;124m'\u001B[39m\u001B[38;5;124mstatus\u001B[39m\u001B[38;5;124m'\u001B[39m, {})\u001B[38;5;241m.\u001B[39mget(\u001B[38;5;124m'\u001B[39m\u001B[38;5;124mindex_url\u001B[39m\u001B[38;5;124m'\u001B[39m)\n",
       "\u001B[1;32m    196\u001B[0m \u001B[38;5;28;01mreturn\u001B[39;00m VectorSearchIndex(\n",
       "\u001B[1;32m    197\u001B[0m     workspace_url\u001B[38;5;241m=\u001B[39m\u001B[38;5;28mself\u001B[39m\u001B[38;5;241m.\u001B[39mworkspace_url,\n",
       "\u001B[1;32m    198\u001B[0m     index_url\u001B[38;5;241m=\u001B[39mindex_url,\n",
       "\u001B[0;32m   (...)\u001B[0m\n",
       "\u001B[1;32m    205\u001B[0m     azure_login_id\u001B[38;5;241m=\u001B[39m\u001B[38;5;28mself\u001B[39m\u001B[38;5;241m.\u001B[39mazure_login_id\n",
       "\u001B[1;32m    206\u001B[0m )\n",
       "\n",
       "File \u001B[0;32m/local_disk0/.ephemeral_nfs/envs/pythonEnv-cf4ea018-c031-4169-be54-a5499b2024df/lib/python3.10/site-packages/databricks/vector_search/utils.py:126\u001B[0m, in \u001B[0;36mRequestUtils.issue_request\u001B[0;34m(url, token, method, params, json, verify)\u001B[0m\n",
       "\u001B[1;32m    124\u001B[0m \u001B[38;5;28;01mexcept\u001B[39;00m \u001B[38;5;167;01mException\u001B[39;00m \u001B[38;5;28;01mas\u001B[39;00m e:\n",
       "\u001B[1;32m    125\u001B[0m     logging\u001B[38;5;241m.\u001B[39mwarn(\u001B[38;5;124mf\u001B[39m\u001B[38;5;124m\"\u001B[39m\u001B[38;5;124mError processing request \u001B[39m\u001B[38;5;132;01m{\u001B[39;00me\u001B[38;5;132;01m}\u001B[39;00m\u001B[38;5;124m\"\u001B[39m)\n",
       "\u001B[0;32m--> 126\u001B[0m     \u001B[38;5;28;01mraise\u001B[39;00m \u001B[38;5;167;01mException\u001B[39;00m(\n",
       "\u001B[1;32m    127\u001B[0m         \u001B[38;5;124mf\u001B[39m\u001B[38;5;124m\"\u001B[39m\u001B[38;5;124mResponse content \u001B[39m\u001B[38;5;132;01m{\u001B[39;00mresponse\u001B[38;5;241m.\u001B[39mcontent\u001B[38;5;132;01m}\u001B[39;00m\u001B[38;5;124m, status_code \u001B[39m\u001B[38;5;132;01m{\u001B[39;00mresponse\u001B[38;5;241m.\u001B[39mstatus_code\u001B[38;5;132;01m}\u001B[39;00m\u001B[38;5;124m\"\u001B[39m\n",
       "\u001B[1;32m    128\u001B[0m     )\n",
       "\u001B[1;32m    129\u001B[0m \u001B[38;5;28;01mreturn\u001B[39;00m response\u001B[38;5;241m.\u001B[39mjson()\n",
       "\n",
       "\u001B[0;31mException\u001B[0m: Response content b'{\"error_code\":\"RESOURCE_ALREADY_EXISTS\",\"message\":\"UC entity vector_database.vector_search.product_vsindex already exists. Please use a unique name in UC for the index name.\"}', status_code 400"
      ]
     },
     "metadata": {
      "application/vnd.databricks.v1+output": {
       "arguments": {},
       "data": "\u001B[0;31m---------------------------------------------------------------------------\u001B[0m\n\u001B[0;31mHTTPError\u001B[0m                                 Traceback (most recent call last)\nFile \u001B[0;32m/local_disk0/.ephemeral_nfs/envs/pythonEnv-cf4ea018-c031-4169-be54-a5499b2024df/lib/python3.10/site-packages/databricks/vector_search/utils.py:123\u001B[0m, in \u001B[0;36mRequestUtils.issue_request\u001B[0;34m(url, token, method, params, json, verify)\u001B[0m\n\u001B[1;32m    122\u001B[0m \u001B[38;5;28;01mtry\u001B[39;00m:\n\u001B[0;32m--> 123\u001B[0m     \u001B[43mresponse\u001B[49m\u001B[38;5;241;43m.\u001B[39;49m\u001B[43mraise_for_status\u001B[49m\u001B[43m(\u001B[49m\u001B[43m)\u001B[49m\n\u001B[1;32m    124\u001B[0m \u001B[38;5;28;01mexcept\u001B[39;00m \u001B[38;5;167;01mException\u001B[39;00m \u001B[38;5;28;01mas\u001B[39;00m e:\n\nFile \u001B[0;32m/local_disk0/.ephemeral_nfs/envs/pythonEnv-cf4ea018-c031-4169-be54-a5499b2024df/lib/python3.10/site-packages/requests/models.py:1021\u001B[0m, in \u001B[0;36mResponse.raise_for_status\u001B[0;34m(self)\u001B[0m\n\u001B[1;32m   1020\u001B[0m \u001B[38;5;28;01mif\u001B[39;00m http_error_msg:\n\u001B[0;32m-> 1021\u001B[0m     \u001B[38;5;28;01mraise\u001B[39;00m HTTPError(http_error_msg, response\u001B[38;5;241m=\u001B[39m\u001B[38;5;28mself\u001B[39m)\n\n\u001B[0;31mHTTPError\u001B[0m: 400 Client Error: Bad Request for url: https://eastus-c3.azuredatabricks.net/api/2.0/vector-search/endpoints/vector-search-demo-endpoint/indexes\n\nDuring handling of the above exception, another exception occurred:\n\n\u001B[0;31mException\u001B[0m                                 Traceback (most recent call last)\nFile \u001B[0;32m<command-3694651593041725>, line 1\u001B[0m\n\u001B[0;32m----> 1\u001B[0m index \u001B[38;5;241m=\u001B[39m vsc\u001B[38;5;241m.\u001B[39mcreate_delta_sync_index(\n\u001B[1;32m      2\u001B[0m   endpoint_name\u001B[38;5;241m=\u001B[39mvector_search_endpoint_name,\n\u001B[1;32m      3\u001B[0m   source_table_name\u001B[38;5;241m=\u001B[39msource_table_fullname,\n\u001B[1;32m      4\u001B[0m   index_name\u001B[38;5;241m=\u001B[39mvs_index_fullname,\n\u001B[1;32m      5\u001B[0m   pipeline_type\u001B[38;5;241m=\u001B[39m\u001B[38;5;124m'\u001B[39m\u001B[38;5;124mTRIGGERED\u001B[39m\u001B[38;5;124m'\u001B[39m,\n\u001B[1;32m      6\u001B[0m   primary_key\u001B[38;5;241m=\u001B[39m\u001B[38;5;124m\"\u001B[39m\u001B[38;5;124mid\u001B[39m\u001B[38;5;124m\"\u001B[39m,\n\u001B[1;32m      7\u001B[0m   embedding_source_column\u001B[38;5;241m=\u001B[39m\u001B[38;5;124m\"\u001B[39m\u001B[38;5;124mcontent\u001B[39m\u001B[38;5;124m\"\u001B[39m,\n\u001B[1;32m      8\u001B[0m   embedding_model_endpoint_name\u001B[38;5;241m=\u001B[39membedding_model_endpoint\n\u001B[1;32m      9\u001B[0m )\n\u001B[1;32m     10\u001B[0m index\u001B[38;5;241m.\u001B[39mdescribe()\n\nFile \u001B[0;32m/local_disk0/.ephemeral_nfs/envs/pythonEnv-cf4ea018-c031-4169-be54-a5499b2024df/lib/python3.10/site-packages/databricks/vector_search/client.py:188\u001B[0m, in \u001B[0;36mVectorSearchClient.create_delta_sync_index\u001B[0;34m(self, endpoint_name, index_name, primary_key, source_table_name, pipeline_type, embedding_dimension, embedding_vector_column, embedding_source_column, embedding_model_endpoint_name)\u001B[0m\n\u001B[1;32m    179\u001B[0m     \u001B[38;5;28;01massert\u001B[39;00m embedding_model_endpoint_name, \\\n\u001B[1;32m    180\u001B[0m         \u001B[38;5;124m\"\u001B[39m\u001B[38;5;124mYou must specify Embedding Model Endpoint\u001B[39m\u001B[38;5;124m\"\u001B[39m\n\u001B[1;32m    181\u001B[0m     json_data[\u001B[38;5;124m\"\u001B[39m\u001B[38;5;124mdelta_sync_index_spec\u001B[39m\u001B[38;5;124m\"\u001B[39m][\u001B[38;5;124m\"\u001B[39m\u001B[38;5;124membedding_source_columns\u001B[39m\u001B[38;5;124m\"\u001B[39m] \u001B[38;5;241m=\u001B[39m [\n\u001B[1;32m    182\u001B[0m         {\n\u001B[1;32m    183\u001B[0m             \u001B[38;5;124m\"\u001B[39m\u001B[38;5;124mname\u001B[39m\u001B[38;5;124m\"\u001B[39m: embedding_source_column,\n\u001B[1;32m    184\u001B[0m             \u001B[38;5;124m\"\u001B[39m\u001B[38;5;124membedding_model_endpoint_name\u001B[39m\u001B[38;5;124m\"\u001B[39m: embedding_model_endpoint_name\n\u001B[1;32m    185\u001B[0m         }\n\u001B[1;32m    186\u001B[0m     ]\n\u001B[0;32m--> 188\u001B[0m resp \u001B[38;5;241m=\u001B[39m \u001B[43mRequestUtils\u001B[49m\u001B[38;5;241;43m.\u001B[39;49m\u001B[43missue_request\u001B[49m\u001B[43m(\u001B[49m\n\u001B[1;32m    189\u001B[0m \u001B[43m    \u001B[49m\u001B[43murl\u001B[49m\u001B[38;5;241;43m=\u001B[39;49m\u001B[38;5;124;43mf\u001B[39;49m\u001B[38;5;124;43m\"\u001B[39;49m\u001B[38;5;132;43;01m{\u001B[39;49;00m\u001B[38;5;28;43mself\u001B[39;49m\u001B[38;5;241;43m.\u001B[39;49m\u001B[43mworkspace_url\u001B[49m\u001B[38;5;132;43;01m}\u001B[39;49;00m\u001B[38;5;124;43m/api/2.0/vector-search/endpoints/\u001B[39;49m\u001B[38;5;132;43;01m{\u001B[39;49;00m\u001B[43mendpoint_name\u001B[49m\u001B[38;5;132;43;01m}\u001B[39;49;00m\u001B[38;5;124;43m/indexes\u001B[39;49m\u001B[38;5;124;43m\"\u001B[39;49m\u001B[43m,\u001B[49m\n\u001B[1;32m    190\u001B[0m \u001B[43m    \u001B[49m\u001B[43mtoken\u001B[49m\u001B[38;5;241;43m=\u001B[39;49m\u001B[38;5;28;43mself\u001B[39;49m\u001B[38;5;241;43m.\u001B[39;49m\u001B[43m_get_token_for_request\u001B[49m\u001B[43m(\u001B[49m\u001B[43m)\u001B[49m\u001B[43m,\u001B[49m\n\u001B[1;32m    191\u001B[0m \u001B[43m    \u001B[49m\u001B[43mmethod\u001B[49m\u001B[38;5;241;43m=\u001B[39;49m\u001B[38;5;124;43m\"\u001B[39;49m\u001B[38;5;124;43mPOST\u001B[39;49m\u001B[38;5;124;43m\"\u001B[39;49m\u001B[43m,\u001B[49m\n\u001B[1;32m    192\u001B[0m \u001B[43m    \u001B[49m\u001B[43mjson\u001B[49m\u001B[38;5;241;43m=\u001B[39;49m\u001B[43mjson_data\u001B[49m\u001B[43m,\u001B[49m\n\u001B[1;32m    193\u001B[0m \u001B[43m\u001B[49m\u001B[43m)\u001B[49m\n\u001B[1;32m    195\u001B[0m index_url \u001B[38;5;241m=\u001B[39m resp\u001B[38;5;241m.\u001B[39mget(\u001B[38;5;124m'\u001B[39m\u001B[38;5;124mstatus\u001B[39m\u001B[38;5;124m'\u001B[39m, {})\u001B[38;5;241m.\u001B[39mget(\u001B[38;5;124m'\u001B[39m\u001B[38;5;124mindex_url\u001B[39m\u001B[38;5;124m'\u001B[39m)\n\u001B[1;32m    196\u001B[0m \u001B[38;5;28;01mreturn\u001B[39;00m VectorSearchIndex(\n\u001B[1;32m    197\u001B[0m     workspace_url\u001B[38;5;241m=\u001B[39m\u001B[38;5;28mself\u001B[39m\u001B[38;5;241m.\u001B[39mworkspace_url,\n\u001B[1;32m    198\u001B[0m     index_url\u001B[38;5;241m=\u001B[39mindex_url,\n\u001B[0;32m   (...)\u001B[0m\n\u001B[1;32m    205\u001B[0m     azure_login_id\u001B[38;5;241m=\u001B[39m\u001B[38;5;28mself\u001B[39m\u001B[38;5;241m.\u001B[39mazure_login_id\n\u001B[1;32m    206\u001B[0m )\n\nFile \u001B[0;32m/local_disk0/.ephemeral_nfs/envs/pythonEnv-cf4ea018-c031-4169-be54-a5499b2024df/lib/python3.10/site-packages/databricks/vector_search/utils.py:126\u001B[0m, in \u001B[0;36mRequestUtils.issue_request\u001B[0;34m(url, token, method, params, json, verify)\u001B[0m\n\u001B[1;32m    124\u001B[0m \u001B[38;5;28;01mexcept\u001B[39;00m \u001B[38;5;167;01mException\u001B[39;00m \u001B[38;5;28;01mas\u001B[39;00m e:\n\u001B[1;32m    125\u001B[0m     logging\u001B[38;5;241m.\u001B[39mwarn(\u001B[38;5;124mf\u001B[39m\u001B[38;5;124m\"\u001B[39m\u001B[38;5;124mError processing request \u001B[39m\u001B[38;5;132;01m{\u001B[39;00me\u001B[38;5;132;01m}\u001B[39;00m\u001B[38;5;124m\"\u001B[39m)\n\u001B[0;32m--> 126\u001B[0m     \u001B[38;5;28;01mraise\u001B[39;00m \u001B[38;5;167;01mException\u001B[39;00m(\n\u001B[1;32m    127\u001B[0m         \u001B[38;5;124mf\u001B[39m\u001B[38;5;124m\"\u001B[39m\u001B[38;5;124mResponse content \u001B[39m\u001B[38;5;132;01m{\u001B[39;00mresponse\u001B[38;5;241m.\u001B[39mcontent\u001B[38;5;132;01m}\u001B[39;00m\u001B[38;5;124m, status_code \u001B[39m\u001B[38;5;132;01m{\u001B[39;00mresponse\u001B[38;5;241m.\u001B[39mstatus_code\u001B[38;5;132;01m}\u001B[39;00m\u001B[38;5;124m\"\u001B[39m\n\u001B[1;32m    128\u001B[0m     )\n\u001B[1;32m    129\u001B[0m \u001B[38;5;28;01mreturn\u001B[39;00m response\u001B[38;5;241m.\u001B[39mjson()\n\n\u001B[0;31mException\u001B[0m: Response content b'{\"error_code\":\"RESOURCE_ALREADY_EXISTS\",\"message\":\"UC entity vector_database.vector_search.product_vsindex already exists. Please use a unique name in UC for the index name.\"}', status_code 400",
       "errorSummary": "<span class='ansi-red-fg'>Exception</span>: Response content b'{\"error_code\":\"RESOURCE_ALREADY_EXISTS\",\"message\":\"UC entity vector_database.vector_search.product_vsindex already exists. Please use a unique name in UC for the index name.\"}', status_code 400",
       "errorTraceType": "ansi",
       "metadata": {},
       "type": "ipynbError"
      }
     },
     "output_type": "display_data"
    }
   ],
   "source": [
    "index = vsc.create_delta_sync_index(\n",
    "  endpoint_name=vector_search_endpoint_name,\n",
    "  source_table_name=source_table_fullname,\n",
    "  index_name=vs_index_fullname,\n",
    "  pipeline_type='TRIGGERED',\n",
    "  primary_key=\"id\",\n",
    "  embedding_source_column=\"content\",\n",
    "  embedding_model_endpoint_name=embedding_model_endpoint\n",
    ")\n",
    "index.describe()"
   ]
  },
  {
   "cell_type": "markdown",
   "metadata": {
    "application/vnd.databricks.v1+cell": {
     "cellMetadata": {},
     "inputWidgets": {},
     "nuid": "c33ef2c2-0af8-43d2-bb78-5013c79c2289",
     "showTitle": false,
     "title": ""
    }
   },
   "source": [
    "## Get a vector index  \n",
    "\n",
    "Use the get_index() method to retrieve the vector index object using the vector index name. You can also use the describe() method on the index object to see a summary of the index's configuration information."
   ]
  },
  {
   "cell_type": "code",
   "execution_count": 0,
   "metadata": {
    "application/vnd.databricks.v1+cell": {
     "cellMetadata": {
      "byteLimit": 2048000,
      "rowLimit": 10000
     },
     "inputWidgets": {},
     "nuid": "1d9c1bf2-1424-4f17-b530-84fc36b5fb30",
     "showTitle": false,
     "title": ""
    }
   },
   "outputs": [
    {
     "output_type": "execute_result",
     "data": {
      "text/plain": [
       "{'name': 'vector_database.vector_search.product_vsindex',\n",
       " 'endpoint_name': 'vector-search-demo-endpoint',\n",
       " 'primary_key': 'id',\n",
       " 'index_type': 'DELTA_SYNC',\n",
       " 'delta_sync_index_spec': {'source_table': 'vector_database.vector_search.product',\n",
       "  'embedding_source_columns': [{'name': 'content',\n",
       "    'embedding_model_endpoint_name': 'databricks-bge-large-en'}],\n",
       "  'pipeline_type': 'TRIGGERED',\n",
       "  'pipeline_id': '5ebe5888-5602-4924-bf68-c6001dfe1ce5'},\n",
       " 'status': {'detailed_state': 'ONLINE_NO_PENDING_UPDATE',\n",
       "  'message': 'Index creation succeeded. Check latest status: https://adb-2878440741389728.8.azuredatabricks.net/explore/data/vector_database/vector_search/product_vsindex',\n",
       "  'indexed_row_count': 108,\n",
       "  'triggered_update_status': {'last_processed_commit_version': 0,\n",
       "   'last_processed_commit_timestamp': '2024-02-20T05:46:13Z'},\n",
       "  'ready': True,\n",
       "  'index_url': 'adb-2878440741389728.8.azuredatabricks.net/api/2.0/vector-search/endpoints/vector-search-demo-endpoint/indexes/vector_database.vector_search.product_vsindex'},\n",
       " 'creator': 'hema.verma@mngenvmcap040685.onmicrosoft.com'}"
      ]
     },
     "execution_count": 19,
     "metadata": {},
     "output_type": "execute_result"
    }
   ],
   "source": [
    "index = vsc.get_index(endpoint_name=vector_search_endpoint_name, index_name=vs_index_fullname)\n",
    "index.describe()"
   ]
  }
 ],
 "metadata": {
  "application/vnd.databricks.v1+notebook": {
   "dashboards": [],
   "language": "python",
   "notebookMetadata": {
    "pythonIndentUnit": 4
   },
   "notebookName": "databricks_data_pipeline",
   "widgets": {}
  }
 },
 "nbformat": 4,
 "nbformat_minor": 0
}
