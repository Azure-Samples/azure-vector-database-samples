{
 "cells": [
  {
   "cell_type": "markdown",
   "metadata": {
    "application/vnd.databricks.v1+cell": {
     "cellMetadata": {
      "byteLimit": 2048000,
      "rowLimit": 10000
     },
     "inputWidgets": {},
     "nuid": "5e81a46e-d8e3-4b9c-b6fd-0e23bb661834",
     "showTitle": false,
     "title": ""
    }
   },
   "source": [
    "# Vector Search Python SDK example usage\n",
    "\n",
    "This notebook demonstrates usage of the Vector Search Python SDK, which provides a `VectorSearchClient` as a primary API for working with Vector Search.\n",
    "Alternatively, you may call the REST API directly.\n",
    "For additional documentation please review: \n",
    "https://learn.microsoft.com/en-us/azure/databricks/generative-ai/create-query-vector-search and \n",
    "https://www.databricks.com/blog/introducing-databricks-vector-search-public-preview\n",
    "\n",
    "**Requirements**: This notebook assumes you have the following:\n",
    "- Unity Catalog enabled workspace.\n",
    "- Serverless compute is enabled.\n",
    "- Source table Change Data Feed enabled. (If you are reading preexisting tables)\n",
    "- CREATE TABLE privileges on catalog schema(s) to create indexes.\n",
    "- Personal access tokens enabled."
   ]
  },
  {
   "cell_type": "code",
   "execution_count": null,
   "metadata": {
    "application/vnd.databricks.v1+cell": {
     "cellMetadata": {
      "byteLimit": 2048000,
      "rowLimit": 10000
     },
     "inputWidgets": {},
     "nuid": "6733a370-82b3-4ff5-880b-eb0c3de811a0",
     "showTitle": false,
     "title": ""
    },
    "jupyter": {
     "outputs_hidden": true
    }
   },
   "outputs": [],
   "source": [
    "%pip install --upgrade --force-reinstall databricks-vectorsearch\n",
    "dbutils.library.restartPython()"
   ]
  },
  {
   "cell_type": "code",
   "execution_count": null,
   "metadata": {
    "application/vnd.databricks.v1+cell": {
     "cellMetadata": {
      "byteLimit": 2048000,
      "rowLimit": 10000
     },
     "inputWidgets": {},
     "nuid": "5e99d0eb-d219-46fd-a0bc-331502b7567a",
     "showTitle": false,
     "title": ""
    },
    "jupyter": {
     "outputs_hidden": true
    }
   },
   "outputs": [],
   "source": [
    "from databricks.vector_search.client import VectorSearchClient\n",
    "# Automatically generates a PAT Token for authentication\n",
    "vsc = VectorSearchClient()\n",
    "\n",
    "# Uses the service principal token for authentication\n",
    "# client = VectorSearch(service_principal_client_id=<CLIENT_ID>,service_principal_client_secret=<CLIENT_SECRET>)"
   ]
  },
  {
   "cell_type": "markdown",
   "metadata": {
    "application/vnd.databricks.v1+cell": {
     "cellMetadata": {
      "byteLimit": 2048000,
      "rowLimit": 10000
     },
     "inputWidgets": {},
     "nuid": "3400ac43-9095-4b72-ba33-378f9c8d7f4e",
     "showTitle": false,
     "title": ""
    }
   },
   "source": [
    "## Load sample dataset Products.json into source Delta table"
   ]
  },
  {
   "cell_type": "markdown",
   "metadata": {
    "application/vnd.databricks.v1+cell": {
     "cellMetadata": {
      "byteLimit": 2048000,
      "rowLimit": 10000
     },
     "inputWidgets": {},
     "nuid": "c16f4133-8a85-4106-9272-db9689a24084",
     "showTitle": false,
     "title": ""
    }
   },
   "source": [
    "The following creates the source Delta table."
   ]
  },
  {
   "cell_type": "code",
   "execution_count": null,
   "metadata": {
    "application/vnd.databricks.v1+cell": {
     "cellMetadata": {
      "byteLimit": 2048000,
      "rowLimit": 10000
     },
     "inputWidgets": {},
     "nuid": "742310e4-890c-4441-a82b-041d96e34be6",
     "showTitle": false,
     "title": ""
    }
   },
   "outputs": [],
   "source": [
    "source_catalog = \"vector_database\"\n",
    "source_schema = \"vector_search\"\n",
    "source_table = \"product\"\n",
    "source_table_fullname = f\"{source_catalog}.{source_schema}.{source_table}\""
   ]
  },
  {
   "cell_type": "code",
   "execution_count": null,
   "metadata": {
    "application/vnd.databricks.v1+cell": {
     "cellMetadata": {
      "byteLimit": 2048000,
      "rowLimit": 10000
     },
     "inputWidgets": {},
     "nuid": "a449568f-15ae-43be-bea9-9d5bcdec85db",
     "showTitle": false,
     "title": ""
    }
   },
   "outputs": [],
   "source": [
    "# Uncomment if you want to start from scratch by dropping the existing table.\n",
    "#spark.sql(f\"DROP TABLE {source_table_fullname}\")"
   ]
  },
  {
   "cell_type": "code",
   "execution_count": null,
   "metadata": {
    "application/vnd.databricks.v1+cell": {
     "cellMetadata": {
      "byteLimit": 2048000,
      "rowLimit": 10000
     },
     "inputWidgets": {},
     "nuid": "fcfbe7b8-0c19-4300-a67a-74d1d1fde6c4",
     "showTitle": false,
     "title": ""
    },
    "jupyter": {
     "outputs_hidden": true
    }
   },
   "outputs": [],
   "source": [
    "# Mount the ADLS storage location and specify the filepath.\n",
    "source_df =spark.read.option(\"multiline\",\"true\").json(\"dbfs:/mnt/<yourspecificfilepath>/product_docs.json\")\n",
    "display(source_df)"
   ]
  },
  {
   "cell_type": "code",
   "execution_count": null,
   "metadata": {
    "application/vnd.databricks.v1+cell": {
     "cellMetadata": {
      "byteLimit": 2048000,
      "rowLimit": 10000
     },
     "inputWidgets": {},
     "nuid": "134057bd-18f8-4f2d-a5dd-e57148cbdbe8",
     "showTitle": false,
     "title": ""
    }
   },
   "outputs": [],
   "source": [
    "# Create a delta table in unity catalog with change data feed enabled\n",
    "source_df.write.format(\"delta\").option(\"delta.enableChangeDataFeed\", \"true\").saveAsTable(source_table_fullname)"
   ]
  },
  {
   "cell_type": "code",
   "execution_count": null,
   "metadata": {
    "application/vnd.databricks.v1+cell": {
     "cellMetadata": {
      "byteLimit": 2048000,
      "rowLimit": 10000
     },
     "inputWidgets": {},
     "nuid": "9328c952-505a-4e42-a033-1d763704c8dd",
     "showTitle": false,
     "title": ""
    },
    "jupyter": {
     "outputs_hidden": true
    }
   },
   "outputs": [],
   "source": [
    "# display(spark.sql(f\"SELECT * FROM {source_table_fullname}\"))"
   ]
  },
  {
   "cell_type": "markdown",
   "metadata": {
    "application/vnd.databricks.v1+cell": {
     "cellMetadata": {
      "byteLimit": 2048000,
      "rowLimit": 10000
     },
     "inputWidgets": {},
     "nuid": "8c2e2154-e8c4-45a1-bfb4-6e042503cbc3",
     "showTitle": false,
     "title": ""
    }
   },
   "source": [
    "\n",
    "## Create Vector Search Endpoint"
   ]
  },
  {
   "cell_type": "code",
   "execution_count": null,
   "metadata": {
    "application/vnd.databricks.v1+cell": {
     "cellMetadata": {
      "byteLimit": 2048000,
      "rowLimit": 10000
     },
     "inputWidgets": {},
     "nuid": "a0661dfe-77bd-441a-9558-35af188afd90",
     "showTitle": false,
     "title": ""
    }
   },
   "outputs": [],
   "source": [
    "vector_search_endpoint_name = \"vector-search-demo-endpoint\""
   ]
  },
  {
   "cell_type": "code",
   "execution_count": null,
   "metadata": {
    "application/vnd.databricks.v1+cell": {
     "cellMetadata": {
      "byteLimit": 2048000,
      "rowLimit": 10000
     },
     "inputWidgets": {},
     "nuid": "d7c4c12c-f297-408a-b343-2818a833bd79",
     "showTitle": false,
     "title": ""
    }
   },
   "outputs": [],
   "source": [
    "vsc.create_endpoint(\n",
    "    name=vector_search_endpoint_name,\n",
    "    endpoint_type=\"STANDARD\"\n",
    ")"
   ]
  },
  {
   "cell_type": "code",
   "execution_count": null,
   "metadata": {
    "application/vnd.databricks.v1+cell": {
     "cellMetadata": {
      "byteLimit": 2048000,
      "rowLimit": 10000
     },
     "inputWidgets": {},
     "nuid": "b96c3894-7ff4-46d2-b7e2-1fe784a9073d",
     "showTitle": false,
     "title": ""
    },
    "jupyter": {
     "outputs_hidden": true
    }
   },
   "outputs": [],
   "source": [
    "index = vsc.get_index(endpoint_name=vector_search_endpoint_name, index_name=vs_index_fullname)\n",
    "index.describe()"
   ]
  },
  {
   "cell_type": "markdown",
   "metadata": {
    "application/vnd.databricks.v1+cell": {
     "cellMetadata": {
      "byteLimit": 2048000,
      "rowLimit": 10000
     },
     "inputWidgets": {},
     "nuid": "9df95277-b198-40b9-8f9e-cd202de2ef3b",
     "showTitle": false,
     "title": ""
    }
   },
   "source": [
    "\n",
    "*** Please wait for the endpoint to be created before moving to the next step"
   ]
  },
  {
   "cell_type": "markdown",
   "metadata": {
    "application/vnd.databricks.v1+cell": {
     "cellMetadata": {
      "byteLimit": 2048000,
      "rowLimit": 10000
     },
     "inputWidgets": {},
     "nuid": "256a5458-4ead-48ea-88e0-e111b23f5aa9",
     "showTitle": false,
     "title": ""
    }
   },
   "source": [
    "## Create Vector Index"
   ]
  },
  {
   "cell_type": "code",
   "execution_count": null,
   "metadata": {
    "application/vnd.databricks.v1+cell": {
     "cellMetadata": {
      "byteLimit": 2048000,
      "rowLimit": 10000
     },
     "inputWidgets": {},
     "nuid": "54d2f971-869b-4544-b2f1-36ef86aca309",
     "showTitle": false,
     "title": ""
    }
   },
   "outputs": [],
   "source": [
    "# Vector index\n",
    "vs_index = \"product_vsindex\"\n",
    "vs_index_fullname = f\"{source_catalog}.{source_schema}.{vs_index}\"\n",
    "embedding_model_endpoint = \"databricks-bge-large-en\"\n"
   ]
  },
  {
   "cell_type": "code",
   "execution_count": null,
   "metadata": {
    "application/vnd.databricks.v1+cell": {
     "cellMetadata": {
      "byteLimit": 2048000,
      "rowLimit": 10000
     },
     "inputWidgets": {},
     "nuid": "3068ca7c-185c-4c75-8edb-dcbe2117263b",
     "showTitle": false,
     "title": ""
    },
    "jupyter": {
     "outputs_hidden": true
    }
   },
   "outputs": [],
   "source": [
    "index = vsc.create_delta_sync_index(\n",
    "  endpoint_name=vector_search_endpoint_name,\n",
    "  source_table_name=source_table_fullname,\n",
    "  index_name=vs_index_fullname,\n",
    "  pipeline_type='TRIGGERED',\n",
    "  primary_key=\"id\",\n",
    "  embedding_source_column=\"content\",\n",
    "  embedding_model_endpoint_name=embedding_model_endpoint\n",
    ")\n",
    "index.describe()"
   ]
  },
  {
   "cell_type": "markdown",
   "metadata": {
    "application/vnd.databricks.v1+cell": {
     "cellMetadata": {
      "byteLimit": 2048000,
      "rowLimit": 10000
     },
     "inputWidgets": {},
     "nuid": "e3680987-8a50-4215-b7d1-da086d6e59f4",
     "showTitle": false,
     "title": ""
    }
   },
   "source": [
    "\n",
    "*** Please wait for the Vector Index to be created before moving to the next step"
   ]
  },
  {
   "cell_type": "markdown",
   "metadata": {
    "application/vnd.databricks.v1+cell": {
     "cellMetadata": {
      "byteLimit": 2048000,
      "rowLimit": 10000
     },
     "inputWidgets": {},
     "nuid": "c33ef2c2-0af8-43d2-bb78-5013c79c2289",
     "showTitle": false,
     "title": ""
    }
   },
   "source": [
    "## Get a vector index  \n",
    "\n",
    "Use the get_index() method to retrieve the vector index object using the vector index name. You can also use the describe() method on the index object to see a summary of the index's configuration information."
   ]
  },
  {
   "cell_type": "code",
   "execution_count": null,
   "metadata": {
    "application/vnd.databricks.v1+cell": {
     "cellMetadata": {
      "byteLimit": 2048000,
      "rowLimit": 10000
     },
     "inputWidgets": {},
     "nuid": "1d9c1bf2-1424-4f17-b530-84fc36b5fb30",
     "showTitle": false,
     "title": ""
    },
    "jupyter": {
     "outputs_hidden": true
    }
   },
   "outputs": [],
   "source": [
    "index = vsc.get_index(endpoint_name=vector_search_endpoint_name, index_name=vs_index_fullname)\n",
    "index.describe()"
   ]
  },
  {
   "cell_type": "code",
   "execution_count": null,
   "metadata": {
    "application/vnd.databricks.v1+cell": {
     "cellMetadata": {
      "byteLimit": 2048000,
      "rowLimit": 10000
     },
     "inputWidgets": {},
     "nuid": "3c09c162-7efd-4d39-898d-290916325902",
     "showTitle": false,
     "title": ""
    }
   },
   "outputs": [],
   "source": [
    "# Wait for index to become online. Expect this command to take several minutes.\n",
    "import time\n",
    "while not index.describe().get('index_status').get('status').startswith('ONLINE'):\n",
    "  print(\"Waiting for index to be ONLINE...\")\n",
    "  time.sleep(5)\n",
    "print(\"Index is ONLINE\")\n",
    "index.describe()"
   ]
  },
  {
   "cell_type": "markdown",
   "metadata": {
    "application/vnd.databricks.v1+cell": {
     "cellMetadata": {
      "byteLimit": 2048000,
      "rowLimit": 10000
     },
     "inputWidgets": {},
     "nuid": "7dd05d56-5632-4ee1-ab41-9bc7d2e5bfe7",
     "showTitle": false,
     "title": ""
    }
   },
   "source": [
    "## Delete Vector Index"
   ]
  },
  {
   "cell_type": "code",
   "execution_count": null,
   "metadata": {
    "application/vnd.databricks.v1+cell": {
     "cellMetadata": {
      "byteLimit": 2048000,
      "rowLimit": 10000
     },
     "inputWidgets": {},
     "nuid": "157e0754-56eb-404f-8f0d-d02d5742a07b",
     "showTitle": false,
     "title": ""
    }
   },
   "outputs": [],
   "source": [
    "#vsc.delete_index(index_name=vs_index_fullname)"
   ]
  }
 ],
 "metadata": {
  "application/vnd.databricks.v1+notebook": {
   "dashboards": [],
   "language": "python",
   "notebookMetadata": {
    "pythonIndentUnit": 4
   },
   "notebookName": "databricks_data_pipeline",
   "widgets": {}
  },
  "language_info": {
   "name": "python"
  }
 },
 "nbformat": 4,
 "nbformat_minor": 0
}
