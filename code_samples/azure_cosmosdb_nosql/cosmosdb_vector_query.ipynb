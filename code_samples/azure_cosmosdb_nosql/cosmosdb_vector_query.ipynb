{
 "cells": [
  {
   "cell_type": "markdown",
   "metadata": {},
   "source": [
    "## Vector Search "
   ]
  },
  {
   "cell_type": "markdown",
   "metadata": {},
   "source": [
    "###  Libraries\n"
   ]
  },
  {
   "cell_type": "code",
   "execution_count": 52,
   "metadata": {},
   "outputs": [],
   "source": [
    "import json\n",
    "import datetime\n",
    "import time\n",
    "\n",
    "from azure.core.exceptions import AzureError\n",
    "from azure.core.credentials import AzureKeyCredential\n",
    "from azure.cosmos import exceptions, CosmosClient, PartitionKey\n",
    "from azure.search.documents import SearchClient\n",
    "from azure.search.documents.indexes import SearchIndexClient, SearchIndexerClient\n",
    "from azure.search.documents.models import (\n",
    "    QueryAnswerType,\n",
    "    QueryCaptionType,\n",
    "    QueryLanguage,\n",
    "    QueryType,\n",
    "    Vector  \n",
    ")\n",
    "from azure.search.documents.indexes.models import (\n",
    "    IndexingSchedule,\n",
    "    SearchIndex,\n",
    "    SearchIndexer,\n",
    "    SearchIndexerDataContainer,\n",
    "    SearchField,\n",
    "    SearchFieldDataType,\n",
    "    SearchableField,\n",
    "    SemanticConfiguration,\n",
    "    SimpleField,\n",
    "    SemanticField,\n",
    "    VectorSearch,\n",
    "   SearchIndexerDataSourceConnection,\n",
    "    \n",
    ")\n",
    "\n",
    "\n",
    "from tenacity import retry, wait_random_exponential, stop_after_attempt\n",
    "\n",
    "\n",
    "import os\n",
    "from dotenv import load_dotenv\n",
    "\n",
    "import openai\n",
    "from openai.embeddings_utils import  cosine_similarity\n"
   ]
  },
  {
   "cell_type": "markdown",
   "metadata": {},
   "source": [
    "### Enviromnent variables"
   ]
  },
  {
   "cell_type": "code",
   "execution_count": null,
   "metadata": {},
   "outputs": [],
   "source": [
    "\n",
    "load_dotenv()\n",
    "\n",
    "cosmos_db_api_endpoint  = os.getenv(\"cosmos_db_api_endpoint\")\n",
    "if cosmos_db_api_endpoint is None or cosmos_db_api_endpoint == \"\":\n",
    "    print(\"cosmos_db_api_endpoint environment variable not set.\")\n",
    "    exit()\n",
    "\n",
    "cosmos_db_api_key  = os.getenv(\"cosmos_db_api_key\")\n",
    "if cosmos_db_api_key is None or cosmos_db_api_key == \"\":\n",
    "    print(\"cosmos_db_api_key environment variable not set.\")\n",
    "    exit()\n",
    "\n",
    "cog_search_endpoint  = os.getenv(\"cog_search_endpoint\")\n",
    "if cog_search_endpoint is None or cog_search_endpoint == \"\":\n",
    "    print(\"cog_search_endpoint environment variable not set.\")\n",
    "    exit()\n",
    "\n",
    "cog_search_key  = os.getenv(\"cog_search_key\")\n",
    "if cog_search_key is None or cog_search_key == \"\":\n",
    "    print(\"cog_search_key environment variable not set.\")\n",
    "    exit()\n",
    "\n",
    "cosmos_db_connection_string  = os.getenv(\"cosmos_db_connection_string\")\n",
    "if cosmos_db_connection_string is None or cosmos_db_connection_string == \"\":\n",
    "    print(\"cosmos_db_connection_string environment variable not set.\")\n",
    "    exit()\n",
    "    \n",
    "aoai_embedding_deployed_model  = os.getenv(\"aoai_embedding_deployed_model\")\n",
    "if aoai_embedding_deployed_model is None or aoai_embedding_deployed_model == \"\":\n",
    "    print(\"aoai_embedding_deployed_model environment variable not set.\")\n",
    "    exit()\n",
    "azure_openai_key  = os.getenv(\"AZURE_OPENAI_KEY\")\n",
    "if azure_openai_key is None or azure_openai_key == \"\":\n",
    "    print(\"azure_openai_key environment variable not set.\")\n",
    "    exit()\n",
    "aoai_api_version  = os.getenv(\"AOAI_API_VERSION\")\n",
    "if aoai_api_version is None or aoai_api_version == \"\":\n",
    "    print(\"aoai_api_version environment variable not set.\")\n",
    "    exit()    \n",
    "\n",
    "text_table_name = 'text_sample'\n",
    "doc_table_name = 'doc_sample'\n",
    "image_table_name = 'image_sample'\n",
    "\n",
    "database_name = \"Vector_DB\"\n",
    "credential = AzureKeyCredential(str(cog_search_key))\n"
   ]
  },
  {
   "cell_type": "markdown",
   "metadata": {},
   "source": [
    "#### Open AI"
   ]
  },
  {
   "cell_type": "code",
   "execution_count": null,
   "metadata": {},
   "outputs": [],
   "source": [
    "import openai\n",
    "from openai.embeddings_utils import  cosine_similarity\n",
    "\n",
    "\n",
    "openai.api_key = azure_openai_key\n",
    "openai.api_version = aoai_api_version\n"
   ]
  },
  {
   "cell_type": "markdown",
   "metadata": {},
   "source": [
    "#### Initialize the search"
   ]
  },
  {
   "cell_type": "code",
   "execution_count": 22,
   "metadata": {},
   "outputs": [],
   "source": [
    "# Initialize Cosmos DB client\n",
    "cosmos_client = CosmosClient(cosmos_db_api_endpoint, cosmos_db_api_key)\n",
    "database = cosmos_client.get_database_client(database_name)\n"
   ]
  },
  {
   "cell_type": "markdown",
   "metadata": {},
   "source": [
    "##### Embedding Function"
   ]
  },
  {
   "cell_type": "code",
   "execution_count": 39,
   "metadata": {},
   "outputs": [],
   "source": [
    "def get_embedding(text, model=aoai_embedding_deployed_model):\n",
    "   text = text.replace(\"\\n\", \" \")\n",
    "   return openai.embeddings.create(input = [text], model=model).data[0].embedding"
   ]
  },
  {
   "cell_type": "markdown",
   "metadata": {},
   "source": [
    "### Simple Vector Search\n",
    "##### You will use the index name that you created previously on the ingestion steps for the respectively containers\n"
   ]
  },
  {
   "cell_type": "markdown",
   "metadata": {},
   "source": [
    "#### Using Simple Search with Vector"
   ]
  },
  {
   "cell_type": "code",
   "execution_count": null,
   "metadata": {},
   "outputs": [],
   "source": [
    "\n",
    "#  Query Cosmos DB using Azure Cognitive Search\n",
    "\n",
    "container_name = 'text_sample'\n",
    "index_name = \"text_sample_index\"\n",
    "\n",
    "container = database.get_container_client(container_name)\n",
    "search_client = SearchClient(cog_search_endpoint, index_name, credential) \n",
    "\n",
    "# Perform Azure Cognitive Search query\n",
    "query = 'tools for software development'\n",
    "\n",
    "\n",
    "search_results = search_client.search(  \n",
    "        search_text=\"\",  \n",
    "        vector=Vector(value=get_embedding(query,  model=aoai_embedding_deployed_model), fields = \"content_vector\"),  \n",
    "        select=[\"title\", \"content\", \"category\", \"title_vector\", \"content_vector\"]\n",
    "    )\n",
    "\n",
    "\n",
    "for result in search_results:\n",
    "    print(f\"Title: {result['title']}\")\n",
    "    print(f\"Score: {result['@search.score']}\")\n",
    "    print(f\"Content: {result['content']}\")\n",
    "    print(f\"Category: {result['category']}\")\n"
   ]
  },
  {
   "cell_type": "markdown",
   "metadata": {},
   "source": [
    "#### Cross Search (Two columns)"
   ]
  },
  {
   "cell_type": "code",
   "execution_count": null,
   "metadata": {},
   "outputs": [],
   "source": [
    "container_name = \"text_sample\"\n",
    "index_name = \"text_sample_index\"\n",
    "\n",
    "container = database.get_container_client(container_name)\n",
    "search_client = SearchClient(cog_search_endpoint, index_name, credential) \n",
    "\n",
    "query = 'tools for software development'\n",
    "query_vector = get_embedding(query, model=aoai_embedding_deployed_model)\n",
    "\n",
    "# Perform Azure Cognitive Search query\n",
    "search_results = search_client.search(\n",
    "    search_text=query,\n",
    "    select=[\"title\", \"content\", \"category\", \"title_vector\", \"content_vector\"]\n",
    ")\n",
    "\n",
    "# Filter results in Python based on cosine similarity\n",
    "for result in search_results:\n",
    "    title_vector = result.get(\"title_vector\", None)\n",
    "    content_vector = result.get(\"content_vector\", None)\n",
    "\n",
    "    if title_vector is not None and content_vector is not None:\n",
    "        title_similarity = cosine_similarity(query_vector, title_vector)\n",
    "        content_similarity = cosine_similarity(query_vector, content_vector)\n",
    "\n",
    "        # Adjust the threshold as needed\n",
    "        if title_similarity > 0.7 or content_similarity > 0.7:\n",
    "            print(f\"Title: {result['title']}\")\n",
    "            print(f\"Score: {result['@search.score']}\")\n",
    "            print(f\"Content: {result['content']}\")\n",
    "            print(f\"Category: {result['category']}\")\n",
    "            print(f\"Title Cosine Similarity: {title_similarity}\")\n",
    "            print(f\"Content Cosine Similarity: {content_similarity}\\n\")\n",
    "    else:\n",
    "        print(f\"Skipping result with empty or missing vector.\\n\")\n"
   ]
  },
  {
   "cell_type": "markdown",
   "metadata": {},
   "source": [
    "### Hybrid search + Semantic Rank"
   ]
  },
  {
   "cell_type": "code",
   "execution_count": null,
   "metadata": {},
   "outputs": [],
   "source": [
    "##Enable the service: https://learn.microsoft.com/en-us/azure/search/semantic-how-to-enable-disable?tabs=enable-portal\n",
    "##Use the Semantic configuration defined at the Ingestion\n",
    "\n",
    "container_name = \"text_sample\"\n",
    "index_name = \"text_sample_index\"\n",
    "semantic_configuration = 'ConfigSemantictext'\n",
    "\n",
    "container = database.get_container_client(container_name)\n",
    "search_client = SearchClient(cog_search_endpoint, index_name, credential) \n",
    "\n",
    "query = 'Azure DevOps is a suite of services that help you plan'\n",
    "\n",
    "# Perform Azure Cognitive Search query\n",
    "search_results = search_client.search(\n",
    "    search_text=query,\n",
    "    select=[\"title\", \"content\", \"category\", \"title_vector\", \"content_vector\"],\n",
    "    query_type=QueryType.SEMANTIC, query_language=QueryLanguage.EN_US, semantic_configuration_name=semantic_configuration, query_caption=QueryCaptionType.EXTRACTIVE, query_answer=QueryAnswerType.EXTRACTIVE,\n",
    "    top=5\n",
    ")\n",
    "\n",
    "_answers = search_results.get_answers()\n",
    "for answer in _answers:\n",
    "    print(f\"Semantic Answer: {answer}\")\n",
    "    if answer.highlights:\n",
    "        print(f\"Semantic Answer highlight: {answer.highlights}\")\n",
    "    else:\n",
    "        print(f\"Semantic Answer Text : {answer.text}\")\n",
    "    print(f\"Semantic Answer Score: {answer.score}\\n\")\n",
    "\n",
    "\n",
    "# Filter results in Python based on cosine similarity\n",
    "for row in search_results:\n",
    "    print(f\"Title: {row['title']}\")\n",
    "    print(f\"Score: {row['@search.score']}\")\n",
    "    print(f\"Content: {row['content']}\")\n",
    "    print(f\"Category: {row['category']}\")\n",
    "\n",
    "    \n",
    "    captions = row[\"@search.captions\"]\n",
    "    if captions:\n",
    "        caption = captions[0]\n",
    "        if caption.highlights:\n",
    "            print(f\"Caption: {caption.highlights}\\n\")\n",
    "        else:\n",
    "            print(f\"Caption: {caption.text}\\n\")\n"
   ]
  },
  {
   "cell_type": "markdown",
   "metadata": {},
   "source": [
    "#### Document search example"
   ]
  },
  {
   "cell_type": "code",
   "execution_count": null,
   "metadata": {},
   "outputs": [],
   "source": [
    "container_name = 'doc_sample'\n",
    "index_name = \"doc_sample_index\"\n",
    "\n",
    "container = database.get_container_client(container_name)\n",
    "search_client = SearchClient(cog_search_endpoint, index_name, credential) \n",
    "\n",
    "#  Query Cosmos DB using Azure Cognitive Search\n",
    "\n",
    "query = 'web hosting services'\n",
    "\n",
    "search_results = search_client.search(  \n",
    "        search_text=\"\",  \n",
    "        vector=Vector(value=get_embedding(query,  engine=aoai_embedding_deployed_model), fields = \"chunk_content_vector\"),  \n",
    "        select=[\"chunk_content\", \"chunk_content_vector\"]\n",
    "    )\n",
    "\n",
    "\n",
    "for result in search_results:\n",
    "    print(f\"chunk_content: {result['chunk_content']}\")\n",
    "    print(f\"Score: {result['@search.score']}\")\n",
    "    print(f\"chunk_content_vector: {result['chunk_content_vector']}\")"
   ]
  },
  {
   "cell_type": "markdown",
   "metadata": {},
   "source": [
    "### Hybrid search + Semantic Rank"
   ]
  },
  {
   "cell_type": "code",
   "execution_count": null,
   "metadata": {},
   "outputs": [],
   "source": [
    "##Enable the service: https://learn.microsoft.com/en-us/azure/search/semantic-how-to-enable-disable?tabs=enable-portal\n",
    "##Use the Semantic configuration defined at the Ingestion\n",
    "\n",
    "container_name = \"doc_sample\"\n",
    "index_name = \"doc_sample_index\"\n",
    "semantic_configuration = 'ConfigSemanticdoc'\n",
    "\n",
    "container = database.get_container_client(container_name)\n",
    "search_client = SearchClient(cog_search_endpoint, index_name, credential) \n",
    "\n",
    "query = 'This policy applies to all Contoso Electronics employees'\n",
    "# Perform Azure Cognitive Search query with semantic search\n",
    "search_results = search_client.search(\n",
    "    search_text=query,\n",
    "    select=[\"chunk_content\", \"chunk_content_vector\"],\n",
    "    query_type=QueryType.SEMANTIC, query_language=QueryLanguage.EN_US, semantic_configuration_name=semantic_configuration, query_caption=QueryCaptionType.EXTRACTIVE, query_answer=QueryAnswerType.EXTRACTIVE,\n",
    "    top=5\n",
    ")\n",
    "\n",
    "\n",
    "_answers = search_results.get_answers()\n",
    "for answer in _answers:\n",
    "    print(f\"Semantic Answer: {answer}\")\n",
    "    if answer.highlights:\n",
    "        print(f\"Semantic Answer highlight: {answer.highlights}\")\n",
    "    else:\n",
    "        print(f\"Semantic Answer Text : {answer.text}\")\n",
    "    print(f\"Semantic Answer Score: {answer.score}\\n\")\n",
    "\n",
    "# Filter results in Python based on cosine similarity\n",
    "for row in search_results:\n",
    "    print(f\"chunk_content: {row['chunk_content']}\")\n",
    "    print(f\"Score: {row['@search.score']}\")\n",
    "    print(f\"chunk_content_vector: {row['chunk_content_vector']}\")\n",
    "    \n",
    "    captions = row[\"@search.captions\"]\n",
    "    if captions:\n",
    "        caption = captions[0]\n",
    "        if caption.highlights:\n",
    "            print(f\"Caption: {caption.highlights}\\n\")\n",
    "        else:\n",
    "            print(f\"Caption: {caption.text}\\n\")\n",
    "\n",
    "\n"
   ]
  }
 ],
 "metadata": {
  "kernelspec": {
   "display_name": "postgresql",
   "language": "python",
   "name": "python3"
  },
  "language_info": {
   "codemirror_mode": {
    "name": "ipython",
    "version": 3
   },
   "file_extension": ".py",
   "mimetype": "text/x-python",
   "name": "python",
   "nbconvert_exporter": "python",
   "pygments_lexer": "ipython3",
   "version": "3.12.1"
  },
  "orig_nbformat": 4
 },
 "nbformat": 4,
 "nbformat_minor": 2
}
