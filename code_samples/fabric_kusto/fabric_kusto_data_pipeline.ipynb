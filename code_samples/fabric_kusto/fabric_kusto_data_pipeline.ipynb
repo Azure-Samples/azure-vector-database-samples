{
 "cells": [
  {
   "attachments": {},
   "cell_type": "markdown",
   "metadata": {},
   "source": [
    "## Data Pipeline - Fabric Real-Time Analytics(Kusto) using Python SDK\n",
    "\n",
    "### Prerequisites\n",
    "  \n",
    "- Generate embeddings - [generate_embeddings.ipynb](../../common/generate_embeddings.ipynb) "
   ]
  },
  {
   "attachments": {},
   "cell_type": "markdown",
   "metadata": {},
   "source": [
    "#### Set environment variables"
   ]
  },
  {
   "cell_type": "code",
   "execution_count": null,
   "metadata": {},
   "outputs": [],
   "source": [
    "import os\n",
    "from dotenv import load_dotenv\n",
    "\n",
    "load_dotenv()\n",
    "\n",
    "kdb_cluster_name  = os.getenv(\"KUSTO_CLUSTER_NAME\")\n",
    "if kdb_cluster_name is None or kdb_cluster_name == \"\":\n",
    "    print(\"KUSTO_CLUSTER_NAME environment variable not set.\")\n",
    "    exit()\n",
    "\n",
    "kdb_database_name = os.getenv(\"KUSTO_DATABASE_NAME\")\n",
    "if kdb_database_name is None or kdb_database_name == \"\":\n",
    "    print(\"KUSTO_DATABASE_NAME environment variable not set.\")\n",
    "    exit()\n",
    "\n",
    "text_vectors_table = 'text-sample'\n",
    "doc_vectors_table = 'doc-sample'\n",
    "image_vectors_table = 'image-sample'\n"
   ]
  },
  {
   "cell_type": "code",
   "execution_count": null,
   "metadata": {},
   "outputs": [],
   "source": [
    "# (Optional) Set the env vars of service principal if authenticating with client-secret. \n",
    "kdb_client_id  = os.getenv(\"KUSTO_CLIENT_ID\")\n",
    "if kdb_client_id is None or kdb_client_id == \"\":\n",
    "    print(\"KUSTO_CLIENT_ID environment variable not set.\")\n",
    "    exit()\n",
    "\n",
    "kdb_client_secret  = os.getenv(\"KUSTO_CLIENT_SECRET\")\n",
    "if kdb_client_secret is None or kdb_client_secret == \"\":\n",
    "    print(\"KUSTO_CLIENT_SECRET environment variable not set.\")\n",
    "    exit()\n",
    "\n",
    "kdb_authority_id = os.getenv(\"KUSTO_AUTHORITY_ID\")\n",
    "if kdb_authority_id is None or kdb_authority_id == \"\":\n",
    "    print(\"KUSTO_AUTHORITY_ID environment variable not set.\")\n",
    "    exit()"
   ]
  },
  {
   "cell_type": "code",
   "execution_count": null,
   "metadata": {},
   "outputs": [],
   "source": [
    "from azure.kusto.data import KustoClient, KustoConnectionStringBuilder\n",
    "from azure.kusto.data.data_format import DataFormat\n",
    "from azure.kusto.data.helpers import dataframe_from_result_table\n",
    "\n",
    "from azure.kusto.ingest import (\n",
    "    ReportLevel,\n",
    "    IngestionProperties,\n",
    "    QueuedIngestClient,\n",
    ")\n",
    "\n",
    "cluster = f\"https://{kdb_cluster_name}.kusto.fabric.microsoft.com/\"\n",
    "ingest_cluster = f\"https://ingest-{kdb_cluster_name}.kusto.fabric.microsoft.com/\""
   ]
  },
  {
   "cell_type": "markdown",
   "metadata": {},
   "source": [
    "#### [Option 1] AAD Device Authentication"
   ]
  },
  {
   "cell_type": "code",
   "execution_count": null,
   "metadata": {},
   "outputs": [],
   "source": [
    "kcsb = KustoConnectionStringBuilder.with_aad_device_authentication(cluster)\n",
    "client = KustoClient(kcsb)\n",
    "\n",
    "ingestion_kcsb = KustoConnectionStringBuilder.with_aad_device_authentication(ingest_cluster)\n",
    "ingestion_client = QueuedIngestClient(ingestion_kcsb)"
   ]
  },
  {
   "cell_type": "markdown",
   "metadata": {},
   "source": [
    "#### [Option 2] Client-Secret Authentication \n",
    "To use client-secret authentication, you need to set the following environment variables in the `.env` file:\n",
    "```bash\n",
    "KUSTO_CLIENT_ID=<client id of the service principle>\n",
    "KUSTO_CLIENT_SECRET=<client secret of the service principle>\n",
    "KUSTO_AUTHORITY_ID=<authority id>\n",
    "```"
   ]
  },
  {
   "cell_type": "code",
   "execution_count": null,
   "metadata": {},
   "outputs": [],
   "source": [
    "kcsb = KustoConnectionStringBuilder.with_aad_application_key_authentication(cluster, kdb_client_id, kdb_client_secret, kdb_authority_id)\n",
    "client = KustoClient(kcsb)\n",
    "\n",
    "ingestion_kcsb = KustoConnectionStringBuilder.with_aad_application_key_authentication(ingest_cluster, kdb_client_id, kdb_client_secret, kdb_authority_id)\n",
    "ingestion_client = QueuedIngestClient(ingestion_kcsb)"
   ]
  },
  {
   "cell_type": "markdown",
   "metadata": {},
   "source": [
    "#### Create Tables for Storing vectors\n",
    "\n",
    "As Kusto databases currently doest not support HNSW indexes or other indexes suiting for similarity search, we will use tables to store vectors and then use built-in function `series_cosine_similarity_fl` in KQL(Kusto Query Language) to perform similarity search.\n",
    "\n",
    "The similarity is calculated during the query:\n",
    "```kql\n",
    "similarity=series_cosine_similarity_fl('{query_vector}', ['{target_vector_column}'], 1, 1)\n",
    "```"
   ]
  },
  {
   "cell_type": "code",
   "execution_count": null,
   "metadata": {},
   "outputs": [],
   "source": [
    "#### Create Tables\n",
    "\n",
    "CREATE_TEXT_TABLE_COMMAND = f\"\"\"\n",
    ".create table ['{text_vectors_table}'] (\n",
    "    ['id']:int, \n",
    "    ['title']:string, \n",
    "    ['content']:string, \n",
    "    ['category']:string, \n",
    "    ['title_vector']:dynamic, \n",
    "    ['content_vector']:dynamic\n",
    ")\n",
    "\"\"\"\n",
    "\n",
    "result = client.execute_mgmt(kdb_database_name, CREATE_TEXT_TABLE_COMMAND)\n",
    "dataframe_from_result_table(result.primary_results[0])\n",
    "\n",
    "CREATE_DOCS_TABLE_COMMAND = f\"\"\"\n",
    ".create table ['{doc_vectors_table}'] (\n",
    "    ['id']:int, \n",
    "    ['chunk_content']:string, \n",
    "    ['chunk_content_vector']:dynamic\n",
    ")\n",
    "\"\"\"\n",
    "\n",
    "result = client.execute_mgmt(kdb_database_name, CREATE_DOCS_TABLE_COMMAND)\n",
    "dataframe_from_result_table(result.primary_results[0])\n",
    "\n",
    "CREATE_IMAGE_TABLE_COMMAND = f\"\"\"\n",
    ".create table ['{image_vectors_table}'] (\n",
    "    ['id']:int, \n",
    "    ['image']:string, \n",
    "    ['image_vector']:dynamic\n",
    ")\n",
    "\"\"\"\n",
    "\n",
    "result = client.execute_mgmt(kdb_database_name, CREATE_IMAGE_TABLE_COMMAND)\n",
    "dataframe_from_result_table(result.primary_results[0])\n"
   ]
  },
  {
   "cell_type": "markdown",
   "metadata": {},
   "source": [
    "#### Ingest to text-sample"
   ]
  },
  {
   "cell_type": "code",
   "execution_count": null,
   "metadata": {},
   "outputs": [],
   "source": [
    "text_vectors_path = \"../data/text/product_docs_embeddings.json\"\n",
    "\n",
    "ingestion_props = IngestionProperties(\n",
    "    database=f\"{kdb_database_name}\",\n",
    "    table=f\"{text_vectors_table}\",\n",
    "    data_format=DataFormat.MULTIJSON,\n",
    "    report_level=ReportLevel.FailuresAndSuccesses,\n",
    ")\n",
    "\n",
    "ingestion_client.ingest_from_file(text_vectors_path, ingestion_properties=ingestion_props)"
   ]
  },
  {
   "cell_type": "markdown",
   "metadata": {},
   "source": [
    "#### Ingest to doc-sample"
   ]
  },
  {
   "cell_type": "code",
   "execution_count": null,
   "metadata": {},
   "outputs": [],
   "source": [
    "doc_vectors_path = \"../data/docs/employee_handbook_embeddings.json\"\n",
    "\n",
    "ingestion_props = IngestionProperties(\n",
    "    database=f\"{kdb_database_name}\",\n",
    "    table=f\"{doc_vectors_table}\",\n",
    "    data_format=DataFormat.MULTIJSON,\n",
    "    report_level=ReportLevel.FailuresAndSuccesses,\n",
    ")\n",
    "\n",
    "ingestion_client.ingest_from_file(doc_vectors_path, ingestion_properties=ingestion_props)"
   ]
  },
  {
   "cell_type": "markdown",
   "metadata": {},
   "source": [
    "#### Ingest to image-sample"
   ]
  },
  {
   "cell_type": "code",
   "execution_count": null,
   "metadata": {},
   "outputs": [],
   "source": [
    "image_vectors_path = \"../data/images/images_embeddings.json\"\n",
    "\n",
    "ingestion_props = IngestionProperties(\n",
    "    database=f\"{kdb_database_name}\",\n",
    "    table=f\"{image_vectors_table}\",\n",
    "    data_format=DataFormat.MULTIJSON,\n",
    "    report_level=ReportLevel.FailuresAndSuccesses,\n",
    ")\n",
    "\n",
    "ingestion_client.ingest_from_file(image_vectors_path, ingestion_properties=ingestion_props)"
   ]
  }
 ],
 "metadata": {
  "kernelspec": {
   "display_name": "Python 3",
   "language": "python",
   "name": "python3"
  },
  "language_info": {
   "codemirror_mode": {
    "name": "ipython",
    "version": 3
   },
   "file_extension": ".py",
   "mimetype": "text/x-python",
   "name": "python",
   "nbconvert_exporter": "python",
   "pygments_lexer": "ipython3",
   "version": "3.10.12"
  },
  "orig_nbformat": 4
 },
 "nbformat": 4,
 "nbformat_minor": 2
}
