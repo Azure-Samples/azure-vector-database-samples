{
 "cells": [
  {
   "attachments": {},
   "cell_type": "markdown",
   "metadata": {},
   "source": [
    "## Vector Search - Fabric Real-Time Analytics(Kusto) using Python SDK\n",
    "\n",
    "### Prerequisites\n",
    "  \n",
    "- Generate embeddings - [generate_embeddings.ipynb](../../common/generate_embeddings.ipynb) \n",
    "- Create Kusto Tables to store vectors and ingest embeddings - [fabric_kusto_data_pipeline.ipynb](./fabric_kusto_data_pipeline.ipynb)"
   ]
  },
  {
   "attachments": {},
   "cell_type": "markdown",
   "metadata": {},
   "source": [
    "#### Set environment variables"
   ]
  },
  {
   "cell_type": "code",
   "execution_count": null,
   "metadata": {},
   "outputs": [],
   "source": [
    "import os\n",
    "from dotenv import load_dotenv\n",
    "import openai\n",
    "\n",
    "load_dotenv()\n",
    "\n",
    "kdb_cluster_name  = os.getenv(\"KUSTO_CLUSTER_NAME\")\n",
    "if kdb_cluster_name is None or kdb_cluster_name == \"\":\n",
    "    print(\"KUSTO_CLUSTER_NAME environment variable not set.\")\n",
    "    exit()\n",
    "\n",
    "kdb_database_name = os.getenv(\"KUSTO_DATABASE_NAME\")\n",
    "if kdb_database_name is None or kdb_database_name == \"\":\n",
    "    print(\"KUSTO_DATABASE_NAME environment variable not set.\")\n",
    "    exit()\n",
    "\n",
    "aoai_endpoint  = os.getenv(\"AOAI_ENDPOINT\")\n",
    "if aoai_endpoint is None or aoai_endpoint == \"\":\n",
    "    print(\"AOAI_ENDPOINT environment variable not set.\")\n",
    "    exit()\n",
    "\n",
    "aoai_api_version  = os.getenv(\"AOAI_API_VERSION\")\n",
    "if aoai_api_version is None or aoai_api_version == \"\":\n",
    "    print(\"AOAI_API_VERSION environment variable not set.\")\n",
    "    exit()\n",
    "\n",
    "aoai_embedding_deployed_model  = os.getenv(\"AOAI_EMBEDDING_DEPLOYED_MODEL\")\n",
    "if aoai_embedding_deployed_model is None or aoai_embedding_deployed_model == \"\":\n",
    "    print(\"AOAI_EMBEDDING_DEPLOYED_MODEL environment variable not set.\")\n",
    "    exit()\n",
    "\n",
    "azure_openai_key  = os.getenv(\"AZURE_OPENAI_KEY\")\n",
    "if azure_openai_key is None or azure_openai_key == \"\":\n",
    "    print(\"AZURE_OPENAI_KEY environment variable not set.\")\n",
    "    exit()\n",
    "\n",
    "com_vision_endpoint  = os.getenv(\"COM_VISION_ENDPOINT\")\n",
    "if com_vision_endpoint is None or com_vision_endpoint == \"\":\n",
    "    print(\"COM_VISION_ENDPOINT environment variable not set.\")\n",
    "    exit()\n",
    "\n",
    "com_vision_api_version  = os.getenv(\"COM_VISION_API_VERSION\")\n",
    "if com_vision_api_version is None or com_vision_api_version == \"\":\n",
    "    print(\"COM_VISION_API_VERSION environment variable not set.\")\n",
    "    exit()\n",
    "\n",
    "com_vision_key  = os.getenv(\"COM_VISION_KEY\")\n",
    "if com_vision_key is None or com_vision_key == \"\":\n",
    "    print(\"COM_VISION_KEY environment variable not set.\")\n",
    "    exit()\n",
    "\n",
    "text_index_name = 'text-sample'\n",
    "doc_index_name = 'doc-sample'\n",
    "image_index_name = 'image-sample'\n",
    "\n",
    "openai.api_type = \"azure\"\n",
    "openai.api_key = azure_openai_key\n",
    "openai.api_base = aoai_endpoint\n",
    "openai.api_version = aoai_api_version"
   ]
  },
  {
   "cell_type": "code",
   "execution_count": null,
   "metadata": {},
   "outputs": [],
   "source": [
    "# (Optional) Set the env vars of service principal if authenticating with client-secret. \n",
    "kdb_client_id  = os.getenv(\"KUSTO_CLIENT_ID\")\n",
    "if kdb_client_id is None or kdb_client_id == \"\":\n",
    "    print(\"KUSTO_CLIENT_ID environment variable not set.\")\n",
    "    exit()\n",
    "\n",
    "kdb_client_secret  = os.getenv(\"KUSTO_CLIENT_SECRET\")\n",
    "if kdb_client_secret is None or kdb_client_secret == \"\":\n",
    "    print(\"KUSTO_CLIENT_SECRET environment variable not set.\")\n",
    "    exit()\n",
    "\n",
    "kdb_authority_id = os.getenv(\"KUSTO_AUTHORITY_ID\")\n",
    "if kdb_authority_id is None or kdb_authority_id == \"\":\n",
    "    print(\"KUSTO_AUTHORITY_ID environment variable not set.\")\n",
    "    exit()"
   ]
  },
  {
   "cell_type": "code",
   "execution_count": null,
   "metadata": {},
   "outputs": [],
   "source": [
    "import requests\n",
    "\n",
    "import matplotlib.pyplot as plt\n",
    "from openai import AzureOpenAI\n",
    "from PIL import Image\n",
    "\n",
    "from azure.kusto.data import KustoClient, KustoConnectionStringBuilder\n",
    "from azure.kusto.data.helpers import dataframe_from_result_table\n",
    "\n",
    "\n",
    "cluster = f\"https://{kdb_cluster_name}.kusto.fabric.microsoft.com/\""
   ]
  },
  {
   "cell_type": "markdown",
   "metadata": {},
   "source": [
    "#### [Option 1] AAD Device Authentication"
   ]
  },
  {
   "cell_type": "code",
   "execution_count": null,
   "metadata": {},
   "outputs": [],
   "source": [
    "kcsb = KustoConnectionStringBuilder.with_aad_device_authentication(cluster)\n",
    "client = KustoClient(kcsb)"
   ]
  },
  {
   "cell_type": "markdown",
   "metadata": {},
   "source": [
    "#### [Option 2] Client-Secret Authentication \n",
    "To use client-secret authentication, you need to set the following environment variables in the `.env` file:\n",
    "```bash\n",
    "KUSTO_CLIENT_ID=<client id of the service principle>\n",
    "KUSTO_CLIENT_SECRET=<client secret of the service principle>\n",
    "KUSTO_AUTHORITY_ID=<authority id>\n",
    "```"
   ]
  },
  {
   "cell_type": "code",
   "execution_count": null,
   "metadata": {},
   "outputs": [],
   "source": [
    "kcsb = KustoConnectionStringBuilder.with_aad_application_key_authentication(cluster, kdb_client_id, kdb_client_secret, kdb_authority_id)\n",
    "client = KustoClient(kcsb)"
   ]
  },
  {
   "cell_type": "markdown",
   "metadata": {},
   "source": [
    "#### Helper methods\n",
    "The native KQL function `series_cosine_similarity` was used in `search_kusto` method to calculate the cosine similarity between the input vector and the vectors stored in the Kusto table. For more details, please check [here](https://learn.microsoft.com/en-us/azure/data-explorer/kusto/query/series-cosine-similarity-function)."
   ]
  },
  {
   "cell_type": "code",
   "execution_count": null,
   "metadata": {},
   "outputs": [],
   "source": [
    "def search_kusto(\n",
    "    kusto_client: KustoClient,\n",
    "    kusto_db: str,\n",
    "    query_vector: list,\n",
    "    index_name: str,\n",
    "    vector_fields: list, \n",
    "    key_field: str = \"id\",\n",
    "    return_fields: list = [],\n",
    "    k: int = 20,\n",
    "    filter: str = ''\n",
    "):\n",
    "    if not vector_fields: \n",
    "        raise(\"vector_field is required\")\n",
    "    \n",
    "    queries = []\n",
    "    for v_field in vector_fields:\n",
    "        queries.append(f\"\"\"\n",
    "        let {v_field}_view = view() {{ \n",
    "            ['{index_name}'] \n",
    "            | summarize arg_max(ingestion_time(), *) by ['{key_field}'] \n",
    "            | extend similarity=series_cosine_similarity(dynamic({query_vector}), ['{v_field}'])\n",
    "        }};\n",
    "        \"\"\")\n",
    "        \n",
    "    QUERY = f\"\".join(queries) + f\"\"\"\n",
    "    union withsource = '{index_name}' {\",\".join([f\"{v_field}_view\" for v_field in vector_fields])}\n",
    "    \"\"\"\n",
    "    \n",
    "    QUERY += f\"\"\"\n",
    "    | top {k} by similarity desc\n",
    "    \"\"\"\n",
    "    \n",
    "    if return_fields:\n",
    "        QUERY += f\"\"\"\n",
    "        | project {\",\".join([ f\"['{field}']\" for field in return_fields])}\n",
    "        \"\"\"\n",
    "    \n",
    "    if filter:\n",
    "        QUERY += f\"\"\"\n",
    "        | where {filter}\n",
    "        \"\"\"\n",
    "\n",
    "    result = kusto_client.execute_query(kusto_db, QUERY)\n",
    "\n",
    "    df = dataframe_from_result_table(result.primary_results[0])\n",
    "    return df\n",
    "\n",
    "\n",
    "def vectorize_text_com_vision(com_vision_endpoint,com_vision_key,query):\n",
    "    vectorize_text_url = f\"{com_vision_endpoint}/computervision/retrieval:vectorizeText\"  \n",
    "    params = {  \n",
    "        \"api-version\": com_vision_api_version  \n",
    "    } \n",
    "    headers = {  \n",
    "        \"Content-Type\": \"application/json\",  \n",
    "        \"Ocp-Apim-Subscription-Key\": com_vision_key  \n",
    "    }  \n",
    "    data = {\n",
    "        'text': query\n",
    "    }\n",
    "\n",
    "    response = requests.post(vectorize_text_url, params=params, headers=headers, json=data)\n",
    "    query_vector = response.json()[\"vector\"]\n",
    "\n",
    "    return query_vector\n",
    "\n",
    "def show_image(image_folder, image):\n",
    "    image_path = os.path.join(image_folder, image)\n",
    "    plt.imshow(Image.open(image_path))\n",
    "    plt.axis('off')\n",
    "    plt.show()"
   ]
  },
  {
   "cell_type": "markdown",
   "metadata": {},
   "source": [
    "#### Simple vector search\n",
    "\n",
    "This demo shows how to apply vector search on single field."
   ]
  },
  {
   "cell_type": "code",
   "execution_count": null,
   "metadata": {},
   "outputs": [],
   "source": [
    "azure_oai_client = AzureOpenAI(\n",
    "  api_key = azure_openai_key,  \n",
    "  api_version = aoai_api_version,\n",
    "  azure_endpoint = aoai_endpoint\n",
    ")\n",
    "\n",
    "query = 'find me a distributed system'\n",
    "query_vector = azure_oai_client.embeddings.create(input = [query], model=aoai_embedding_deployed_model).data[0].embedding\n",
    "\n",
    "vector_field = \"content_vector\"\n",
    "return_fields = [\"title\", \"category\", \"content\", \"similarity\"]\n",
    "\n",
    "results_df = search_kusto(client, \n",
    "                       kusto_db=kdb_database_name, \n",
    "                       query_vector=query_vector, \n",
    "                       index_name=text_index_name, \n",
    "                       vector_fields=[vector_field], \n",
    "                       return_fields=return_fields,\n",
    "                       k=5\n",
    ")\n",
    "\n",
    "results_df"
   ]
  },
  {
   "cell_type": "markdown",
   "metadata": {},
   "source": [
    "#### Metadata filtering with vector search\n",
    "\n",
    "This demo shows how to apply metadata filtering (SQL - where, order by etc.) on top of vector search."
   ]
  },
  {
   "cell_type": "code",
   "execution_count": null,
   "metadata": {},
   "outputs": [],
   "source": [
    "query = 'find me a distributed system'\n",
    "query_vector = azure_oai_client.embeddings.create(input = [query], model=aoai_embedding_deployed_model).data[0].embedding\n",
    "\n",
    "vector_field = \"content_vector\"\n",
    "return_fields = [\"title\", \"category\", \"content\", \"similarity\"]\n",
    "\n",
    "filter = \"category == 'Compute'\"\n",
    "\n",
    "results_df = search_kusto(client, \n",
    "                       kusto_db=kdb_database_name, \n",
    "                       query_vector=query_vector, \n",
    "                       index_name=text_index_name, \n",
    "                       vector_fields=[vector_field], \n",
    "                       return_fields=return_fields,\n",
    "                       filter=filter\n",
    "\n",
    ")\n",
    "\n",
    "results_df"
   ]
  },
  {
   "cell_type": "markdown",
   "metadata": {},
   "source": [
    "#### Cross column vector search\n",
    "\n",
    "This demo shows how to apply vector search on multiple columns."
   ]
  },
  {
   "cell_type": "code",
   "execution_count": null,
   "metadata": {},
   "outputs": [],
   "source": [
    "query = 'find me a distributed system'\n",
    "query_vector = azure_oai_client.embeddings.create(input = [query], model=aoai_embedding_deployed_model).data[0].embedding\n",
    "\n",
    "vector_fields = [\"title_vector\", \"content_vector\"]\n",
    "return_fields = [\"title\", \"category\", \"content\", \"similarity\"]\n",
    "\n",
    "results_df = search_kusto(client, \n",
    "                       kusto_db=kdb_database_name, \n",
    "                       query_vector=query_vector, \n",
    "                       index_name=text_index_name, \n",
    "                       vector_fields=vector_fields, \n",
    "                       return_fields=return_fields,\n",
    "                       k=5\n",
    ")\n",
    "\n",
    "results_df"
   ]
  },
  {
   "cell_type": "markdown",
   "metadata": {},
   "source": [
    "#### Document search example\n",
    "\n",
    "This demo shows how to apply vector search for srarching within documents."
   ]
  },
  {
   "cell_type": "code",
   "execution_count": null,
   "metadata": {},
   "outputs": [],
   "source": [
    "\n",
    "query = 'when are performance review announced?'\n",
    "query_vector = azure_oai_client.embeddings.create(input = [query], model=aoai_embedding_deployed_model).data[0].embedding\n",
    "\n",
    "vector_fields = [\"chunk_content_vector\"]\n",
    "return_fields = [\"chunk_content\", \"similarity\"]\n",
    "\n",
    "results_df = search_kusto(client, \n",
    "                       kusto_db=kdb_database_name, \n",
    "                       query_vector=query_vector, \n",
    "                       index_name=doc_index_name, \n",
    "                       vector_fields=vector_fields, \n",
    "                       return_fields=return_fields,\n",
    "                       k=5\n",
    ")\n",
    "\n",
    "results_df"
   ]
  },
  {
   "cell_type": "markdown",
   "metadata": {},
   "source": [
    "#### Image search example\n",
    "\n",
    "This demo shows how to apply vector search for searching images."
   ]
  },
  {
   "cell_type": "code",
   "execution_count": null,
   "metadata": {},
   "outputs": [],
   "source": [
    "query = 'white flower'\n",
    "query_vector = vectorize_text_com_vision(com_vision_endpoint,com_vision_key,query)\n",
    "\n",
    "vector_fields = [\"image_vector\"]\n",
    "return_fields = [\"image\", \"similarity\"]\n",
    "\n",
    "results_df = search_kusto(client, \n",
    "                       kusto_db=kdb_database_name, \n",
    "                       query_vector=query_vector, \n",
    "                       index_name=image_index_name, \n",
    "                       vector_fields=vector_fields, \n",
    "                       return_fields=return_fields,\n",
    "                       k=1\n",
    ")\n",
    "\n",
    "image_folder = \"../data/images\"\n",
    "for image in results_df['image']:\n",
    "    show_image(image_folder, image)\n",
    "    print(\"\\n\")\n"
   ]
  }
 ],
 "metadata": {
  "kernelspec": {
   "display_name": "Python 3",
   "language": "python",
   "name": "python3"
  },
  "language_info": {
   "codemirror_mode": {
    "name": "ipython",
    "version": 3
   },
   "file_extension": ".py",
   "mimetype": "text/x-python",
   "name": "python",
   "nbconvert_exporter": "python",
   "pygments_lexer": "ipython3",
   "version": "3.10.12"
  },
  "orig_nbformat": 4
 },
 "nbformat": 4,
 "nbformat_minor": 2
}
