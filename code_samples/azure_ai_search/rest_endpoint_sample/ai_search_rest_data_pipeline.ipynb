{
 "cells": [
  {
   "attachments": {},
   "cell_type": "markdown",
   "metadata": {},
   "source": [
    "## Data Pipeline - Azure AI Search using REST Endpoint\n",
    "\n",
    "The samples uses Azure AI Search API Version _2023-11-01_.\n",
    "\n",
    "### Prerequisites\n",
    "  \n",
    "- Generate embeddings - [generate_embeddings.ipynb](../../common/generate_embeddings.ipynb) "
   ]
  },
  {
   "attachments": {},
   "cell_type": "markdown",
   "metadata": {},
   "source": [
    "#### Set environment variables"
   ]
  },
  {
   "cell_type": "code",
   "execution_count": null,
   "metadata": {},
   "outputs": [],
   "source": [
    "import os\n",
    "from dotenv import load_dotenv\n",
    "\n",
    "load_dotenv()\n",
    "\n",
    "ais_endpoint  = os.getenv(\"AIS_ENDPOINT\")\n",
    "if ais_endpoint is None or ais_endpoint == \"\":\n",
    "    print(\"AIS_ENDPOINT environment variable not set.\")\n",
    "    exit(1)\n",
    "\n",
    "ais_api_version  = os.getenv(\"AIS_API_VERSION\")\n",
    "if ais_api_version is None or ais_api_version == \"\":\n",
    "    print(\"AIS_API_VERSION environment variable not set.\")\n",
    "    exit(1)\n",
    "\n",
    "ais_key  = os.getenv(\"AIS_KEY\")\n",
    "if ais_key is None or ais_key == \"\":\n",
    "    print(\"AIS_KEY environment variable not set.\")\n",
    "    exit(1)\n",
    "\n",
    "ais_index_definition_text = 'index_definition/index_definition_text.json'\n",
    "ais_index_definition_doc = 'index_definition/index_definition_doc.json'\n",
    "ais_index_definition_image = 'index_definition/index_definition_image.json'"
   ]
  },
  {
   "cell_type": "markdown",
   "metadata": {},
   "source": [
    "#### Helper methods"
   ]
  },
  {
   "cell_type": "code",
   "execution_count": null,
   "metadata": {},
   "outputs": [],
   "source": [
    "import requests\n",
    "import json\n",
    "\n",
    "def insert_record(ais_endpoint, ais_index, data, ais_key, ais_api_version):\n",
    "    url = f\"{ais_endpoint}/indexes/{ais_index}/docs/index?api-version={ais_api_version}\"\n",
    "    headers = {\n",
    "        \"Content-Type\": \"application/json\",\n",
    "        \"api-key\": ais_key\n",
    "    }    \n",
    "    response = requests.post(url, data=data, headers=headers)\n",
    "    print(response.status_code)\n",
    "    print(response.content)\n",
    "\n",
    "def create_index(ais_endpoint, json_content, index_name, api_key, ais_api_version):\n",
    "    url = f\"{ais_endpoint}/indexes/{index_name}?api-version={ais_api_version}\"\n",
    "    headers = {\n",
    "        \"Content-Type\": \"application/json\",\n",
    "        \"api-key\": api_key\n",
    "    }\n",
    "    response = requests.request('PUT', url, headers=headers, data=json_content)\n",
    "    print(response.status_code)\n",
    "    print(response.content)\n",
    "\n",
    "def get_ais_index_name(ais_index_definition):\n",
    "    index_json_content = read_json_file(ais_index_definition)\n",
    "    index_json = json.loads(index_json_content)\n",
    "    index_name = index_json['name']\n",
    "\n",
    "    return index_name\n",
    "\n",
    "def read_json_file(file_path):\n",
    "    with open(file_path, \"r\") as file:\n",
    "        return file.read()"
   ]
  },
  {
   "cell_type": "markdown",
   "metadata": {},
   "source": [
    "#### Create AI Search index\n",
    "\n",
    "- [Add vector fields to a search index](https://learn.microsoft.com/en-us/azure/search/vector-search-how-to-create-index)"
   ]
  },
  {
   "cell_type": "code",
   "execution_count": null,
   "metadata": {},
   "outputs": [],
   "source": [
    "## Create text_sample index\n",
    "index_definition = read_json_file(ais_index_definition_text)\n",
    "index_name = get_ais_index_name(ais_index_definition_text)\n",
    "\n",
    "create_index(ais_endpoint, index_definition, index_name, ais_key, ais_api_version)\n",
    "\n",
    "## Create doc_sample index\n",
    "index_definition = read_json_file(ais_index_definition_doc)\n",
    "index_name = get_ais_index_name(ais_index_definition_doc)\n",
    "\n",
    "create_index(ais_endpoint, index_definition, index_name, ais_key, ais_api_version)\n",
    "\n",
    "## Create image_sample index\n",
    "index_definition = read_json_file(ais_index_definition_image)\n",
    "index_name = get_ais_index_name(ais_index_definition_image)\n",
    "\n",
    "create_index(ais_endpoint, index_definition, index_name, ais_key, ais_api_version)"
   ]
  },
  {
   "cell_type": "markdown",
   "metadata": {},
   "source": [
    "#### Ingest text sample with embeddings\n",
    "\n",
    "This cell first prepares a dataframe that has similar columns as the AI Search Index. If the dataframe doesn't have the same columns (column names or numbers) as the Index, add a preprocessing step to structure the dataframe according to the Index columns."
   ]
  },
  {
   "cell_type": "code",
   "execution_count": null,
   "metadata": {},
   "outputs": [],
   "source": [
    "import requests\n",
    "import json\n",
    "import pandas as pd\n",
    "\n",
    "text_df = pd.read_json('../../data/text/product_docs_embeddings.json')\n",
    "index_name = get_ais_index_name(ais_index_definition_text)\n",
    "\n",
    "batch_size = 10\n",
    "total_records = text_df.shape[0]\n",
    "fields = text_df.columns.to_numpy()\n",
    "text_df['id'] = text_df['id'].astype(str)\n",
    "\n",
    "records = {\n",
    "    'value': []\n",
    "}\n",
    "\n",
    "for index, row in text_df.iterrows():\n",
    "    record = {}\n",
    "    for field in fields:\n",
    "            record[field] = row[field]\n",
    "\n",
    "    records['value'].append(\n",
    "        record\n",
    "    )\n",
    "\n",
    "    if index % batch_size == 0 or (index+1 == total_records):\n",
    "        json_data = json.dumps(records)\n",
    "        insert_record(ais_endpoint, index_name, json_data, ais_key, ais_api_version)\n",
    "        records['value'] = []"
   ]
  },
  {
   "cell_type": "markdown",
   "metadata": {},
   "source": [
    "#### Ingest doc sample with embeddings\n",
    "\n",
    "This cell first prepares a dataframe that has similar columns as the AI Search Index. If the dataframe doesn't have the same columns (column names or numbers) as the Index, add a preprocessing step to structure the dataframe according to the Index columns."
   ]
  },
  {
   "cell_type": "code",
   "execution_count": null,
   "metadata": {},
   "outputs": [],
   "source": [
    "doc_df = pd.read_json('../../data/docs/employee_handbook_embeddings.json')\n",
    "index_name = get_ais_index_name(ais_index_definition_doc)\n",
    "\n",
    "batch_size = 10\n",
    "total_records = doc_df.shape[0]\n",
    "fields = doc_df.columns.to_numpy()\n",
    "doc_df['id'] = doc_df['id'].astype(str)\n",
    "\n",
    "records = {\n",
    "    'value': []\n",
    "}\n",
    "\n",
    "for index, row in doc_df.iterrows():\n",
    "    record = {}\n",
    "    for field in fields:\n",
    "            record[field] = row[field]\n",
    "\n",
    "    records['value'].append(\n",
    "        record\n",
    "    )\n",
    "\n",
    "    if index % batch_size == 0 or (index+1 == total_records):\n",
    "        json_data = json.dumps(records)\n",
    "        insert_record(ais_endpoint, index_name, json_data, ais_key, ais_api_version)\n",
    "        records['value'] = []"
   ]
  },
  {
   "cell_type": "markdown",
   "metadata": {},
   "source": [
    "#### Ingest image sample with embeddings\n",
    "\n",
    "This cell first prepares a dataframe that has similar columns as the AI Search Index. If the dataframe doesn't have the same columns (column names or numbers) as the Index, add a preprocessing step to structure the dataframe according to the Index columns."
   ]
  },
  {
   "cell_type": "code",
   "execution_count": null,
   "metadata": {},
   "outputs": [],
   "source": [
    "image_df = pd.read_json('../../data/images/images_embeddings.json')\n",
    "index_name = get_ais_index_name(ais_index_definition_image)\n",
    "\n",
    "batch_size = 10\n",
    "total_records = text_df.shape[0]\n",
    "fields = image_df.columns.to_numpy()\n",
    "image_df['id'] = image_df['id'].astype(str)\n",
    "\n",
    "records = {\n",
    "    'value': []\n",
    "}\n",
    "\n",
    "for index, row in image_df.iterrows():\n",
    "    record = {}\n",
    "    for field in fields:\n",
    "            record[field] = row[field]\n",
    "\n",
    "    records['value'].append(\n",
    "        record\n",
    "    )\n",
    "\n",
    "    if index % batch_size == 0 or (index+1 == total_records):\n",
    "        json_data = json.dumps(records)\n",
    "        insert_record(ais_endpoint, index_name, json_data, ais_key, ais_api_version)\n",
    "        records['value'] = []"
   ]
  }
 ],
 "metadata": {
  "kernelspec": {
   "display_name": "cognitive_search_rest",
   "language": "python",
   "name": "python3"
  },
  "language_info": {
   "codemirror_mode": {
    "name": "ipython",
    "version": 3
   },
   "file_extension": ".py",
   "mimetype": "text/x-python",
   "name": "python",
   "nbconvert_exporter": "python",
   "pygments_lexer": "ipython3",
   "version": "3.10.13"
  },
  "orig_nbformat": 4
 },
 "nbformat": 4,
 "nbformat_minor": 2
}
