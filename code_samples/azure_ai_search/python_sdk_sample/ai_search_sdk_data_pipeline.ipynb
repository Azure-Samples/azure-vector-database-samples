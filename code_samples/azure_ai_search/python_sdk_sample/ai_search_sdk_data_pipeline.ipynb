{
 "cells": [
  {
   "attachments": {},
   "cell_type": "markdown",
   "metadata": {},
   "source": [
    "## Data Pipeline - Azure AI Search using Python SDK\n",
    "\n",
    "### Prerequisites\n",
    "  \n",
    "- Generate embeddings - [generate_embeddings.ipynb](../../common/generate_embeddings.ipynb) "
   ]
  },
  {
   "attachments": {},
   "cell_type": "markdown",
   "metadata": {},
   "source": [
    "#### Set environment variables"
   ]
  },
  {
   "cell_type": "code",
   "execution_count": 1,
   "metadata": {},
   "outputs": [],
   "source": [
    "import os\n",
    "from dotenv import load_dotenv\n",
    "\n",
    "load_dotenv()\n",
    "\n",
    "ais_endpoint  = os.getenv(\"AIS_ENDPOINT\")\n",
    "if ais_endpoint is None or ais_endpoint == \"\":\n",
    "    print(\"AIS_ENDPOINT environment variable not set.\")\n",
    "    exit()\n",
    "\n",
    "ais_api_version  = os.getenv(\"AIS_API_VERSION\")\n",
    "if ais_api_version is None or ais_api_version == \"\":\n",
    "    print(\"AIS_API_VERSION environment variable not set.\")\n",
    "    exit()\n",
    "\n",
    "ais_key  = os.getenv(\"AIS_KEY\")\n",
    "if ais_key is None or ais_key == \"\":\n",
    "    print(\"AIS_KEY environment variable not set.\")\n",
    "    exit()\n",
    "\n",
    "text_index_name = 'text-sample'\n",
    "doc_index_name = 'doc-sample'\n",
    "image_index_name = 'image-sample'"
   ]
  },
  {
   "cell_type": "markdown",
   "metadata": {},
   "source": [
    "#### Helper methods"
   ]
  },
  {
   "cell_type": "code",
   "execution_count": 20,
   "metadata": {},
   "outputs": [],
   "source": [
    "from azure.core.credentials import AzureKeyCredential\n",
    "from azure.search.documents import SearchClient\n",
    "from azure.search.documents.indexes import SearchIndexClient\n",
    "\n",
    "from azure.search.documents.indexes.models import (\n",
    "    SearchIndex,\n",
    "    SearchField,\n",
    "    SearchFieldDataType,\n",
    "    SimpleField,\n",
    "    SearchableField,\n",
    "    VectorSearch,\n",
    "    VectorSearchProfile,\n",
    "    HnswAlgorithmConfiguration\n",
    ")\n",
    "\n",
    "def get_index_client() -> SearchIndexClient:\n",
    "    return SearchIndexClient(ais_endpoint, AzureKeyCredential(ais_key))\n",
    "\n",
    "def create_index(index_name, fields, vector_search, semantic_title_field_name, semantic_content_field_names):\n",
    "    index = SearchIndex(\n",
    "        name=index_name,\n",
    "        fields=fields,\n",
    "        vector_search=vector_search\n",
    "        )\n",
    "    index_client = get_index_client()\n",
    "    return index_client.create_index(index)"
   ]
  },
  {
   "cell_type": "markdown",
   "metadata": {},
   "source": [
    "#### Create text-sample AI Search index"
   ]
  },
  {
   "cell_type": "code",
   "execution_count": 14,
   "metadata": {},
   "outputs": [],
   "source": [
    "from azure.core.credentials import AzureKeyCredential\n",
    "from azure.search.documents import SearchClient\n",
    "from azure.search.documents.indexes import SearchIndexClient\n",
    "\n",
    "from azure.search.documents.indexes.models import (\n",
    "    SearchIndex,\n",
    "    SearchField,\n",
    "    SearchFieldDataType,\n",
    "    SimpleField,\n",
    "    SearchableField,\n",
    "    VectorSearch,\n",
    "    VectorSearchProfile,\n",
    "    HnswAlgorithmConfiguration\n",
    ")\n",
    "\n",
    "vector_search = VectorSearch(\n",
    "    profiles=[\n",
    "        VectorSearchProfile(\n",
    "            name=\"hnsw_profile\", algorithm_configuration_name=\"hnsw-algorithms-config\"\n",
    "        )\n",
    "    ],\n",
    "    algorithms=[HnswAlgorithmConfiguration(name=\"hnsw-algorithms-config\")],\n",
    ")\n",
    "\n",
    "fields = [\n",
    "    SimpleField(name=\"id\", type=SearchFieldDataType.String, key=True),\n",
    "    SearchableField(name=\"title\", type=SearchFieldDataType.String),\n",
    "    SearchableField(name=\"content\", type=SearchFieldDataType.String),\n",
    "    SearchableField(name=\"category\", type=SearchFieldDataType.String, filterable=True),\n",
    "    SearchField(name=\"title_vector\", type=SearchFieldDataType.Collection(SearchFieldDataType.Single), searchable=True, vector_search_dimensions=1536, vector_search_profile_name=\"hnsw_profile\"),\n",
    "    SearchField(name=\"content_vector\", type=SearchFieldDataType.Collection(SearchFieldDataType.Single), searchable=True, vector_search_dimensions=1536, vector_search_profile_name=\"hnsw_profile\")    \n",
    "]\n",
    "\n",
    "index = create_index(text_index_name, fields, vector_search=vector_search, semantic_title_field_name=\"title\", semantic_content_field_names=[\"content\"])"
   ]
  },
  {
   "cell_type": "markdown",
   "metadata": {},
   "source": [
    "#### Create doc-sample AI Search index"
   ]
  },
  {
   "cell_type": "code",
   "execution_count": 15,
   "metadata": {},
   "outputs": [],
   "source": [
    "vector_search = VectorSearch(\n",
    "    profiles=[\n",
    "        VectorSearchProfile(\n",
    "            name=\"hnsw_profile\", algorithm_configuration_name=\"hnsw-algorithms-config\"\n",
    "        )\n",
    "    ],\n",
    "    algorithms=[HnswAlgorithmConfiguration(name=\"hnsw-algorithms-config\")],\n",
    ")\n",
    "\n",
    "fields = [\n",
    "    SimpleField(name=\"id\", type=SearchFieldDataType.String, key=True),\n",
    "    SearchableField(name=\"chunk_content\", type=SearchFieldDataType.String),\n",
    "    SearchField(name=\"chunk_content_vector\", type=SearchFieldDataType.Collection(SearchFieldDataType.Single), searchable=True, vector_search_dimensions=1536, vector_search_profile_name=\"hnsw_profile\")   \n",
    "]\n",
    "\n",
    "index = create_index(doc_index_name, fields, vector_search=vector_search, semantic_title_field_name=\"chunk_content\", semantic_content_field_names=[\"chunk_content\"])"
   ]
  },
  {
   "cell_type": "markdown",
   "metadata": {},
   "source": [
    "#### Create image-sample AI Search index"
   ]
  },
  {
   "cell_type": "code",
   "execution_count": 16,
   "metadata": {},
   "outputs": [],
   "source": [
    "vector_search = VectorSearch(\n",
    "    profiles=[\n",
    "        VectorSearchProfile(\n",
    "            name=\"hnsw_profile\", algorithm_configuration_name=\"hnsw-algorithms-config\"\n",
    "        )\n",
    "    ],\n",
    "    algorithms=[HnswAlgorithmConfiguration(name=\"hnsw-algorithms-config\")],\n",
    ")\n",
    "\n",
    "fields = [\n",
    "    SimpleField(name=\"id\", type=SearchFieldDataType.String, key=True),\n",
    "    SearchableField(name=\"image\", type=SearchFieldDataType.String),\n",
    "    SearchField(name=\"image_vector\", type=SearchFieldDataType.Collection(SearchFieldDataType.Single), searchable=True, vector_search_dimensions=1024, vector_search_profile_name=\"hnsw_profile\")   \n",
    "]\n",
    "\n",
    "index = create_index(image_index_name, fields, vector_search=vector_search, semantic_title_field_name=\"image\", semantic_content_field_names=[\"image\"])"
   ]
  },
  {
   "cell_type": "markdown",
   "metadata": {},
   "source": [
    "#### Ingest to text-sample\n",
    "\n",
    "This cell first prepares a dataframe that has similar columns as the AI Search Index. If the dataframe doesn't have the same columns (column names or numbers) as the Index, add a preprocessing step to structure the dataframe according to the Index columns."
   ]
  },
  {
   "cell_type": "code",
   "execution_count": 17,
   "metadata": {},
   "outputs": [],
   "source": [
    "import requests\n",
    "import json\n",
    "import pandas as pd\n",
    "from azure.search.documents import SearchClient  \n",
    "\n",
    "text_df = pd.read_json('../../data/text/product_docs_embeddings.json') \n",
    "\n",
    "batch_size = 10\n",
    "total_records = text_df.shape[0]\n",
    "fields = text_df.columns.to_numpy()\n",
    "text_df['id'] = text_df['id'].astype(str)\n",
    "\n",
    "records = []\n",
    "\n",
    "for index, row in text_df.iterrows():\n",
    "    record = {}\n",
    "    for field in fields:\n",
    "            record[field] = row[field]\n",
    "\n",
    "    records.append(\n",
    "        record\n",
    "    )\n",
    "\n",
    "    if index % batch_size == 0 or (index+1 == total_records):\n",
    "        search_client = SearchClient(ais_endpoint, text_index_name, AzureKeyCredential(ais_key))\n",
    "        result = search_client.upload_documents(documents=records)\n",
    "        records = []"
   ]
  },
  {
   "cell_type": "markdown",
   "metadata": {},
   "source": [
    "### Ingest to doc-sample\n",
    "\n",
    "This cell first prepares a dataframe that has similar columns as the AI Search Index. If the dataframe doesn't have the same columns (column names or numbers) as the Index, add a preprocessing step to structure the dataframe according to the Index columns."
   ]
  },
  {
   "cell_type": "code",
   "execution_count": 18,
   "metadata": {},
   "outputs": [],
   "source": [
    "import requests\n",
    "import json\n",
    "from azure.search.documents import SearchClient  \n",
    "import pandas as pd\n",
    "\n",
    "doc_df = pd.read_json('../../data/docs/employee_handbook_embeddings.json')\n",
    "\n",
    "batch_size = 10\n",
    "total_records = doc_df.shape[0]\n",
    "fields = doc_df.columns.to_numpy()\n",
    "doc_df['id'] = doc_df['id'].astype(str)\n",
    "\n",
    "records = []\n",
    "\n",
    "for index, row in doc_df.iterrows():\n",
    "    record = {}\n",
    "    for field in fields:\n",
    "            record[field] = row[field]\n",
    "\n",
    "    records.append(\n",
    "        record\n",
    "    )\n",
    "\n",
    "    if index % batch_size == 0 or (index+1 == total_records):\n",
    "        search_client = SearchClient(ais_endpoint, doc_index_name, AzureKeyCredential(ais_key))\n",
    "        result = search_client.upload_documents(documents=records)\n",
    "        records = []"
   ]
  },
  {
   "cell_type": "markdown",
   "metadata": {},
   "source": [
    "### Ingest to image-sample\n",
    "\n",
    "This cell first prepares a dataframe that has similar columns as the AI Search Index. If the dataframe doesn't have the same columns (column names or numbers) as the Index, add a preprocessing step to structure the dataframe according to the Index columns."
   ]
  },
  {
   "cell_type": "code",
   "execution_count": 19,
   "metadata": {},
   "outputs": [],
   "source": [
    "import os\n",
    "from azure.core.credentials import AzureKeyCredential\n",
    "from azure.search.documents import SearchClient\n",
    "\n",
    "image_df = pd.read_json('../../data/images/images_embeddings.json')\n",
    "\n",
    "batch_size = 10\n",
    "total_records = image_df.shape[0]\n",
    "fields = image_df.columns.to_numpy()\n",
    "image_df['id'] = image_df['id'].astype(str)\n",
    "\n",
    "records = []\n",
    "\n",
    "for index, row in image_df.iterrows():\n",
    "    record = {}\n",
    "    for field in fields:\n",
    "            record[field] = row[field]\n",
    "\n",
    "    records.append(\n",
    "        record\n",
    "    )\n",
    "\n",
    "    if index % batch_size == 0 or (index+1 == total_records):\n",
    "        search_client = SearchClient(ais_endpoint, image_index_name, AzureKeyCredential(ais_key))\n",
    "        result = search_client.upload_documents(documents=records)\n",
    "        records = []"
   ]
  }
 ],
 "metadata": {
  "kernelspec": {
   "display_name": "Python 3",
   "language": "python",
   "name": "python3"
  },
  "language_info": {
   "codemirror_mode": {
    "name": "ipython",
    "version": 3
   },
   "file_extension": ".py",
   "mimetype": "text/x-python",
   "name": "python",
   "nbconvert_exporter": "python",
   "pygments_lexer": "ipython3",
   "version": "3.10.13"
  },
  "orig_nbformat": 4
 },
 "nbformat": 4,
 "nbformat_minor": 2
}
