{
 "cells": [
  {
   "cell_type": "code",
   "execution_count": 1,
   "metadata": {},
   "outputs": [],
   "source": [
    "import os  \n",
    "import json  \n",
    "import openai  \n",
    "from dotenv import load_dotenv  \n",
    "from azure.core.credentials import AzureKeyCredential  \n",
    "\n",
    "load_dotenv()  \n",
    "service_endpoint = os.getenv(\"AZURE_SEARCH_SERVICE_ENDPOINT\") \n",
    "index_name = os.getenv(\"AZURE_SEARCH_INDEX_NAME\") \n",
    "key = os.getenv(\"AZURE_SEARCH_ADMIN_KEY\") \n",
    "openai.api_type = \"azure\"  \n",
    "openai.api_key = os.getenv(\"AZURE_OPENAI_API_KEY\")  \n",
    "openai.api_base = os.getenv(\"AZURE_OPENAI_ENDPOINT\")            \n",
    "openai.api_version = os.getenv(\"AZURE_OPENAI_API_VERSION\")  \n",
    "credential = AzureKeyCredential(key)"
   ]
  },
  {
   "cell_type": "code",
   "execution_count": 3,
   "metadata": {},
   "outputs": [
    {
     "ename": "ImportError",
     "evalue": "cannot import name 'RedisCreateOrUpdateParameters' from 'azure.mgmt.redis.models' (c:\\Users\\raihanalam\\Miniconda3\\envs\\redisvector\\lib\\site-packages\\azure\\mgmt\\redis\\models\\__init__.py)",
     "output_type": "error",
     "traceback": [
      "\u001b[1;31m---------------------------------------------------------------------------\u001b[0m",
      "\u001b[1;31mImportError\u001b[0m                               Traceback (most recent call last)",
      "\u001b[1;32mc:\\work\\vector-db-sample\\azure_redis_cache\\redis_cache_text.ipynb Cell 2\u001b[0m line \u001b[0;36m2\n\u001b[0;32m      <a href='vscode-notebook-cell:/c%3A/work/vector-db-sample/azure_redis_cache/redis_cache_text.ipynb#W1sZmlsZQ%3D%3D?line=0'>1</a>\u001b[0m \u001b[39mfrom\u001b[39;00m \u001b[39mazure\u001b[39;00m\u001b[39m.\u001b[39;00m\u001b[39mmgmt\u001b[39;00m\u001b[39m.\u001b[39;00m\u001b[39mredis\u001b[39;00m \u001b[39mimport\u001b[39;00m RedisManagementClient\n\u001b[1;32m----> <a href='vscode-notebook-cell:/c%3A/work/vector-db-sample/azure_redis_cache/redis_cache_text.ipynb#W1sZmlsZQ%3D%3D?line=1'>2</a>\u001b[0m \u001b[39mfrom\u001b[39;00m \u001b[39mazure\u001b[39;00m\u001b[39m.\u001b[39;00m\u001b[39mmgmt\u001b[39;00m\u001b[39m.\u001b[39;00m\u001b[39mredis\u001b[39;00m\u001b[39m.\u001b[39;00m\u001b[39mmodels\u001b[39;00m \u001b[39mimport\u001b[39;00m Sku, RedisCreateOrUpdateParameters\n\u001b[0;32m      <a href='vscode-notebook-cell:/c%3A/work/vector-db-sample/azure_redis_cache/redis_cache_text.ipynb#W1sZmlsZQ%3D%3D?line=3'>4</a>\u001b[0m \u001b[39m# redis_client = RedisManagementClient(\u001b[39;00m\n\u001b[0;32m      <a href='vscode-notebook-cell:/c%3A/work/vector-db-sample/azure_redis_cache/redis_cache_text.ipynb#W1sZmlsZQ%3D%3D?line=4'>5</a>\u001b[0m \u001b[39m#     credentials,\u001b[39;00m\n\u001b[0;32m      <a href='vscode-notebook-cell:/c%3A/work/vector-db-sample/azure_redis_cache/redis_cache_text.ipynb#W1sZmlsZQ%3D%3D?line=5'>6</a>\u001b[0m \u001b[39m#     subscription_id\u001b[39;00m\n\u001b[1;32m   (...)\u001b[0m\n\u001b[0;32m     <a href='vscode-notebook-cell:/c%3A/work/vector-db-sample/azure_redis_cache/redis_cache_text.ipynb#W1sZmlsZQ%3D%3D?line=16'>17</a>\u001b[0m \u001b[39m# )\u001b[39;00m\n\u001b[0;32m     <a href='vscode-notebook-cell:/c%3A/work/vector-db-sample/azure_redis_cache/redis_cache_text.ipynb#W1sZmlsZQ%3D%3D?line=17'>18</a>\u001b[0m \u001b[39m# redis_cache is a RedisResourceWithAccessKey instance\u001b[39;00m\n",
      "\u001b[1;31mImportError\u001b[0m: cannot import name 'RedisCreateOrUpdateParameters' from 'azure.mgmt.redis.models' (c:\\Users\\raihanalam\\Miniconda3\\envs\\redisvector\\lib\\site-packages\\azure\\mgmt\\redis\\models\\__init__.py)"
     ]
    }
   ],
   "source": [
    "from azure.mgmt.redis import RedisManagementClient\n",
    "from azure.mgmt.redis.models import Sku, RedisCreateOrUpdateParameters\n",
    "\n",
    "# redis_client = RedisManagementClient(\n",
    "#     credentials,\n",
    "#     subscription_id\n",
    "# )\n",
    "# group_name = 'myresourcegroup'\n",
    "# cache_name = 'mycachename'\n",
    "# redis_cache = redis_client.redis.create_or_update(\n",
    "#     group_name,\n",
    "#     cache_name,\n",
    "#     RedisCreateOrUpdateParameters(\n",
    "#         sku = Sku(name = 'Basic', family = 'C', capacity = '1'),\n",
    "#         location = \"East US\"\n",
    "#     )\n",
    "# )\n",
    "# redis_cache is a RedisResourceWithAccessKey instance"
   ]
  },
  {
   "cell_type": "code",
   "execution_count": 7,
   "metadata": {},
   "outputs": [
    {
     "name": "stdout",
     "output_type": "stream",
     "text": [
      "Connection established\n",
      "Finished dropping table (if existed)\n",
      "Finished creating table\n",
      "Inserted 3 rows of data\n"
     ]
    }
   ],
   "source": [
    "import psycopg2\n",
    "\n",
    "# Update connection string information\n",
    "\n",
    "host = \"pg0102.postgres.database.azure.com\"\n",
    "dbname = \"vectordemo\"\n",
    "user = \"pgadmin\"\n",
    "password = \"p@$$word123\"\n",
    "sslmode = \"require\"\n",
    "\n",
    "# Construct connection string\n",
    "\n",
    "conn_string = \"host={0} user={1} dbname={2} password={3} sslmode={4}\".format(host, user, dbname, password, sslmode)\n",
    "conn = psycopg2.connect(conn_string)\n",
    "print(\"Connection established\")\n",
    "\n",
    "cursor = conn.cursor()\n",
    "\n",
    "# Drop previous table of same name if one exists\n",
    "\n",
    "cursor.execute(\"DROP TABLE IF EXISTS inventory;\")\n",
    "print(\"Finished dropping table (if existed)\")\n",
    "\n",
    "# Create a table\n",
    "\n",
    "cursor.execute(\"CREATE TABLE inventory (id serial PRIMARY KEY, name VARCHAR(50), quantity INTEGER);\")\n",
    "print(\"Finished creating table\")\n",
    "\n",
    "# Insert some data into the table\n",
    "\n",
    "cursor.execute(\"INSERT INTO inventory (name, quantity) VALUES (%s, %s);\", (\"banana\", 150))\n",
    "cursor.execute(\"INSERT INTO inventory (name, quantity) VALUES (%s, %s);\", (\"orange\", 154))\n",
    "cursor.execute(\"INSERT INTO inventory (name, quantity) VALUES (%s, %s);\", (\"apple\", 100))\n",
    "print(\"Inserted 3 rows of data\")\n",
    "\n",
    "# Clean up\n",
    "\n",
    "conn.commit()\n",
    "cursor.close()\n",
    "conn.close()"
   ]
  }
 ],
 "metadata": {
  "kernelspec": {
   "display_name": "vectordb2",
   "language": "python",
   "name": "python3"
  },
  "language_info": {
   "codemirror_mode": {
    "name": "ipython",
    "version": 3
   },
   "file_extension": ".py",
   "mimetype": "text/x-python",
   "name": "python",
   "nbconvert_exporter": "python",
   "pygments_lexer": "ipython3",
   "version": "3.10.13"
  },
  "orig_nbformat": 4
 },
 "nbformat": 4,
 "nbformat_minor": 2
}
