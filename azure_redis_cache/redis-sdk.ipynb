{
 "cells": [
  {
   "cell_type": "markdown",
   "metadata": {},
   "source": [
    "# Setup \n",
    "\n",
    "Install the required packages for this notebook to run."
   ]
  },
  {
   "cell_type": "code",
   "execution_count": null,
   "metadata": {},
   "outputs": [],
   "source": [
    "# We'll need to install the Redis client\n",
    "#!pip install redis\n",
    "\n",
    "#Install wget to pull zip file\n",
    "#!pip install wget\n",
    "\n",
    "#Install required packages\n",
    "#!pip install openai\n",
    "#!pip install pandas\n",
    "#!pip install numpy\n",
    "#!pip install python-dotenv"
   ]
  },
  {
   "cell_type": "code",
   "execution_count": 1,
   "metadata": {},
   "outputs": [
    {
     "data": {
      "text/plain": [
       "True"
      ]
     },
     "execution_count": 1,
     "metadata": {},
     "output_type": "execute_result"
    }
   ],
   "source": [
    "import openai\n",
    "\n",
    "from typing import List, Iterator\n",
    "from dotenv import load_dotenv\n",
    "import pandas as pd\n",
    "import numpy as np\n",
    "import os\n",
    "from ast import literal_eval\n",
    "\n",
    "# Redis client library for Python\n",
    "import redis\n",
    "\n",
    "# Ignore unclosed SSL socket warnings - optional in case you get these errors\n",
    "import warnings\n",
    "\n",
    "warnings.filterwarnings(action=\"ignore\", message=\"unclosed\", category=ResourceWarning)\n",
    "warnings.filterwarnings(\"ignore\", category=DeprecationWarning) \n",
    "\n",
    "# Loading the env from the .env file\n",
    "load_dotenv()"
   ]
  },
  {
   "cell_type": "markdown",
   "metadata": {},
   "source": [
    "## Setup Redis connection"
   ]
  },
  {
   "cell_type": "code",
   "execution_count": 2,
   "metadata": {},
   "outputs": [
    {
     "data": {
      "text/plain": [
       "True"
      ]
     },
     "execution_count": 2,
     "metadata": {},
     "output_type": "execute_result"
    }
   ],
   "source": [
    "import redis\n",
    "from redis.commands.search.indexDefinition import (\n",
    "    IndexDefinition,\n",
    "    IndexType\n",
    ")\n",
    "from redis.commands.search.query import Query\n",
    "from redis.commands.search.field import (\n",
    "    TextField,\n",
    "    VectorField\n",
    ")\n",
    "import os\n",
    "\n",
    "REDIS_HOST =  os.environ.get(\"REDIS_HOST\")\n",
    "REDIS_PORT = os.environ.get(\"REDIS_PORT\")\n",
    "REDIS_PASSWORD = os.environ.get(\"REDIS_PASSWORD\")\n",
    "# Connect to Redis\n",
    "redis_client = redis.Redis(\n",
    "    host=REDIS_HOST,\n",
    "    port=REDIS_PORT,\n",
    "    ssl=True,\n",
    "    password=REDIS_PASSWORD\n",
    ")\n",
    "# should return True\n",
    "redis_client.ping()"
   ]
  },
  {
   "cell_type": "markdown",
   "metadata": {},
   "source": [
    "## Load documents into Dataframe"
   ]
  },
  {
   "cell_type": "code",
   "execution_count": 5,
   "metadata": {},
   "outputs": [
    {
     "data": {
      "text/html": [
       "<div>\n",
       "<style scoped>\n",
       "    .dataframe tbody tr th:only-of-type {\n",
       "        vertical-align: middle;\n",
       "    }\n",
       "\n",
       "    .dataframe tbody tr th {\n",
       "        vertical-align: top;\n",
       "    }\n",
       "\n",
       "    .dataframe thead th {\n",
       "        text-align: right;\n",
       "    }\n",
       "</style>\n",
       "<table border=\"1\" class=\"dataframe\">\n",
       "  <thead>\n",
       "    <tr style=\"text-align: right;\">\n",
       "      <th></th>\n",
       "      <th>id</th>\n",
       "      <th>title</th>\n",
       "      <th>content</th>\n",
       "      <th>category</th>\n",
       "      <th>title_vector</th>\n",
       "      <th>content_vector</th>\n",
       "    </tr>\n",
       "  </thead>\n",
       "  <tbody>\n",
       "    <tr>\n",
       "      <th>0</th>\n",
       "      <td>1</td>\n",
       "      <td>Azure App Service</td>\n",
       "      <td>Azure App Service is a fully managed platform ...</td>\n",
       "      <td>Web</td>\n",
       "      <td>[-0.0106361033, -0.021644678, 0.0019778875, -0...</td>\n",
       "      <td>[0.007650437800000001, -0.0236263517, 0.012058...</td>\n",
       "    </tr>\n",
       "    <tr>\n",
       "      <th>1</th>\n",
       "      <td>2</td>\n",
       "      <td>Azure Functions</td>\n",
       "      <td>Azure Functions is a serverless compute servic...</td>\n",
       "      <td>Compute</td>\n",
       "      <td>[-0.0094142705, -0.0047656302, -0.005457249, -...</td>\n",
       "      <td>[-0.014505187000000001, -0.0127168763, -0.0093...</td>\n",
       "    </tr>\n",
       "    <tr>\n",
       "      <th>2</th>\n",
       "      <td>3</td>\n",
       "      <td>Azure Cognitive Services</td>\n",
       "      <td>Azure Cognitive Services are a set of AI servi...</td>\n",
       "      <td>AI + Machine Learning</td>\n",
       "      <td>[-0.012958467000000001, -0.0041865818, -0.0088...</td>\n",
       "      <td>[-0.0162250493, -0.0012716976, 0.0024742542, -...</td>\n",
       "    </tr>\n",
       "    <tr>\n",
       "      <th>3</th>\n",
       "      <td>4</td>\n",
       "      <td>Azure Storage</td>\n",
       "      <td>Azure Storage is a scalable, durable, and high...</td>\n",
       "      <td>Storage</td>\n",
       "      <td>[-0.0216679014, -0.0159060247, 0.0107527971000...</td>\n",
       "      <td>[-0.019703323000000002, -0.0143261477, 0.00300...</td>\n",
       "    </tr>\n",
       "    <tr>\n",
       "      <th>4</th>\n",
       "      <td>5</td>\n",
       "      <td>Azure SQL Database</td>\n",
       "      <td>Azure SQL Database is a fully managed relation...</td>\n",
       "      <td>Databases</td>\n",
       "      <td>[-0.0105225565, -0.0080567617, -0.0060751964, ...</td>\n",
       "      <td>[-0.0062997062000000005, -0.0119180158, 0.0005...</td>\n",
       "    </tr>\n",
       "  </tbody>\n",
       "</table>\n",
       "</div>"
      ],
      "text/plain": [
       "   id                     title  \\\n",
       "0   1         Azure App Service   \n",
       "1   2           Azure Functions   \n",
       "2   3  Azure Cognitive Services   \n",
       "3   4             Azure Storage   \n",
       "4   5        Azure SQL Database   \n",
       "\n",
       "                                             content               category  \\\n",
       "0  Azure App Service is a fully managed platform ...                    Web   \n",
       "1  Azure Functions is a serverless compute servic...                Compute   \n",
       "2  Azure Cognitive Services are a set of AI servi...  AI + Machine Learning   \n",
       "3  Azure Storage is a scalable, durable, and high...                Storage   \n",
       "4  Azure SQL Database is a fully managed relation...              Databases   \n",
       "\n",
       "                                        title_vector  \\\n",
       "0  [-0.0106361033, -0.021644678, 0.0019778875, -0...   \n",
       "1  [-0.0094142705, -0.0047656302, -0.005457249, -...   \n",
       "2  [-0.012958467000000001, -0.0041865818, -0.0088...   \n",
       "3  [-0.0216679014, -0.0159060247, 0.0107527971000...   \n",
       "4  [-0.0105225565, -0.0080567617, -0.0060751964, ...   \n",
       "\n",
       "                                      content_vector  \n",
       "0  [0.007650437800000001, -0.0236263517, 0.012058...  \n",
       "1  [-0.014505187000000001, -0.0127168763, -0.0093...  \n",
       "2  [-0.0162250493, -0.0012716976, 0.0024742542, -...  \n",
       "3  [-0.019703323000000002, -0.0143261477, 0.00300...  \n",
       "4  [-0.0062997062000000005, -0.0119180158, 0.0005...  "
      ]
     },
     "execution_count": 5,
     "metadata": {},
     "output_type": "execute_result"
    }
   ],
   "source": [
    "products_df = pd.read_json('../data/text/product_docs_embeddings.json')\n",
    "products_df.head()"
   ]
  },
  {
   "cell_type": "markdown",
   "metadata": {},
   "source": [
    "## Setup schema in Redis"
   ]
  },
  {
   "cell_type": "code",
   "execution_count": 6,
   "metadata": {},
   "outputs": [],
   "source": [
    "# Define RediSearch fields for each of the columns in the dataset\n",
    "DISTANCE_METRIC = \"COSINE\"                      # distance metric for the vectors (ex. COSINE, IP, L2)\n",
    "VECTOR_DIM = len(products_df['title_vector'][0]) # length of the vectors\n",
    "VECTOR_NUMBER = len(products_df)                 # initial number of vectors\n",
    "\n",
    "title = TextField(name=\"title\")\n",
    "category = TextField(name=\"category\")\n",
    "content = TextField(name=\"content\")\n",
    "title_embedding = VectorField(\"title_vector\",\n",
    "    \"FLAT\", {\n",
    "        \"TYPE\": \"FLOAT32\",\n",
    "        \"DIM\": VECTOR_DIM,\n",
    "        \"DISTANCE_METRIC\": DISTANCE_METRIC,\n",
    "        \"INITIAL_CAP\": VECTOR_NUMBER,\n",
    "    }\n",
    ")\n",
    "content_embedding = VectorField(\"content_vector\",\n",
    "    \"FLAT\", {\n",
    "        \"TYPE\": \"FLOAT32\",\n",
    "        \"DIM\": VECTOR_DIM,\n",
    "        \"DISTANCE_METRIC\": DISTANCE_METRIC,\n",
    "        \"INITIAL_CAP\": VECTOR_NUMBER,\n",
    "    }\n",
    ")\n",
    "fields = [title, category, content, title_embedding, content_embedding]"
   ]
  },
  {
   "cell_type": "markdown",
   "metadata": {},
   "source": [
    "## Create indexes"
   ]
  },
  {
   "cell_type": "code",
   "execution_count": 7,
   "metadata": {},
   "outputs": [],
   "source": [
    "def create_index(index_name, doc_prefix, fields):\n",
    "    try:\n",
    "        redis_client.ft(index_name).info()\n",
    "        print(\"Index already exists\")\n",
    "    except:\n",
    "        # Create RediSearch Index\n",
    "        redis_client.ft(index_name).create_index(\n",
    "            fields = fields,\n",
    "            definition = IndexDefinition(prefix=[doc_prefix], index_type=IndexType.HASH)\n",
    "    )"
   ]
  },
  {
   "cell_type": "code",
   "execution_count": 8,
   "metadata": {},
   "outputs": [],
   "source": [
    "PRODUCT_TEXT_INDEX_NAME=\"product-text-index\"\n",
    "PRODUCT_DOC_PREFIX=\"product\"\n",
    "\n",
    "create_index(PRODUCT_TEXT_INDEX_NAME, PRODUCT_DOC_PREFIX, fields)"
   ]
  },
  {
   "cell_type": "markdown",
   "metadata": {},
   "source": [
    "## Ingest documents into Redis index"
   ]
  },
  {
   "cell_type": "code",
   "execution_count": 9,
   "metadata": {},
   "outputs": [],
   "source": [
    "def index_documents(client: redis.Redis, prefix: str, documents: pd.DataFrame):\n",
    "    records = documents.to_dict(\"records\")\n",
    "    for doc in records:\n",
    "        key = f\"{prefix}:{str(doc['id'])}\"\n",
    "\n",
    "        # create byte vectors for title and content\n",
    "        title_embedding = np.array(doc[\"title_vector\"], dtype=np.float32).tobytes()\n",
    "        content_embedding = np.array(doc[\"content_vector\"], dtype=np.float32).tobytes()\n",
    "\n",
    "        # replace list of floats with byte vectors\n",
    "        doc[\"title_vector\"] = title_embedding\n",
    "        doc[\"content_vector\"] = content_embedding\n",
    "\n",
    "        client.hset(key, mapping = doc)"
   ]
  },
  {
   "cell_type": "code",
   "execution_count": 10,
   "metadata": {},
   "outputs": [
    {
     "name": "stdout",
     "output_type": "stream",
     "text": [
      "Loaded 88 documents in Redis search index with name: product-text-index\n"
     ]
    }
   ],
   "source": [
    "# index the products\n",
    "index_documents(redis_client, PRODUCT_DOC_PREFIX, products_df)\n",
    "print(f\"Loaded {redis_client.info()['db0']['keys']} documents in Redis search index with name: {PRODUCT_TEXT_INDEX_NAME}\")"
   ]
  },
  {
   "cell_type": "markdown",
   "metadata": {},
   "source": [
    "## Setup OpenAI to create embeddings for the user query"
   ]
  },
  {
   "cell_type": "code",
   "execution_count": 11,
   "metadata": {},
   "outputs": [],
   "source": [
    "#setup azure open ai\n",
    "openai.api_type = \"azure\"\n",
    "openai.api_key = os.environ.get(\"OPENAI_API_KEY\")\n",
    "openai.api_base = os.environ.get(\"OPENAI_BASE_URL\")\n",
    "openai.api_version = \"2023-06-01-preview\"\n",
    "\n",
    "# This is the deployment name, running the ada model\n",
    "EMBEDDING_MODEL = \"ada-deployment\"\n",
    "\n",
    "def create_embedding(user_query):\n",
    "    return openai.Embedding.create(input=user_query,engine=EMBEDDING_MODEL)['data'][0]['embedding']\n",
    "    "
   ]
  },
  {
   "cell_type": "markdown",
   "metadata": {},
   "source": [
    "## Search using K-nearest neighbors (KNN) in Redis"
   ]
  },
  {
   "cell_type": "code",
   "execution_count": 12,
   "metadata": {},
   "outputs": [],
   "source": [
    "def search_redis(\n",
    "    redis_client: redis.Redis,\n",
    "    user_query: str,\n",
    "    index_name: str,\n",
    "    vector_field: str = \"title_vector\",\n",
    "    return_fields: list = [\"title\", \"category\", \"content\", \"vector_score\"],\n",
    "    hybrid_fields = \"*\",\n",
    "    k: int = 20,\n",
    ") -> List[dict]:\n",
    "\n",
    "    # Creates embedding vector from user query\n",
    "    embedded_query = create_embedding(user_query=user_query)\n",
    "\n",
    "    # Prepare the Query\n",
    "    base_query = f'{hybrid_fields}=>[KNN {k} @{vector_field} $vector AS vector_score]'\n",
    "    query = (\n",
    "        Query(base_query)\n",
    "         .return_fields(*return_fields)\n",
    "         .sort_by(\"vector_score\")\n",
    "         .paging(0, k)\n",
    "         .dialect(2)\n",
    "    )\n",
    "    params_dict = {\"vector\": np.array(embedded_query).astype(dtype=np.float32).tobytes()}\n",
    "\n",
    "    # perform vector search\n",
    "    results = redis_client.ft(index_name).search(query, params_dict)\n",
    "    for i, article in enumerate(results.docs):\n",
    "        score = 1 - float(article.vector_score)\n",
    "        print(f\"{i}. {article.title} (Score: {round(score ,3) })\")\n",
    "    return results.docs"
   ]
  },
  {
   "cell_type": "code",
   "execution_count": 13,
   "metadata": {},
   "outputs": [
    {
     "name": "stdout",
     "output_type": "stream",
     "text": [
      "0. Azure SQL Database (Score: 0.791)\n",
      "1. Azure SQL Data Warehouse (Score: 0.781)\n",
      "2. Azure Database for MySQL (Score: 0.781)\n",
      "3. Azure Database for PostgreSQL (Score: 0.768)\n",
      "4. Azure Database for MariaDB (Score: 0.768)\n",
      "5. Azure Data Box (Score: 0.766)\n",
      "6. Azure Data Explorer (Score: 0.764)\n",
      "7. Azure Data Catalog (Score: 0.764)\n",
      "8. Azure Data Bricks (Score: 0.76)\n",
      "9. Azure Cosmos DB (Score: 0.755)\n"
     ]
    }
   ],
   "source": [
    "results = search_redis(redis_client, 'show some database related products', PRODUCT_TEXT_INDEX_NAME, k=10)"
   ]
  }
 ],
 "metadata": {
  "kernelspec": {
   "display_name": ".venv",
   "language": "python",
   "name": "python3"
  },
  "language_info": {
   "codemirror_mode": {
    "name": "ipython",
    "version": 3
   },
   "file_extension": ".py",
   "mimetype": "text/x-python",
   "name": "python",
   "nbconvert_exporter": "python",
   "pygments_lexer": "ipython3",
   "version": "3.9.16"
  },
  "orig_nbformat": 4
 },
 "nbformat": 4,
 "nbformat_minor": 2
}
