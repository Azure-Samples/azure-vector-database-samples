{
 "cells": [
  {
   "cell_type": "code",
   "execution_count": 18,
   "metadata": {},
   "outputs": [
    {
     "name": "stdout",
     "output_type": "stream",
     "text": [
      "Requirement already satisfied: python-dotenv in /Users/pnagarajan/projects/msft/data-champ/azure-vector-database-samples/.venv/lib/python3.9/site-packages (1.0.0)\n",
      "\u001b[33mWARNING: You are using pip version 22.0.4; however, version 23.2.1 is available.\n",
      "You should consider upgrading via the '/Users/pnagarajan/projects/msft/data-champ/azure-vector-database-samples/.venv/bin/python3 -m pip install --upgrade pip' command.\u001b[0m\u001b[33m\n",
      "\u001b[0m"
     ]
    }
   ],
   "source": [
    "# We'll need to install the Redis client\n",
    "# !pip install redis\n",
    "\n",
    "#Install wget to pull zip file\n",
    "# !pip install wget\n",
    "\n",
    "#Install required packages\n",
    "# !pip install openai\n",
    "#!pip install pandas\n",
    "#!pip install numpy\n",
    "!pip install python-dotenv"
   ]
  },
  {
   "cell_type": "code",
   "execution_count": 6,
   "metadata": {},
   "outputs": [],
   "source": [
    "import openai\n",
    "\n",
    "from typing import List, Iterator\n",
    "import pandas as pd\n",
    "import numpy as np\n",
    "import os\n",
    "import wget\n",
    "from ast import literal_eval\n",
    "\n",
    "# Redis client library for Python\n",
    "import redis\n",
    "\n",
    "# I've set this to our new embeddings model, this can be changed to the embedding model of your choice\n",
    "EMBEDDING_MODEL = \"text-embedding-ada-002\"\n",
    "\n",
    "# Ignore unclosed SSL socket warnings - optional in case you get these errors\n",
    "import warnings\n",
    "\n",
    "warnings.filterwarnings(action=\"ignore\", message=\"unclosed\", category=ResourceWarning)\n",
    "warnings.filterwarnings(\"ignore\", category=DeprecationWarning) "
   ]
  },
  {
   "cell_type": "code",
   "execution_count": 9,
   "metadata": {},
   "outputs": [],
   "source": [
    "products_df = pd.read_json('../data/text/product_docs_embeddings.json')"
   ]
  },
  {
   "cell_type": "code",
   "execution_count": 10,
   "metadata": {},
   "outputs": [
    {
     "data": {
      "text/html": [
       "<div>\n",
       "<style scoped>\n",
       "    .dataframe tbody tr th:only-of-type {\n",
       "        vertical-align: middle;\n",
       "    }\n",
       "\n",
       "    .dataframe tbody tr th {\n",
       "        vertical-align: top;\n",
       "    }\n",
       "\n",
       "    .dataframe thead th {\n",
       "        text-align: right;\n",
       "    }\n",
       "</style>\n",
       "<table border=\"1\" class=\"dataframe\">\n",
       "  <thead>\n",
       "    <tr style=\"text-align: right;\">\n",
       "      <th></th>\n",
       "      <th>id</th>\n",
       "      <th>title</th>\n",
       "      <th>content</th>\n",
       "      <th>category</th>\n",
       "      <th>title_vector</th>\n",
       "      <th>content_vector</th>\n",
       "    </tr>\n",
       "  </thead>\n",
       "  <tbody>\n",
       "    <tr>\n",
       "      <th>0</th>\n",
       "      <td>1</td>\n",
       "      <td>Azure App Service</td>\n",
       "      <td>Azure App Service is a fully managed platform ...</td>\n",
       "      <td>Web</td>\n",
       "      <td>[-0.0106361033, -0.021644678, 0.0019778875, -0...</td>\n",
       "      <td>[0.007650437800000001, -0.0236263517, 0.012058...</td>\n",
       "    </tr>\n",
       "    <tr>\n",
       "      <th>1</th>\n",
       "      <td>2</td>\n",
       "      <td>Azure Functions</td>\n",
       "      <td>Azure Functions is a serverless compute servic...</td>\n",
       "      <td>Compute</td>\n",
       "      <td>[-0.0094142705, -0.0047656302, -0.005457249, -...</td>\n",
       "      <td>[-0.014505187000000001, -0.0127168763, -0.0093...</td>\n",
       "    </tr>\n",
       "    <tr>\n",
       "      <th>2</th>\n",
       "      <td>3</td>\n",
       "      <td>Azure Cognitive Services</td>\n",
       "      <td>Azure Cognitive Services are a set of AI servi...</td>\n",
       "      <td>AI + Machine Learning</td>\n",
       "      <td>[-0.012958467000000001, -0.0041865818, -0.0088...</td>\n",
       "      <td>[-0.0162250493, -0.0012716976, 0.0024742542, -...</td>\n",
       "    </tr>\n",
       "    <tr>\n",
       "      <th>3</th>\n",
       "      <td>4</td>\n",
       "      <td>Azure Storage</td>\n",
       "      <td>Azure Storage is a scalable, durable, and high...</td>\n",
       "      <td>Storage</td>\n",
       "      <td>[-0.0216679014, -0.0159060247, 0.0107527971000...</td>\n",
       "      <td>[-0.019703323000000002, -0.0143261477, 0.00300...</td>\n",
       "    </tr>\n",
       "    <tr>\n",
       "      <th>4</th>\n",
       "      <td>5</td>\n",
       "      <td>Azure SQL Database</td>\n",
       "      <td>Azure SQL Database is a fully managed relation...</td>\n",
       "      <td>Databases</td>\n",
       "      <td>[-0.0105225565, -0.0080567617, -0.0060751964, ...</td>\n",
       "      <td>[-0.0062997062000000005, -0.0119180158, 0.0005...</td>\n",
       "    </tr>\n",
       "  </tbody>\n",
       "</table>\n",
       "</div>"
      ],
      "text/plain": [
       "   id                     title  \\\n",
       "0   1         Azure App Service   \n",
       "1   2           Azure Functions   \n",
       "2   3  Azure Cognitive Services   \n",
       "3   4             Azure Storage   \n",
       "4   5        Azure SQL Database   \n",
       "\n",
       "                                             content               category  \\\n",
       "0  Azure App Service is a fully managed platform ...                    Web   \n",
       "1  Azure Functions is a serverless compute servic...                Compute   \n",
       "2  Azure Cognitive Services are a set of AI servi...  AI + Machine Learning   \n",
       "3  Azure Storage is a scalable, durable, and high...                Storage   \n",
       "4  Azure SQL Database is a fully managed relation...              Databases   \n",
       "\n",
       "                                        title_vector  \\\n",
       "0  [-0.0106361033, -0.021644678, 0.0019778875, -0...   \n",
       "1  [-0.0094142705, -0.0047656302, -0.005457249, -...   \n",
       "2  [-0.012958467000000001, -0.0041865818, -0.0088...   \n",
       "3  [-0.0216679014, -0.0159060247, 0.0107527971000...   \n",
       "4  [-0.0105225565, -0.0080567617, -0.0060751964, ...   \n",
       "\n",
       "                                      content_vector  \n",
       "0  [0.007650437800000001, -0.0236263517, 0.012058...  \n",
       "1  [-0.014505187000000001, -0.0127168763, -0.0093...  \n",
       "2  [-0.0162250493, -0.0012716976, 0.0024742542, -...  \n",
       "3  [-0.019703323000000002, -0.0143261477, 0.00300...  \n",
       "4  [-0.0062997062000000005, -0.0119180158, 0.0005...  "
      ]
     },
     "execution_count": 10,
     "metadata": {},
     "output_type": "execute_result"
    }
   ],
   "source": [
    "products_df.head()"
   ]
  },
  {
   "cell_type": "code",
   "execution_count": 59,
   "metadata": {},
   "outputs": [],
   "source": [
    "%reload_ext dotenv\n",
    "%dotenv"
   ]
  },
  {
   "cell_type": "code",
   "execution_count": 58,
   "metadata": {},
   "outputs": [],
   "source": [
    "del os.environ[\"REDIS_HOST\"]\n",
    "del os.environ[\"REDIS_PORT\"]\n",
    "del os.environ[\"REDIS_PASSWORD\"]"
   ]
  },
  {
   "cell_type": "code",
   "execution_count": 40,
   "metadata": {},
   "outputs": [
    {
     "name": "stdout",
     "output_type": "stream",
     "text": [
      "champs.eastus.redisenterprise.cache.azure.net 10000 OEZvhzDzxVbaSwCsRW092+3sNAGL+zHB9jkME6HJJuI=\n"
     ]
    },
    {
     "data": {
      "text/plain": [
       "True"
      ]
     },
     "execution_count": 40,
     "metadata": {},
     "output_type": "execute_result"
    }
   ],
   "source": [
    "import redis\n",
    "from redis.commands.search.indexDefinition import (\n",
    "    IndexDefinition,\n",
    "    IndexType\n",
    ")\n",
    "from redis.commands.search.query import Query\n",
    "from redis.commands.search.field import (\n",
    "    TextField,\n",
    "    VectorField\n",
    ")\n",
    "import os\n",
    "\n",
    "REDIS_HOST =  os.environ.get(\"REDIS_HOST\")\n",
    "REDIS_PORT = os.environ.get(\"REDIS_PORT\")\n",
    "REDIS_PASSWORD = os.environ.get(\"REDIS_PASSWORD\")\n",
    "# Connect to Redis\n",
    "redis_client = redis.Redis(\n",
    "    host=REDIS_HOST,\n",
    "    port=REDIS_PORT,\n",
    "    ssl=True,\n",
    "    password=REDIS_PASSWORD\n",
    ")\n",
    "redis_client.ping()"
   ]
  },
  {
   "cell_type": "code",
   "execution_count": 41,
   "metadata": {},
   "outputs": [],
   "source": [
    "# Constants\n",
    "VECTOR_DIM = len(products_df['title_vector'][0]) # length of the vectors\n",
    "VECTOR_NUMBER = len(products_df)                 # initial number of vectors\n",
    "INDEX_NAME = \"embeddings-index\"                 # name of the search index\n",
    "PREFIX = \"doc\"                                  # prefix for the document keys\n",
    "DISTANCE_METRIC = \"COSINE\"                      # distance metric for the vectors (ex. COSINE, IP, L2)"
   ]
  },
  {
   "cell_type": "code",
   "execution_count": 42,
   "metadata": {},
   "outputs": [],
   "source": [
    "# Define RediSearch fields for each of the columns in the dataset\n",
    "title = TextField(name=\"title\")\n",
    "category = TextField(name=\"category\")\n",
    "content = TextField(name=\"content\")\n",
    "title_embedding = VectorField(\"title_vector\",\n",
    "    \"FLAT\", {\n",
    "        \"TYPE\": \"FLOAT32\",\n",
    "        \"DIM\": VECTOR_DIM,\n",
    "        \"DISTANCE_METRIC\": DISTANCE_METRIC,\n",
    "        \"INITIAL_CAP\": VECTOR_NUMBER,\n",
    "    }\n",
    ")\n",
    "content_embedding = VectorField(\"content_vector\",\n",
    "    \"FLAT\", {\n",
    "        \"TYPE\": \"FLOAT32\",\n",
    "        \"DIM\": VECTOR_DIM,\n",
    "        \"DISTANCE_METRIC\": DISTANCE_METRIC,\n",
    "        \"INITIAL_CAP\": VECTOR_NUMBER,\n",
    "    }\n",
    ")\n",
    "fields = [title, category, content, title_embedding, content_embedding]"
   ]
  },
  {
   "cell_type": "code",
   "execution_count": 43,
   "metadata": {},
   "outputs": [],
   "source": [
    "# Check if index exists\n",
    "try:\n",
    "    redis_client.ft(INDEX_NAME).info()\n",
    "    print(\"Index already exists\")\n",
    "except:\n",
    "    # Create RediSearch Index\n",
    "    redis_client.ft(INDEX_NAME).create_index(\n",
    "        fields = fields,\n",
    "        definition = IndexDefinition(prefix=[PREFIX], index_type=IndexType.HASH)\n",
    "    )"
   ]
  },
  {
   "cell_type": "code",
   "execution_count": 44,
   "metadata": {},
   "outputs": [],
   "source": [
    "def index_documents(client: redis.Redis, prefix: str, documents: pd.DataFrame):\n",
    "    records = documents.to_dict(\"records\")\n",
    "    for doc in records:\n",
    "        key = f\"{prefix}:{str(doc['id'])}\"\n",
    "\n",
    "        # create byte vectors for title and content\n",
    "        title_embedding = np.array(doc[\"title_vector\"], dtype=np.float32).tobytes()\n",
    "        content_embedding = np.array(doc[\"content_vector\"], dtype=np.float32).tobytes()\n",
    "\n",
    "        # replace list of floats with byte vectors\n",
    "        doc[\"title_vector\"] = title_embedding\n",
    "        doc[\"content_vector\"] = content_embedding\n",
    "\n",
    "        client.hset(key, mapping = doc)"
   ]
  },
  {
   "cell_type": "code",
   "execution_count": 45,
   "metadata": {},
   "outputs": [
    {
     "name": "stdout",
     "output_type": "stream",
     "text": [
      "Loaded 84 documents in Redis search index with name: embeddings-index\n"
     ]
    }
   ],
   "source": [
    "index_documents(redis_client, PREFIX, products_df)\n",
    "print(f\"Loaded {redis_client.info()['db0']['keys']} documents in Redis search index with name: {INDEX_NAME}\")"
   ]
  },
  {
   "cell_type": "code",
   "execution_count": 71,
   "metadata": {},
   "outputs": [
    {
     "name": "stdout",
     "output_type": "stream",
     "text": [
      "Requirement already satisfied: openai[datalib] in /Users/pnagarajan/projects/msft/data-champ/azure-vector-database-samples/.venv/lib/python3.9/site-packages (0.28.1)\n",
      "Requirement already satisfied: aiohttp in /Users/pnagarajan/projects/msft/data-champ/azure-vector-database-samples/.venv/lib/python3.9/site-packages (from openai[datalib]) (3.8.6)\n",
      "Requirement already satisfied: tqdm in /Users/pnagarajan/projects/msft/data-champ/azure-vector-database-samples/.venv/lib/python3.9/site-packages (from openai[datalib]) (4.66.1)\n",
      "Requirement already satisfied: requests>=2.20 in /Users/pnagarajan/projects/msft/data-champ/azure-vector-database-samples/.venv/lib/python3.9/site-packages (from openai[datalib]) (2.31.0)\n",
      "Requirement already satisfied: pandas>=1.2.3 in /Users/pnagarajan/projects/msft/data-champ/azure-vector-database-samples/.venv/lib/python3.9/site-packages (from openai[datalib]) (2.1.1)\n",
      "Requirement already satisfied: openpyxl>=3.0.7 in /Users/pnagarajan/projects/msft/data-champ/azure-vector-database-samples/.venv/lib/python3.9/site-packages (from openai[datalib]) (3.1.2)\n",
      "Requirement already satisfied: numpy in /Users/pnagarajan/projects/msft/data-champ/azure-vector-database-samples/.venv/lib/python3.9/site-packages (from openai[datalib]) (1.26.0)\n",
      "Requirement already satisfied: pandas-stubs>=1.1.0.11 in /Users/pnagarajan/projects/msft/data-champ/azure-vector-database-samples/.venv/lib/python3.9/site-packages (from openai[datalib]) (2.1.1.230928)\n",
      "Requirement already satisfied: et-xmlfile in /Users/pnagarajan/projects/msft/data-champ/azure-vector-database-samples/.venv/lib/python3.9/site-packages (from openpyxl>=3.0.7->openai[datalib]) (1.1.0)\n",
      "Requirement already satisfied: tzdata>=2022.1 in /Users/pnagarajan/projects/msft/data-champ/azure-vector-database-samples/.venv/lib/python3.9/site-packages (from pandas>=1.2.3->openai[datalib]) (2023.3)\n",
      "Requirement already satisfied: python-dateutil>=2.8.2 in /Users/pnagarajan/projects/msft/data-champ/azure-vector-database-samples/.venv/lib/python3.9/site-packages (from pandas>=1.2.3->openai[datalib]) (2.8.2)\n",
      "Requirement already satisfied: pytz>=2020.1 in /Users/pnagarajan/projects/msft/data-champ/azure-vector-database-samples/.venv/lib/python3.9/site-packages (from pandas>=1.2.3->openai[datalib]) (2023.3.post1)\n",
      "Requirement already satisfied: types-pytz>=2022.1.1 in /Users/pnagarajan/projects/msft/data-champ/azure-vector-database-samples/.venv/lib/python3.9/site-packages (from pandas-stubs>=1.1.0.11->openai[datalib]) (2023.3.1.1)\n",
      "Requirement already satisfied: certifi>=2017.4.17 in /Users/pnagarajan/projects/msft/data-champ/azure-vector-database-samples/.venv/lib/python3.9/site-packages (from requests>=2.20->openai[datalib]) (2023.7.22)\n",
      "Requirement already satisfied: charset-normalizer<4,>=2 in /Users/pnagarajan/projects/msft/data-champ/azure-vector-database-samples/.venv/lib/python3.9/site-packages (from requests>=2.20->openai[datalib]) (3.3.0)\n",
      "Requirement already satisfied: urllib3<3,>=1.21.1 in /Users/pnagarajan/projects/msft/data-champ/azure-vector-database-samples/.venv/lib/python3.9/site-packages (from requests>=2.20->openai[datalib]) (2.0.6)\n",
      "Requirement already satisfied: idna<4,>=2.5 in /Users/pnagarajan/projects/msft/data-champ/azure-vector-database-samples/.venv/lib/python3.9/site-packages (from requests>=2.20->openai[datalib]) (3.4)\n",
      "Requirement already satisfied: async-timeout<5.0,>=4.0.0a3 in /Users/pnagarajan/projects/msft/data-champ/azure-vector-database-samples/.venv/lib/python3.9/site-packages (from aiohttp->openai[datalib]) (4.0.3)\n",
      "Requirement already satisfied: frozenlist>=1.1.1 in /Users/pnagarajan/projects/msft/data-champ/azure-vector-database-samples/.venv/lib/python3.9/site-packages (from aiohttp->openai[datalib]) (1.4.0)\n",
      "Requirement already satisfied: yarl<2.0,>=1.0 in /Users/pnagarajan/projects/msft/data-champ/azure-vector-database-samples/.venv/lib/python3.9/site-packages (from aiohttp->openai[datalib]) (1.9.2)\n",
      "Requirement already satisfied: attrs>=17.3.0 in /Users/pnagarajan/projects/msft/data-champ/azure-vector-database-samples/.venv/lib/python3.9/site-packages (from aiohttp->openai[datalib]) (23.1.0)\n",
      "Requirement already satisfied: aiosignal>=1.1.2 in /Users/pnagarajan/projects/msft/data-champ/azure-vector-database-samples/.venv/lib/python3.9/site-packages (from aiohttp->openai[datalib]) (1.3.1)\n",
      "Requirement already satisfied: multidict<7.0,>=4.5 in /Users/pnagarajan/projects/msft/data-champ/azure-vector-database-samples/.venv/lib/python3.9/site-packages (from aiohttp->openai[datalib]) (6.0.4)\n",
      "Requirement already satisfied: six>=1.5 in /Users/pnagarajan/projects/msft/data-champ/azure-vector-database-samples/.venv/lib/python3.9/site-packages (from python-dateutil>=2.8.2->pandas>=1.2.3->openai[datalib]) (1.16.0)\n",
      "\u001b[33mWARNING: You are using pip version 22.0.4; however, version 23.2.1 is available.\n",
      "You should consider upgrading via the '/Users/pnagarajan/projects/msft/data-champ/azure-vector-database-samples/.venv/bin/python3 -m pip install --upgrade pip' command.\u001b[0m\u001b[33m\n",
      "\u001b[0m"
     ]
    }
   ],
   "source": [
    "!pip install openai\"[datalib]\""
   ]
  },
  {
   "cell_type": "code",
   "execution_count": 72,
   "metadata": {},
   "outputs": [],
   "source": [
    "#setup azure open ai\n",
    "openai.api_type = \"azure\"\n",
    "openai.api_key = os.environ.get(\"OPENAI_API_KEY\")\n",
    "openai.api_base = os.environ.get(\"OPENAI_BASE_URL\")\n",
    "openai.api_version = \"2023-06-01-preview\"\n",
    "\n",
    "\n",
    "def create_embedding(user_query):\n",
    "    return openai.Embedding.create(input=user_query,\n",
    "                                   deployment_id='ada-deployment',\n",
    "                                             model='text-embedding-ada-002',\n",
    "                                            )[\"data\"][0]['embedding']"
   ]
  },
  {
   "cell_type": "code",
   "execution_count": 49,
   "metadata": {},
   "outputs": [],
   "source": [
    "def search_redis(\n",
    "    redis_client: redis.Redis,\n",
    "    user_query: str,\n",
    "    index_name: str = \"embeddings-index\",\n",
    "    vector_field: str = \"title_vector\",\n",
    "    return_fields: list = [\"title\", \"category\", \"content\", \"vector_score\"],\n",
    "    hybrid_fields = \"*\",\n",
    "    k: int = 20,\n",
    ") -> List[dict]:\n",
    "\n",
    "    # Creates embedding vector from user query\n",
    "    embedded_query = create_embedding(user_query=user_query)\n",
    "\n",
    "    # Prepare the Query\n",
    "    base_query = f'{hybrid_fields}=>[KNN {k} @{vector_field} $vector AS vector_score]'\n",
    "    query = (\n",
    "        Query(base_query)\n",
    "         .return_fields(*return_fields)\n",
    "         .sort_by(\"vector_score\")\n",
    "         .paging(0, k)\n",
    "         .dialect(2)\n",
    "    )\n",
    "    params_dict = {\"vector\": np.array(embedded_query).astype(dtype=np.float32).tobytes()}\n",
    "\n",
    "    # perform vector search\n",
    "    results = redis_client.ft(index_name).search(query, params_dict)\n",
    "    for i, article in enumerate(results.docs):\n",
    "        score = 1 - float(article.vector_score)\n",
    "        print(f\"{i}. {article.title} (Score: {round(score ,3) })\")\n",
    "    return results.docs"
   ]
  },
  {
   "cell_type": "code",
   "execution_count": 73,
   "metadata": {},
   "outputs": [
    {
     "ename": "MissingDependencyError",
     "evalue": "\n\nOpenAI error:\n\n    missing `numpy`\n\nThis feature requires additional dependencies:\n\n    $ pip install openai[datalib]\n\n",
     "output_type": "error",
     "traceback": [
      "\u001b[0;31m---------------------------------------------------------------------------\u001b[0m",
      "\u001b[0;31mMissingDependencyError\u001b[0m                    Traceback (most recent call last)",
      "\u001b[1;32m/Users/pnagarajan/projects/msft/data-champ/azure-vector-database-samples/azure_redis_cache/redis-sdk.ipynb Cell 16\u001b[0m line \u001b[0;36m2\n\u001b[1;32m      <a href='vscode-notebook-cell:/Users/pnagarajan/projects/msft/data-champ/azure-vector-database-samples/azure_redis_cache/redis-sdk.ipynb#X20sZmlsZQ%3D%3D?line=0'>1</a>\u001b[0m \u001b[39m# For using OpenAI to generate query embedding\u001b[39;00m\n\u001b[0;32m----> <a href='vscode-notebook-cell:/Users/pnagarajan/projects/msft/data-champ/azure-vector-database-samples/azure_redis_cache/redis-sdk.ipynb#X20sZmlsZQ%3D%3D?line=1'>2</a>\u001b[0m create_embedding(\u001b[39m'\u001b[39;49m\u001b[39mtest\u001b[39;49m\u001b[39m'\u001b[39;49m)\n",
      "\u001b[1;32m/Users/pnagarajan/projects/msft/data-champ/azure-vector-database-samples/azure_redis_cache/redis-sdk.ipynb Cell 16\u001b[0m line \u001b[0;36m9\n\u001b[1;32m      <a href='vscode-notebook-cell:/Users/pnagarajan/projects/msft/data-champ/azure-vector-database-samples/azure_redis_cache/redis-sdk.ipynb#X20sZmlsZQ%3D%3D?line=7'>8</a>\u001b[0m \u001b[39mdef\u001b[39;00m \u001b[39mcreate_embedding\u001b[39m(user_query):\n\u001b[0;32m----> <a href='vscode-notebook-cell:/Users/pnagarajan/projects/msft/data-champ/azure-vector-database-samples/azure_redis_cache/redis-sdk.ipynb#X20sZmlsZQ%3D%3D?line=8'>9</a>\u001b[0m     \u001b[39mreturn\u001b[39;00m openai\u001b[39m.\u001b[39;49mEmbedding\u001b[39m.\u001b[39;49mcreate(\u001b[39minput\u001b[39;49m\u001b[39m=\u001b[39;49muser_query,\n\u001b[1;32m     <a href='vscode-notebook-cell:/Users/pnagarajan/projects/msft/data-champ/azure-vector-database-samples/azure_redis_cache/redis-sdk.ipynb#X20sZmlsZQ%3D%3D?line=9'>10</a>\u001b[0m                                    deployment_id\u001b[39m=\u001b[39;49m\u001b[39m'\u001b[39;49m\u001b[39mada-deployment\u001b[39;49m\u001b[39m'\u001b[39;49m,\n\u001b[1;32m     <a href='vscode-notebook-cell:/Users/pnagarajan/projects/msft/data-champ/azure-vector-database-samples/azure_redis_cache/redis-sdk.ipynb#X20sZmlsZQ%3D%3D?line=10'>11</a>\u001b[0m                                              model\u001b[39m=\u001b[39;49m\u001b[39m'\u001b[39;49m\u001b[39mtext-embedding-ada-002\u001b[39;49m\u001b[39m'\u001b[39;49m,\n\u001b[1;32m     <a href='vscode-notebook-cell:/Users/pnagarajan/projects/msft/data-champ/azure-vector-database-samples/azure_redis_cache/redis-sdk.ipynb#X20sZmlsZQ%3D%3D?line=11'>12</a>\u001b[0m                                             )[\u001b[39m\"\u001b[39m\u001b[39mdata\u001b[39m\u001b[39m\"\u001b[39m][\u001b[39m0\u001b[39m][\u001b[39m'\u001b[39m\u001b[39membedding\u001b[39m\u001b[39m'\u001b[39m]\n",
      "File \u001b[0;32m~/projects/msft/data-champ/azure-vector-database-samples/.venv/lib/python3.9/site-packages/openai/api_resources/embedding.py:42\u001b[0m, in \u001b[0;36mEmbedding.create\u001b[0;34m(cls, *args, **kwargs)\u001b[0m\n\u001b[1;32m     38\u001b[0m     \u001b[39mfor\u001b[39;00m data \u001b[39min\u001b[39;00m response\u001b[39m.\u001b[39mdata:\n\u001b[1;32m     39\u001b[0m \n\u001b[1;32m     40\u001b[0m         \u001b[39m# If an engine isn't using this optimization, don't do anything\u001b[39;00m\n\u001b[1;32m     41\u001b[0m         \u001b[39mif\u001b[39;00m \u001b[39mtype\u001b[39m(data[\u001b[39m\"\u001b[39m\u001b[39membedding\u001b[39m\u001b[39m\"\u001b[39m]) \u001b[39m==\u001b[39m \u001b[39mstr\u001b[39m:\n\u001b[0;32m---> 42\u001b[0m             assert_has_numpy()\n\u001b[1;32m     43\u001b[0m             data[\u001b[39m\"\u001b[39m\u001b[39membedding\u001b[39m\u001b[39m\"\u001b[39m] \u001b[39m=\u001b[39m np\u001b[39m.\u001b[39mfrombuffer(\n\u001b[1;32m     44\u001b[0m                 base64\u001b[39m.\u001b[39mb64decode(data[\u001b[39m\"\u001b[39m\u001b[39membedding\u001b[39m\u001b[39m\"\u001b[39m]), dtype\u001b[39m=\u001b[39m\u001b[39m\"\u001b[39m\u001b[39mfloat32\u001b[39m\u001b[39m\"\u001b[39m\n\u001b[1;32m     45\u001b[0m             )\u001b[39m.\u001b[39mtolist()\n\u001b[1;32m     47\u001b[0m \u001b[39mreturn\u001b[39;00m response\n",
      "File \u001b[0;32m~/projects/msft/data-champ/azure-vector-database-samples/.venv/lib/python3.9/site-packages/openai/datalib/numpy_helper.py:15\u001b[0m, in \u001b[0;36massert_has_numpy\u001b[0;34m()\u001b[0m\n\u001b[1;32m     13\u001b[0m \u001b[39mdef\u001b[39;00m \u001b[39massert_has_numpy\u001b[39m():\n\u001b[1;32m     14\u001b[0m     \u001b[39mif\u001b[39;00m \u001b[39mnot\u001b[39;00m HAS_NUMPY:\n\u001b[0;32m---> 15\u001b[0m         \u001b[39mraise\u001b[39;00m MissingDependencyError(NUMPY_INSTRUCTIONS)\n",
      "\u001b[0;31mMissingDependencyError\u001b[0m: \n\nOpenAI error:\n\n    missing `numpy`\n\nThis feature requires additional dependencies:\n\n    $ pip install openai[datalib]\n\n"
     ]
    }
   ],
   "source": [
    "# For using OpenAI to generate query embedding\n",
    "create_embedding('test')"
   ]
  }
 ],
 "metadata": {
  "kernelspec": {
   "display_name": ".venv",
   "language": "python",
   "name": "python3"
  },
  "language_info": {
   "codemirror_mode": {
    "name": "ipython",
    "version": 3
   },
   "file_extension": ".py",
   "mimetype": "text/x-python",
   "name": "python",
   "nbconvert_exporter": "python",
   "pygments_lexer": "ipython3",
   "version": "3.9.16"
  },
  "orig_nbformat": 4
 },
 "nbformat": 4,
 "nbformat_minor": 2
}
