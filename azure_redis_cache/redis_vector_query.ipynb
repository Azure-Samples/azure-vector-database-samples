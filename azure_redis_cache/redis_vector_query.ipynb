{
 "cells": [
  {
   "cell_type": "markdown",
   "metadata": {},
   "source": [
    "## Vector Search on Azure Cache for Redis"
   ]
  },
  {
   "cell_type": "markdown",
   "metadata": {},
   "source": [
    "### Set environment variables"
   ]
  },
  {
   "cell_type": "code",
   "execution_count": 1,
   "metadata": {},
   "outputs": [
    {
     "data": {
      "text/plain": [
       "True"
      ]
     },
     "execution_count": 1,
     "metadata": {},
     "output_type": "execute_result"
    }
   ],
   "source": [
    "import openai\n",
    "\n",
    "from typing import List, Iterator\n",
    "from dotenv import load_dotenv\n",
    "import pandas as pd\n",
    "import numpy as np\n",
    "import os\n",
    "from ast import literal_eval\n",
    "\n",
    "# Redis client library for Python\n",
    "import redis\n",
    "\n",
    "# Ignore unclosed SSL socket warnings - optional in case you get these errors\n",
    "import warnings\n",
    "\n",
    "warnings.filterwarnings(action=\"ignore\", message=\"unclosed\", category=ResourceWarning)\n",
    "warnings.filterwarnings(\"ignore\", category=DeprecationWarning) \n",
    "\n",
    "# Loading the env from the .env file\n",
    "load_dotenv()"
   ]
  },
  {
   "cell_type": "markdown",
   "metadata": {},
   "source": [
    "#### Setup Redis connection"
   ]
  },
  {
   "cell_type": "code",
   "execution_count": 2,
   "metadata": {},
   "outputs": [
    {
     "data": {
      "text/plain": [
       "True"
      ]
     },
     "execution_count": 2,
     "metadata": {},
     "output_type": "execute_result"
    }
   ],
   "source": [
    "import redis\n",
    "from redis.commands.search.indexDefinition import (\n",
    "    IndexDefinition,\n",
    "    IndexType\n",
    ")\n",
    "from redis.commands.search.query import Query\n",
    "from redis.commands.search.field import (\n",
    "    TextField,\n",
    "    VectorField\n",
    ")\n",
    "import os\n",
    "\n",
    "REDIS_HOST =  os.environ.get(\"REDIS_HOST\")\n",
    "REDIS_PORT = os.environ.get(\"REDIS_PORT\")\n",
    "REDIS_PASSWORD = os.environ.get(\"REDIS_PASSWORD\")\n",
    "# Connect to Redis\n",
    "redis_client = redis.Redis(\n",
    "    host=REDIS_HOST,\n",
    "    port=REDIS_PORT,\n",
    "    ssl=True,\n",
    "    password=REDIS_PASSWORD\n",
    ")\n",
    "# should return True\n",
    "redis_client.ping()"
   ]
  },
  {
   "cell_type": "markdown",
   "metadata": {},
   "source": [
    "#### Setup OpenAI to create embeddings for the user query"
   ]
  },
  {
   "cell_type": "code",
   "execution_count": 3,
   "metadata": {},
   "outputs": [],
   "source": [
    "#setup azure open ai\n",
    "openai.api_type = \"azure\"\n",
    "openai.api_key = os.environ.get(\"OPENAI_API_KEY\")\n",
    "openai.api_base = os.environ.get(\"OPENAI_BASE_URL\")\n",
    "openai.api_version = \"2023-06-01-preview\"\n",
    "\n",
    "# This is the deployment name, running the ada model\n",
    "EMBEDDING_MODEL = \"ada-deployment\"\n",
    "\n",
    "def create_embedding(user_query):\n",
    "    return openai.Embedding.create(input=user_query,engine=EMBEDDING_MODEL)['data'][0]['embedding']\n",
    "    "
   ]
  },
  {
   "cell_type": "markdown",
   "metadata": {},
   "source": [
    "#### Redis Vector Search"
   ]
  },
  {
   "cell_type": "code",
   "execution_count": 4,
   "metadata": {},
   "outputs": [],
   "source": [
    "def search_redis(\n",
    "    redis_client: redis.Redis,\n",
    "    user_query: str,\n",
    "    index_name: str,\n",
    "    vector_field: str, \n",
    "    return_fields: list = [\"title\", \"category\", \"content\", \"vector_score\"],\n",
    "    hybrid_fields = \"*\",\n",
    "    k: int = 20,\n",
    ") -> List[dict]:\n",
    "\n",
    "    # Creates embedding vector from user query\n",
    "    embedded_query = create_embedding(user_query=user_query)\n",
    "\n",
    "    # Prepare the Query\n",
    "    base_query = f'{hybrid_fields}=>[KNN {k} @{vector_field} $vector AS vector_score]'\n",
    "    query = (\n",
    "        Query(base_query)\n",
    "         .return_fields(*return_fields)\n",
    "         .sort_by(\"vector_score\")\n",
    "         .paging(0, k)\n",
    "         .dialect(2)\n",
    "    )\n",
    "    params_dict = {\"vector\": np.array(embedded_query).astype(dtype=np.float32).tobytes()}\n",
    "\n",
    "    # perform vector search\n",
    "    results = redis_client.ft(index_name).search(query, params_dict)\n",
    "    return results"
   ]
  },
  {
   "cell_type": "markdown",
   "metadata": {},
   "source": [
    "#### Searching of text information (product)"
   ]
  },
  {
   "cell_type": "code",
   "execution_count": 6,
   "metadata": {},
   "outputs": [
    {
     "name": "stdout",
     "output_type": "stream",
     "text": [
      "0. Azure Database for MySQL (Score: 0.768)\n",
      "1. Azure SQL Database (Score: 0.763)\n",
      "2. Azure Database for MariaDB (Score: 0.763)\n",
      "3. Azure Database for PostgreSQL (Score: 0.76)\n",
      "4. Azure Data Catalog (Score: 0.754)\n",
      "5. Azure SQL Data Warehouse (Score: 0.75)\n",
      "6. Azure Cosmos DB (Score: 0.747)\n",
      "7. Azure Cosmos DB (Score: 0.744)\n",
      "8. Azure Database Migration Service (Score: 0.744)\n",
      "9. Azure Cognitive Search (Score: 0.742)\n"
     ]
    }
   ],
   "source": [
    "# product search\n",
    "PRODUCT_TEXT_INDEX_NAME=\"product-text-index\"\n",
    "PRODUCT_SEARCH_FIELD = \"content_vector\"\n",
    "PRODUCT_RETURN_FIELDS = [\"title\", \"category\", \"content\", \"vector_score\"]\n",
    "results = search_redis(redis_client, 'show some database related products', PRODUCT_TEXT_INDEX_NAME, PRODUCT_SEARCH_FIELD, PRODUCT_RETURN_FIELDS, k=10)\n",
    "for i, article in enumerate(results.docs):\n",
    "        score = 1 - float(article.vector_score)\n",
    "        print(f\"{i}. {article.title} (Score: {round(score ,3) })\")"
   ]
  },
  {
   "cell_type": "markdown",
   "metadata": {},
   "source": [
    "#### Searching of doc information (employee handbook)"
   ]
  },
  {
   "cell_type": "code",
   "execution_count": 7,
   "metadata": {},
   "outputs": [
    {
     "name": "stdout",
     "output_type": "stream",
     "text": [
      "0. customers.  \n",
      " \n",
      "Company Values:  \n",
      "1. Quality: We strive to provide the highest quality products and services to our customers.  \n",
      "2. Integrity: We value honesty, respect, and t rustworthiness in all our interactions.  \n",
      "3. Innovation: We encourage creativity and support new ideas and approaches to our \n",
      "business.  \n",
      "4. Teamwork: We believe that by working together, we can achieve greater success.  \n",
      "5. Respect: We treat all our employees, c ustomers, and partners with respect and dignity.  \n",
      "6. Excellence: We strive to exceed expectations and provide excellent service.   7. Accountability: We take responsibility for our actions and hold ourselves and others \n",
      "accountable for their performance.  \n",
      "8. Co mmunity: We are committed to making a positive impact in the communities in which \n",
      "we work and live.  \n",
      "Performance Reviews  \n",
      " \n",
      "Performance Reviews at Contoso Electronics  \n",
      " \n",
      "At Contoso Electronics, we strive to ensure our employees are getting the feedback they\n"
     ]
    }
   ],
   "source": [
    "# employee search\n",
    "EMP_TEXT_INDEX_NAME=\"employee-text-index\"\n",
    "EMP_SEARCH_FIELD = \"chunk_content_vector\"\n",
    "EMP_RETURN_FIELDS = [\"chunk_content\"]\n",
    "results = search_redis(redis_client, 'what are the company values', EMP_TEXT_INDEX_NAME, EMP_SEARCH_FIELD, EMP_RETURN_FIELDS, k=1)\n",
    "for i, article in enumerate(results.docs):\n",
    "        print(f\"{i}. {article.chunk_content}\")"
   ]
  },
  {
   "cell_type": "markdown",
   "metadata": {},
   "source": [
    "#### Image search"
   ]
  },
  {
   "cell_type": "code",
   "execution_count": null,
   "metadata": {},
   "outputs": [],
   "source": [
    "## TODO"
   ]
  },
  {
   "cell_type": "markdown",
   "metadata": {},
   "source": [
    "#### Hybrid search"
   ]
  },
  {
   "cell_type": "code",
   "execution_count": null,
   "metadata": {},
   "outputs": [],
   "source": [
    "## TODO"
   ]
  },
  {
   "cell_type": "markdown",
   "metadata": {},
   "source": [
    "#### Image search example"
   ]
  },
  {
   "cell_type": "code",
   "execution_count": null,
   "metadata": {},
   "outputs": [],
   "source": [
    "## TODO"
   ]
  }
 ],
 "metadata": {
  "kernelspec": {
   "display_name": "postgresql",
   "language": "python",
   "name": "python3"
  },
  "language_info": {
   "codemirror_mode": {
    "name": "ipython",
    "version": 3
   },
   "file_extension": ".py",
   "mimetype": "text/x-python",
   "name": "python",
   "nbconvert_exporter": "python",
   "pygments_lexer": "ipython3",
   "version": "3.9.16"
  },
  "orig_nbformat": 4
 },
 "nbformat": 4,
 "nbformat_minor": 2
}
