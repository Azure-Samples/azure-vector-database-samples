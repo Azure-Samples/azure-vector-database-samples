{
 "cells": [
  {
   "cell_type": "markdown",
   "metadata": {},
   "source": [
    "## Vector Search - Azure Cache for Redis\n",
    "\n",
    "### Prerequisites\n",
    "  \n",
    "- Generate embeddings - [generate_embeddings.ipynb](../common/generate_embeddings.ipynb)\n",
    "- Create table and ingest embeddings - [redis_data_pipeline.ipynb](.../redis_data_pipeline.ipynb)"
   ]
  },
  {
   "cell_type": "markdown",
   "metadata": {},
   "source": [
    "#### Set environment variables"
   ]
  },
  {
   "cell_type": "code",
   "execution_count": null,
   "metadata": {},
   "outputs": [],
   "source": [
    "from dotenv import load_dotenv\n",
    "import os\n",
    "import openai\n",
    "import warnings\n",
    "\n",
    "warnings.filterwarnings(action=\"ignore\", message=\"unclosed\", category=ResourceWarning)\n",
    "warnings.filterwarnings(\"ignore\", category=DeprecationWarning) \n",
    "\n",
    "load_dotenv()\n",
    "\n",
    "redis_host  = os.getenv(\"REDIS_HOST\")\n",
    "if redis_host is None or redis_host == \"\":\n",
    "    print(\"REDIS_HOST environment variable not set.\")\n",
    "    exit()\n",
    "\n",
    "redis_port  = os.getenv(\"REDIS_PORT\")\n",
    "if redis_port is None or redis_port == \"\":\n",
    "    print(\"REDIS_PORT environment variable not set.\")\n",
    "    exit()\n",
    "\n",
    "redis_password  = os.getenv(\"REDIS_PASSWORD\")\n",
    "if redis_password is None or redis_password == \"\":\n",
    "    print(\"REDIS_PASSWORD environment variable not set.\")\n",
    "    exit()\n",
    "\n",
    "aoai_endpoint  = os.getenv(\"AOAI_ENDPOINT\")\n",
    "if aoai_endpoint is None or aoai_endpoint == \"\":\n",
    "    print(\"AOAI_ENDPOINT environment variable not set.\")\n",
    "    exit()\n",
    "\n",
    "aoai_api_version  = os.getenv(\"AOAI_API_VERSION\")\n",
    "if aoai_api_version is None or aoai_api_version == \"\":\n",
    "    print(\"AOAI_API_VERSION environment variable not set.\")\n",
    "    exit()\n",
    "\n",
    "aoai_embedding_deployed_model  = os.getenv(\"AOAI_EMBEDDING_DEPLOYED_MODEL\")\n",
    "if aoai_embedding_deployed_model is None or aoai_embedding_deployed_model == \"\":\n",
    "    print(\"AOAI_EMBEDDING_DEPLOYED_MODEL environment variable not set.\")\n",
    "    exit()\n",
    "\n",
    "azure_openai_key  = os.getenv(\"AZURE_OPENAI_KEY\")\n",
    "if azure_openai_key is None or azure_openai_key == \"\":\n",
    "    print(\"AZURE_OPENAI_KEY environment variable not set.\")\n",
    "    exit()\n",
    "\n",
    "com_vision_endpoint  = os.getenv(\"COM_VISION_ENDPOINT\")\n",
    "if com_vision_endpoint is None or com_vision_endpoint == \"\":\n",
    "    print(\"COM_VISION_ENDPOINT environment variable not set.\")\n",
    "    exit()\n",
    "\n",
    "com_vision_api_version  = os.getenv(\"COM_VISION_API_VERSION\")\n",
    "if com_vision_api_version is None or com_vision_api_version == \"\":\n",
    "    print(\"COM_VISION_API_VERSION environment variable not set.\")\n",
    "    exit()\n",
    "\n",
    "com_vision_key  = os.getenv(\"COM_VISION_KEY\")\n",
    "if com_vision_key is None or com_vision_key == \"\":\n",
    "    print(\"COM_VISION_KEY environment variable not set.\")\n",
    "    exit()\n",
    "\n",
    "text_table_name = 'text_sample'\n",
    "doc_table_name = 'doc_sample'\n",
    "image_table_name = 'image_sample'\n",
    "\n",
    "openai.api_type = \"azure\"\n",
    "openai.api_key = azure_openai_key\n",
    "openai.api_base = aoai_endpoint\n",
    "openai.api_version = aoai_api_version"
   ]
  },
  {
   "cell_type": "markdown",
   "metadata": {},
   "source": [
    "#### Setup Redis connection"
   ]
  },
  {
   "cell_type": "code",
   "execution_count": null,
   "metadata": {},
   "outputs": [],
   "source": [
    "import redis\n",
    "from redis.commands.search.query import Query\n",
    "import os\n",
    "\n",
    "# Connect to Redis\n",
    "redis_client = redis.Redis(\n",
    "    host=redis_host,\n",
    "    port=redis_port,\n",
    "    ssl=True,\n",
    "    password=redis_password\n",
    ")\n",
    "\n",
    "# should return True\n",
    "redis_client.ping()"
   ]
  },
  {
   "cell_type": "markdown",
   "metadata": {},
   "source": [
    "#### Helper method"
   ]
  },
  {
   "cell_type": "code",
   "execution_count": null,
   "metadata": {},
   "outputs": [],
   "source": [
    "from typing import List\n",
    "import numpy as np\n",
    "from openai import AzureOpenAI\n",
    "import requests\n",
    "import matplotlib.pyplot as plt\n",
    "from PIL import Image\n",
    "\n",
    "def search_redis(\n",
    "    redis_client: redis.Redis,\n",
    "    user_query: str,\n",
    "    index_name: str,\n",
    "    vector_field: str, \n",
    "    return_fields: list = [\"title\", \"category\", \"content\", \"vector_score\"],\n",
    "    hybrid_fields = \"*\",\n",
    "    k: int = 20,\n",
    ") -> List[dict]:\n",
    "\n",
    "    azure_oai_client = AzureOpenAI(\n",
    "        api_key = azure_openai_key,  \n",
    "        api_version = aoai_api_version,\n",
    "        azure_endpoint = aoai_endpoint\n",
    "        )\n",
    "    query_vector = azure_oai_client.embeddings.create(input = [user_query], model=aoai_embedding_deployed_model).data[0].embedding\n",
    "\n",
    "    # Prepare the Query\n",
    "    base_query = f'{hybrid_fields}=>[KNN {k} @{vector_field} $vector AS vector_score]'\n",
    "    \n",
    "    query = (\n",
    "        Query(base_query)\n",
    "         .return_fields(*return_fields)\n",
    "         .sort_by(\"vector_score\")\n",
    "         .paging(0, k)\n",
    "         .dialect(2)\n",
    "    )\n",
    "    params_dict = {\"vector\": np.array(query_vector).astype(dtype=np.float32).tobytes()}\n",
    "\n",
    "    # perform vector search\n",
    "    results = redis_client.ft(index_name).search(query, params_dict)\n",
    "    return results\n",
    "\n",
    "def vectorize_text_com_vision(com_vision_endpoint,com_vision_key,query):\n",
    "    vectorize_text_url = f\"{com_vision_endpoint}/computervision/retrieval:vectorizeText\"  \n",
    "    params = {  \n",
    "        \"api-version\": \"2023-02-01-preview\"  \n",
    "    } \n",
    "    headers = {  \n",
    "        \"Content-Type\": \"application/json\",  \n",
    "        \"Ocp-Apim-Subscription-Key\": com_vision_key  \n",
    "    }  \n",
    "    data = {\n",
    "        'text':query\n",
    "    }\n",
    "\n",
    "    response = requests.post(vectorize_text_url, params=params, headers=headers, json=data)\n",
    "    query_vector = response.json()[\"vector\"]\n",
    "\n",
    "    return query_vector\n",
    "\n",
    "def show_image(image_folder, image):\n",
    "    image_path = os.path.join(image_folder, image)\n",
    "    plt.imshow(Image.open(image_path))\n",
    "    plt.axis('off')\n",
    "    plt.show()"
   ]
  },
  {
   "cell_type": "markdown",
   "metadata": {},
   "source": [
    "#### Simple vector search\n",
    "\n",
    "This demo shows how to apply vector search on single field."
   ]
  },
  {
   "cell_type": "code",
   "execution_count": null,
   "metadata": {},
   "outputs": [],
   "source": [
    "text_search_field = \"title_vector\"\n",
    "text_return_fields = [\"title\", \"category\", \"content\", \"vector_score\"]\n",
    "results = search_redis(redis_client, 'products to store unstructured documents', text_table_name, text_search_field, text_return_fields, k=10)\n",
    "\n",
    "for i, article in enumerate(results.docs):\n",
    "        score = 1 - float(article.vector_score)\n",
    "        print(f\"{i}. {article.title} (Score: {round(score ,3) })\")"
   ]
  },
  {
   "cell_type": "markdown",
   "metadata": {},
   "source": [
    "#### Metadata filtering with vector search\n",
    "\n",
    "This demo shows how to apply metadata filtering (SQL - where, order by etc.) on top of vector search."
   ]
  },
  {
   "cell_type": "code",
   "execution_count": null,
   "metadata": {},
   "outputs": [],
   "source": [
    "text_search_field = \"title_vector\"\n",
    "text_return_fields = [\"title\", \"category\", \"content\", \"vector_score\"]\n",
    "hybrid_query = \"(@category:Databases)\"\n",
    "\n",
    "results = search_redis(redis_client, 'products to store unstructured documents', text_table_name, text_search_field, text_return_fields,hybrid_query, k=10)\n",
    "for i, article in enumerate(results.docs):\n",
    "        score = 1 - float(article.vector_score)\n",
    "        print(f\"{i}. {article.title} (Score: {round(score ,3) })\")"
   ]
  },
  {
   "cell_type": "markdown",
   "metadata": {},
   "source": [
    "#### Cross column vector search\n",
    "\n",
    "This demo shows how to apply vector search on multiple columns."
   ]
  },
  {
   "cell_type": "code",
   "execution_count": null,
   "metadata": {},
   "outputs": [],
   "source": [
    "# TODO"
   ]
  },
  {
   "cell_type": "markdown",
   "metadata": {},
   "source": [
    "#### Hybrid search\n",
    "\n",
    "This demo shows how to apply vector search in in conjunction with additional search methods, such as lexical search. \n"
   ]
  },
  {
   "cell_type": "code",
   "execution_count": null,
   "metadata": {},
   "outputs": [],
   "source": [
    "# TODO"
   ]
  },
  {
   "cell_type": "markdown",
   "metadata": {},
   "source": [
    "#### Range query\n",
    "\n",
    "It is possible to define a range query on a vector index. The range query is defined by a center vector and a radius. Given the search query (center vector), the result will be all vectors that are within the radius from the center vector."
   ]
  },
  {
   "cell_type": "code",
   "execution_count": null,
   "metadata": {},
   "outputs": [],
   "source": [
    "import numpy as np\n",
    "\n",
    "text_search_field = \"title_vector\"\n",
    "text_return_fields = [\"title\", \"category\", \"content\", \"vector_score\"]\n",
    "range_radius = 0.2\n",
    "search_query = 'store a blob'\n",
    "\n",
    "base_vector_query = f'@{text_search_field}:[VECTOR_RANGE {range_radius} $vector]=>{{$yield_distance_as: vector_score}}'\n",
    "\n",
    "azure_oai_client = AzureOpenAI(\n",
    "    api_key = azure_openai_key,  \n",
    "    api_version = aoai_api_version,\n",
    "    azure_endpoint = aoai_endpoint\n",
    "    )\n",
    "query_vector = azure_oai_client.embeddings.create(input = [search_query], model=aoai_embedding_deployed_model).data[0].embedding\n",
    "   \n",
    "query = (\n",
    "        Query(base_vector_query)\n",
    "         .return_fields(*text_return_fields)\n",
    "         .sort_by(\"vector_score\")\n",
    "         .dialect(2)\n",
    "    )\n",
    "params_dict = {\"vector\": np.array(query_vector).astype(dtype=np.float32).tobytes()}\n",
    "\n",
    "# perform vector range query search\n",
    "results = redis_client.ft(text_table_name).search(query, params_dict)\n",
    "    \n",
    "for i, article in enumerate(results.docs):\n",
    "        print(f\"{i}. {article.title} (Close by: {article.vector_score})\")     "
   ]
  },
  {
   "cell_type": "markdown",
   "metadata": {},
   "source": [
    "#### Document search example"
   ]
  },
  {
   "cell_type": "code",
   "execution_count": null,
   "metadata": {},
   "outputs": [],
   "source": [
    "# employee search\n",
    "doc_search_field = \"chunk_content_vector\"\n",
    "doc_search_return_fields = [\"chunk_content\"]\n",
    "results = search_redis(redis_client, 'what are the company values', doc_table_name, doc_search_field, doc_search_return_fields, k=1)\n",
    "for i, article in enumerate(results.docs):\n",
    "        print(f\"{i}. {article.chunk_content}\")"
   ]
  },
  {
   "cell_type": "markdown",
   "metadata": {},
   "source": [
    "#### Image search\n",
    "Using the Azure Cognitive Services Vision API, we convert the user query (string) to an embedded vector. We then use the vector search to find the most similar images in the database."
   ]
  },
  {
   "cell_type": "code",
   "execution_count": null,
   "metadata": {},
   "outputs": [],
   "source": [
    "query = 'flowers in a hand'\n",
    "query_vector = vectorize_text_com_vision(com_vision_endpoint,com_vision_key,query)\n",
    "image_folder = \"../data/images\"\n",
    "num_of_images = 2\n",
    "\n",
    "base_query = f'*=>[KNN {num_of_images} @image_vector $vector AS vector_score]'\n",
    "    \n",
    "query = (\n",
    "    Query(base_query)\n",
    "        .return_fields(*[\"image\", \"vector_score\"])\n",
    "        .sort_by(\"vector_score\")\n",
    "        .dialect(2)\n",
    ")\n",
    "params_dict = {\"vector\": np.array(query_vector).astype(dtype=np.float32).tobytes()}\n",
    "\n",
    "# perform vector search\n",
    "results = redis_client.ft(image_table_name).search(query, params_dict)\n",
    "\n",
    "for i, image in enumerate(results.docs):\n",
    "    show_image(image_folder, image.image)\n",
    "    print(\"\\n\")"
   ]
  }
 ],
 "metadata": {
  "kernelspec": {
   "display_name": "Python 3 (ipykernel)",
   "language": "python",
   "name": "python3"
  },
  "language_info": {
   "codemirror_mode": {
    "name": "ipython",
    "version": 3
   },
   "file_extension": ".py",
   "mimetype": "text/x-python",
   "name": "python",
   "nbconvert_exporter": "python",
   "pygments_lexer": "ipython3",
   "version": "3.10.13"
  },
  "orig_nbformat": 4
 },
 "nbformat": 4,
 "nbformat_minor": 2
}
