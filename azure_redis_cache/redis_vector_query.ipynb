{
 "cells": [
  {
   "cell_type": "markdown",
   "metadata": {},
   "source": [
    "## Vector Search on Azure Cache for Redis"
   ]
  },
  {
   "cell_type": "markdown",
   "metadata": {},
   "source": [
    "#### Set environment variables"
   ]
  },
  {
   "cell_type": "code",
   "execution_count": null,
   "metadata": {},
   "outputs": [],
   "source": [
    "from dotenv import load_dotenv\n",
    "import os\n",
    "import warnings\n",
    "\n",
    "warnings.filterwarnings(action=\"ignore\", message=\"unclosed\", category=ResourceWarning)\n",
    "warnings.filterwarnings(\"ignore\", category=DeprecationWarning) \n",
    "\n",
    "load_dotenv()\n",
    "\n",
    "redis_host  = os.getenv(\"REDIS_HOST\")\n",
    "if redis_host is None or redis_host == \"\":\n",
    "    print(\"REDIS_HOST environment variable not set.\")\n",
    "    exit()\n",
    "\n",
    "redis_port  = os.getenv(\"REDIS_PORT\")\n",
    "if redis_port is None or redis_port == \"\":\n",
    "    print(\"REDIS_PORT environment variable not set.\")\n",
    "    exit()\n",
    "\n",
    "redis_password  = os.getenv(\"REDIS_PASSWORD\")\n",
    "if redis_password is None or redis_password == \"\":\n",
    "    print(\"REDIS_PASSWORD environment variable not set.\")\n",
    "    exit()\n",
    "\n",
    "aoai_key  = os.getenv(\"AZURE_OPENAI_KEY\")\n",
    "if aoai_key is None or aoai_key == \"\":\n",
    "    print(\"AZURE_OPENAI_KEY environment variable not set.\")\n",
    "    exit()\n",
    "\n",
    "com_vision_key  = os.getenv(\"COMPUTER_VISION_KEY\")\n",
    "if com_vision_key is None or com_vision_key == \"\":\n",
    "    print(\"COMPUTER_VISION_KEY environment variable not set.\")\n",
    "    exit()\n",
    "\n",
    "aoai_endpoint = 'https://azure-openai-dnai.openai.azure.com'\n",
    "aoai_api_version = '2023-08-01-preview'\n",
    "aoai_embedding_deployed_model = 'embedding-ada'\n",
    "com_vision_endpoint = 'https://comvis007.cognitiveservices.azure.com/'\n",
    "\n",
    "text_table_name = 'text_sample'\n",
    "doc_table_name = 'doc_sample'\n",
    "image_table_name = 'image_sample'"
   ]
  },
  {
   "cell_type": "markdown",
   "metadata": {},
   "source": [
    "#### Setup Redis connection"
   ]
  },
  {
   "cell_type": "code",
   "execution_count": null,
   "metadata": {},
   "outputs": [],
   "source": [
    "import redis\n",
    "from redis.commands.search.indexDefinition import (\n",
    "    IndexDefinition,\n",
    "    IndexType\n",
    ")\n",
    "from redis.commands.search.query import Query\n",
    "from redis.commands.search.field import (\n",
    "    TextField,\n",
    "    VectorField\n",
    ")\n",
    "import os\n",
    "\n",
    "# Connect to Redis\n",
    "redis_client = redis.Redis(\n",
    "    host=redis_host,\n",
    "    port=redis_port,\n",
    "    ssl=True,\n",
    "    password=redis_password\n",
    ")\n",
    "\n",
    "# should return True\n",
    "redis_client.ping()"
   ]
  },
  {
   "cell_type": "markdown",
   "metadata": {},
   "source": [
    "#### Redis Vector Search"
   ]
  },
  {
   "cell_type": "code",
   "execution_count": null,
   "metadata": {},
   "outputs": [],
   "source": [
    "from typing import List, Iterator\n",
    "import openai\n",
    "from openai.embeddings_utils import get_embedding, cosine_similarity\n",
    "\n",
    "def search_redis(\n",
    "    redis_client: redis.Redis,\n",
    "    user_query: str,\n",
    "    index_name: str,\n",
    "    vector_field: str, \n",
    "    return_fields: list = [\"title\", \"category\", \"content\", \"vector_score\"],\n",
    "    hybrid_fields = \"*\",\n",
    "    k: int = 20,\n",
    ") -> List[dict]:\n",
    "\n",
    "    query_vector = get_embedding(user_query, engine = aoai_embedding_deployed_model)\n",
    "\n",
    "    # Prepare the Query\n",
    "    base_query = f'{hybrid_fields}=>[KNN {k} @{vector_field} $vector AS vector_score]'\n",
    "    query = (\n",
    "        Query(base_query)\n",
    "         .return_fields(*return_fields)\n",
    "         .sort_by(\"vector_score\")\n",
    "         .paging(0, k)\n",
    "         .dialect(2)\n",
    "    )\n",
    "    params_dict = {\"vector\": np.array(query_vector).astype(dtype=np.float32).tobytes()}\n",
    "\n",
    "    # perform vector search\n",
    "    results = redis_client.ft(index_name).search(query, params_dict)\n",
    "    return results"
   ]
  },
  {
   "cell_type": "markdown",
   "metadata": {},
   "source": [
    "#### Simple vector search"
   ]
  },
  {
   "cell_type": "code",
   "execution_count": null,
   "metadata": {},
   "outputs": [],
   "source": [
    "text_search_field = \"title_vector\"\n",
    "text_return_fields = [\"title\", \"category\", \"content\", \"vector_score\"]\n",
    "results = search_redis(redis_client, 'show some database related products', text_table_name, text_search_field, text_return_fields, k=10)\n",
    "for i, article in enumerate(results.docs):\n",
    "        score = 1 - float(article.vector_score)\n",
    "        print(f\"{i}. {article.title} (Score: {round(score ,3) })\")"
   ]
  },
  {
   "cell_type": "markdown",
   "metadata": {},
   "source": [
    "#### Document search example"
   ]
  },
  {
   "cell_type": "code",
   "execution_count": null,
   "metadata": {},
   "outputs": [],
   "source": [
    "# employee search\n",
    "doc_search_field = \"chunk_content_vector\"\n",
    "doc_search_return_fields = [\"chunk_content\"]\n",
    "results = search_redis(redis_client, 'what are the company values', doc_table_name, doc_search_field, doc_search_return_fields, k=1)\n",
    "for i, article in enumerate(results.docs):\n",
    "        print(f\"{i}. {article.chunk_content}\")"
   ]
  },
  {
   "cell_type": "markdown",
   "metadata": {},
   "source": [
    "#### Image search"
   ]
  },
  {
   "cell_type": "code",
   "execution_count": null,
   "metadata": {},
   "outputs": [],
   "source": [
    "## TODO"
   ]
  },
  {
   "cell_type": "markdown",
   "metadata": {},
   "source": [
    "#### Hybrid search"
   ]
  },
  {
   "cell_type": "code",
   "execution_count": null,
   "metadata": {},
   "outputs": [],
   "source": [
    "## TODO"
   ]
  }
 ],
 "metadata": {
  "kernelspec": {
   "display_name": "Python 3 (ipykernel)",
   "language": "python",
   "name": "python3"
  },
  "language_info": {
   "codemirror_mode": {
    "name": "ipython",
    "version": 3
   },
   "file_extension": ".py",
   "mimetype": "text/x-python",
   "name": "python",
   "nbconvert_exporter": "python",
   "pygments_lexer": "ipython3",
   "version": "3.9.18"
  },
  "orig_nbformat": 4
 },
 "nbformat": 4,
 "nbformat_minor": 2
}
