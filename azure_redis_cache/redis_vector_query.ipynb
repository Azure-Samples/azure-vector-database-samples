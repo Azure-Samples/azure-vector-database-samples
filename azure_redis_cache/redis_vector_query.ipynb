{
 "cells": [
  {
   "cell_type": "markdown",
   "metadata": {},
   "source": [
    "## Vector Search on Azure Cache for Redis"
   ]
  },
  {
   "cell_type": "markdown",
   "metadata": {},
   "source": [
    "#### Set environment variables"
   ]
  },
  {
   "cell_type": "code",
   "execution_count": 1,
   "metadata": {},
   "outputs": [],
   "source": [
    "from dotenv import load_dotenv\n",
    "import os\n",
    "import openai\n",
    "import warnings\n",
    "\n",
    "warnings.filterwarnings(action=\"ignore\", message=\"unclosed\", category=ResourceWarning)\n",
    "warnings.filterwarnings(\"ignore\", category=DeprecationWarning) \n",
    "\n",
    "load_dotenv()\n",
    "\n",
    "redis_host  = os.getenv(\"REDIS_HOST\")\n",
    "if redis_host is None or redis_host == \"\":\n",
    "    print(\"REDIS_HOST environment variable not set.\")\n",
    "    exit()\n",
    "\n",
    "redis_port  = os.getenv(\"REDIS_PORT\")\n",
    "if redis_port is None or redis_port == \"\":\n",
    "    print(\"REDIS_PORT environment variable not set.\")\n",
    "    exit()\n",
    "\n",
    "redis_password  = os.getenv(\"REDIS_PASSWORD\")\n",
    "if redis_password is None or redis_password == \"\":\n",
    "    print(\"REDIS_PASSWORD environment variable not set.\")\n",
    "    exit()\n",
    "\n",
    "aoai_key  = os.getenv(\"AZURE_OPENAI_KEY\")\n",
    "if aoai_key is None or aoai_key == \"\":\n",
    "    print(\"AZURE_OPENAI_KEY environment variable not set.\")\n",
    "    exit()\n",
    "\n",
    "# com_vision_key  = os.getenv(\"COMPUTER_VISION_KEY\")\n",
    "# if com_vision_key is None or com_vision_key == \"\":\n",
    "#     print(\"COMPUTER_VISION_KEY environment variable not set.\")\n",
    "#     exit()\n",
    "\n",
    "aoai_endpoint = 'https://cog-gavkwsts6rr74openai.openai.azure.com/'\n",
    "aoai_api_version = '2023-08-01-preview'\n",
    "aoai_embedding_deployed_model = 'ada-deployment'\n",
    "\n",
    "# com_vision_endpoint = 'https://comvis007.cognitiveservices.azure.com/'\n",
    "\n",
    "openai.api_type = \"azure\"\n",
    "openai.api_key = os.environ.get(\"AZURE_OPENAI_KEY\")\n",
    "openai.api_base = os.environ.get(\"AZURE_OPENAI_URL\")\n",
    "openai.api_version = \"2023-06-01-preview\"\n",
    "\n",
    "text_table_name = 'text_sample'\n",
    "doc_table_name = 'doc_sample'\n",
    "image_table_name = 'image_sample'"
   ]
  },
  {
   "cell_type": "markdown",
   "metadata": {},
   "source": [
    "#### Setup Redis connection"
   ]
  },
  {
   "cell_type": "code",
   "execution_count": 2,
   "metadata": {},
   "outputs": [
    {
     "data": {
      "text/plain": [
       "True"
      ]
     },
     "execution_count": 2,
     "metadata": {},
     "output_type": "execute_result"
    }
   ],
   "source": [
    "import redis\n",
    "from redis.commands.search.indexDefinition import (\n",
    "    IndexDefinition,\n",
    "    IndexType\n",
    ")\n",
    "from redis.commands.search.query import Query\n",
    "from redis.commands.search.field import (\n",
    "    TextField,\n",
    "    VectorField\n",
    ")\n",
    "import os\n",
    "\n",
    "# Connect to Redis\n",
    "redis_client = redis.Redis(\n",
    "    host=redis_host,\n",
    "    port=redis_port,\n",
    "    ssl=True,\n",
    "    password=redis_password\n",
    ")\n",
    "\n",
    "# should return True\n",
    "redis_client.ping()"
   ]
  },
  {
   "cell_type": "markdown",
   "metadata": {},
   "source": [
    "#### Redis Vector Search"
   ]
  },
  {
   "cell_type": "code",
   "execution_count": 34,
   "metadata": {},
   "outputs": [],
   "source": [
    "from typing import List, Iterator\n",
    "import openai\n",
    "import numpy as np\n",
    "from openai.embeddings_utils import get_embedding, cosine_similarity\n",
    "\n",
    "def create_embedding(user_query):\n",
    "    return openai.Embedding.create(input=user_query,engine=aoai_embedding_deployed_model)['data'][0]['embedding']\n",
    "\n",
    "def search_redis(\n",
    "    redis_client: redis.Redis,\n",
    "    user_query: str,\n",
    "    index_name: str,\n",
    "    vector_field: str, \n",
    "    return_fields: list = [\"title\", \"category\", \"content\", \"vector_score\"],\n",
    "    hybrid_fields = \"*\",\n",
    "    k: int = 20,\n",
    ") -> List[dict]:\n",
    "    try:\n",
    "        query_vector = create_embedding(user_query)\n",
    "    except Exception as e:\n",
    "        print(e)\n",
    "        return []\n",
    "\n",
    "    # Prepare the Query\n",
    "    base_query = f'{hybrid_fields}=>[KNN {k} @{vector_field} $vector AS vector_score]'\n",
    "    \n",
    "    query = (\n",
    "        Query(base_query)\n",
    "         .return_fields(*return_fields)\n",
    "         .sort_by(\"vector_score\")\n",
    "         .paging(0, k)\n",
    "         .dialect(2)\n",
    "    )\n",
    "    params_dict = {\"vector\": np.array(query_vector).astype(dtype=np.float32).tobytes()}\n",
    "\n",
    "    # perform vector search\n",
    "    results = redis_client.ft(index_name).search(query, params_dict)\n",
    "    return results"
   ]
  },
  {
   "cell_type": "markdown",
   "metadata": {},
   "source": [
    "#### Simple vector search"
   ]
  },
  {
   "cell_type": "code",
   "execution_count": 21,
   "metadata": {},
   "outputs": [
    {
     "name": "stdout",
     "output_type": "stream",
     "text": [
      "0. Azure Queue Storage (Score: 0.766)\n",
      "1. Azure Blob Storage (Score: 0.765)\n",
      "2. Azure Table Storage (Score: 0.762)\n",
      "3. Azure Storage (Score: 0.76)\n",
      "4. Azure Cognitive Search (Score: 0.751)\n",
      "5. Azure File Storage (Score: 0.749)\n",
      "6. Azure Data Lake Storage (Score: 0.745)\n",
      "7. Azure Cognitive Services (Score: 0.742)\n",
      "8. Azure Cognitive Services (Score: 0.742)\n",
      "9. Azure Data Box (Score: 0.741)\n"
     ]
    }
   ],
   "source": [
    "text_search_field = \"title_vector\"\n",
    "text_return_fields = [\"title\", \"category\", \"content\", \"vector_score\"]\n",
    "results = search_redis(redis_client, 'products to store unstructured documents', text_table_name, text_search_field, text_return_fields, k=10)\n",
    "for i, article in enumerate(results.docs):\n",
    "        score = 1 - float(article.vector_score)\n",
    "        print(f\"{i}. {article.title} (Score: {round(score ,3) })\")"
   ]
  },
  {
   "cell_type": "markdown",
   "metadata": {},
   "source": [
    "#### Document search example"
   ]
  },
  {
   "cell_type": "code",
   "execution_count": 12,
   "metadata": {},
   "outputs": [
    {
     "name": "stdout",
     "output_type": "stream",
     "text": [
      "0. customers.  \n",
      " \n",
      "Company Values:  \n",
      "1. Quality: We strive to provide the highest quality products and services to our customers.  \n",
      "2. Integrity: We value honesty, respect, and t rustworthiness in all our interactions.  \n",
      "3. Innovation: We encourage creativity and support new ideas and approaches to our \n",
      "business.  \n",
      "4. Teamwork: We believe that by working together, we can achieve greater success.  \n",
      "5. Respect: We treat all our employees, c ustomers, and partners with respect and dignity.  \n",
      "6. Excellence: We strive to exceed expectations and provide excellent service.   7. Accountability: We take responsibility for our actions and hold ourselves and others \n",
      "accountable for their performance.  \n",
      "8. Co mmunity: We are committed to making a positive impact in the communities in which \n",
      "we work and live.  \n",
      "Performance Reviews  \n",
      " \n",
      "Performance Reviews at Contoso Electronics  \n",
      " \n",
      "At Contoso Electronics, we strive to ensure our employees are getting the feedback they\n"
     ]
    }
   ],
   "source": [
    "# employee search\n",
    "doc_search_field = \"chunk_content_vector\"\n",
    "doc_search_return_fields = [\"chunk_content\"]\n",
    "results = search_redis(redis_client, 'what are the company values', doc_table_name, doc_search_field, doc_search_return_fields, k=1)\n",
    "for i, article in enumerate(results.docs):\n",
    "        print(f\"{i}. {article.chunk_content}\")"
   ]
  },
  {
   "cell_type": "code",
   "execution_count": null,
   "metadata": {},
   "outputs": [],
   "source": [
    "import requests\n",
    "\n",
    "def vectorize_text_com_vision(com_vision_endpoint,com_vision_key,query):\n",
    "    vectorize_text_url = f\"{com_vision_endpoint}/computervision/retrieval:vectorizeText\"  \n",
    "    params = {  \n",
    "        \"api-version\": \"2023-02-01-preview\"  \n",
    "    } \n",
    "    headers = {  \n",
    "        \"Content-Type\": \"application/json\",  \n",
    "        \"Ocp-Apim-Subscription-Key\": com_vision_key  \n",
    "    }  \n",
    "    data = {\n",
    "        'text':query\n",
    "    }\n",
    "\n",
    "    response = requests.post(vectorize_text_url, params=params, headers=headers, json=data)\n",
    "    query_vector = response.json()[\"vector\"]\n",
    "\n",
    "    return query_vector\n",
    "\n",
    "def show_image(image_folder, image):\n",
    "    image_path = os.path.join(image_folder, image)\n",
    "    plt.imshow(Image.open(image_path))\n",
    "    plt.axis('off')\n",
    "    plt.show()"
   ]
  },
  {
   "cell_type": "markdown",
   "metadata": {},
   "source": [
    "#### Image search"
   ]
  },
  {
   "cell_type": "code",
   "execution_count": null,
   "metadata": {},
   "outputs": [],
   "source": [
    "## TODO\n"
   ]
  },
  {
   "cell_type": "markdown",
   "metadata": {},
   "source": [
    "#### Hybrid search"
   ]
  },
  {
   "cell_type": "code",
   "execution_count": 20,
   "metadata": {},
   "outputs": [
    {
     "name": "stdout",
     "output_type": "stream",
     "text": [
      "0. Azure SQL Data Warehouse (Score: 0.739)\n",
      "1. Azure Cosmos DB (Score: 0.738)\n",
      "2. Azure Cosmos DB (Score: 0.738)\n",
      "3. Azure Database Migration Service (Score: 0.725)\n",
      "4. Azure Database for PostgreSQL (Score: 0.723)\n",
      "5. Azure Database for MySQL (Score: 0.721)\n",
      "6. Azure SQL Database (Score: 0.72)\n",
      "7. Azure Cache for Redis (Score: 0.717)\n",
      "8. Azure SQL Managed Instance (Score: 0.712)\n",
      "9. Azure Database for MariaDB (Score: 0.71)\n"
     ]
    }
   ],
   "source": [
    "# Hybrid search in Redis is done by applying a pre-filtering query to the index, and then applying a vector search to the results of the pre-filtering query.\n",
    "\n",
    "text_search_field = \"title_vector\"\n",
    "text_return_fields = [\"title\", \"category\", \"content\", \"vector_score\"]\n",
    "hybrid_query = \"(@category:Databases)\"\n",
    "\n",
    "results = search_redis(redis_client, 'products to store unstructured documents', text_table_name, text_search_field, text_return_fields,hybrid_query, k=10)\n",
    "for i, article in enumerate(results.docs):\n",
    "        score = 1 - float(article.vector_score)\n",
    "        print(f\"{i}. {article.title} (Score: {round(score ,3) })\")"
   ]
  },
  {
   "cell_type": "markdown",
   "metadata": {},
   "source": [
    "#### Range Query on Azure Cache for Redis\n",
    "\n",
    "It is possible to define a range query on a vector index. The range query is defined by a center vector and a radius. Given the search query (center vector), the result will be all vectors that are within the radius from the center vector."
   ]
  },
  {
   "cell_type": "code",
   "execution_count": 41,
   "metadata": {},
   "outputs": [
    {
     "name": "stdout",
     "output_type": "stream",
     "text": [
      "0. Azure Blob Storage (Score: 0.13201379776)\n",
      "1. Azure Table Storage (Score: 0.190510332584)\n",
      "2. Azure Storage (Score: 0.192014217377)\n",
      "3. Azure File Storage (Score: 0.197330653667)\n"
     ]
    }
   ],
   "source": [
    "import numpy as np\n",
    "\n",
    "def create_embedding(user_query):\n",
    "    return openai.Embedding.create(input=user_query,engine=aoai_embedding_deployed_model)['data'][0]['embedding']\n",
    "\n",
    "text_search_field = \"title_vector\"\n",
    "text_return_fields = [\"title\", \"category\", \"content\", \"vector_score\"]\n",
    "range_radius = 0.2\n",
    "search_query = 'store a blob'\n",
    "results = search_redis(redis_client, 'store a blob', text_table_name, text_search_field, text_return_fields, k=10)\n",
    "\n",
    "base_vector_query = f'@{text_search_field}:[VECTOR_RANGE {range_radius} $vector]=>{{$yield_distance_as: vector_score}}'\n",
    "\n",
    "try:\n",
    "    query_vector = create_embedding(search_query)\n",
    "except Exception as e:\n",
    "    print(e)\n",
    "    \n",
    "query = (\n",
    "        Query(base_vector_query)\n",
    "         .return_fields(*text_return_fields)\n",
    "         .sort_by(\"vector_score\")\n",
    "         .dialect(2)\n",
    "    )\n",
    "params_dict = {\"vector\": np.array(query_vector).astype(dtype=np.float32).tobytes()}\n",
    "\n",
    "# perform vector search\n",
    "results = redis_client.ft(text_table_name).search(query, params_dict)\n",
    "    \n",
    "for i, article in enumerate(results.docs):\n",
    "        print(f\"{i}. {article.title} (Score: {article.vector_score})\")     \n"
   ]
  }
 ],
 "metadata": {
  "kernelspec": {
   "display_name": "Python 3 (ipykernel)",
   "language": "python",
   "name": "python3"
  },
  "language_info": {
   "codemirror_mode": {
    "name": "ipython",
    "version": 3
   },
   "file_extension": ".py",
   "mimetype": "text/x-python",
   "name": "python",
   "nbconvert_exporter": "python",
   "pygments_lexer": "ipython3",
   "version": "3.11.5"
  },
  "orig_nbformat": 4
 },
 "nbformat": 4,
 "nbformat_minor": 2
}
