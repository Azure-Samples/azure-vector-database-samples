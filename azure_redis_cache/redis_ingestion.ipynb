{
 "cells": [
  {
   "cell_type": "markdown",
   "metadata": {},
   "source": [
    "## Ingestion to Azure Cache for Redis"
   ]
  },
  {
   "cell_type": "markdown",
   "metadata": {},
   "source": [
    "### Set environment variables"
   ]
  },
  {
   "cell_type": "code",
   "execution_count": 1,
   "metadata": {},
   "outputs": [
    {
     "data": {
      "text/plain": [
       "True"
      ]
     },
     "execution_count": 1,
     "metadata": {},
     "output_type": "execute_result"
    }
   ],
   "source": [
    "import openai\n",
    "\n",
    "from typing import List, Iterator\n",
    "from dotenv import load_dotenv\n",
    "import pandas as pd\n",
    "import numpy as np\n",
    "import os\n",
    "from ast import literal_eval\n",
    "\n",
    "# Redis client library for Python\n",
    "import redis\n",
    "\n",
    "# Ignore unclosed SSL socket warnings - optional in case you get these errors\n",
    "import warnings\n",
    "\n",
    "warnings.filterwarnings(action=\"ignore\", message=\"unclosed\", category=ResourceWarning)\n",
    "warnings.filterwarnings(\"ignore\", category=DeprecationWarning) \n",
    "\n",
    "# Loading the env from the .env file\n",
    "load_dotenv()"
   ]
  },
  {
   "cell_type": "markdown",
   "metadata": {},
   "source": [
    "#### Setup Redis connection"
   ]
  },
  {
   "cell_type": "code",
   "execution_count": 2,
   "metadata": {},
   "outputs": [
    {
     "data": {
      "text/plain": [
       "True"
      ]
     },
     "execution_count": 2,
     "metadata": {},
     "output_type": "execute_result"
    }
   ],
   "source": [
    "import redis\n",
    "from redis.commands.search.indexDefinition import (\n",
    "    IndexDefinition,\n",
    "    IndexType\n",
    ")\n",
    "from redis.commands.search.query import Query\n",
    "from redis.commands.search.field import (\n",
    "    TextField,\n",
    "    VectorField\n",
    ")\n",
    "import os\n",
    "\n",
    "REDIS_HOST =  os.environ.get(\"REDIS_HOST\")\n",
    "REDIS_PORT = os.environ.get(\"REDIS_PORT\")\n",
    "REDIS_PASSWORD = os.environ.get(\"REDIS_PASSWORD\")\n",
    "# Connect to Redis\n",
    "redis_client = redis.Redis(\n",
    "    host=REDIS_HOST,\n",
    "    port=REDIS_PORT,\n",
    "    ssl=True,\n",
    "    password=REDIS_PASSWORD\n",
    ")\n",
    "# should return True\n",
    "redis_client.ping()"
   ]
  },
  {
   "cell_type": "markdown",
   "metadata": {},
   "source": [
    "#### Load data and setup schema for text sample (products)"
   ]
  },
  {
   "cell_type": "code",
   "execution_count": 3,
   "metadata": {},
   "outputs": [],
   "source": [
    "# load data into a data-frame\n",
    "products_df = pd.read_json('../data/text/product_docs_embeddings.json')\n",
    "\n",
    "# Define RediSearch fields for each of the columns in the dataset\n",
    "DISTANCE_METRIC = \"COSINE\"                      # distance metric for the vectors (ex. COSINE, IP, L2)\n",
    "VECTOR_DIM = len(products_df['title_vector'][0]) # length of the vectors\n",
    "VECTOR_NUMBER = len(products_df)                 # initial number of vectors\n",
    "\n",
    "title = TextField(name=\"title\")\n",
    "category = TextField(name=\"category\")\n",
    "content = TextField(name=\"content\")\n",
    "title_embedding = VectorField(\"title_vector\",\n",
    "    \"FLAT\", {\n",
    "        \"TYPE\": \"FLOAT32\",\n",
    "        \"DIM\": VECTOR_DIM,\n",
    "        \"DISTANCE_METRIC\": DISTANCE_METRIC,\n",
    "        \"INITIAL_CAP\": VECTOR_NUMBER,\n",
    "    }\n",
    ")\n",
    "content_embedding = VectorField(\"content_vector\",\n",
    "    \"FLAT\", {\n",
    "        \"TYPE\": \"FLOAT32\",\n",
    "        \"DIM\": VECTOR_DIM,\n",
    "        \"DISTANCE_METRIC\": DISTANCE_METRIC,\n",
    "        \"INITIAL_CAP\": VECTOR_NUMBER,\n",
    "    }\n",
    ")\n",
    "product_fields = [title, category, content, title_embedding, content_embedding]"
   ]
  },
  {
   "cell_type": "code",
   "execution_count": 4,
   "metadata": {},
   "outputs": [],
   "source": [
    "#load data into a data-frame\n",
    "employees_df = pd.read_json('../data/docs/employee_handbook_embeddings.json')\n",
    "\n",
    "# Define RediSearch fields for each of the columns in the dataset\n",
    "DISTANCE_METRIC = \"COSINE\"                      # distance metric for the vectors (ex. COSINE, IP, L2)\n",
    "VECTOR_DIM = len(employees_df['chunk_content_vector'][0]) # length of the vectors\n",
    "VECTOR_NUMBER = len(employees_df)                 # initial number of vectors\n",
    "\n",
    "chunk_content = TextField(name=\"chunk_content\")\n",
    "\n",
    "chunk_content_embedding = VectorField(\"chunk_content_vector\",\n",
    "    \"FLAT\", {\n",
    "        \"TYPE\": \"FLOAT32\",\n",
    "        \"DIM\": VECTOR_DIM,\n",
    "        \"DISTANCE_METRIC\": DISTANCE_METRIC,\n",
    "        \"INITIAL_CAP\": VECTOR_NUMBER,\n",
    "    }\n",
    ")\n",
    "employee_fields = [chunk_content, chunk_content_embedding]"
   ]
  },
  {
   "cell_type": "markdown",
   "metadata": {},
   "source": [
    "### Create indexes"
   ]
  },
  {
   "cell_type": "code",
   "execution_count": 5,
   "metadata": {},
   "outputs": [],
   "source": [
    "def create_index(index_name, doc_prefix, fields):\n",
    "    try:\n",
    "        redis_client.ft(index_name).info()\n",
    "        print(\"Index already exists\")\n",
    "    except:\n",
    "        # Create RediSearch Index\n",
    "        redis_client.ft(index_name).create_index(\n",
    "            fields = fields,\n",
    "            definition = IndexDefinition(prefix=[f'{{{doc_prefix}}}:'], index_type=IndexType.HASH)\n",
    "    )"
   ]
  },
  {
   "cell_type": "code",
   "execution_count": 6,
   "metadata": {},
   "outputs": [],
   "source": [
    "# creating the product index (text search)\n",
    "PRODUCT_TEXT_INDEX_NAME=\"product-text-index\"\n",
    "PRODUCT_DOC_PREFIX=\"product\"\n",
    "\n",
    "create_index(PRODUCT_TEXT_INDEX_NAME, PRODUCT_DOC_PREFIX, product_fields)"
   ]
  },
  {
   "cell_type": "code",
   "execution_count": 7,
   "metadata": {},
   "outputs": [],
   "source": [
    "# creating the employee index (doc search)\n",
    "\n",
    "EMP_TEXT_INDEX_NAME=\"employee-text-index\"\n",
    "EMP_DOC_PREFIX=\"employee\"\n",
    "\n",
    "create_index(EMP_TEXT_INDEX_NAME, EMP_DOC_PREFIX, employee_fields)"
   ]
  },
  {
   "cell_type": "markdown",
   "metadata": {},
   "source": [
    "#### Ingest text sample with embeddings"
   ]
  },
  {
   "cell_type": "code",
   "execution_count": null,
   "metadata": {},
   "outputs": [],
   "source": [
    "# ingest the products data\n",
    "import traceback\n",
    "def ingest_products(client: redis.Redis, prefix: str, documents: pd.DataFrame):\n",
    "    records = documents.to_dict(\"records\")\n",
    "    pipe = client.pipeline()\n",
    "    for doc in records:\n",
    "        key = f\"{{{prefix}}}:{str(doc['id'])}\"\n",
    "\n",
    "        # create byte vectors for title and content\n",
    "        title_embedding = np.array(doc[\"title_vector\"], dtype=np.float32).tobytes()\n",
    "        content_embedding = np.array(doc[\"content_vector\"], dtype=np.float32).tobytes()\n",
    "\n",
    "        # replace list of floats with byte vectors\n",
    "        doc[\"title_vector\"] = title_embedding\n",
    "        doc[\"content_vector\"] = content_embedding\n",
    "        pipe.hset(key, mapping = doc)\n",
    "    try:\n",
    "        pipe.execute()\n",
    "    except Exception:\n",
    "        traceback.print_exc()\n",
    "        \n",
    "\n",
    "ingest_products(redis_client, PRODUCT_DOC_PREFIX, products_df)"
   ]
  },
  {
   "cell_type": "markdown",
   "metadata": {},
   "source": [
    "#### Ingest doc sample with embeddings"
   ]
  },
  {
   "cell_type": "code",
   "execution_count": 13,
   "metadata": {},
   "outputs": [
    {
     "name": "stdout",
     "output_type": "stream",
     "text": [
      "Loaded 108 documents in Redis search index with name: employee-text-index\n"
     ]
    }
   ],
   "source": [
    "# ingest the employee doc\n",
    "def ingest_employees(client: redis.Redis, prefix: str, documents: pd.DataFrame):\n",
    "    records = documents.to_dict(\"records\")\n",
    "    pipe = client.pipeline()\n",
    "    for doc in records:\n",
    "        key = f\"{{{prefix}}}:{str(doc['id'])}\"\n",
    "\n",
    "        # create byte vectors for title and content\n",
    "        chunk_content_embedding = np.array(doc[\"chunk_content_vector\"], dtype=np.float32).tobytes()\n",
    "\n",
    "        # replace list of floats with byte vectors\n",
    "        doc[\"chunk_content_vector\"] = chunk_content_embedding\n",
    "\n",
    "        pipe.hset(key, mapping = doc)\n",
    "    try:\n",
    "        pipe.execute()\n",
    "    except Exception:\n",
    "        traceback.print_exc()\n",
    "                \n",
    "ingest_employees(redis_client, EMP_DOC_PREFIX, employees_df)"
   ]
  },
  {
   "cell_type": "markdown",
   "metadata": {},
   "source": [
    "#### Ingest image sample with embeddings"
   ]
  },
  {
   "cell_type": "code",
   "execution_count": null,
   "metadata": {},
   "outputs": [],
   "source": [
    "## TODO"
   ]
  }
 ],
 "metadata": {
  "kernelspec": {
   "display_name": "postgresql",
   "language": "python",
   "name": "python3"
  },
  "language_info": {
   "codemirror_mode": {
    "name": "ipython",
    "version": 3
   },
   "file_extension": ".py",
   "mimetype": "text/x-python",
   "name": "python",
   "nbconvert_exporter": "python",
   "pygments_lexer": "ipython3",
   "version": "3.9.16"
  },
  "orig_nbformat": 4
 },
 "nbformat": 4,
 "nbformat_minor": 2
}
