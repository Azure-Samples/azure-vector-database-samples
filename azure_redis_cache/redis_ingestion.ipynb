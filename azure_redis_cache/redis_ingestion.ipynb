{
 "cells": [
  {
   "cell_type": "markdown",
   "metadata": {},
   "source": [
    "## Ingestion to Azure Cache for Redis"
   ]
  },
  {
   "cell_type": "markdown",
   "metadata": {},
   "source": [
    "### Set environment variables"
   ]
  },
  {
   "cell_type": "code",
   "execution_count": null,
   "metadata": {},
   "outputs": [],
   "source": [
    "import os\n",
    "from dotenv import load_dotenv\n",
    "\n",
    "load_dotenv()\n",
    "\n",
    "pg_host  = os.getenv(\"POSTGRESQL_HOST\")\n",
    "if pg_host is None or pg_host == \"\":\n",
    "    print(\"POSTGRESQL_HOST environment variable not set.\")\n",
    "    exit()\n",
    "\n",
    "pg_user  = os.getenv(\"POSTGRESQL_USERNAME\")\n",
    "if pg_user is None or pg_user == \"\":\n",
    "    print(\"POSTGRESQL_USERNAME environment variable not set.\")\n",
    "    exit()\n",
    "\n",
    "pg_password  = os.getenv(\"POSTGRESQL_PASSWORD\")\n",
    "if pg_password is None or pg_password == \"\":\n",
    "    print(\"POSTGRESQL_PASSWORD environment variable not set.\")\n",
    "    exit()\n",
    "\n",
    "db_name  = os.getenv(\"POSTGRESQL_DATABASE\")\n",
    "if db_name is None or db_name == \"\":\n",
    "    print(\"POSTGRESQL_DATABASE environment variable not set.\")\n",
    "    exit()\n",
    "\n",
    "text_table_name = 'text_sample'\n",
    "doc_table_name = 'doc_sample'\n",
    "image_table_name = 'image_sample'\n",
    "\n",
    "postgresql_params = {\n",
    "    \"host\": pg_host,\n",
    "    \"port\": \"5432\", \n",
    "    \"dbname\": db_name,\n",
    "    \"user\": pg_user,\n",
    "    \"password\": pg_password\n",
    "}"
   ]
  },
  {
   "cell_type": "markdown",
   "metadata": {},
   "source": [
    "#### Create table"
   ]
  },
  {
   "cell_type": "code",
   "execution_count": null,
   "metadata": {},
   "outputs": [],
   "source": [
    "import psycopg2 \n",
    "\n",
    "connection = psycopg2.connect(**postgresql_params)\n",
    "print(\"Connection established.\")\n",
    "\n",
    "## Create text_sample table\n",
    "table_schema_data = \"\"\"\n",
    "    id smallint PRIMARY KEY,\n",
    "    title text,\n",
    "    content text,\n",
    "    category text,\n",
    "    title_vector VECTOR(1536),\n",
    "    content_vector VECTOR(1536)\n",
    " \"\"\"\n",
    "\n",
    "cursor = connection.cursor()\n",
    "cursor.execute(f\"DROP TABLE IF  EXISTS {text_table_name} \")\n",
    "cursor.execute(f\"CREATE TABLE IF NOT EXISTS {text_table_name} ({table_schema_data});\")\n",
    "connection.commit()\n",
    "print(\"Table text_sample created.\")\n",
    "cursor.close()\n",
    "\n",
    "## Create doc_sample table\n",
    "table_schema_data = \"\"\"\n",
    "    id smallint PRIMARY KEY,\n",
    "    chunk_content text,\n",
    "    chunk_content_vector VECTOR(1536)\n",
    " \"\"\"\n",
    "\n",
    "cursor = connection.cursor()\n",
    "cursor.execute(f\"DROP TABLE IF  EXISTS {doc_table_name} \")\n",
    "cursor.execute(f\"CREATE TABLE IF NOT EXISTS {doc_table_name} ({table_schema_data});\")\n",
    "connection.commit()\n",
    "print(\"Table text_sample created.\")\n",
    "cursor.close()\n",
    "\n",
    "## Create doc_sample table\n",
    "table_schema_data = \"\"\"\n",
    "    id smallint PRIMARY KEY,\n",
    "    image text,\n",
    "    image_vector VECTOR(1024)\n",
    " \"\"\"\n",
    "\n",
    "cursor = connection.cursor()\n",
    "cursor.execute(f\"DROP TABLE IF  EXISTS {image_table_name} \")\n",
    "cursor.execute(f\"CREATE TABLE IF NOT EXISTS {image_table_name} ({table_schema_data});\")\n",
    "connection.commit()\n",
    "print(\"Table text_sample created.\")\n",
    "cursor.close()\n",
    "\n",
    "connection.close()"
   ]
  },
  {
   "cell_type": "markdown",
   "metadata": {},
   "source": [
    "#### Ingest text sample with embeddings"
   ]
  },
  {
   "cell_type": "code",
   "execution_count": null,
   "metadata": {},
   "outputs": [],
   "source": [
    "import pandas as pd\n",
    "\n",
    "text_df = pd.read_json('../data/text/product_docs_embeddings.json')\n",
    "\n",
    "connection = psycopg2.connect(**postgresql_params)\n",
    "print(\"Connection established.\")\n",
    "\n",
    "insert_sql = f\"INSERT INTO {text_table_name}(id, title, content, category, title_vector, content_vector) VALUES(%s, %s, %s, %s, %s, %s)\"\n",
    "\n",
    "records = text_df.values.tolist()\n",
    "cursor = connection.cursor()\n",
    "cursor.executemany(insert_sql, records)\n",
    "\n",
    "connection.commit()\n",
    "print(\"Text sample ingested.\")\n",
    "\n",
    "cursor.close()\n",
    "connection.close()"
   ]
  },
  {
   "cell_type": "markdown",
   "metadata": {},
   "source": [
    "#### Ingest doc sample with embeddings"
   ]
  },
  {
   "cell_type": "code",
   "execution_count": null,
   "metadata": {},
   "outputs": [],
   "source": [
    "doc_df = pd.read_json('../data/docs/employee_handbook_embeddings.json')\n",
    "\n",
    "connection = psycopg2.connect(**postgresql_params)\n",
    "print(\"Connection established.\")\n",
    "\n",
    "insert_sql = f\"INSERT INTO {doc_table_name}(id, chunk_content, chunk_content_vector) VALUES(%s, %s, %s)\"\n",
    "\n",
    "records = doc_df.values.tolist()\n",
    "cursor = connection.cursor()\n",
    "cursor.executemany(insert_sql, records)\n",
    "\n",
    "connection.commit()\n",
    "print(\"Doc sample ingested.\")\n",
    "\n",
    "cursor.close()\n",
    "connection.close()"
   ]
  },
  {
   "cell_type": "markdown",
   "metadata": {},
   "source": [
    "#### Ingest image sample with embeddings"
   ]
  },
  {
   "cell_type": "code",
   "execution_count": null,
   "metadata": {},
   "outputs": [],
   "source": [
    "image_df = pd.read_json('../data/images/images_embeddings.json')\n",
    "\n",
    "connection = psycopg2.connect(**postgresql_params)\n",
    "print(\"Connection established.\")\n",
    "\n",
    "insert_sql = f\"INSERT INTO {image_table_name}(id, image, image_vector) VALUES(%s, %s, %s)\"\n",
    "\n",
    "records = image_df.values.tolist()\n",
    "cursor = connection.cursor()\n",
    "cursor.executemany(insert_sql, records)\n",
    "\n",
    "connection.commit()\n",
    "print(\"Image sample ingested.\")\n",
    "\n",
    "cursor.close()\n",
    "connection.close()"
   ]
  }
 ],
 "metadata": {
  "kernelspec": {
   "display_name": "postgresql",
   "language": "python",
   "name": "python3"
  },
  "language_info": {
   "codemirror_mode": {
    "name": "ipython",
    "version": 3
   },
   "file_extension": ".py",
   "mimetype": "text/x-python",
   "name": "python",
   "nbconvert_exporter": "python",
   "pygments_lexer": "ipython3",
   "version": "3.10.12"
  },
  "orig_nbformat": 4
 },
 "nbformat": 4,
 "nbformat_minor": 2
}
